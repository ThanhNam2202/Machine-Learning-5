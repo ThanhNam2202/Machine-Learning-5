{
  "nbformat": 4,
  "nbformat_minor": 0,
  "metadata": {
    "kernelspec": {
      "name": "python3",
      "display_name": "Python 3"
    },
    "language_info": {
      "pygments_lexer": "ipython3",
      "nbconvert_exporter": "python",
      "version": "3.6.4",
      "file_extension": ".py",
      "codemirror_mode": {
        "name": "ipython",
        "version": 3
      },
      "name": "python",
      "mimetype": "text/x-python"
    },
    "colab": {
      "name": "airline delay1.ipynb",
      "provenance": [],
      "toc_visible": true,
      "machine_shape": "hm"
    },
    "accelerator": "GPU"
  },
  "cells": [
    {
      "cell_type": "code",
      "metadata": {
        "id": "8lKGtqFviXvq",
        "colab_type": "code",
        "outputId": "4a0f010b-5b95-4746-e1f1-f33f8c19e094",
        "colab": {
          "base_uri": "https://localhost:8080/",
          "height": 122
        }
      },
      "source": [
        "from google.colab import drive\n",
        "drive.mount('/content/drive')"
      ],
      "execution_count": 1,
      "outputs": [
        {
          "output_type": "stream",
          "text": [
            "Go to this URL in a browser: https://accounts.google.com/o/oauth2/auth?client_id=947318989803-6bn6qk8qdgf4n4g3pfee6491hc0brc4i.apps.googleusercontent.com&redirect_uri=urn%3Aietf%3Awg%3Aoauth%3A2.0%3Aoob&scope=email%20https%3A%2F%2Fwww.googleapis.com%2Fauth%2Fdocs.test%20https%3A%2F%2Fwww.googleapis.com%2Fauth%2Fdrive%20https%3A%2F%2Fwww.googleapis.com%2Fauth%2Fdrive.photos.readonly%20https%3A%2F%2Fwww.googleapis.com%2Fauth%2Fpeopleapi.readonly&response_type=code\n",
            "\n",
            "Enter your authorization code:\n",
            "··········\n",
            "Mounted at /content/drive\n"
          ],
          "name": "stdout"
        }
      ]
    },
    {
      "cell_type": "code",
      "metadata": {
        "id": "-hiIhdKHiccQ",
        "colab_type": "code",
        "colab": {}
      },
      "source": [
        "!cp -r drive/'My Drive'/2008.csv /content/"
      ],
      "execution_count": 0,
      "outputs": []
    },
    {
      "cell_type": "markdown",
      "metadata": {
        "id": "TO1ZIxnhiUki",
        "colab_type": "text"
      },
      "source": [
        "# Table of Contents\n",
        "\n",
        "- Introduction.\n",
        "\n",
        "- Data Processing.\n",
        "\n",
        "- Visualization.\n",
        "\n",
        "- Interaction.\n",
        "\n",
        "- Convert category to label encoder.\n",
        "\n",
        "- Model.\n",
        "    - Naive Bayse.\n",
        "    - Decision Tree.\n",
        "    - Random Forest.\n",
        "- PCA.\n",
        "    - Naive Bayse with PCA.\n",
        "    - Decision Tree with PCA.\n",
        "    - Random Forest with PCA.\n",
        "- GridsearchCV.\n",
        "    - Decision Tree.\n",
        "    - Random Forest.\n",
        "- Conclusions"
      ]
    },
    {
      "cell_type": "markdown",
      "metadata": {
        "id": "iWNk_RIbiUkp",
        "colab_type": "text"
      },
      "source": [
        "# Introduction\n",
        "\n",
        "Tập dư liệu Airline Arrivals [http://stat-computing.org/dataexpo/2009/the-data.html](http://) dùng dể dự đoán khi nào chuyến bay sẽ bị trễ. Một chuyến bay trễ khi nó có thời gian khởi hành thực tế bị trễ hơn 30 phút so với thời gian dự kiến."
      ]
    },
    {
      "cell_type": "code",
      "metadata": {
        "_uuid": "8f2839f25d086af736a60e9eeb907d3b93b6e0e5",
        "_cell_guid": "b1076dfc-b9ad-4769-8c92-a6c4dae69d19",
        "trusted": true,
        "id": "ceSDUpHAiUkx",
        "colab_type": "code",
        "colab": {}
      },
      "source": [
        "import numpy as np # linear algebra\n",
        "import pandas as pd # data processing, CSV file I/O (e.g. pd.read_csv)\n",
        "import matplotlib.pyplot as plt\n",
        "from sklearn import preprocessing\n",
        "from sklearn.naive_bayes import GaussianNB\n",
        "from sklearn.tree import DecisionTreeClassifier\n",
        "from sklearn.ensemble import RandomForestClassifier\n",
        "from sklearn.linear_model import LinearRegression\n",
        "from sklearn.model_selection import train_test_split\n",
        "from sklearn.decomposition import PCA\n",
        "from sklearn import tree\n",
        "from sklearn.preprocessing import MinMaxScaler\n",
        "from sklearn.preprocessing import StandardScaler\n",
        "from sklearn.metrics import classification_report\n",
        "from sklearn.ensemble import GradientBoostingClassifier\n",
        "from sklearn.svm import SVC\n"
      ],
      "execution_count": 0,
      "outputs": []
    },
    {
      "cell_type": "code",
      "metadata": {
        "_uuid": "d629ff2d2480ee46fbb7e2d37f6b5fab8052498a",
        "_cell_guid": "79c7e3d0-c299-4dcb-8224-4455121ee9b0",
        "trusted": true,
        "id": "vmXUhPeqiUk3",
        "colab_type": "code",
        "colab": {}
      },
      "source": [
        "data = pd.read_csv('/content/2008.csv')"
      ],
      "execution_count": 0,
      "outputs": []
    },
    {
      "cell_type": "code",
      "metadata": {
        "trusted": true,
        "id": "kykeCZhmiUk8",
        "colab_type": "code",
        "colab": {
          "base_uri": "https://localhost:8080/",
          "height": 34
        },
        "outputId": "31cf60d7-f2a1-4f9a-8d40-d35987cd37a0"
      },
      "source": [
        "data.shape"
      ],
      "execution_count": 97,
      "outputs": [
        {
          "output_type": "execute_result",
          "data": {
            "text/plain": [
              "(7009728, 29)"
            ]
          },
          "metadata": {
            "tags": []
          },
          "execution_count": 97
        }
      ]
    },
    {
      "cell_type": "markdown",
      "metadata": {
        "id": "ajmJ9jwziUlI",
        "colab_type": "text"
      },
      "source": [
        "Dữ liệu gồm hơn 7 triêu dòng và 29 cột.\n",
        "\n",
        "Lấy random 1 triệu dòng từ dữ liệu."
      ]
    },
    {
      "cell_type": "code",
      "metadata": {
        "trusted": true,
        "id": "tgqEtFfniUlK",
        "colab_type": "code",
        "colab": {}
      },
      "source": [
        "data = data.sample(n=1000000, random_state=2)"
      ],
      "execution_count": 0,
      "outputs": []
    },
    {
      "cell_type": "code",
      "metadata": {
        "trusted": true,
        "id": "9pTNyhIDiUlO",
        "colab_type": "code",
        "outputId": "d7cd9abb-6dda-4dc4-fb08-1df282415194",
        "colab": {
          "base_uri": "https://localhost:8080/",
          "height": 34
        }
      },
      "source": [
        "data.shape"
      ],
      "execution_count": 99,
      "outputs": [
        {
          "output_type": "execute_result",
          "data": {
            "text/plain": [
              "(1000000, 29)"
            ]
          },
          "metadata": {
            "tags": []
          },
          "execution_count": 99
        }
      ]
    },
    {
      "cell_type": "code",
      "metadata": {
        "trusted": true,
        "id": "Wmd4YAG3iUnJ",
        "colab_type": "code",
        "colab": {}
      },
      "source": [
        "data.reset_index(inplace=True)\n",
        "data.drop(columns=['index'], inplace=True)"
      ],
      "execution_count": 0,
      "outputs": []
    },
    {
      "cell_type": "code",
      "metadata": {
        "trusted": true,
        "id": "ZPClawcUiUnO",
        "colab_type": "code",
        "outputId": "1e6c574c-1f51-43ce-d120-29a56e705659",
        "colab": {
          "base_uri": "https://localhost:8080/",
          "height": 534
        }
      },
      "source": [
        "pd.set_option('display.max_columns', None) \n",
        "data.head(15)"
      ],
      "execution_count": 101,
      "outputs": [
        {
          "output_type": "execute_result",
          "data": {
            "text/html": [
              "<div>\n",
              "<style scoped>\n",
              "    .dataframe tbody tr th:only-of-type {\n",
              "        vertical-align: middle;\n",
              "    }\n",
              "\n",
              "    .dataframe tbody tr th {\n",
              "        vertical-align: top;\n",
              "    }\n",
              "\n",
              "    .dataframe thead th {\n",
              "        text-align: right;\n",
              "    }\n",
              "</style>\n",
              "<table border=\"1\" class=\"dataframe\">\n",
              "  <thead>\n",
              "    <tr style=\"text-align: right;\">\n",
              "      <th></th>\n",
              "      <th>Year</th>\n",
              "      <th>Month</th>\n",
              "      <th>DayofMonth</th>\n",
              "      <th>DayOfWeek</th>\n",
              "      <th>DepTime</th>\n",
              "      <th>CRSDepTime</th>\n",
              "      <th>ArrTime</th>\n",
              "      <th>CRSArrTime</th>\n",
              "      <th>UniqueCarrier</th>\n",
              "      <th>FlightNum</th>\n",
              "      <th>TailNum</th>\n",
              "      <th>ActualElapsedTime</th>\n",
              "      <th>CRSElapsedTime</th>\n",
              "      <th>AirTime</th>\n",
              "      <th>ArrDelay</th>\n",
              "      <th>DepDelay</th>\n",
              "      <th>Origin</th>\n",
              "      <th>Dest</th>\n",
              "      <th>Distance</th>\n",
              "      <th>TaxiIn</th>\n",
              "      <th>TaxiOut</th>\n",
              "      <th>Cancelled</th>\n",
              "      <th>CancellationCode</th>\n",
              "      <th>Diverted</th>\n",
              "      <th>CarrierDelay</th>\n",
              "      <th>WeatherDelay</th>\n",
              "      <th>NASDelay</th>\n",
              "      <th>SecurityDelay</th>\n",
              "      <th>LateAircraftDelay</th>\n",
              "    </tr>\n",
              "  </thead>\n",
              "  <tbody>\n",
              "    <tr>\n",
              "      <th>0</th>\n",
              "      <td>2008</td>\n",
              "      <td>6</td>\n",
              "      <td>27</td>\n",
              "      <td>5</td>\n",
              "      <td>1953.0</td>\n",
              "      <td>2000</td>\n",
              "      <td>2100.0</td>\n",
              "      <td>2105</td>\n",
              "      <td>OH</td>\n",
              "      <td>5778</td>\n",
              "      <td>N510CA</td>\n",
              "      <td>67.0</td>\n",
              "      <td>65.0</td>\n",
              "      <td>52.0</td>\n",
              "      <td>-5.0</td>\n",
              "      <td>-7.0</td>\n",
              "      <td>CVG</td>\n",
              "      <td>GRR</td>\n",
              "      <td>268</td>\n",
              "      <td>5.0</td>\n",
              "      <td>10.0</td>\n",
              "      <td>0</td>\n",
              "      <td>NaN</td>\n",
              "      <td>0</td>\n",
              "      <td>NaN</td>\n",
              "      <td>NaN</td>\n",
              "      <td>NaN</td>\n",
              "      <td>NaN</td>\n",
              "      <td>NaN</td>\n",
              "    </tr>\n",
              "    <tr>\n",
              "      <th>1</th>\n",
              "      <td>2008</td>\n",
              "      <td>7</td>\n",
              "      <td>27</td>\n",
              "      <td>7</td>\n",
              "      <td>1042.0</td>\n",
              "      <td>1036</td>\n",
              "      <td>1112.0</td>\n",
              "      <td>1100</td>\n",
              "      <td>AS</td>\n",
              "      <td>65</td>\n",
              "      <td>N708AS</td>\n",
              "      <td>30.0</td>\n",
              "      <td>24.0</td>\n",
              "      <td>17.0</td>\n",
              "      <td>12.0</td>\n",
              "      <td>6.0</td>\n",
              "      <td>WRG</td>\n",
              "      <td>PSG</td>\n",
              "      <td>31</td>\n",
              "      <td>2.0</td>\n",
              "      <td>11.0</td>\n",
              "      <td>0</td>\n",
              "      <td>NaN</td>\n",
              "      <td>0</td>\n",
              "      <td>NaN</td>\n",
              "      <td>NaN</td>\n",
              "      <td>NaN</td>\n",
              "      <td>NaN</td>\n",
              "      <td>NaN</td>\n",
              "    </tr>\n",
              "    <tr>\n",
              "      <th>2</th>\n",
              "      <td>2008</td>\n",
              "      <td>3</td>\n",
              "      <td>27</td>\n",
              "      <td>4</td>\n",
              "      <td>1449.0</td>\n",
              "      <td>1454</td>\n",
              "      <td>1945.0</td>\n",
              "      <td>1957</td>\n",
              "      <td>NW</td>\n",
              "      <td>118</td>\n",
              "      <td>N359NW</td>\n",
              "      <td>176.0</td>\n",
              "      <td>183.0</td>\n",
              "      <td>153.0</td>\n",
              "      <td>-12.0</td>\n",
              "      <td>-5.0</td>\n",
              "      <td>PHX</td>\n",
              "      <td>MSP</td>\n",
              "      <td>1276</td>\n",
              "      <td>14.0</td>\n",
              "      <td>9.0</td>\n",
              "      <td>0</td>\n",
              "      <td>NaN</td>\n",
              "      <td>0</td>\n",
              "      <td>NaN</td>\n",
              "      <td>NaN</td>\n",
              "      <td>NaN</td>\n",
              "      <td>NaN</td>\n",
              "      <td>NaN</td>\n",
              "    </tr>\n",
              "    <tr>\n",
              "      <th>3</th>\n",
              "      <td>2008</td>\n",
              "      <td>11</td>\n",
              "      <td>20</td>\n",
              "      <td>4</td>\n",
              "      <td>1615.0</td>\n",
              "      <td>1620</td>\n",
              "      <td>NaN</td>\n",
              "      <td>1843</td>\n",
              "      <td>US</td>\n",
              "      <td>128</td>\n",
              "      <td>N626AW</td>\n",
              "      <td>NaN</td>\n",
              "      <td>83.0</td>\n",
              "      <td>NaN</td>\n",
              "      <td>NaN</td>\n",
              "      <td>-5.0</td>\n",
              "      <td>LAX</td>\n",
              "      <td>PHX</td>\n",
              "      <td>370</td>\n",
              "      <td>NaN</td>\n",
              "      <td>NaN</td>\n",
              "      <td>1</td>\n",
              "      <td>A</td>\n",
              "      <td>0</td>\n",
              "      <td>NaN</td>\n",
              "      <td>NaN</td>\n",
              "      <td>NaN</td>\n",
              "      <td>NaN</td>\n",
              "      <td>NaN</td>\n",
              "    </tr>\n",
              "    <tr>\n",
              "      <th>4</th>\n",
              "      <td>2008</td>\n",
              "      <td>1</td>\n",
              "      <td>1</td>\n",
              "      <td>2</td>\n",
              "      <td>2150.0</td>\n",
              "      <td>2115</td>\n",
              "      <td>2307.0</td>\n",
              "      <td>2251</td>\n",
              "      <td>CO</td>\n",
              "      <td>1427</td>\n",
              "      <td>N73291</td>\n",
              "      <td>197.0</td>\n",
              "      <td>216.0</td>\n",
              "      <td>177.0</td>\n",
              "      <td>16.0</td>\n",
              "      <td>35.0</td>\n",
              "      <td>IAH</td>\n",
              "      <td>ONT</td>\n",
              "      <td>1334</td>\n",
              "      <td>4.0</td>\n",
              "      <td>16.0</td>\n",
              "      <td>0</td>\n",
              "      <td>NaN</td>\n",
              "      <td>0</td>\n",
              "      <td>16.0</td>\n",
              "      <td>0.0</td>\n",
              "      <td>0.0</td>\n",
              "      <td>0.0</td>\n",
              "      <td>0.0</td>\n",
              "    </tr>\n",
              "    <tr>\n",
              "      <th>5</th>\n",
              "      <td>2008</td>\n",
              "      <td>8</td>\n",
              "      <td>29</td>\n",
              "      <td>5</td>\n",
              "      <td>1514.0</td>\n",
              "      <td>1513</td>\n",
              "      <td>1647.0</td>\n",
              "      <td>1702</td>\n",
              "      <td>FL</td>\n",
              "      <td>238</td>\n",
              "      <td>N991AT</td>\n",
              "      <td>93.0</td>\n",
              "      <td>109.0</td>\n",
              "      <td>77.0</td>\n",
              "      <td>-15.0</td>\n",
              "      <td>1.0</td>\n",
              "      <td>PBI</td>\n",
              "      <td>ATL</td>\n",
              "      <td>545</td>\n",
              "      <td>7.0</td>\n",
              "      <td>9.0</td>\n",
              "      <td>0</td>\n",
              "      <td>NaN</td>\n",
              "      <td>0</td>\n",
              "      <td>NaN</td>\n",
              "      <td>NaN</td>\n",
              "      <td>NaN</td>\n",
              "      <td>NaN</td>\n",
              "      <td>NaN</td>\n",
              "    </tr>\n",
              "    <tr>\n",
              "      <th>6</th>\n",
              "      <td>2008</td>\n",
              "      <td>6</td>\n",
              "      <td>19</td>\n",
              "      <td>4</td>\n",
              "      <td>1434.0</td>\n",
              "      <td>1435</td>\n",
              "      <td>1638.0</td>\n",
              "      <td>1546</td>\n",
              "      <td>CO</td>\n",
              "      <td>1015</td>\n",
              "      <td>N17644</td>\n",
              "      <td>124.0</td>\n",
              "      <td>71.0</td>\n",
              "      <td>41.0</td>\n",
              "      <td>52.0</td>\n",
              "      <td>-1.0</td>\n",
              "      <td>IAH</td>\n",
              "      <td>DFW</td>\n",
              "      <td>224</td>\n",
              "      <td>7.0</td>\n",
              "      <td>76.0</td>\n",
              "      <td>0</td>\n",
              "      <td>NaN</td>\n",
              "      <td>0</td>\n",
              "      <td>0.0</td>\n",
              "      <td>0.0</td>\n",
              "      <td>52.0</td>\n",
              "      <td>0.0</td>\n",
              "      <td>0.0</td>\n",
              "    </tr>\n",
              "    <tr>\n",
              "      <th>7</th>\n",
              "      <td>2008</td>\n",
              "      <td>1</td>\n",
              "      <td>23</td>\n",
              "      <td>3</td>\n",
              "      <td>1103.0</td>\n",
              "      <td>1105</td>\n",
              "      <td>1236.0</td>\n",
              "      <td>1240</td>\n",
              "      <td>MQ</td>\n",
              "      <td>3634</td>\n",
              "      <td>N942AE</td>\n",
              "      <td>93.0</td>\n",
              "      <td>95.0</td>\n",
              "      <td>75.0</td>\n",
              "      <td>-4.0</td>\n",
              "      <td>-2.0</td>\n",
              "      <td>JAN</td>\n",
              "      <td>DFW</td>\n",
              "      <td>408</td>\n",
              "      <td>8.0</td>\n",
              "      <td>10.0</td>\n",
              "      <td>0</td>\n",
              "      <td>NaN</td>\n",
              "      <td>0</td>\n",
              "      <td>NaN</td>\n",
              "      <td>NaN</td>\n",
              "      <td>NaN</td>\n",
              "      <td>NaN</td>\n",
              "      <td>NaN</td>\n",
              "    </tr>\n",
              "    <tr>\n",
              "      <th>8</th>\n",
              "      <td>2008</td>\n",
              "      <td>1</td>\n",
              "      <td>25</td>\n",
              "      <td>5</td>\n",
              "      <td>2055.0</td>\n",
              "      <td>2100</td>\n",
              "      <td>2209.0</td>\n",
              "      <td>2212</td>\n",
              "      <td>US</td>\n",
              "      <td>2144</td>\n",
              "      <td>N765US</td>\n",
              "      <td>74.0</td>\n",
              "      <td>72.0</td>\n",
              "      <td>42.0</td>\n",
              "      <td>-3.0</td>\n",
              "      <td>-5.0</td>\n",
              "      <td>LGA</td>\n",
              "      <td>BOS</td>\n",
              "      <td>185</td>\n",
              "      <td>3.0</td>\n",
              "      <td>29.0</td>\n",
              "      <td>0</td>\n",
              "      <td>NaN</td>\n",
              "      <td>0</td>\n",
              "      <td>NaN</td>\n",
              "      <td>NaN</td>\n",
              "      <td>NaN</td>\n",
              "      <td>NaN</td>\n",
              "      <td>NaN</td>\n",
              "    </tr>\n",
              "    <tr>\n",
              "      <th>9</th>\n",
              "      <td>2008</td>\n",
              "      <td>3</td>\n",
              "      <td>1</td>\n",
              "      <td>6</td>\n",
              "      <td>2149.0</td>\n",
              "      <td>2118</td>\n",
              "      <td>2353.0</td>\n",
              "      <td>2319</td>\n",
              "      <td>AS</td>\n",
              "      <td>203</td>\n",
              "      <td>N548AS</td>\n",
              "      <td>124.0</td>\n",
              "      <td>121.0</td>\n",
              "      <td>111.0</td>\n",
              "      <td>34.0</td>\n",
              "      <td>31.0</td>\n",
              "      <td>SFO</td>\n",
              "      <td>SEA</td>\n",
              "      <td>679</td>\n",
              "      <td>4.0</td>\n",
              "      <td>9.0</td>\n",
              "      <td>0</td>\n",
              "      <td>NaN</td>\n",
              "      <td>0</td>\n",
              "      <td>0.0</td>\n",
              "      <td>0.0</td>\n",
              "      <td>3.0</td>\n",
              "      <td>0.0</td>\n",
              "      <td>31.0</td>\n",
              "    </tr>\n",
              "    <tr>\n",
              "      <th>10</th>\n",
              "      <td>2008</td>\n",
              "      <td>6</td>\n",
              "      <td>6</td>\n",
              "      <td>5</td>\n",
              "      <td>1154.0</td>\n",
              "      <td>1153</td>\n",
              "      <td>1429.0</td>\n",
              "      <td>1435</td>\n",
              "      <td>DL</td>\n",
              "      <td>818</td>\n",
              "      <td>N970DL</td>\n",
              "      <td>95.0</td>\n",
              "      <td>102.0</td>\n",
              "      <td>72.0</td>\n",
              "      <td>-6.0</td>\n",
              "      <td>1.0</td>\n",
              "      <td>STL</td>\n",
              "      <td>ATL</td>\n",
              "      <td>483</td>\n",
              "      <td>13.0</td>\n",
              "      <td>10.0</td>\n",
              "      <td>0</td>\n",
              "      <td>NaN</td>\n",
              "      <td>0</td>\n",
              "      <td>NaN</td>\n",
              "      <td>NaN</td>\n",
              "      <td>NaN</td>\n",
              "      <td>NaN</td>\n",
              "      <td>NaN</td>\n",
              "    </tr>\n",
              "    <tr>\n",
              "      <th>11</th>\n",
              "      <td>2008</td>\n",
              "      <td>8</td>\n",
              "      <td>15</td>\n",
              "      <td>5</td>\n",
              "      <td>1659.0</td>\n",
              "      <td>1400</td>\n",
              "      <td>1810.0</td>\n",
              "      <td>1505</td>\n",
              "      <td>AA</td>\n",
              "      <td>1009</td>\n",
              "      <td>N241AA</td>\n",
              "      <td>131.0</td>\n",
              "      <td>125.0</td>\n",
              "      <td>110.0</td>\n",
              "      <td>185.0</td>\n",
              "      <td>179.0</td>\n",
              "      <td>SDF</td>\n",
              "      <td>DFW</td>\n",
              "      <td>733</td>\n",
              "      <td>9.0</td>\n",
              "      <td>12.0</td>\n",
              "      <td>0</td>\n",
              "      <td>NaN</td>\n",
              "      <td>0</td>\n",
              "      <td>5.0</td>\n",
              "      <td>0.0</td>\n",
              "      <td>6.0</td>\n",
              "      <td>0.0</td>\n",
              "      <td>174.0</td>\n",
              "    </tr>\n",
              "    <tr>\n",
              "      <th>12</th>\n",
              "      <td>2008</td>\n",
              "      <td>10</td>\n",
              "      <td>27</td>\n",
              "      <td>1</td>\n",
              "      <td>600.0</td>\n",
              "      <td>610</td>\n",
              "      <td>704.0</td>\n",
              "      <td>714</td>\n",
              "      <td>OO</td>\n",
              "      <td>6072</td>\n",
              "      <td>N978SW</td>\n",
              "      <td>124.0</td>\n",
              "      <td>124.0</td>\n",
              "      <td>108.0</td>\n",
              "      <td>-10.0</td>\n",
              "      <td>-10.0</td>\n",
              "      <td>ABE</td>\n",
              "      <td>ORD</td>\n",
              "      <td>654</td>\n",
              "      <td>8.0</td>\n",
              "      <td>8.0</td>\n",
              "      <td>0</td>\n",
              "      <td>NaN</td>\n",
              "      <td>0</td>\n",
              "      <td>NaN</td>\n",
              "      <td>NaN</td>\n",
              "      <td>NaN</td>\n",
              "      <td>NaN</td>\n",
              "      <td>NaN</td>\n",
              "    </tr>\n",
              "    <tr>\n",
              "      <th>13</th>\n",
              "      <td>2008</td>\n",
              "      <td>12</td>\n",
              "      <td>15</td>\n",
              "      <td>1</td>\n",
              "      <td>918.0</td>\n",
              "      <td>904</td>\n",
              "      <td>1156.0</td>\n",
              "      <td>1152</td>\n",
              "      <td>UA</td>\n",
              "      <td>606</td>\n",
              "      <td>N372UA</td>\n",
              "      <td>98.0</td>\n",
              "      <td>108.0</td>\n",
              "      <td>76.0</td>\n",
              "      <td>4.0</td>\n",
              "      <td>14.0</td>\n",
              "      <td>ORD</td>\n",
              "      <td>DCA</td>\n",
              "      <td>612</td>\n",
              "      <td>4.0</td>\n",
              "      <td>18.0</td>\n",
              "      <td>0</td>\n",
              "      <td>NaN</td>\n",
              "      <td>0</td>\n",
              "      <td>NaN</td>\n",
              "      <td>NaN</td>\n",
              "      <td>NaN</td>\n",
              "      <td>NaN</td>\n",
              "      <td>NaN</td>\n",
              "    </tr>\n",
              "    <tr>\n",
              "      <th>14</th>\n",
              "      <td>2008</td>\n",
              "      <td>7</td>\n",
              "      <td>17</td>\n",
              "      <td>4</td>\n",
              "      <td>1600.0</td>\n",
              "      <td>1555</td>\n",
              "      <td>1721.0</td>\n",
              "      <td>1720</td>\n",
              "      <td>WN</td>\n",
              "      <td>1939</td>\n",
              "      <td>N419WN</td>\n",
              "      <td>81.0</td>\n",
              "      <td>85.0</td>\n",
              "      <td>67.0</td>\n",
              "      <td>1.0</td>\n",
              "      <td>5.0</td>\n",
              "      <td>SMF</td>\n",
              "      <td>SNA</td>\n",
              "      <td>404</td>\n",
              "      <td>4.0</td>\n",
              "      <td>10.0</td>\n",
              "      <td>0</td>\n",
              "      <td>NaN</td>\n",
              "      <td>0</td>\n",
              "      <td>NaN</td>\n",
              "      <td>NaN</td>\n",
              "      <td>NaN</td>\n",
              "      <td>NaN</td>\n",
              "      <td>NaN</td>\n",
              "    </tr>\n",
              "  </tbody>\n",
              "</table>\n",
              "</div>"
            ],
            "text/plain": [
              "    Year  Month  DayofMonth  DayOfWeek  DepTime  CRSDepTime  ArrTime  \\\n",
              "0   2008      6          27          5   1953.0        2000   2100.0   \n",
              "1   2008      7          27          7   1042.0        1036   1112.0   \n",
              "2   2008      3          27          4   1449.0        1454   1945.0   \n",
              "3   2008     11          20          4   1615.0        1620      NaN   \n",
              "4   2008      1           1          2   2150.0        2115   2307.0   \n",
              "5   2008      8          29          5   1514.0        1513   1647.0   \n",
              "6   2008      6          19          4   1434.0        1435   1638.0   \n",
              "7   2008      1          23          3   1103.0        1105   1236.0   \n",
              "8   2008      1          25          5   2055.0        2100   2209.0   \n",
              "9   2008      3           1          6   2149.0        2118   2353.0   \n",
              "10  2008      6           6          5   1154.0        1153   1429.0   \n",
              "11  2008      8          15          5   1659.0        1400   1810.0   \n",
              "12  2008     10          27          1    600.0         610    704.0   \n",
              "13  2008     12          15          1    918.0         904   1156.0   \n",
              "14  2008      7          17          4   1600.0        1555   1721.0   \n",
              "\n",
              "    CRSArrTime UniqueCarrier  FlightNum TailNum  ActualElapsedTime  \\\n",
              "0         2105            OH       5778  N510CA               67.0   \n",
              "1         1100            AS         65  N708AS               30.0   \n",
              "2         1957            NW        118  N359NW              176.0   \n",
              "3         1843            US        128  N626AW                NaN   \n",
              "4         2251            CO       1427  N73291              197.0   \n",
              "5         1702            FL        238  N991AT               93.0   \n",
              "6         1546            CO       1015  N17644              124.0   \n",
              "7         1240            MQ       3634  N942AE               93.0   \n",
              "8         2212            US       2144  N765US               74.0   \n",
              "9         2319            AS        203  N548AS              124.0   \n",
              "10        1435            DL        818  N970DL               95.0   \n",
              "11        1505            AA       1009  N241AA              131.0   \n",
              "12         714            OO       6072  N978SW              124.0   \n",
              "13        1152            UA        606  N372UA               98.0   \n",
              "14        1720            WN       1939  N419WN               81.0   \n",
              "\n",
              "    CRSElapsedTime  AirTime  ArrDelay  DepDelay Origin Dest  Distance  TaxiIn  \\\n",
              "0             65.0     52.0      -5.0      -7.0    CVG  GRR       268     5.0   \n",
              "1             24.0     17.0      12.0       6.0    WRG  PSG        31     2.0   \n",
              "2            183.0    153.0     -12.0      -5.0    PHX  MSP      1276    14.0   \n",
              "3             83.0      NaN       NaN      -5.0    LAX  PHX       370     NaN   \n",
              "4            216.0    177.0      16.0      35.0    IAH  ONT      1334     4.0   \n",
              "5            109.0     77.0     -15.0       1.0    PBI  ATL       545     7.0   \n",
              "6             71.0     41.0      52.0      -1.0    IAH  DFW       224     7.0   \n",
              "7             95.0     75.0      -4.0      -2.0    JAN  DFW       408     8.0   \n",
              "8             72.0     42.0      -3.0      -5.0    LGA  BOS       185     3.0   \n",
              "9            121.0    111.0      34.0      31.0    SFO  SEA       679     4.0   \n",
              "10           102.0     72.0      -6.0       1.0    STL  ATL       483    13.0   \n",
              "11           125.0    110.0     185.0     179.0    SDF  DFW       733     9.0   \n",
              "12           124.0    108.0     -10.0     -10.0    ABE  ORD       654     8.0   \n",
              "13           108.0     76.0       4.0      14.0    ORD  DCA       612     4.0   \n",
              "14            85.0     67.0       1.0       5.0    SMF  SNA       404     4.0   \n",
              "\n",
              "    TaxiOut  Cancelled CancellationCode  Diverted  CarrierDelay  WeatherDelay  \\\n",
              "0      10.0          0              NaN         0           NaN           NaN   \n",
              "1      11.0          0              NaN         0           NaN           NaN   \n",
              "2       9.0          0              NaN         0           NaN           NaN   \n",
              "3       NaN          1                A         0           NaN           NaN   \n",
              "4      16.0          0              NaN         0          16.0           0.0   \n",
              "5       9.0          0              NaN         0           NaN           NaN   \n",
              "6      76.0          0              NaN         0           0.0           0.0   \n",
              "7      10.0          0              NaN         0           NaN           NaN   \n",
              "8      29.0          0              NaN         0           NaN           NaN   \n",
              "9       9.0          0              NaN         0           0.0           0.0   \n",
              "10     10.0          0              NaN         0           NaN           NaN   \n",
              "11     12.0          0              NaN         0           5.0           0.0   \n",
              "12      8.0          0              NaN         0           NaN           NaN   \n",
              "13     18.0          0              NaN         0           NaN           NaN   \n",
              "14     10.0          0              NaN         0           NaN           NaN   \n",
              "\n",
              "    NASDelay  SecurityDelay  LateAircraftDelay  \n",
              "0        NaN            NaN                NaN  \n",
              "1        NaN            NaN                NaN  \n",
              "2        NaN            NaN                NaN  \n",
              "3        NaN            NaN                NaN  \n",
              "4        0.0            0.0                0.0  \n",
              "5        NaN            NaN                NaN  \n",
              "6       52.0            0.0                0.0  \n",
              "7        NaN            NaN                NaN  \n",
              "8        NaN            NaN                NaN  \n",
              "9        3.0            0.0               31.0  \n",
              "10       NaN            NaN                NaN  \n",
              "11       6.0            0.0              174.0  \n",
              "12       NaN            NaN                NaN  \n",
              "13       NaN            NaN                NaN  \n",
              "14       NaN            NaN                NaN  "
            ]
          },
          "metadata": {
            "tags": []
          },
          "execution_count": 101
        }
      ]
    },
    {
      "cell_type": "markdown",
      "metadata": {
        "id": "75coYO-2iUnR",
        "colab_type": "text"
      },
      "source": [
        "Dữ liệu gồm cả dạng số và category.\n",
        "\n",
        "\n",
        "Mô tả dữ liệu:\n",
        "\n",
        "1\tYear\t1987-2008\n",
        "\n",
        "2\tMonth\t1-12\n",
        "\n",
        "3\tDayofMonth\t1-31\n",
        "\n",
        "4\tDayOfWeek\t1 (Monday) - 7 (Sunday)\n",
        "\n",
        "5\tDepTime\tactual departure time (local, hhmm)\n",
        "\n",
        "6\tCRSDepTime\tscheduled departure time (local, hhmm)\n",
        "\n",
        "7\tArrTime\tactual arrival time (local, hhmm)\n",
        "\n",
        "8\tCRSArrTime\tscheduled arrival time (local, hhmm)\n",
        "\n",
        "9\tUniqueCarrier\tunique carrier code\n",
        "\n",
        "10\tFlightNum\tflight number\n",
        "\n",
        "11\tTailNum\tplane tail number\n",
        "\n",
        "12\tActualElapsedTime\tin minutes\n",
        "\n",
        "13\tCRSElapsedTime\tin minutes\n",
        "\n",
        "14\tAirTime\tin minutes\n",
        "\n",
        "15\tArrDelay\tarrival delay, in minutes\n",
        "\n",
        "16\tDepDelay\tdeparture delay, in minutes\n",
        "\n",
        "17\tOrigin\torigin IATA airport code\n",
        "\n",
        "18\tDest\tdestination IATA airport code\n",
        "\n",
        "19\tDistance\tin miles\n",
        "\n",
        "20\tTaxiIn\ttaxi in time, in minutes\n",
        "\n",
        "21\tTaxiOut\ttaxi out time in minutes\n",
        "\n",
        "22\tCancelled\twas the flight cancelled?\n",
        "\n",
        "23\tCancellationCode\treason for cancellation (A = carrier, B = weather, C = NAS, D = security)\n",
        "\n",
        "24\tDiverted\t1 = yes, 0 = no\n",
        "\n",
        "25\tCarrierDelay\tin minutes\n",
        "\n",
        "26\tWeatherDelay\tin minutes\n",
        "\n",
        "27\tNASDelay\tin minutes\n",
        "\n",
        "28\tSecurityDelay\tin minutes\n",
        "\n",
        "29\tLateAircraftDelay\tin minutes"
      ]
    },
    {
      "cell_type": "code",
      "metadata": {
        "trusted": true,
        "id": "ZHc6RDvjiUnR",
        "colab_type": "code",
        "outputId": "63557722-181a-4ae7-e437-5aa57a5856bc",
        "colab": {
          "base_uri": "https://localhost:8080/",
          "height": 317
        }
      },
      "source": [
        "data.describe()"
      ],
      "execution_count": 102,
      "outputs": [
        {
          "output_type": "execute_result",
          "data": {
            "text/html": [
              "<div>\n",
              "<style scoped>\n",
              "    .dataframe tbody tr th:only-of-type {\n",
              "        vertical-align: middle;\n",
              "    }\n",
              "\n",
              "    .dataframe tbody tr th {\n",
              "        vertical-align: top;\n",
              "    }\n",
              "\n",
              "    .dataframe thead th {\n",
              "        text-align: right;\n",
              "    }\n",
              "</style>\n",
              "<table border=\"1\" class=\"dataframe\">\n",
              "  <thead>\n",
              "    <tr style=\"text-align: right;\">\n",
              "      <th></th>\n",
              "      <th>Year</th>\n",
              "      <th>Month</th>\n",
              "      <th>DayofMonth</th>\n",
              "      <th>DayOfWeek</th>\n",
              "      <th>DepTime</th>\n",
              "      <th>CRSDepTime</th>\n",
              "      <th>ArrTime</th>\n",
              "      <th>CRSArrTime</th>\n",
              "      <th>FlightNum</th>\n",
              "      <th>ActualElapsedTime</th>\n",
              "      <th>CRSElapsedTime</th>\n",
              "      <th>AirTime</th>\n",
              "      <th>ArrDelay</th>\n",
              "      <th>DepDelay</th>\n",
              "      <th>Distance</th>\n",
              "      <th>TaxiIn</th>\n",
              "      <th>TaxiOut</th>\n",
              "      <th>Cancelled</th>\n",
              "      <th>Diverted</th>\n",
              "      <th>CarrierDelay</th>\n",
              "      <th>WeatherDelay</th>\n",
              "      <th>NASDelay</th>\n",
              "      <th>SecurityDelay</th>\n",
              "      <th>LateAircraftDelay</th>\n",
              "    </tr>\n",
              "  </thead>\n",
              "  <tbody>\n",
              "    <tr>\n",
              "      <th>count</th>\n",
              "      <td>1000000.0</td>\n",
              "      <td>1000000.000000</td>\n",
              "      <td>1000000.000000</td>\n",
              "      <td>1000000.000000</td>\n",
              "      <td>980486.000000</td>\n",
              "      <td>1000000.000000</td>\n",
              "      <td>978286.000000</td>\n",
              "      <td>1000000.000000</td>\n",
              "      <td>1000000.000000</td>\n",
              "      <td>977857.000000</td>\n",
              "      <td>999898.000000</td>\n",
              "      <td>977857.000000</td>\n",
              "      <td>977857.000000</td>\n",
              "      <td>980486.000000</td>\n",
              "      <td>1000000.000000</td>\n",
              "      <td>978286.000000</td>\n",
              "      <td>980368.000000</td>\n",
              "      <td>1000000.000000</td>\n",
              "      <td>1000000.000000</td>\n",
              "      <td>217735.000000</td>\n",
              "      <td>217735.000000</td>\n",
              "      <td>217735.000000</td>\n",
              "      <td>217735.000000</td>\n",
              "      <td>217735.000000</td>\n",
              "    </tr>\n",
              "    <tr>\n",
              "      <th>mean</th>\n",
              "      <td>2008.0</td>\n",
              "      <td>6.376203</td>\n",
              "      <td>15.724883</td>\n",
              "      <td>3.925644</td>\n",
              "      <td>1333.364464</td>\n",
              "      <td>1325.790561</td>\n",
              "      <td>1481.013849</td>\n",
              "      <td>1494.341462</td>\n",
              "      <td>2225.533291</td>\n",
              "      <td>127.400973</td>\n",
              "      <td>128.934404</td>\n",
              "      <td>104.097691</td>\n",
              "      <td>8.210101</td>\n",
              "      <td>10.014190</td>\n",
              "      <td>726.891603</td>\n",
              "      <td>6.866082</td>\n",
              "      <td>16.446858</td>\n",
              "      <td>0.019684</td>\n",
              "      <td>0.002459</td>\n",
              "      <td>15.802586</td>\n",
              "      <td>3.036379</td>\n",
              "      <td>17.225182</td>\n",
              "      <td>0.072037</td>\n",
              "      <td>20.823083</td>\n",
              "    </tr>\n",
              "    <tr>\n",
              "      <th>std</th>\n",
              "      <td>0.0</td>\n",
              "      <td>3.406933</td>\n",
              "      <td>8.795606</td>\n",
              "      <td>1.988100</td>\n",
              "      <td>478.344065</td>\n",
              "      <td>464.408978</td>\n",
              "      <td>505.419466</td>\n",
              "      <td>482.970416</td>\n",
              "      <td>1962.351421</td>\n",
              "      <td>70.262671</td>\n",
              "      <td>69.447821</td>\n",
              "      <td>67.503104</td>\n",
              "      <td>38.633606</td>\n",
              "      <td>35.335279</td>\n",
              "      <td>562.500094</td>\n",
              "      <td>4.943133</td>\n",
              "      <td>11.369636</td>\n",
              "      <td>0.138912</td>\n",
              "      <td>0.049527</td>\n",
              "      <td>40.018807</td>\n",
              "      <td>19.616256</td>\n",
              "      <td>32.295436</td>\n",
              "      <td>1.835315</td>\n",
              "      <td>39.268091</td>\n",
              "    </tr>\n",
              "    <tr>\n",
              "      <th>min</th>\n",
              "      <td>2008.0</td>\n",
              "      <td>1.000000</td>\n",
              "      <td>1.000000</td>\n",
              "      <td>1.000000</td>\n",
              "      <td>1.000000</td>\n",
              "      <td>1.000000</td>\n",
              "      <td>1.000000</td>\n",
              "      <td>0.000000</td>\n",
              "      <td>1.000000</td>\n",
              "      <td>15.000000</td>\n",
              "      <td>-141.000000</td>\n",
              "      <td>0.000000</td>\n",
              "      <td>-86.000000</td>\n",
              "      <td>-92.000000</td>\n",
              "      <td>17.000000</td>\n",
              "      <td>0.000000</td>\n",
              "      <td>0.000000</td>\n",
              "      <td>0.000000</td>\n",
              "      <td>0.000000</td>\n",
              "      <td>0.000000</td>\n",
              "      <td>0.000000</td>\n",
              "      <td>0.000000</td>\n",
              "      <td>0.000000</td>\n",
              "      <td>0.000000</td>\n",
              "    </tr>\n",
              "    <tr>\n",
              "      <th>25%</th>\n",
              "      <td>2008.0</td>\n",
              "      <td>3.000000</td>\n",
              "      <td>8.000000</td>\n",
              "      <td>2.000000</td>\n",
              "      <td>928.000000</td>\n",
              "      <td>925.000000</td>\n",
              "      <td>1106.000000</td>\n",
              "      <td>1115.000000</td>\n",
              "      <td>623.000000</td>\n",
              "      <td>77.000000</td>\n",
              "      <td>80.000000</td>\n",
              "      <td>55.000000</td>\n",
              "      <td>-10.000000</td>\n",
              "      <td>-4.000000</td>\n",
              "      <td>325.000000</td>\n",
              "      <td>4.000000</td>\n",
              "      <td>10.000000</td>\n",
              "      <td>0.000000</td>\n",
              "      <td>0.000000</td>\n",
              "      <td>0.000000</td>\n",
              "      <td>0.000000</td>\n",
              "      <td>0.000000</td>\n",
              "      <td>0.000000</td>\n",
              "      <td>0.000000</td>\n",
              "    </tr>\n",
              "    <tr>\n",
              "      <th>50%</th>\n",
              "      <td>2008.0</td>\n",
              "      <td>6.000000</td>\n",
              "      <td>16.000000</td>\n",
              "      <td>4.000000</td>\n",
              "      <td>1325.000000</td>\n",
              "      <td>1320.000000</td>\n",
              "      <td>1512.000000</td>\n",
              "      <td>1517.000000</td>\n",
              "      <td>1569.000000</td>\n",
              "      <td>110.000000</td>\n",
              "      <td>111.000000</td>\n",
              "      <td>86.000000</td>\n",
              "      <td>-2.000000</td>\n",
              "      <td>-1.000000</td>\n",
              "      <td>581.000000</td>\n",
              "      <td>6.000000</td>\n",
              "      <td>14.000000</td>\n",
              "      <td>0.000000</td>\n",
              "      <td>0.000000</td>\n",
              "      <td>0.000000</td>\n",
              "      <td>0.000000</td>\n",
              "      <td>6.000000</td>\n",
              "      <td>0.000000</td>\n",
              "      <td>0.000000</td>\n",
              "    </tr>\n",
              "    <tr>\n",
              "      <th>75%</th>\n",
              "      <td>2008.0</td>\n",
              "      <td>9.000000</td>\n",
              "      <td>23.000000</td>\n",
              "      <td>6.000000</td>\n",
              "      <td>1728.000000</td>\n",
              "      <td>1715.000000</td>\n",
              "      <td>1909.000000</td>\n",
              "      <td>1907.000000</td>\n",
              "      <td>3532.000000</td>\n",
              "      <td>157.000000</td>\n",
              "      <td>159.000000</td>\n",
              "      <td>132.000000</td>\n",
              "      <td>12.000000</td>\n",
              "      <td>8.000000</td>\n",
              "      <td>954.000000</td>\n",
              "      <td>8.000000</td>\n",
              "      <td>19.000000</td>\n",
              "      <td>0.000000</td>\n",
              "      <td>0.000000</td>\n",
              "      <td>16.000000</td>\n",
              "      <td>0.000000</td>\n",
              "      <td>21.000000</td>\n",
              "      <td>0.000000</td>\n",
              "      <td>26.000000</td>\n",
              "    </tr>\n",
              "    <tr>\n",
              "      <th>max</th>\n",
              "      <td>2008.0</td>\n",
              "      <td>12.000000</td>\n",
              "      <td>31.000000</td>\n",
              "      <td>7.000000</td>\n",
              "      <td>2400.000000</td>\n",
              "      <td>2359.000000</td>\n",
              "      <td>2400.000000</td>\n",
              "      <td>2400.000000</td>\n",
              "      <td>9743.000000</td>\n",
              "      <td>1379.000000</td>\n",
              "      <td>660.000000</td>\n",
              "      <td>1350.000000</td>\n",
              "      <td>1583.000000</td>\n",
              "      <td>1552.000000</td>\n",
              "      <td>4962.000000</td>\n",
              "      <td>233.000000</td>\n",
              "      <td>393.000000</td>\n",
              "      <td>1.000000</td>\n",
              "      <td>1.000000</td>\n",
              "      <td>1552.000000</td>\n",
              "      <td>1153.000000</td>\n",
              "      <td>1357.000000</td>\n",
              "      <td>284.000000</td>\n",
              "      <td>983.000000</td>\n",
              "    </tr>\n",
              "  </tbody>\n",
              "</table>\n",
              "</div>"
            ],
            "text/plain": [
              "            Year           Month      DayofMonth       DayOfWeek  \\\n",
              "count  1000000.0  1000000.000000  1000000.000000  1000000.000000   \n",
              "mean      2008.0        6.376203       15.724883        3.925644   \n",
              "std          0.0        3.406933        8.795606        1.988100   \n",
              "min       2008.0        1.000000        1.000000        1.000000   \n",
              "25%       2008.0        3.000000        8.000000        2.000000   \n",
              "50%       2008.0        6.000000       16.000000        4.000000   \n",
              "75%       2008.0        9.000000       23.000000        6.000000   \n",
              "max       2008.0       12.000000       31.000000        7.000000   \n",
              "\n",
              "             DepTime      CRSDepTime        ArrTime      CRSArrTime  \\\n",
              "count  980486.000000  1000000.000000  978286.000000  1000000.000000   \n",
              "mean     1333.364464     1325.790561    1481.013849     1494.341462   \n",
              "std       478.344065      464.408978     505.419466      482.970416   \n",
              "min         1.000000        1.000000       1.000000        0.000000   \n",
              "25%       928.000000      925.000000    1106.000000     1115.000000   \n",
              "50%      1325.000000     1320.000000    1512.000000     1517.000000   \n",
              "75%      1728.000000     1715.000000    1909.000000     1907.000000   \n",
              "max      2400.000000     2359.000000    2400.000000     2400.000000   \n",
              "\n",
              "            FlightNum  ActualElapsedTime  CRSElapsedTime        AirTime  \\\n",
              "count  1000000.000000      977857.000000   999898.000000  977857.000000   \n",
              "mean      2225.533291         127.400973      128.934404     104.097691   \n",
              "std       1962.351421          70.262671       69.447821      67.503104   \n",
              "min          1.000000          15.000000     -141.000000       0.000000   \n",
              "25%        623.000000          77.000000       80.000000      55.000000   \n",
              "50%       1569.000000         110.000000      111.000000      86.000000   \n",
              "75%       3532.000000         157.000000      159.000000     132.000000   \n",
              "max       9743.000000        1379.000000      660.000000    1350.000000   \n",
              "\n",
              "            ArrDelay       DepDelay        Distance         TaxiIn  \\\n",
              "count  977857.000000  980486.000000  1000000.000000  978286.000000   \n",
              "mean        8.210101      10.014190      726.891603       6.866082   \n",
              "std        38.633606      35.335279      562.500094       4.943133   \n",
              "min       -86.000000     -92.000000       17.000000       0.000000   \n",
              "25%       -10.000000      -4.000000      325.000000       4.000000   \n",
              "50%        -2.000000      -1.000000      581.000000       6.000000   \n",
              "75%        12.000000       8.000000      954.000000       8.000000   \n",
              "max      1583.000000    1552.000000     4962.000000     233.000000   \n",
              "\n",
              "             TaxiOut       Cancelled        Diverted   CarrierDelay  \\\n",
              "count  980368.000000  1000000.000000  1000000.000000  217735.000000   \n",
              "mean       16.446858        0.019684        0.002459      15.802586   \n",
              "std        11.369636        0.138912        0.049527      40.018807   \n",
              "min         0.000000        0.000000        0.000000       0.000000   \n",
              "25%        10.000000        0.000000        0.000000       0.000000   \n",
              "50%        14.000000        0.000000        0.000000       0.000000   \n",
              "75%        19.000000        0.000000        0.000000      16.000000   \n",
              "max       393.000000        1.000000        1.000000    1552.000000   \n",
              "\n",
              "        WeatherDelay       NASDelay  SecurityDelay  LateAircraftDelay  \n",
              "count  217735.000000  217735.000000  217735.000000      217735.000000  \n",
              "mean        3.036379      17.225182       0.072037          20.823083  \n",
              "std        19.616256      32.295436       1.835315          39.268091  \n",
              "min         0.000000       0.000000       0.000000           0.000000  \n",
              "25%         0.000000       0.000000       0.000000           0.000000  \n",
              "50%         0.000000       6.000000       0.000000           0.000000  \n",
              "75%         0.000000      21.000000       0.000000          26.000000  \n",
              "max      1153.000000    1357.000000     284.000000         983.000000  "
            ]
          },
          "metadata": {
            "tags": []
          },
          "execution_count": 102
        }
      ]
    },
    {
      "cell_type": "markdown",
      "metadata": {
        "id": "UuFVWENUiUnU",
        "colab_type": "text"
      },
      "source": [
        "Dữ liệu chứa feature Year thừa và có một số outline cần xử lý"
      ]
    },
    {
      "cell_type": "markdown",
      "metadata": {
        "id": "HRRRQGttiUnV",
        "colab_type": "text"
      },
      "source": [
        "# Data Processing"
      ]
    },
    {
      "cell_type": "markdown",
      "metadata": {
        "id": "ZjHXguYliUnW",
        "colab_type": "text"
      },
      "source": [
        "Dữ liệu chỉ trên năm 2008 nên ta sẽ bỏ feature Year"
      ]
    },
    {
      "cell_type": "code",
      "metadata": {
        "trusted": true,
        "id": "ZRhhZZPNiUnX",
        "colab_type": "code",
        "colab": {}
      },
      "source": [
        "data.drop(columns=['Year'], inplace=True)"
      ],
      "execution_count": 0,
      "outputs": []
    },
    {
      "cell_type": "markdown",
      "metadata": {
        "trusted": true,
        "id": "uzIbpWZPiUnZ",
        "colab_type": "text"
      },
      "source": [
        "Có một số giá trị âm là CRSElapsedTime, ArrDelay và DepDelay ArrDelay và DepDelay âm có thể do máy bay đến hoặc khởi hành sớm hơn dự kiến CRSElapsedTime có thể do nhập sai"
      ]
    },
    {
      "cell_type": "code",
      "metadata": {
        "trusted": true,
        "id": "ZVJXehXFiUna",
        "colab_type": "code",
        "outputId": "0f6ec2c0-3feb-4048-b827-59126795772b",
        "colab": {
          "base_uri": "https://localhost:8080/",
          "height": 131
        }
      },
      "source": [
        "data[data['CRSElapsedTime'] < 0]"
      ],
      "execution_count": 104,
      "outputs": [
        {
          "output_type": "execute_result",
          "data": {
            "text/html": [
              "<div>\n",
              "<style scoped>\n",
              "    .dataframe tbody tr th:only-of-type {\n",
              "        vertical-align: middle;\n",
              "    }\n",
              "\n",
              "    .dataframe tbody tr th {\n",
              "        vertical-align: top;\n",
              "    }\n",
              "\n",
              "    .dataframe thead th {\n",
              "        text-align: right;\n",
              "    }\n",
              "</style>\n",
              "<table border=\"1\" class=\"dataframe\">\n",
              "  <thead>\n",
              "    <tr style=\"text-align: right;\">\n",
              "      <th></th>\n",
              "      <th>Month</th>\n",
              "      <th>DayofMonth</th>\n",
              "      <th>DayOfWeek</th>\n",
              "      <th>DepTime</th>\n",
              "      <th>CRSDepTime</th>\n",
              "      <th>ArrTime</th>\n",
              "      <th>CRSArrTime</th>\n",
              "      <th>UniqueCarrier</th>\n",
              "      <th>FlightNum</th>\n",
              "      <th>TailNum</th>\n",
              "      <th>ActualElapsedTime</th>\n",
              "      <th>CRSElapsedTime</th>\n",
              "      <th>AirTime</th>\n",
              "      <th>ArrDelay</th>\n",
              "      <th>DepDelay</th>\n",
              "      <th>Origin</th>\n",
              "      <th>Dest</th>\n",
              "      <th>Distance</th>\n",
              "      <th>TaxiIn</th>\n",
              "      <th>TaxiOut</th>\n",
              "      <th>Cancelled</th>\n",
              "      <th>CancellationCode</th>\n",
              "      <th>Diverted</th>\n",
              "      <th>CarrierDelay</th>\n",
              "      <th>WeatherDelay</th>\n",
              "      <th>NASDelay</th>\n",
              "      <th>SecurityDelay</th>\n",
              "      <th>LateAircraftDelay</th>\n",
              "    </tr>\n",
              "  </thead>\n",
              "  <tbody>\n",
              "    <tr>\n",
              "      <th>376164</th>\n",
              "      <td>7</td>\n",
              "      <td>15</td>\n",
              "      <td>2</td>\n",
              "      <td>1324.0</td>\n",
              "      <td>1330</td>\n",
              "      <td>1358.0</td>\n",
              "      <td>1109</td>\n",
              "      <td>HA</td>\n",
              "      <td>344</td>\n",
              "      <td>N479HA</td>\n",
              "      <td>34.0</td>\n",
              "      <td>-141.0</td>\n",
              "      <td>22.0</td>\n",
              "      <td>169.0</td>\n",
              "      <td>-6.0</td>\n",
              "      <td>LIH</td>\n",
              "      <td>HNL</td>\n",
              "      <td>102</td>\n",
              "      <td>6.0</td>\n",
              "      <td>6.0</td>\n",
              "      <td>0</td>\n",
              "      <td>NaN</td>\n",
              "      <td>0</td>\n",
              "      <td>169.0</td>\n",
              "      <td>0.0</td>\n",
              "      <td>0.0</td>\n",
              "      <td>0.0</td>\n",
              "      <td>0.0</td>\n",
              "    </tr>\n",
              "    <tr>\n",
              "      <th>522024</th>\n",
              "      <td>7</td>\n",
              "      <td>28</td>\n",
              "      <td>1</td>\n",
              "      <td>1327.0</td>\n",
              "      <td>1330</td>\n",
              "      <td>1354.0</td>\n",
              "      <td>1109</td>\n",
              "      <td>HA</td>\n",
              "      <td>344</td>\n",
              "      <td>N481HA</td>\n",
              "      <td>27.0</td>\n",
              "      <td>-141.0</td>\n",
              "      <td>18.0</td>\n",
              "      <td>165.0</td>\n",
              "      <td>-3.0</td>\n",
              "      <td>LIH</td>\n",
              "      <td>HNL</td>\n",
              "      <td>102</td>\n",
              "      <td>4.0</td>\n",
              "      <td>5.0</td>\n",
              "      <td>0</td>\n",
              "      <td>NaN</td>\n",
              "      <td>0</td>\n",
              "      <td>165.0</td>\n",
              "      <td>0.0</td>\n",
              "      <td>0.0</td>\n",
              "      <td>0.0</td>\n",
              "      <td>0.0</td>\n",
              "    </tr>\n",
              "  </tbody>\n",
              "</table>\n",
              "</div>"
            ],
            "text/plain": [
              "        Month  DayofMonth  DayOfWeek  DepTime  CRSDepTime  ArrTime  \\\n",
              "376164      7          15          2   1324.0        1330   1358.0   \n",
              "522024      7          28          1   1327.0        1330   1354.0   \n",
              "\n",
              "        CRSArrTime UniqueCarrier  FlightNum TailNum  ActualElapsedTime  \\\n",
              "376164        1109            HA        344  N479HA               34.0   \n",
              "522024        1109            HA        344  N481HA               27.0   \n",
              "\n",
              "        CRSElapsedTime  AirTime  ArrDelay  DepDelay Origin Dest  Distance  \\\n",
              "376164          -141.0     22.0     169.0      -6.0    LIH  HNL       102   \n",
              "522024          -141.0     18.0     165.0      -3.0    LIH  HNL       102   \n",
              "\n",
              "        TaxiIn  TaxiOut  Cancelled CancellationCode  Diverted  CarrierDelay  \\\n",
              "376164     6.0      6.0          0              NaN         0         169.0   \n",
              "522024     4.0      5.0          0              NaN         0         165.0   \n",
              "\n",
              "        WeatherDelay  NASDelay  SecurityDelay  LateAircraftDelay  \n",
              "376164           0.0       0.0            0.0                0.0  \n",
              "522024           0.0       0.0            0.0                0.0  "
            ]
          },
          "metadata": {
            "tags": []
          },
          "execution_count": 104
        }
      ]
    },
    {
      "cell_type": "markdown",
      "metadata": {
        "id": "1ZkppMvxiUne",
        "colab_type": "text"
      },
      "source": [
        "Chỉ có một số nhỏ giá trị CRSElapsedTime âm.\n",
        "\n",
        "Ta sẽ lọa bỏ dòng có CRSElapsedTime chứa giá trị âm."
      ]
    },
    {
      "cell_type": "code",
      "metadata": {
        "trusted": true,
        "id": "4mHhSg_ZiUnf",
        "colab_type": "code",
        "colab": {}
      },
      "source": [
        "data.drop(data[data['CRSElapsedTime']<0].index, inplace=True)"
      ],
      "execution_count": 0,
      "outputs": []
    },
    {
      "cell_type": "markdown",
      "metadata": {
        "id": "VoXNqGbhiUnj",
        "colab_type": "text"
      },
      "source": [
        "#### Missing values"
      ]
    },
    {
      "cell_type": "code",
      "metadata": {
        "trusted": true,
        "id": "MR4gfOzOiUnk",
        "colab_type": "code",
        "outputId": "b5ca1815-e224-419f-a889-ea8a5e1493d2",
        "colab": {
          "base_uri": "https://localhost:8080/",
          "height": 510
        }
      },
      "source": [
        "data.isnull().sum()*100/len(data)"
      ],
      "execution_count": 106,
      "outputs": [
        {
          "output_type": "execute_result",
          "data": {
            "text/plain": [
              "Month                 0.000000\n",
              "DayofMonth            0.000000\n",
              "DayOfWeek             0.000000\n",
              "DepTime               1.951404\n",
              "CRSDepTime            0.000000\n",
              "ArrTime               2.171404\n",
              "CRSArrTime            0.000000\n",
              "UniqueCarrier         0.000000\n",
              "FlightNum             0.000000\n",
              "TailNum               1.191302\n",
              "ActualElapsedTime     2.214304\n",
              "CRSElapsedTime        0.010200\n",
              "AirTime               2.214304\n",
              "ArrDelay              2.214304\n",
              "DepDelay              1.951404\n",
              "Origin                0.000000\n",
              "Dest                  0.000000\n",
              "Distance              0.000000\n",
              "TaxiIn                2.171404\n",
              "TaxiOut               1.963204\n",
              "Cancelled             0.000000\n",
              "CancellationCode     98.031596\n",
              "Diverted              0.000000\n",
              "CarrierDelay         78.226656\n",
              "WeatherDelay         78.226656\n",
              "NASDelay             78.226656\n",
              "SecurityDelay        78.226656\n",
              "LateAircraftDelay    78.226656\n",
              "dtype: float64"
            ]
          },
          "metadata": {
            "tags": []
          },
          "execution_count": 106
        }
      ]
    },
    {
      "cell_type": "markdown",
      "metadata": {
        "id": "nyxzuFoXiUnn",
        "colab_type": "text"
      },
      "source": [
        "CarrierDelay, WeatherDelay, NASDelay, SecurityDelay và LateAircraftDelay sẽ bằng NaN nếu không bị delay.\n",
        "\n",
        "Giá trị DepDelay sẽ băng tổng 4 cột này cộng lại và cộng thêm 1 giá trị nào đó. Hơn nữa CarrierDelay, WeatherDelay, NASDelay, SecurityDelay và LateAircraftDelay có tỷ lệ missing value lớn nên ta se loại bỏ cột này.\n",
        "\n",
        "DepTime và ArrTime có ảnh hưởng rất lớn đến kết quả dự đoán nên ta sẽ loại bỏ 2 feature này.\n",
        "\n",
        "CancellationCode có tỷ lệ missing value lớn nên ta se loại bỏ cột này.\n",
        "\n",
        "Các cột DepTime, ArrTime, TailNum, ActualElapsedTime, CRSElapsedTime, AirTime, ArrDelay, DepDelay, TaxiIn, TaxiOut có tỷ lệ missing values nhỏ nên ta sẽ loại bỏ các hàng chứa missing values"
      ]
    },
    {
      "cell_type": "code",
      "metadata": {
        "trusted": true,
        "id": "eTNx5Aq6iUno",
        "colab_type": "code",
        "colab": {}
      },
      "source": [
        "data.drop(columns=['CancellationCode', 'CarrierDelay', 'WeatherDelay', 'NASDelay', 'SecurityDelay', \n",
        "                   'LateAircraftDelay', 'DepTime', 'ArrTime'], inplace=True)\n",
        "\n",
        "columns = ['ActualElapsedTime', 'CRSElapsedTime', 'AirTime', 'ArrDelay',\n",
        "           'DepDelay', 'TaxiIn', 'TaxiOut', 'TailNum']\n",
        "for column in columns:\n",
        "    data = data.drop(data[data[column].isnull()].index)"
      ],
      "execution_count": 0,
      "outputs": []
    },
    {
      "cell_type": "code",
      "metadata": {
        "trusted": true,
        "id": "mVZBqnF0iUns",
        "colab_type": "code",
        "outputId": "62d7c82d-0189-4fb7-eae9-5be122c2e61a",
        "colab": {
          "base_uri": "https://localhost:8080/",
          "height": 224
        }
      },
      "source": [
        "data.head()"
      ],
      "execution_count": 108,
      "outputs": [
        {
          "output_type": "execute_result",
          "data": {
            "text/html": [
              "<div>\n",
              "<style scoped>\n",
              "    .dataframe tbody tr th:only-of-type {\n",
              "        vertical-align: middle;\n",
              "    }\n",
              "\n",
              "    .dataframe tbody tr th {\n",
              "        vertical-align: top;\n",
              "    }\n",
              "\n",
              "    .dataframe thead th {\n",
              "        text-align: right;\n",
              "    }\n",
              "</style>\n",
              "<table border=\"1\" class=\"dataframe\">\n",
              "  <thead>\n",
              "    <tr style=\"text-align: right;\">\n",
              "      <th></th>\n",
              "      <th>Month</th>\n",
              "      <th>DayofMonth</th>\n",
              "      <th>DayOfWeek</th>\n",
              "      <th>CRSDepTime</th>\n",
              "      <th>CRSArrTime</th>\n",
              "      <th>UniqueCarrier</th>\n",
              "      <th>FlightNum</th>\n",
              "      <th>TailNum</th>\n",
              "      <th>ActualElapsedTime</th>\n",
              "      <th>CRSElapsedTime</th>\n",
              "      <th>AirTime</th>\n",
              "      <th>ArrDelay</th>\n",
              "      <th>DepDelay</th>\n",
              "      <th>Origin</th>\n",
              "      <th>Dest</th>\n",
              "      <th>Distance</th>\n",
              "      <th>TaxiIn</th>\n",
              "      <th>TaxiOut</th>\n",
              "      <th>Cancelled</th>\n",
              "      <th>Diverted</th>\n",
              "    </tr>\n",
              "  </thead>\n",
              "  <tbody>\n",
              "    <tr>\n",
              "      <th>0</th>\n",
              "      <td>6</td>\n",
              "      <td>27</td>\n",
              "      <td>5</td>\n",
              "      <td>2000</td>\n",
              "      <td>2105</td>\n",
              "      <td>OH</td>\n",
              "      <td>5778</td>\n",
              "      <td>N510CA</td>\n",
              "      <td>67.0</td>\n",
              "      <td>65.0</td>\n",
              "      <td>52.0</td>\n",
              "      <td>-5.0</td>\n",
              "      <td>-7.0</td>\n",
              "      <td>CVG</td>\n",
              "      <td>GRR</td>\n",
              "      <td>268</td>\n",
              "      <td>5.0</td>\n",
              "      <td>10.0</td>\n",
              "      <td>0</td>\n",
              "      <td>0</td>\n",
              "    </tr>\n",
              "    <tr>\n",
              "      <th>1</th>\n",
              "      <td>7</td>\n",
              "      <td>27</td>\n",
              "      <td>7</td>\n",
              "      <td>1036</td>\n",
              "      <td>1100</td>\n",
              "      <td>AS</td>\n",
              "      <td>65</td>\n",
              "      <td>N708AS</td>\n",
              "      <td>30.0</td>\n",
              "      <td>24.0</td>\n",
              "      <td>17.0</td>\n",
              "      <td>12.0</td>\n",
              "      <td>6.0</td>\n",
              "      <td>WRG</td>\n",
              "      <td>PSG</td>\n",
              "      <td>31</td>\n",
              "      <td>2.0</td>\n",
              "      <td>11.0</td>\n",
              "      <td>0</td>\n",
              "      <td>0</td>\n",
              "    </tr>\n",
              "    <tr>\n",
              "      <th>2</th>\n",
              "      <td>3</td>\n",
              "      <td>27</td>\n",
              "      <td>4</td>\n",
              "      <td>1454</td>\n",
              "      <td>1957</td>\n",
              "      <td>NW</td>\n",
              "      <td>118</td>\n",
              "      <td>N359NW</td>\n",
              "      <td>176.0</td>\n",
              "      <td>183.0</td>\n",
              "      <td>153.0</td>\n",
              "      <td>-12.0</td>\n",
              "      <td>-5.0</td>\n",
              "      <td>PHX</td>\n",
              "      <td>MSP</td>\n",
              "      <td>1276</td>\n",
              "      <td>14.0</td>\n",
              "      <td>9.0</td>\n",
              "      <td>0</td>\n",
              "      <td>0</td>\n",
              "    </tr>\n",
              "    <tr>\n",
              "      <th>4</th>\n",
              "      <td>1</td>\n",
              "      <td>1</td>\n",
              "      <td>2</td>\n",
              "      <td>2115</td>\n",
              "      <td>2251</td>\n",
              "      <td>CO</td>\n",
              "      <td>1427</td>\n",
              "      <td>N73291</td>\n",
              "      <td>197.0</td>\n",
              "      <td>216.0</td>\n",
              "      <td>177.0</td>\n",
              "      <td>16.0</td>\n",
              "      <td>35.0</td>\n",
              "      <td>IAH</td>\n",
              "      <td>ONT</td>\n",
              "      <td>1334</td>\n",
              "      <td>4.0</td>\n",
              "      <td>16.0</td>\n",
              "      <td>0</td>\n",
              "      <td>0</td>\n",
              "    </tr>\n",
              "    <tr>\n",
              "      <th>5</th>\n",
              "      <td>8</td>\n",
              "      <td>29</td>\n",
              "      <td>5</td>\n",
              "      <td>1513</td>\n",
              "      <td>1702</td>\n",
              "      <td>FL</td>\n",
              "      <td>238</td>\n",
              "      <td>N991AT</td>\n",
              "      <td>93.0</td>\n",
              "      <td>109.0</td>\n",
              "      <td>77.0</td>\n",
              "      <td>-15.0</td>\n",
              "      <td>1.0</td>\n",
              "      <td>PBI</td>\n",
              "      <td>ATL</td>\n",
              "      <td>545</td>\n",
              "      <td>7.0</td>\n",
              "      <td>9.0</td>\n",
              "      <td>0</td>\n",
              "      <td>0</td>\n",
              "    </tr>\n",
              "  </tbody>\n",
              "</table>\n",
              "</div>"
            ],
            "text/plain": [
              "   Month  DayofMonth  DayOfWeek  CRSDepTime  CRSArrTime UniqueCarrier  \\\n",
              "0      6          27          5        2000        2105            OH   \n",
              "1      7          27          7        1036        1100            AS   \n",
              "2      3          27          4        1454        1957            NW   \n",
              "4      1           1          2        2115        2251            CO   \n",
              "5      8          29          5        1513        1702            FL   \n",
              "\n",
              "   FlightNum TailNum  ActualElapsedTime  CRSElapsedTime  AirTime  ArrDelay  \\\n",
              "0       5778  N510CA               67.0            65.0     52.0      -5.0   \n",
              "1         65  N708AS               30.0            24.0     17.0      12.0   \n",
              "2        118  N359NW              176.0           183.0    153.0     -12.0   \n",
              "4       1427  N73291              197.0           216.0    177.0      16.0   \n",
              "5        238  N991AT               93.0           109.0     77.0     -15.0   \n",
              "\n",
              "   DepDelay Origin Dest  Distance  TaxiIn  TaxiOut  Cancelled  Diverted  \n",
              "0      -7.0    CVG  GRR       268     5.0     10.0          0         0  \n",
              "1       6.0    WRG  PSG        31     2.0     11.0          0         0  \n",
              "2      -5.0    PHX  MSP      1276    14.0      9.0          0         0  \n",
              "4      35.0    IAH  ONT      1334     4.0     16.0          0         0  \n",
              "5       1.0    PBI  ATL       545     7.0      9.0          0         0  "
            ]
          },
          "metadata": {
            "tags": []
          },
          "execution_count": 108
        }
      ]
    },
    {
      "cell_type": "code",
      "metadata": {
        "trusted": true,
        "id": "Tar8RYj0iUnw",
        "colab_type": "code",
        "outputId": "d17f08af-4805-4ee7-aba9-7256d6b299e2",
        "colab": {
          "base_uri": "https://localhost:8080/",
          "height": 34
        }
      },
      "source": [
        "data.shape"
      ],
      "execution_count": 109,
      "outputs": [
        {
          "output_type": "execute_result",
          "data": {
            "text/plain": [
              "(977855, 20)"
            ]
          },
          "metadata": {
            "tags": []
          },
          "execution_count": 109
        }
      ]
    },
    {
      "cell_type": "markdown",
      "metadata": {
        "trusted": true,
        "id": "uak4U7sziUnz",
        "colab_type": "text"
      },
      "source": [
        "## Tranform data\n",
        "\n",
        "Biến đôi DepTime, CRSDepTime, ArrTime, CRSArrTime thành:\n",
        "\n",
        "DepTime_Hours, DepTime_Minutes, CRSDepTime_Hours, CRSDepTime_Minutes, ArrTime_Hours, ArrTime_Minutes, CRSArrTime_Hours, CRSArrTime_Minutes."
      ]
    },
    {
      "cell_type": "code",
      "metadata": {
        "trusted": true,
        "id": "QXJlhg71iUn4",
        "colab_type": "code",
        "colab": {}
      },
      "source": [
        "def int_to_string(time_float):\n",
        "    time_int = int(time_float)\n",
        "    time_string = str(time_int)\n",
        "    if(len(time_string) == 1):\n",
        "        time_string = '000' + time_string\n",
        "    elif(len(time_string) == 2):\n",
        "        time_string = '00' + time_string\n",
        "    return time_string"
      ],
      "execution_count": 0,
      "outputs": []
    },
    {
      "cell_type": "code",
      "metadata": {
        "trusted": true,
        "id": "eLj6UsPriUoC",
        "colab_type": "code",
        "colab": {}
      },
      "source": [
        "data['CRSDepTime'] = data['CRSDepTime'].apply(lambda x: int_to_string(x))\n",
        "data['CRSArrTime'] = data['CRSArrTime'].apply(lambda x: int_to_string(x))"
      ],
      "execution_count": 0,
      "outputs": []
    },
    {
      "cell_type": "code",
      "metadata": {
        "trusted": true,
        "id": "gHLxub6tiUoL",
        "colab_type": "code",
        "colab": {}
      },
      "source": [
        "data['CRSDepTimehhmm'] = pd.to_datetime(data['CRSDepTime'], errors ='coerce', format = '%H%M')\n",
        "data['CRSArrTimehhmm'] = pd.to_datetime(data['CRSArrTime'], errors ='coerce', format = '%H%M')"
      ],
      "execution_count": 0,
      "outputs": []
    },
    {
      "cell_type": "markdown",
      "metadata": {
        "id": "YStGc852iUoQ",
        "colab_type": "text"
      },
      "source": [
        "Remove những những giá trị không hợp lệ"
      ]
    },
    {
      "cell_type": "code",
      "metadata": {
        "trusted": true,
        "id": "qIxq9VA3iUoR",
        "colab_type": "code",
        "colab": {}
      },
      "source": [
        "columns = ['CRSDepTimehhmm', 'CRSArrTimehhmm']\n",
        "for column in columns:\n",
        "    data = data.drop(data[data[column].isnull()].index)"
      ],
      "execution_count": 0,
      "outputs": []
    },
    {
      "cell_type": "code",
      "metadata": {
        "trusted": true,
        "id": "huRftouPiUoT",
        "colab_type": "code",
        "colab": {}
      },
      "source": [
        "data['CRSDepTime_Hours'] = data['CRSDepTimehhmm'].dt.hour\n",
        "data['CRSDepTime_Minutes'] = data['CRSDepTimehhmm'].dt.minute\n",
        "\n",
        "data['CRSArr_Hours'] = data['CRSArrTimehhmm'].dt.hour\n",
        "data['CRSArr_Minutes'] = data['CRSArrTimehhmm'].dt.minute"
      ],
      "execution_count": 0,
      "outputs": []
    },
    {
      "cell_type": "markdown",
      "metadata": {
        "id": "FrVH9ZD-iUoc",
        "colab_type": "text"
      },
      "source": [
        "Các feature DepTime, CRSDepTime, ArrTime, CRSArrTime, DepTimehhmm, CRSDepTimehhmm, ArrTimehhmm, CRSArrTimehhmm đã được tranform nên ta sẽ loại bỏ."
      ]
    },
    {
      "cell_type": "code",
      "metadata": {
        "trusted": true,
        "id": "yV5XuFhCiUoe",
        "colab_type": "code",
        "colab": {}
      },
      "source": [
        "data.drop(columns=[ 'CRSDepTime', 'CRSArrTime', 'CRSDepTimehhmm',\n",
        "                    'CRSArrTimehhmm'], inplace=True)"
      ],
      "execution_count": 0,
      "outputs": []
    },
    {
      "cell_type": "markdown",
      "metadata": {
        "id": "X67_Zac7iUov",
        "colab_type": "text"
      },
      "source": [
        "Thêm cột xác Delay, nếu chuyến bay khởi hành trễ hơn 30p thì giá trị cột Delay bằng True, ngược lại False.\n",
        "\n",
        "Ta sẽ loại bỏ Feature DepDelay."
      ]
    },
    {
      "cell_type": "code",
      "metadata": {
        "trusted": true,
        "id": "fJ20wG5hiUox",
        "colab_type": "code",
        "colab": {}
      },
      "source": [
        "data['Delay'] = data['DepDelay'].apply(lambda x: 1 if (x> 29) else 0)\n",
        "data.drop(columns=['DepDelay'], inplace=True)\n"
      ],
      "execution_count": 0,
      "outputs": []
    },
    {
      "cell_type": "code",
      "metadata": {
        "trusted": true,
        "id": "j-anOFokiUo0",
        "colab_type": "code",
        "outputId": "ae989f61-0cb1-4fe2-b983-939b29218e79",
        "colab": {
          "base_uri": "https://localhost:8080/",
          "height": 224
        }
      },
      "source": [
        "data.head()"
      ],
      "execution_count": 117,
      "outputs": [
        {
          "output_type": "execute_result",
          "data": {
            "text/html": [
              "<div>\n",
              "<style scoped>\n",
              "    .dataframe tbody tr th:only-of-type {\n",
              "        vertical-align: middle;\n",
              "    }\n",
              "\n",
              "    .dataframe tbody tr th {\n",
              "        vertical-align: top;\n",
              "    }\n",
              "\n",
              "    .dataframe thead th {\n",
              "        text-align: right;\n",
              "    }\n",
              "</style>\n",
              "<table border=\"1\" class=\"dataframe\">\n",
              "  <thead>\n",
              "    <tr style=\"text-align: right;\">\n",
              "      <th></th>\n",
              "      <th>Month</th>\n",
              "      <th>DayofMonth</th>\n",
              "      <th>DayOfWeek</th>\n",
              "      <th>UniqueCarrier</th>\n",
              "      <th>FlightNum</th>\n",
              "      <th>TailNum</th>\n",
              "      <th>ActualElapsedTime</th>\n",
              "      <th>CRSElapsedTime</th>\n",
              "      <th>AirTime</th>\n",
              "      <th>ArrDelay</th>\n",
              "      <th>Origin</th>\n",
              "      <th>Dest</th>\n",
              "      <th>Distance</th>\n",
              "      <th>TaxiIn</th>\n",
              "      <th>TaxiOut</th>\n",
              "      <th>Cancelled</th>\n",
              "      <th>Diverted</th>\n",
              "      <th>CRSDepTime_Hours</th>\n",
              "      <th>CRSDepTime_Minutes</th>\n",
              "      <th>CRSArr_Hours</th>\n",
              "      <th>CRSArr_Minutes</th>\n",
              "      <th>Delay</th>\n",
              "    </tr>\n",
              "  </thead>\n",
              "  <tbody>\n",
              "    <tr>\n",
              "      <th>0</th>\n",
              "      <td>6</td>\n",
              "      <td>27</td>\n",
              "      <td>5</td>\n",
              "      <td>OH</td>\n",
              "      <td>5778</td>\n",
              "      <td>N510CA</td>\n",
              "      <td>67.0</td>\n",
              "      <td>65.0</td>\n",
              "      <td>52.0</td>\n",
              "      <td>-5.0</td>\n",
              "      <td>CVG</td>\n",
              "      <td>GRR</td>\n",
              "      <td>268</td>\n",
              "      <td>5.0</td>\n",
              "      <td>10.0</td>\n",
              "      <td>0</td>\n",
              "      <td>0</td>\n",
              "      <td>20</td>\n",
              "      <td>0</td>\n",
              "      <td>21</td>\n",
              "      <td>5</td>\n",
              "      <td>0</td>\n",
              "    </tr>\n",
              "    <tr>\n",
              "      <th>1</th>\n",
              "      <td>7</td>\n",
              "      <td>27</td>\n",
              "      <td>7</td>\n",
              "      <td>AS</td>\n",
              "      <td>65</td>\n",
              "      <td>N708AS</td>\n",
              "      <td>30.0</td>\n",
              "      <td>24.0</td>\n",
              "      <td>17.0</td>\n",
              "      <td>12.0</td>\n",
              "      <td>WRG</td>\n",
              "      <td>PSG</td>\n",
              "      <td>31</td>\n",
              "      <td>2.0</td>\n",
              "      <td>11.0</td>\n",
              "      <td>0</td>\n",
              "      <td>0</td>\n",
              "      <td>10</td>\n",
              "      <td>36</td>\n",
              "      <td>11</td>\n",
              "      <td>0</td>\n",
              "      <td>0</td>\n",
              "    </tr>\n",
              "    <tr>\n",
              "      <th>2</th>\n",
              "      <td>3</td>\n",
              "      <td>27</td>\n",
              "      <td>4</td>\n",
              "      <td>NW</td>\n",
              "      <td>118</td>\n",
              "      <td>N359NW</td>\n",
              "      <td>176.0</td>\n",
              "      <td>183.0</td>\n",
              "      <td>153.0</td>\n",
              "      <td>-12.0</td>\n",
              "      <td>PHX</td>\n",
              "      <td>MSP</td>\n",
              "      <td>1276</td>\n",
              "      <td>14.0</td>\n",
              "      <td>9.0</td>\n",
              "      <td>0</td>\n",
              "      <td>0</td>\n",
              "      <td>14</td>\n",
              "      <td>54</td>\n",
              "      <td>19</td>\n",
              "      <td>57</td>\n",
              "      <td>0</td>\n",
              "    </tr>\n",
              "    <tr>\n",
              "      <th>4</th>\n",
              "      <td>1</td>\n",
              "      <td>1</td>\n",
              "      <td>2</td>\n",
              "      <td>CO</td>\n",
              "      <td>1427</td>\n",
              "      <td>N73291</td>\n",
              "      <td>197.0</td>\n",
              "      <td>216.0</td>\n",
              "      <td>177.0</td>\n",
              "      <td>16.0</td>\n",
              "      <td>IAH</td>\n",
              "      <td>ONT</td>\n",
              "      <td>1334</td>\n",
              "      <td>4.0</td>\n",
              "      <td>16.0</td>\n",
              "      <td>0</td>\n",
              "      <td>0</td>\n",
              "      <td>21</td>\n",
              "      <td>15</td>\n",
              "      <td>22</td>\n",
              "      <td>51</td>\n",
              "      <td>1</td>\n",
              "    </tr>\n",
              "    <tr>\n",
              "      <th>5</th>\n",
              "      <td>8</td>\n",
              "      <td>29</td>\n",
              "      <td>5</td>\n",
              "      <td>FL</td>\n",
              "      <td>238</td>\n",
              "      <td>N991AT</td>\n",
              "      <td>93.0</td>\n",
              "      <td>109.0</td>\n",
              "      <td>77.0</td>\n",
              "      <td>-15.0</td>\n",
              "      <td>PBI</td>\n",
              "      <td>ATL</td>\n",
              "      <td>545</td>\n",
              "      <td>7.0</td>\n",
              "      <td>9.0</td>\n",
              "      <td>0</td>\n",
              "      <td>0</td>\n",
              "      <td>15</td>\n",
              "      <td>13</td>\n",
              "      <td>17</td>\n",
              "      <td>2</td>\n",
              "      <td>0</td>\n",
              "    </tr>\n",
              "  </tbody>\n",
              "</table>\n",
              "</div>"
            ],
            "text/plain": [
              "   Month  DayofMonth  DayOfWeek UniqueCarrier  FlightNum TailNum  \\\n",
              "0      6          27          5            OH       5778  N510CA   \n",
              "1      7          27          7            AS         65  N708AS   \n",
              "2      3          27          4            NW        118  N359NW   \n",
              "4      1           1          2            CO       1427  N73291   \n",
              "5      8          29          5            FL        238  N991AT   \n",
              "\n",
              "   ActualElapsedTime  CRSElapsedTime  AirTime  ArrDelay Origin Dest  Distance  \\\n",
              "0               67.0            65.0     52.0      -5.0    CVG  GRR       268   \n",
              "1               30.0            24.0     17.0      12.0    WRG  PSG        31   \n",
              "2              176.0           183.0    153.0     -12.0    PHX  MSP      1276   \n",
              "4              197.0           216.0    177.0      16.0    IAH  ONT      1334   \n",
              "5               93.0           109.0     77.0     -15.0    PBI  ATL       545   \n",
              "\n",
              "   TaxiIn  TaxiOut  Cancelled  Diverted  CRSDepTime_Hours  CRSDepTime_Minutes  \\\n",
              "0     5.0     10.0          0         0                20                   0   \n",
              "1     2.0     11.0          0         0                10                  36   \n",
              "2    14.0      9.0          0         0                14                  54   \n",
              "4     4.0     16.0          0         0                21                  15   \n",
              "5     7.0      9.0          0         0                15                  13   \n",
              "\n",
              "   CRSArr_Hours  CRSArr_Minutes  Delay  \n",
              "0            21               5      0  \n",
              "1            11               0      0  \n",
              "2            19              57      0  \n",
              "4            22              51      1  \n",
              "5            17               2      0  "
            ]
          },
          "metadata": {
            "tags": []
          },
          "execution_count": 117
        }
      ]
    },
    {
      "cell_type": "markdown",
      "metadata": {
        "id": "9VuDpC1NiUo3",
        "colab_type": "text"
      },
      "source": [
        "# Visualization"
      ]
    },
    {
      "cell_type": "markdown",
      "metadata": {
        "id": "T4dKMDLDiUo3",
        "colab_type": "text"
      },
      "source": [
        "## Delay"
      ]
    },
    {
      "cell_type": "code",
      "metadata": {
        "trusted": true,
        "id": "i6vSwM0liUo7",
        "colab_type": "code",
        "outputId": "c149aa72-5d52-4404-f97c-13aa2e987d70",
        "colab": {
          "base_uri": "https://localhost:8080/",
          "height": 34
        }
      },
      "source": [
        "len(data[data['Delay']==True])/len(data)"
      ],
      "execution_count": 118,
      "outputs": [
        {
          "output_type": "execute_result",
          "data": {
            "text/plain": [
              "0.1223749942476134"
            ]
          },
          "metadata": {
            "tags": []
          },
          "execution_count": 118
        }
      ]
    },
    {
      "cell_type": "markdown",
      "metadata": {
        "id": "79e0tvZkiUo9",
        "colab_type": "text"
      },
      "source": [
        "Tỷ lệ Delay bằng 12% tổng số chuyến bay, ta sẽ sử dụng các thuật toán giải quyết tốt dữ liệu imbalance: Naive Bayes, Random Forest, Decison tree."
      ]
    },
    {
      "cell_type": "code",
      "metadata": {
        "trusted": true,
        "id": "yiDfYJ6kiUo-",
        "colab_type": "code",
        "outputId": "da029bcb-1803-4827-feb9-6c089e79b1c9",
        "colab": {
          "base_uri": "https://localhost:8080/",
          "height": 282
        }
      },
      "source": [
        "data['Delay'].hist()"
      ],
      "execution_count": 119,
      "outputs": [
        {
          "output_type": "execute_result",
          "data": {
            "text/plain": [
              "<matplotlib.axes._subplots.AxesSubplot at 0x7f6933db9860>"
            ]
          },
          "metadata": {
            "tags": []
          },
          "execution_count": 119
        },
        {
          "output_type": "display_data",
          "data": {
            "image/png": "[encoded data removed]",
            "text/plain": [
              "<Figure size 432x288 with 1 Axes>"
            ]
          },
          "metadata": {
            "tags": []
          }
        }
      ]
    },
    {
      "cell_type": "markdown",
      "metadata": {
        "id": "TSnvAzxDiUpB",
        "colab_type": "text"
      },
      "source": [
        "## ActualElapsedTime"
      ]
    },
    {
      "cell_type": "code",
      "metadata": {
        "trusted": true,
        "id": "P1i_viheiUpC",
        "colab_type": "code",
        "outputId": "250f86ee-f50d-49df-f7e1-c4018fa31ff5",
        "colab": {
          "base_uri": "https://localhost:8080/",
          "height": 282
        }
      },
      "source": [
        "data.ActualElapsedTime.hist()"
      ],
      "execution_count": 120,
      "outputs": [
        {
          "output_type": "execute_result",
          "data": {
            "text/plain": [
              "<matplotlib.axes._subplots.AxesSubplot at 0x7f6933fb1668>"
            ]
          },
          "metadata": {
            "tags": []
          },
          "execution_count": 120
        },
        {
          "output_type": "display_data",
          "data": {
            "image/png": "[encoded data removed]",
            "text/plain": [
              "<Figure size 432x288 with 1 Axes>"
            ]
          },
          "metadata": {
            "tags": []
          }
        }
      ]
    },
    {
      "cell_type": "code",
      "metadata": {
        "trusted": true,
        "id": "7MKiW4WLiUpH",
        "colab_type": "code",
        "outputId": "3a853a98-2157-4845-d681-8abce084c86a",
        "colab": {
          "base_uri": "https://localhost:8080/",
          "height": 34
        }
      },
      "source": [
        "print('Tỷ lệ chuyến bay có ActualElapsedTime > 550: ', len(data[data['ActualElapsedTime'] > 550]) * 100 /len(data), '%')"
      ],
      "execution_count": 121,
      "outputs": [
        {
          "output_type": "stream",
          "text": [
            "Tỷ lệ chuyến bay có ActualElapsedTime > 550:  0.026486544528585527 %\n"
          ],
          "name": "stdout"
        }
      ]
    },
    {
      "cell_type": "markdown",
      "metadata": {
        "trusted": true,
        "id": "nzz7wkAhiUpN",
        "colab_type": "text"
      },
      "source": [
        "Tỷ lệ chuyến bay có ActualElapsedTime lớn hơn 550 là rất nhó so với tổng số chuyến bay nên ta có sẽ remove nó."
      ]
    },
    {
      "cell_type": "code",
      "metadata": {
        "trusted": true,
        "id": "KuNvAIV1iUpO",
        "colab_type": "code",
        "colab": {}
      },
      "source": [
        "data = data[data['ActualElapsedTime'] <= 550]"
      ],
      "execution_count": 0,
      "outputs": []
    },
    {
      "cell_type": "markdown",
      "metadata": {
        "id": "7-4ZnKo1iUpQ",
        "colab_type": "text"
      },
      "source": [
        "## ArrDelay"
      ]
    },
    {
      "cell_type": "code",
      "metadata": {
        "trusted": true,
        "id": "03oRecu_iUpR",
        "colab_type": "code",
        "outputId": "da918caf-5f08-4640-d4a3-a8a1e5388178",
        "colab": {
          "base_uri": "https://localhost:8080/",
          "height": 282
        }
      },
      "source": [
        "data.ArrDelay.hist()"
      ],
      "execution_count": 123,
      "outputs": [
        {
          "output_type": "execute_result",
          "data": {
            "text/plain": [
              "<matplotlib.axes._subplots.AxesSubplot at 0x7f6933ea2780>"
            ]
          },
          "metadata": {
            "tags": []
          },
          "execution_count": 123
        },
        {
          "output_type": "display_data",
          "data": {
            "image/png": "[encoded data removed]",
            "text/plain": [
              "<Figure size 432x288 with 1 Axes>"
            ]
          },
          "metadata": {
            "tags": []
          }
        }
      ]
    },
    {
      "cell_type": "code",
      "metadata": {
        "trusted": true,
        "id": "vrAOStjNiUpS",
        "colab_type": "code",
        "outputId": "bae02d1a-e5b6-4098-ce51-28134e929b3d",
        "colab": {
          "base_uri": "https://localhost:8080/",
          "height": 34
        }
      },
      "source": [
        "print('Tỷ lệ chuyến bay có ArrDelay > 400: ', len(data[data['ArrDelay'] > 400]) * 100 /len(data), '%')"
      ],
      "execution_count": 124,
      "outputs": [
        {
          "output_type": "stream",
          "text": [
            "Tỷ lệ chuyến bay có ArrDelay > 400:  0.05104358037471512 %\n"
          ],
          "name": "stdout"
        }
      ]
    },
    {
      "cell_type": "markdown",
      "metadata": {
        "id": "drSjeTSPiUpV",
        "colab_type": "text"
      },
      "source": [
        "Tỷ lệ chuyến bay có ArrDelay lớn hơn 400 là rất nhó so với tổng số chuyến bay nên ta có sẽ remove nó."
      ]
    },
    {
      "cell_type": "code",
      "metadata": {
        "trusted": true,
        "id": "pUzZ0RUliUpV",
        "colab_type": "code",
        "colab": {}
      },
      "source": [
        "data = data[data['ArrDelay'] <= 400]"
      ],
      "execution_count": 0,
      "outputs": []
    },
    {
      "cell_type": "markdown",
      "metadata": {
        "id": "bvMWtVxoiUpY",
        "colab_type": "text"
      },
      "source": [
        "## Distance"
      ]
    },
    {
      "cell_type": "code",
      "metadata": {
        "trusted": true,
        "id": "P1FAg3omiUpd",
        "colab_type": "code",
        "outputId": "432ad483-2c28-4b08-94ba-d16b11e140d5",
        "colab": {
          "base_uri": "https://localhost:8080/",
          "height": 282
        }
      },
      "source": [
        "data.Distance.hist()"
      ],
      "execution_count": 126,
      "outputs": [
        {
          "output_type": "execute_result",
          "data": {
            "text/plain": [
              "<matplotlib.axes._subplots.AxesSubplot at 0x7f693411e940>"
            ]
          },
          "metadata": {
            "tags": []
          },
          "execution_count": 126
        },
        {
          "output_type": "display_data",
          "data": {
            "image/png": "[encoded data removed]",
            "text/plain": [
              "<Figure size 432x288 with 1 Axes>"
            ]
          },
          "metadata": {
            "tags": []
          }
        }
      ]
    },
    {
      "cell_type": "code",
      "metadata": {
        "trusted": true,
        "id": "NP45xRiRiUpf",
        "colab_type": "code",
        "outputId": "ff620916-8180-4259-abb0-8876c488719a",
        "colab": {
          "base_uri": "https://localhost:8080/",
          "height": 34
        }
      },
      "source": [
        "print('Tỷ lệ chuyến bay có Distance > 3500: ', len(data[data['Distance'] > 3500]) * 100 /len(data), '%')"
      ],
      "execution_count": 127,
      "outputs": [
        {
          "output_type": "stream",
          "text": [
            "Tỷ lệ chuyến bay có Distance > 3500:  0.09466818545139326 %\n"
          ],
          "name": "stdout"
        }
      ]
    },
    {
      "cell_type": "markdown",
      "metadata": {
        "id": "wKXE31-NiUph",
        "colab_type": "text"
      },
      "source": [
        "Tỷ lệ chuyến bay có ArrDelay lớn hơn 400 là rất nhó so với tổng số chuyến bay nên ta có sẽ remove nó."
      ]
    },
    {
      "cell_type": "code",
      "metadata": {
        "trusted": true,
        "id": "gwGo4zn2iUph",
        "colab_type": "code",
        "colab": {}
      },
      "source": [
        "data = data[data['Distance'] < 3500]"
      ],
      "execution_count": 0,
      "outputs": []
    },
    {
      "cell_type": "markdown",
      "metadata": {
        "id": "gnUelDIeiUpl",
        "colab_type": "text"
      },
      "source": [
        "## TaxiIn"
      ]
    },
    {
      "cell_type": "code",
      "metadata": {
        "trusted": true,
        "id": "B2dJIQFuiUpl",
        "colab_type": "code",
        "outputId": "e6dee7c7-aef0-4509-9ff6-ab747cd09472",
        "colab": {
          "base_uri": "https://localhost:8080/",
          "height": 284
        }
      },
      "source": [
        "data.TaxiIn.hist()"
      ],
      "execution_count": 129,
      "outputs": [
        {
          "output_type": "execute_result",
          "data": {
            "text/plain": [
              "<matplotlib.axes._subplots.AxesSubplot at 0x7f6934186f28>"
            ]
          },
          "metadata": {
            "tags": []
          },
          "execution_count": 129
        },
        {
          "output_type": "display_data",
          "data": {
            "image/png": "[encoded data removed]",
            "text/plain": [
              "<Figure size 432x288 with 1 Axes>"
            ]
          },
          "metadata": {
            "tags": []
          }
        }
      ]
    },
    {
      "cell_type": "code",
      "metadata": {
        "trusted": true,
        "id": "FtkLMLqsiUpo",
        "colab_type": "code",
        "outputId": "da56cc91-a496-4e76-9f85-83efe81ec6c0",
        "colab": {
          "base_uri": "https://localhost:8080/",
          "height": 34
        }
      },
      "source": [
        "print('Tỷ lệ chuyến bay có TaxiIn > 50: ', len(data[data['TaxiIn'] > 50]) * 100 /len(data), '%')"
      ],
      "execution_count": 130,
      "outputs": [
        {
          "output_type": "stream",
          "text": [
            "Tỷ lệ chuyến bay có TaxiIn > 50:  0.09076269345975914 %\n"
          ],
          "name": "stdout"
        }
      ]
    },
    {
      "cell_type": "markdown",
      "metadata": {
        "id": "3cacXyX5iUpq",
        "colab_type": "text"
      },
      "source": [
        "Tỷ lệ chuyến bay có TaxiIn lớn hơn 50 là rất nhó so với tổng số chuyến bay nên ta có sẽ remove nó."
      ]
    },
    {
      "cell_type": "code",
      "metadata": {
        "trusted": true,
        "id": "7q6Q5IKRiUpr",
        "colab_type": "code",
        "colab": {}
      },
      "source": [
        "data = data[data['TaxiIn'] <= 50]"
      ],
      "execution_count": 0,
      "outputs": []
    },
    {
      "cell_type": "markdown",
      "metadata": {
        "id": "POYx5cNViUpt",
        "colab_type": "text"
      },
      "source": [
        "## TaxiOut"
      ]
    },
    {
      "cell_type": "code",
      "metadata": {
        "trusted": true,
        "id": "R3CJ2T0BiUpt",
        "colab_type": "code",
        "outputId": "ef1b7d2b-8e51-4b86-cb2a-ada622223ac0",
        "colab": {
          "base_uri": "https://localhost:8080/",
          "height": 282
        }
      },
      "source": [
        "data.TaxiOut.hist()"
      ],
      "execution_count": 132,
      "outputs": [
        {
          "output_type": "execute_result",
          "data": {
            "text/plain": [
              "<matplotlib.axes._subplots.AxesSubplot at 0x7f69342b9be0>"
            ]
          },
          "metadata": {
            "tags": []
          },
          "execution_count": 132
        },
        {
          "output_type": "display_data",
          "data": {
            "image/png": "[encoded data removed]",
            "text/plain": [
              "<Figure size 432x288 with 1 Axes>"
            ]
          },
          "metadata": {
            "tags": []
          }
        }
      ]
    },
    {
      "cell_type": "code",
      "metadata": {
        "trusted": true,
        "id": "p-WaouJ6iUpv",
        "colab_type": "code",
        "outputId": "e885d0a4-4a47-46e1-e465-90a665a2700e",
        "colab": {
          "base_uri": "https://localhost:8080/",
          "height": 34
        }
      },
      "source": [
        "print('Tỷ lệ chuyến bay có TaxiOut > 150: ', len(data[data['TaxiOut'] > 150]) * 100 /len(data), '%')"
      ],
      "execution_count": 133,
      "outputs": [
        {
          "output_type": "stream",
          "text": [
            "Tỷ lệ chuyến bay có TaxiOut > 150:  0.040500940237017655 %\n"
          ],
          "name": "stdout"
        }
      ]
    },
    {
      "cell_type": "markdown",
      "metadata": {
        "id": "9csQtwTbiUpw",
        "colab_type": "text"
      },
      "source": [
        "Tỷ lệ chuyến bay có TaxiOut lớn hơn 150 là rất nhó so với tổng số chuyến bay nên ta có sẽ remove nó."
      ]
    },
    {
      "cell_type": "code",
      "metadata": {
        "trusted": true,
        "id": "q6dmCB1JiUpx",
        "colab_type": "code",
        "colab": {}
      },
      "source": [
        "data = data[data['TaxiOut'] <= 150]"
      ],
      "execution_count": 0,
      "outputs": []
    },
    {
      "cell_type": "markdown",
      "metadata": {
        "id": "hHQgtUEYkNqX",
        "colab_type": "text"
      },
      "source": [
        "# Interaction"
      ]
    },
    {
      "cell_type": "code",
      "metadata": {
        "id": "OwxKODQ6tBd8",
        "colab_type": "code",
        "colab": {
          "base_uri": "https://localhost:8080/",
          "height": 476
        },
        "outputId": "27145e79-60c8-407d-d7c0-210608f88153"
      },
      "source": [
        "data.info()"
      ],
      "execution_count": 135,
      "outputs": [
        {
          "output_type": "stream",
          "text": [
            "<class 'pandas.core.frame.DataFrame'>\n",
            "Int64Index: 974891 entries, 0 to 999999\n",
            "Data columns (total 22 columns):\n",
            "Month                 974891 non-null int64\n",
            "DayofMonth            974891 non-null int64\n",
            "DayOfWeek             974891 non-null int64\n",
            "UniqueCarrier         974891 non-null object\n",
            "FlightNum             974891 non-null int64\n",
            "TailNum               974891 non-null object\n",
            "ActualElapsedTime     974891 non-null float64\n",
            "CRSElapsedTime        974891 non-null float64\n",
            "AirTime               974891 non-null float64\n",
            "ArrDelay              974891 non-null float64\n",
            "Origin                974891 non-null object\n",
            "Dest                  974891 non-null object\n",
            "Distance              974891 non-null int64\n",
            "TaxiIn                974891 non-null float64\n",
            "TaxiOut               974891 non-null float64\n",
            "Cancelled             974891 non-null int64\n",
            "Diverted              974891 non-null int64\n",
            "CRSDepTime_Hours      974891 non-null int64\n",
            "CRSDepTime_Minutes    974891 non-null int64\n",
            "CRSArr_Hours          974891 non-null int64\n",
            "CRSArr_Minutes        974891 non-null int64\n",
            "Delay                 974891 non-null int64\n",
            "dtypes: float64(6), int64(12), object(4)\n",
            "memory usage: 171.1+ MB\n"
          ],
          "name": "stdout"
        }
      ]
    },
    {
      "cell_type": "markdown",
      "metadata": {
        "id": "LPi_q-lMjf9m",
        "colab_type": "text"
      },
      "source": [
        "## Month"
      ]
    },
    {
      "cell_type": "code",
      "metadata": {
        "id": "80Y8heEfjWhj",
        "colab_type": "code",
        "colab": {}
      },
      "source": [
        "month = ['1', '2', '3', '4', '5', '6', '7', '8', '9', '10', '11','12']"
      ],
      "execution_count": 0,
      "outputs": []
    },
    {
      "cell_type": "code",
      "metadata": {
        "id": "jUtrLj1zjWfh",
        "colab_type": "code",
        "outputId": "55f9aa2d-7ae2-416d-ef68-d78b9125468c",
        "colab": {
          "base_uri": "https://localhost:8080/",
          "height": 269
        }
      },
      "source": [
        "fig, ax = plt.subplots()\n",
        "ax.plot(month, data[data['Delay']==1].Month.value_counts()/len(data[data['Delay']==1]), label=\"Delay\")\n",
        "ax.plot(month, data[data['Delay']==0].Month.value_counts()/len(data[data['Delay']==0]), label=\"None-Delay\")\n",
        "ax.legend()\n",
        "\n",
        "plt.show()"
      ],
      "execution_count": 137,
      "outputs": [
        {
          "output_type": "display_data",
          "data": {
            "image/png": "[encoded data removed]",
            "text/plain": [
              "<Figure size 432x288 with 1 Axes>"
            ]
          },
          "metadata": {
            "tags": []
          }
        }
      ]
    },
    {
      "cell_type": "markdown",
      "metadata": {
        "id": "gPfdiNQljk78",
        "colab_type": "text"
      },
      "source": [
        "Tỷ lệ chuyến bay bị Delay ở những tháng đầu năm cao hơn nhiều những chuyến bay ở nhưng tháng cuối năm. \n",
        "\n",
        "Tỷ lệ chuyến bay không Delay  giảm nhẹ khi vào cuối năm."
      ]
    },
    {
      "cell_type": "markdown",
      "metadata": {
        "id": "2d8xvPWyjnRp",
        "colab_type": "text"
      },
      "source": [
        "## DayOfMonth"
      ]
    },
    {
      "cell_type": "code",
      "metadata": {
        "id": "cJxUiVDXjWcm",
        "colab_type": "code",
        "colab": {}
      },
      "source": [
        "dayofmonth = []\n",
        "for i in range(1, 32):\n",
        "  dayofmonth.append(str(i))"
      ],
      "execution_count": 0,
      "outputs": []
    },
    {
      "cell_type": "code",
      "metadata": {
        "id": "bRsnlo66jWat",
        "colab_type": "code",
        "outputId": "db447171-a3df-4670-b6ed-daee2943b3f9",
        "colab": {
          "base_uri": "https://localhost:8080/",
          "height": 265
        }
      },
      "source": [
        "fig, ax = plt.subplots()\n",
        "ax.plot(dayofmonth, data[data['Delay']==1].DayofMonth.value_counts()/len(data[data['Delay']==1]), label=\"Delay\")\n",
        "ax.plot(dayofmonth, data[data['Delay']==0].DayofMonth.value_counts()/len(data[data['Delay']==0]), label=\"None-Delay\")\n",
        "ax.legend()\n",
        "\n",
        "plt.show()"
      ],
      "execution_count": 139,
      "outputs": [
        {
          "output_type": "display_data",
          "data": {
            "image/png": "[encoded data removed]",
            "text/plain": [
              "<Figure size 432x288 with 1 Axes>"
            ]
          },
          "metadata": {
            "tags": []
          }
        }
      ]
    },
    {
      "cell_type": "markdown",
      "metadata": {
        "id": "4JTEYIOBjtbK",
        "colab_type": "text"
      },
      "source": [
        "Tỷ lệ Delay ở đầu tháng cao hơn 1 chút so với cuối tháng."
      ]
    },
    {
      "cell_type": "markdown",
      "metadata": {
        "id": "bAFAKXvQjwP4",
        "colab_type": "text"
      },
      "source": [
        "## DayOfWeek"
      ]
    },
    {
      "cell_type": "code",
      "metadata": {
        "id": "IhOatHM-jWYW",
        "colab_type": "code",
        "colab": {}
      },
      "source": [
        "day_of_week = [1, 2, 3, 4, 5, 6, 7]"
      ],
      "execution_count": 0,
      "outputs": []
    },
    {
      "cell_type": "code",
      "metadata": {
        "id": "cZNGrRpXjWWn",
        "colab_type": "code",
        "outputId": "ea6ac349-b1b9-41a0-9623-d4f3c78bc9e6",
        "colab": {
          "base_uri": "https://localhost:8080/",
          "height": 265
        }
      },
      "source": [
        "fig, ax = plt.subplots()\n",
        "ax.plot(day_of_week, data[data['Delay']==1].DayOfWeek.value_counts()/len(data[data['Delay']==1]), label=\"Delay\")\n",
        "ax.plot(day_of_week, data[data['Delay']==0].DayOfWeek.value_counts()/len(data[data['Delay']==0]), label=\"None-Delay\")\n",
        "ax.legend()\n",
        "\n",
        "plt.show()"
      ],
      "execution_count": 141,
      "outputs": [
        {
          "output_type": "display_data",
          "data": {
            "image/png": "[encoded data removed]",
            "text/plain": [
              "<Figure size 432x288 with 1 Axes>"
            ]
          },
          "metadata": {
            "tags": []
          }
        }
      ]
    },
    {
      "cell_type": "markdown",
      "metadata": {
        "id": "WW14azD9kJBk",
        "colab_type": "text"
      },
      "source": [
        "Vào chủ nhật có tỷ lệ Delay cao hơn các ngày khác."
      ]
    },
    {
      "cell_type": "markdown",
      "metadata": {
        "id": "Je7BJ8GfiUp0",
        "colab_type": "text"
      },
      "source": [
        "# Convert category to label encoder."
      ]
    },
    {
      "cell_type": "code",
      "metadata": {
        "trusted": true,
        "id": "vLO8v15CiUp1",
        "colab_type": "code",
        "colab": {}
      },
      "source": [
        "X = data.drop(columns=['Delay'])\n",
        "y = data['Delay']"
      ],
      "execution_count": 0,
      "outputs": []
    },
    {
      "cell_type": "code",
      "metadata": {
        "trusted": true,
        "id": "CJJrSOJQiUp3",
        "colab_type": "code",
        "outputId": "f833f3e7-21e7-4591-a45c-bbf9f3442df5",
        "colab": {
          "base_uri": "https://localhost:8080/",
          "height": 459
        }
      },
      "source": [
        "X.info()"
      ],
      "execution_count": 143,
      "outputs": [
        {
          "output_type": "stream",
          "text": [
            "<class 'pandas.core.frame.DataFrame'>\n",
            "Int64Index: 974891 entries, 0 to 999999\n",
            "Data columns (total 21 columns):\n",
            "Month                 974891 non-null int64\n",
            "DayofMonth            974891 non-null int64\n",
            "DayOfWeek             974891 non-null int64\n",
            "UniqueCarrier         974891 non-null object\n",
            "FlightNum             974891 non-null int64\n",
            "TailNum               974891 non-null object\n",
            "ActualElapsedTime     974891 non-null float64\n",
            "CRSElapsedTime        974891 non-null float64\n",
            "AirTime               974891 non-null float64\n",
            "ArrDelay              974891 non-null float64\n",
            "Origin                974891 non-null object\n",
            "Dest                  974891 non-null object\n",
            "Distance              974891 non-null int64\n",
            "TaxiIn                974891 non-null float64\n",
            "TaxiOut               974891 non-null float64\n",
            "Cancelled             974891 non-null int64\n",
            "Diverted              974891 non-null int64\n",
            "CRSDepTime_Hours      974891 non-null int64\n",
            "CRSDepTime_Minutes    974891 non-null int64\n",
            "CRSArr_Hours          974891 non-null int64\n",
            "CRSArr_Minutes        974891 non-null int64\n",
            "dtypes: float64(6), int64(11), object(4)\n",
            "memory usage: 163.6+ MB\n"
          ],
          "name": "stdout"
        }
      ]
    },
    {
      "cell_type": "markdown",
      "metadata": {
        "id": "_aC15Bl9iUp5",
        "colab_type": "text"
      },
      "source": [
        " Các feature dạng category ta chuyển về dạng Label Encoder."
      ]
    },
    {
      "cell_type": "code",
      "metadata": {
        "trusted": true,
        "id": "F2TL4brCiUp5",
        "colab_type": "code",
        "colab": {}
      },
      "source": [
        "columns = ['UniqueCarrier', 'TailNum', 'Origin', 'Dest', 'Month', 'DayofMonth', 'DayOfWeek', 'FlightNum',\n",
        "           'Cancelled', 'Diverted', 'CRSDepTime_Hours', 'CRSDepTime_Minutes', 'CRSArr_Hours','CRSArr_Minutes']\n",
        "for column in columns:\n",
        "    le = preprocessing.LabelEncoder()\n",
        "    X[column] = le.fit_transform(X[column])"
      ],
      "execution_count": 0,
      "outputs": []
    },
    {
      "cell_type": "code",
      "metadata": {
        "trusted": true,
        "id": "mSAweaxpiUp7",
        "colab_type": "code",
        "colab": {}
      },
      "source": [
        "X_train, X_test, y_train, y_test = train_test_split( X, y, test_size=0.2)"
      ],
      "execution_count": 0,
      "outputs": []
    },
    {
      "cell_type": "markdown",
      "metadata": {
        "id": "99lHixGNiUp_",
        "colab_type": "text"
      },
      "source": [
        "# Model"
      ]
    },
    {
      "cell_type": "markdown",
      "metadata": {
        "id": "F62T0w1PiUp_",
        "colab_type": "text"
      },
      "source": [
        "## Naïve Bayes"
      ]
    },
    {
      "cell_type": "code",
      "metadata": {
        "trusted": true,
        "id": "R75P_f2oiUqA",
        "colab_type": "code",
        "colab": {}
      },
      "source": [
        "gnb = GaussianNB()\n",
        "model = gnb.fit(X_train, y_train)"
      ],
      "execution_count": 0,
      "outputs": []
    },
    {
      "cell_type": "code",
      "metadata": {
        "trusted": true,
        "id": "8p4Pdid0iUqC",
        "colab_type": "code",
        "colab": {}
      },
      "source": [
        "y_predict = model.predict(X_test)"
      ],
      "execution_count": 0,
      "outputs": []
    },
    {
      "cell_type": "code",
      "metadata": {
        "id": "CFCWVABxnU9U",
        "colab_type": "code",
        "outputId": "59d2077f-5ff5-4f99-b0e7-f1882502d1d5",
        "colab": {
          "base_uri": "https://localhost:8080/",
          "height": 170
        }
      },
      "source": [
        "print(classification_report(y_predict, y_test))"
      ],
      "execution_count": 56,
      "outputs": [
        {
          "output_type": "stream",
          "text": [
            "              precision    recall  f1-score   support\n",
            "\n",
            "           0       0.97      0.97      0.97    172152\n",
            "           1       0.75      0.77      0.76     22827\n",
            "\n",
            "    accuracy                           0.94    194979\n",
            "   macro avg       0.86      0.87      0.86    194979\n",
            "weighted avg       0.94      0.94      0.94    194979\n",
            "\n"
          ],
          "name": "stdout"
        }
      ]
    },
    {
      "cell_type": "markdown",
      "metadata": {
        "id": "5jgHD0FUoOub",
        "colab_type": "text"
      },
      "source": [
        "Thuật toán chạy khá tốt khi cho kết quả recall và precision khá đồng đều.\n",
        "\n",
        "Thay đổi threshold để tìm kết quả tốt hơn."
      ]
    },
    {
      "cell_type": "code",
      "metadata": {
        "id": "hOcnGe8VoNrt",
        "colab_type": "code",
        "colab": {}
      },
      "source": [
        "thresholds  = [0.1, 0.2, 0.3, 0.4, 0.5, 0.6, 0.7, 0.8, 0.9]"
      ],
      "execution_count": 0,
      "outputs": []
    },
    {
      "cell_type": "code",
      "metadata": {
        "id": "bS5lbnOXoNpq",
        "colab_type": "code",
        "outputId": "6f43f90d-6aa8-4a47-8946-dd6b8b272db9",
        "colab": {
          "base_uri": "https://localhost:8080/",
          "height": 1000
        }
      },
      "source": [
        "for tr in thresholds:\n",
        "    y_pred = np.where(model.predict_proba(X_test)[:,1] < tr, 0, 1)\n",
        "    print(tr)\n",
        "    print(classification_report(y_pred, y_test))"
      ],
      "execution_count": 58,
      "outputs": [
        {
          "output_type": "stream",
          "text": [
            "0.1\n",
            "              precision    recall  f1-score   support\n",
            "\n",
            "           0       0.92      0.99      0.95    160773\n",
            "           1       0.90      0.62      0.74     34206\n",
            "\n",
            "    accuracy                           0.92    194979\n",
            "   macro avg       0.91      0.80      0.84    194979\n",
            "weighted avg       0.92      0.92      0.92    194979\n",
            "\n",
            "0.2\n",
            "              precision    recall  f1-score   support\n",
            "\n",
            "           0       0.95      0.98      0.96    166434\n",
            "           1       0.85      0.70      0.77     28545\n",
            "\n",
            "    accuracy                           0.94    194979\n",
            "   macro avg       0.90      0.84      0.86    194979\n",
            "weighted avg       0.93      0.94      0.93    194979\n",
            "\n",
            "0.3\n",
            "              precision    recall  f1-score   support\n",
            "\n",
            "           0       0.96      0.97      0.97    169035\n",
            "           1       0.81      0.73      0.77     25944\n",
            "\n",
            "    accuracy                           0.94    194979\n",
            "   macro avg       0.88      0.85      0.87    194979\n",
            "weighted avg       0.94      0.94      0.94    194979\n",
            "\n",
            "0.4\n",
            "              precision    recall  f1-score   support\n",
            "\n",
            "           0       0.97      0.97      0.97    170795\n",
            "           1       0.78      0.76      0.77     24184\n",
            "\n",
            "    accuracy                           0.94    194979\n",
            "   macro avg       0.87      0.86      0.87    194979\n",
            "weighted avg       0.94      0.94      0.94    194979\n",
            "\n",
            "0.5\n",
            "              precision    recall  f1-score   support\n",
            "\n",
            "           0       0.97      0.97      0.97    172152\n",
            "           1       0.75      0.77      0.76     22827\n",
            "\n",
            "    accuracy                           0.94    194979\n",
            "   macro avg       0.86      0.87      0.86    194979\n",
            "weighted avg       0.94      0.94      0.94    194979\n",
            "\n",
            "0.6\n",
            "              precision    recall  f1-score   support\n",
            "\n",
            "           0       0.97      0.96      0.97    173360\n",
            "           1       0.72      0.79      0.75     21619\n",
            "\n",
            "    accuracy                           0.94    194979\n",
            "   macro avg       0.85      0.88      0.86    194979\n",
            "weighted avg       0.95      0.94      0.94    194979\n",
            "\n",
            "0.7\n",
            "              precision    recall  f1-score   support\n",
            "\n",
            "           0       0.98      0.96      0.97    174526\n",
            "           1       0.70      0.80      0.75     20453\n",
            "\n",
            "    accuracy                           0.94    194979\n",
            "   macro avg       0.84      0.88      0.86    194979\n",
            "weighted avg       0.95      0.94      0.94    194979\n",
            "\n",
            "0.8\n",
            "              precision    recall  f1-score   support\n",
            "\n",
            "           0       0.98      0.96      0.97    175752\n",
            "           1       0.67      0.82      0.73     19227\n",
            "\n",
            "    accuracy                           0.94    194979\n",
            "   macro avg       0.82      0.89      0.85    194979\n",
            "weighted avg       0.95      0.94      0.94    194979\n",
            "\n",
            "0.9\n",
            "              precision    recall  f1-score   support\n",
            "\n",
            "           0       0.98      0.95      0.97    177222\n",
            "           1       0.63      0.83      0.72     17757\n",
            "\n",
            "    accuracy                           0.94    194979\n",
            "   macro avg       0.80      0.89      0.84    194979\n",
            "weighted avg       0.95      0.94      0.94    194979\n",
            "\n"
          ],
          "name": "stdout"
        }
      ]
    },
    {
      "cell_type": "markdown",
      "metadata": {
        "id": "42qwbe_12vzI",
        "colab_type": "text"
      },
      "source": [
        "Threshold bằng 0.4 và 0.5 cho kết quả khá tốt."
      ]
    },
    {
      "cell_type": "markdown",
      "metadata": {
        "id": "0c9aa02MiUqG",
        "colab_type": "text"
      },
      "source": [
        "## Decision Tree"
      ]
    },
    {
      "cell_type": "code",
      "metadata": {
        "trusted": true,
        "id": "9a533jUhiUqH",
        "colab_type": "code",
        "colab": {}
      },
      "source": [
        "clf = tree.DecisionTreeClassifier()\n",
        "model = clf.fit(X_train, y_train)"
      ],
      "execution_count": 0,
      "outputs": []
    },
    {
      "cell_type": "code",
      "metadata": {
        "trusted": true,
        "id": "z6f5WXrgiUqI",
        "colab_type": "code",
        "colab": {}
      },
      "source": [
        "# tree.plot_tree(model)"
      ],
      "execution_count": 0,
      "outputs": []
    },
    {
      "cell_type": "code",
      "metadata": {
        "id": "Gbn4HfYukn0d",
        "colab_type": "code",
        "outputId": "7a5970ee-e8cd-49c0-84ad-25173b6f16c4",
        "colab": {
          "base_uri": "https://localhost:8080/",
          "height": 170
        }
      },
      "source": [
        "y_pred = model.predict(X_test)\n",
        "print(classification_report(y_pred, y_test))"
      ],
      "execution_count": 61,
      "outputs": [
        {
          "output_type": "stream",
          "text": [
            "              precision    recall  f1-score   support\n",
            "\n",
            "           0       0.99      0.99      0.99    171379\n",
            "           1       0.93      0.93      0.93     23600\n",
            "\n",
            "    accuracy                           0.98    194979\n",
            "   macro avg       0.96      0.96      0.96    194979\n",
            "weighted avg       0.98      0.98      0.98    194979\n",
            "\n"
          ],
          "name": "stdout"
        }
      ]
    },
    {
      "cell_type": "markdown",
      "metadata": {
        "id": "c6LwljT_iUqL",
        "colab_type": "text"
      },
      "source": [
        "Decision Tree đạt kết quả khá tốt trên 94% trên cả recall và precsion.\n",
        "\n",
        "Decision Tree tốt hơn Naive Bayes."
      ]
    },
    {
      "cell_type": "markdown",
      "metadata": {
        "id": "sm6_t02ViUqL",
        "colab_type": "text"
      },
      "source": [
        "## Random Forest"
      ]
    },
    {
      "cell_type": "code",
      "metadata": {
        "trusted": true,
        "id": "YYPwknKliUqM",
        "colab_type": "code",
        "outputId": "8ad1da1c-bfc8-4e07-aa81-a56743eeca2b",
        "colab": {
          "base_uri": "https://localhost:8080/",
          "height": 71
        }
      },
      "source": [
        "from sklearn.ensemble import RandomForestClassifier\n",
        "clf = RandomForestClassifier()\n",
        "model = clf.fit(X_train, y_train)"
      ],
      "execution_count": 62,
      "outputs": [
        {
          "output_type": "stream",
          "text": [
            "/usr/local/lib/python3.6/dist-packages/sklearn/ensemble/forest.py:245: FutureWarning: The default value of n_estimators will change from 10 in version 0.20 to 100 in 0.22.\n",
            "  \"10 in version 0.20 to 100 in 0.22.\", FutureWarning)\n"
          ],
          "name": "stderr"
        }
      ]
    },
    {
      "cell_type": "code",
      "metadata": {
        "trusted": true,
        "id": "Xstev8zniUqR",
        "colab_type": "code",
        "outputId": "1dd92032-68a9-4706-cb15-38dc52593ff8",
        "colab": {
          "base_uri": "https://localhost:8080/",
          "height": 170
        }
      },
      "source": [
        "y_pred = model.predict(X_test)\n",
        "print(classification_report(y_pred, y_test))"
      ],
      "execution_count": 63,
      "outputs": [
        {
          "output_type": "stream",
          "text": [
            "              precision    recall  f1-score   support\n",
            "\n",
            "           0       0.99      0.98      0.99    173431\n",
            "           1       0.87      0.95      0.91     21548\n",
            "\n",
            "    accuracy                           0.98    194979\n",
            "   macro avg       0.93      0.97      0.95    194979\n",
            "weighted avg       0.98      0.98      0.98    194979\n",
            "\n"
          ],
          "name": "stdout"
        }
      ]
    },
    {
      "cell_type": "markdown",
      "metadata": {
        "id": "ad76eY_siUqT",
        "colab_type": "text"
      },
      "source": [
        "Random Forest cho kết quả kém hơm Decision Tree."
      ]
    },
    {
      "cell_type": "markdown",
      "metadata": {
        "id": "cPBdEVmvlL3e",
        "colab_type": "text"
      },
      "source": [
        "## Gradient Boosting"
      ]
    },
    {
      "cell_type": "code",
      "metadata": {
        "id": "lyWftXQLlJlb",
        "colab_type": "code",
        "colab": {}
      },
      "source": [
        "model = GradientBoostingClassifier()"
      ],
      "execution_count": 0,
      "outputs": []
    },
    {
      "cell_type": "code",
      "metadata": {
        "id": "YDzQo1H2lJjH",
        "colab_type": "code",
        "outputId": "33ef8c28-420f-40f8-992e-23c5a4bd5af5",
        "colab": {
          "base_uri": "https://localhost:8080/",
          "height": 187
        }
      },
      "source": [
        "model.fit(X_train, y_train)"
      ],
      "execution_count": 65,
      "outputs": [
        {
          "output_type": "execute_result",
          "data": {
            "text/plain": [
              "GradientBoostingClassifier(criterion='friedman_mse', init=None,\n",
              "                           learning_rate=0.1, loss='deviance', max_depth=3,\n",
              "                           max_features=None, max_leaf_nodes=None,\n",
              "                           min_impurity_decrease=0.0, min_impurity_split=None,\n",
              "                           min_samples_leaf=1, min_samples_split=2,\n",
              "                           min_weight_fraction_leaf=0.0, n_estimators=100,\n",
              "                           n_iter_no_change=None, presort='auto',\n",
              "                           random_state=None, subsample=1.0, tol=0.0001,\n",
              "                           validation_fraction=0.1, verbose=0,\n",
              "                           warm_start=False)"
            ]
          },
          "metadata": {
            "tags": []
          },
          "execution_count": 65
        }
      ]
    },
    {
      "cell_type": "code",
      "metadata": {
        "id": "aIdxU7CBlJgv",
        "colab_type": "code",
        "outputId": "7f057943-d55d-4afd-b77e-28a82c4c3c6d",
        "colab": {
          "base_uri": "https://localhost:8080/",
          "height": 170
        }
      },
      "source": [
        "y_pred = model.predict(X_test)\n",
        "print(classification_report(y_pred, y_test))"
      ],
      "execution_count": 66,
      "outputs": [
        {
          "output_type": "stream",
          "text": [
            "              precision    recall  f1-score   support\n",
            "\n",
            "           0       0.99      0.98      0.99    172127\n",
            "           1       0.89      0.92      0.90     22852\n",
            "\n",
            "    accuracy                           0.98    194979\n",
            "   macro avg       0.94      0.95      0.94    194979\n",
            "weighted avg       0.98      0.98      0.98    194979\n",
            "\n"
          ],
          "name": "stdout"
        }
      ]
    },
    {
      "cell_type": "markdown",
      "metadata": {
        "id": "69tClJzTw175",
        "colab_type": "text"
      },
      "source": [
        "Gradient Boosting cho kết quả khá tốt nhưng không bằng Decision Tree."
      ]
    },
    {
      "cell_type": "markdown",
      "metadata": {
        "id": "nEJgLGo1mhXe",
        "colab_type": "text"
      },
      "source": [
        "## SVM"
      ]
    },
    {
      "cell_type": "code",
      "metadata": {
        "id": "283hYdazmrhf",
        "colab_type": "code",
        "colab": {}
      },
      "source": [
        "# model = SVC()"
      ],
      "execution_count": 0,
      "outputs": []
    },
    {
      "cell_type": "code",
      "metadata": {
        "id": "_RZGmKFEmrfJ",
        "colab_type": "code",
        "colab": {}
      },
      "source": [
        "# model.fit(X_train, y_train)"
      ],
      "execution_count": 0,
      "outputs": []
    },
    {
      "cell_type": "code",
      "metadata": {
        "id": "cG23cfvCmrbQ",
        "colab_type": "code",
        "colab": {}
      },
      "source": [
        "# y_pred = model.predict(X_test)\n",
        "# print(classification_report(y_pred, y_test))"
      ],
      "execution_count": 0,
      "outputs": []
    },
    {
      "cell_type": "markdown",
      "metadata": {
        "id": "h-i1P_C2m2Uv",
        "colab_type": "text"
      },
      "source": [
        ""
      ]
    },
    {
      "cell_type": "markdown",
      "metadata": {
        "id": "DSPJTFYMiUqT",
        "colab_type": "text"
      },
      "source": [
        "# PCA"
      ]
    },
    {
      "cell_type": "code",
      "metadata": {
        "trusted": true,
        "id": "kfpz6wUIiUqU",
        "colab_type": "code",
        "outputId": "58e2485f-5db6-41b7-d2ec-a3dc87ddf9e5",
        "colab": {
          "base_uri": "https://localhost:8080/",
          "height": 51
        }
      },
      "source": [
        "pca = PCA(n_components=18)\n",
        "pca.fit(X)"
      ],
      "execution_count": 70,
      "outputs": [
        {
          "output_type": "execute_result",
          "data": {
            "text/plain": [
              "PCA(copy=True, iterated_power='auto', n_components=18, random_state=None,\n",
              "    svd_solver='auto', tol=0.0, whiten=False)"
            ]
          },
          "metadata": {
            "tags": []
          },
          "execution_count": 70
        }
      ]
    },
    {
      "cell_type": "code",
      "metadata": {
        "trusted": true,
        "id": "edmNDqRGiUqW",
        "colab_type": "code",
        "outputId": "26f9b430-01af-45ca-812a-e08d3e0f5ecd",
        "colab": {
          "base_uri": "https://localhost:8080/",
          "height": 279
        }
      },
      "source": [
        "plt.plot(np.cumsum(pca.explained_variance_ratio_))\n",
        "plt.xlabel('number of components')\n",
        "plt.ylabel('cumulative explained variance');"
      ],
      "execution_count": 71,
      "outputs": [
        {
          "output_type": "display_data",
          "data": {
            "image/png": "[encoded data removed]",
            "text/plain": [
              "<Figure size 432x288 with 1 Axes>"
            ]
          },
          "metadata": {
            "tags": []
          }
        }
      ]
    },
    {
      "cell_type": "markdown",
      "metadata": {
        "_kg_hide-output": true,
        "id": "JUMDvwq1iUqY",
        "colab_type": "text"
      },
      "source": [
        "Số chiều từ 3 trở lên đã có thể giữ được trên 97% thông tin.\n",
        "\n",
        "Ta chọn số chiều cần giảm xuống là 4."
      ]
    },
    {
      "cell_type": "code",
      "metadata": {
        "trusted": true,
        "id": "e6xLLvQaiUqZ",
        "colab_type": "code",
        "outputId": "e31d4cb6-e8ac-462d-9e75-e229a8a20bb4",
        "colab": {
          "base_uri": "https://localhost:8080/",
          "height": 34
        }
      },
      "source": [
        "pca = PCA(4)\n",
        "X_pca = pca.fit_transform(X)\n",
        "X_pca.shape"
      ],
      "execution_count": 72,
      "outputs": [
        {
          "output_type": "execute_result",
          "data": {
            "text/plain": [
              "(974891, 4)"
            ]
          },
          "metadata": {
            "tags": []
          },
          "execution_count": 72
        }
      ]
    },
    {
      "cell_type": "code",
      "metadata": {
        "trusted": true,
        "id": "AiVQBoB0iUqb",
        "colab_type": "code",
        "colab": {}
      },
      "source": [
        "X_train_pca, X_test_pca, y_train, y_test = train_test_split( X_pca, y, test_size=0.2)"
      ],
      "execution_count": 0,
      "outputs": []
    },
    {
      "cell_type": "markdown",
      "metadata": {
        "id": "tsySGffWiUqc",
        "colab_type": "text"
      },
      "source": [
        "## Naïve Bayes with PCA"
      ]
    },
    {
      "cell_type": "code",
      "metadata": {
        "trusted": true,
        "id": "qqdys2q-iUqe",
        "colab_type": "code",
        "colab": {}
      },
      "source": [
        "gnb = GaussianNB()\n",
        "model = gnb.fit(X_train_pca, y_train)"
      ],
      "execution_count": 0,
      "outputs": []
    },
    {
      "cell_type": "code",
      "metadata": {
        "trusted": true,
        "id": "XCZxs9KpiUqg",
        "colab_type": "code",
        "outputId": "bc7c756f-ab8e-47a9-aef8-54c17257a485",
        "colab": {
          "base_uri": "https://localhost:8080/",
          "height": 224
        }
      },
      "source": [
        "y_pred = model.predict(X_test_pca)\n",
        "print(classification_report(y_pred, y_test))"
      ],
      "execution_count": 75,
      "outputs": [
        {
          "output_type": "stream",
          "text": [
            "              precision    recall  f1-score   support\n",
            "\n",
            "           0       1.00      0.88      0.94    194979\n",
            "           1       0.00      0.00      0.00         0\n",
            "\n",
            "    accuracy                           0.88    194979\n",
            "   macro avg       0.50      0.44      0.47    194979\n",
            "weighted avg       1.00      0.88      0.94    194979\n",
            "\n"
          ],
          "name": "stdout"
        },
        {
          "output_type": "stream",
          "text": [
            "/usr/local/lib/python3.6/dist-packages/sklearn/metrics/classification.py:1439: UndefinedMetricWarning: Recall and F-score are ill-defined and being set to 0.0 in labels with no true samples.\n",
            "  'recall', 'true', average, warn_for)\n"
          ],
          "name": "stderr"
        }
      ]
    },
    {
      "cell_type": "markdown",
      "metadata": {
        "id": "MXXexEc2iUqi",
        "colab_type": "text"
      },
      "source": [
        "Naive Bayes cho kết quả không tốt khi cho tất cả các dự đoán đều là 0.\n",
        "\n",
        "Ta dùng Threahold để tìm kết quả tốt nhất."
      ]
    },
    {
      "cell_type": "code",
      "metadata": {
        "id": "f3o6uPACxiXk",
        "colab_type": "code",
        "colab": {}
      },
      "source": [
        "thresholds  = [0.1, 0.2, 0.3, 0.4, 0.5, 0.6, 0.7, 0.8, 0.9]"
      ],
      "execution_count": 0,
      "outputs": []
    },
    {
      "cell_type": "code",
      "metadata": {
        "id": "oy8uWGmNxjKz",
        "colab_type": "code",
        "colab": {
          "base_uri": "https://localhost:8080/",
          "height": 1000
        },
        "outputId": "79f0a83e-c186-401d-e03a-63526bed57e1"
      },
      "source": [
        "for tr in thresholds:\n",
        "    y_pred = np.where(model.predict_proba(X_test_pca)[:,1] < tr, 0, 1)\n",
        "    print(tr)\n",
        "    print(classification_report(y_pred, y_test))"
      ],
      "execution_count": 77,
      "outputs": [
        {
          "output_type": "stream",
          "text": [
            "0.1\n",
            "              precision    recall  f1-score   support\n",
            "\n",
            "           0       0.04      0.91      0.07      6679\n",
            "           1       0.97      0.12      0.22    188300\n",
            "\n",
            "    accuracy                           0.15    194979\n",
            "   macro avg       0.50      0.51      0.14    194979\n",
            "weighted avg       0.94      0.15      0.21    194979\n",
            "\n",
            "0.2\n"
          ],
          "name": "stdout"
        },
        {
          "output_type": "stream",
          "text": [
            "/usr/local/lib/python3.6/dist-packages/sklearn/metrics/classification.py:1439: UndefinedMetricWarning: Recall and F-score are ill-defined and being set to 0.0 in labels with no true samples.\n",
            "  'recall', 'true', average, warn_for)\n"
          ],
          "name": "stderr"
        },
        {
          "output_type": "stream",
          "text": [
            "              precision    recall  f1-score   support\n",
            "\n",
            "           0       1.00      0.88      0.94    194979\n",
            "           1       0.00      0.00      0.00         0\n",
            "\n",
            "    accuracy                           0.88    194979\n",
            "   macro avg       0.50      0.44      0.47    194979\n",
            "weighted avg       1.00      0.88      0.94    194979\n",
            "\n",
            "0.3\n"
          ],
          "name": "stdout"
        },
        {
          "output_type": "stream",
          "text": [
            "/usr/local/lib/python3.6/dist-packages/sklearn/metrics/classification.py:1439: UndefinedMetricWarning: Recall and F-score are ill-defined and being set to 0.0 in labels with no true samples.\n",
            "  'recall', 'true', average, warn_for)\n"
          ],
          "name": "stderr"
        },
        {
          "output_type": "stream",
          "text": [
            "              precision    recall  f1-score   support\n",
            "\n",
            "           0       1.00      0.88      0.94    194979\n",
            "           1       0.00      0.00      0.00         0\n",
            "\n",
            "    accuracy                           0.88    194979\n",
            "   macro avg       0.50      0.44      0.47    194979\n",
            "weighted avg       1.00      0.88      0.94    194979\n",
            "\n",
            "0.4\n"
          ],
          "name": "stdout"
        },
        {
          "output_type": "stream",
          "text": [
            "/usr/local/lib/python3.6/dist-packages/sklearn/metrics/classification.py:1439: UndefinedMetricWarning: Recall and F-score are ill-defined and being set to 0.0 in labels with no true samples.\n",
            "  'recall', 'true', average, warn_for)\n"
          ],
          "name": "stderr"
        },
        {
          "output_type": "stream",
          "text": [
            "              precision    recall  f1-score   support\n",
            "\n",
            "           0       1.00      0.88      0.94    194979\n",
            "           1       0.00      0.00      0.00         0\n",
            "\n",
            "    accuracy                           0.88    194979\n",
            "   macro avg       0.50      0.44      0.47    194979\n",
            "weighted avg       1.00      0.88      0.94    194979\n",
            "\n",
            "0.5\n"
          ],
          "name": "stdout"
        },
        {
          "output_type": "stream",
          "text": [
            "/usr/local/lib/python3.6/dist-packages/sklearn/metrics/classification.py:1439: UndefinedMetricWarning: Recall and F-score are ill-defined and being set to 0.0 in labels with no true samples.\n",
            "  'recall', 'true', average, warn_for)\n"
          ],
          "name": "stderr"
        },
        {
          "output_type": "stream",
          "text": [
            "              precision    recall  f1-score   support\n",
            "\n",
            "           0       1.00      0.88      0.94    194979\n",
            "           1       0.00      0.00      0.00         0\n",
            "\n",
            "    accuracy                           0.88    194979\n",
            "   macro avg       0.50      0.44      0.47    194979\n",
            "weighted avg       1.00      0.88      0.94    194979\n",
            "\n",
            "0.6\n"
          ],
          "name": "stdout"
        },
        {
          "output_type": "stream",
          "text": [
            "/usr/local/lib/python3.6/dist-packages/sklearn/metrics/classification.py:1439: UndefinedMetricWarning: Recall and F-score are ill-defined and being set to 0.0 in labels with no true samples.\n",
            "  'recall', 'true', average, warn_for)\n"
          ],
          "name": "stderr"
        },
        {
          "output_type": "stream",
          "text": [
            "              precision    recall  f1-score   support\n",
            "\n",
            "           0       1.00      0.88      0.94    194979\n",
            "           1       0.00      0.00      0.00         0\n",
            "\n",
            "    accuracy                           0.88    194979\n",
            "   macro avg       0.50      0.44      0.47    194979\n",
            "weighted avg       1.00      0.88      0.94    194979\n",
            "\n",
            "0.7\n"
          ],
          "name": "stdout"
        },
        {
          "output_type": "stream",
          "text": [
            "/usr/local/lib/python3.6/dist-packages/sklearn/metrics/classification.py:1439: UndefinedMetricWarning: Recall and F-score are ill-defined and being set to 0.0 in labels with no true samples.\n",
            "  'recall', 'true', average, warn_for)\n"
          ],
          "name": "stderr"
        },
        {
          "output_type": "stream",
          "text": [
            "              precision    recall  f1-score   support\n",
            "\n",
            "           0       1.00      0.88      0.94    194979\n",
            "           1       0.00      0.00      0.00         0\n",
            "\n",
            "    accuracy                           0.88    194979\n",
            "   macro avg       0.50      0.44      0.47    194979\n",
            "weighted avg       1.00      0.88      0.94    194979\n",
            "\n",
            "0.8\n"
          ],
          "name": "stdout"
        },
        {
          "output_type": "stream",
          "text": [
            "/usr/local/lib/python3.6/dist-packages/sklearn/metrics/classification.py:1439: UndefinedMetricWarning: Recall and F-score are ill-defined and being set to 0.0 in labels with no true samples.\n",
            "  'recall', 'true', average, warn_for)\n"
          ],
          "name": "stderr"
        },
        {
          "output_type": "stream",
          "text": [
            "              precision    recall  f1-score   support\n",
            "\n",
            "           0       1.00      0.88      0.94    194979\n",
            "           1       0.00      0.00      0.00         0\n",
            "\n",
            "    accuracy                           0.88    194979\n",
            "   macro avg       0.50      0.44      0.47    194979\n",
            "weighted avg       1.00      0.88      0.94    194979\n",
            "\n",
            "0.9\n",
            "              precision    recall  f1-score   support\n",
            "\n",
            "           0       1.00      0.88      0.94    194979\n",
            "           1       0.00      0.00      0.00         0\n",
            "\n",
            "    accuracy                           0.88    194979\n",
            "   macro avg       0.50      0.44      0.47    194979\n",
            "weighted avg       1.00      0.88      0.94    194979\n",
            "\n"
          ],
          "name": "stdout"
        },
        {
          "output_type": "stream",
          "text": [
            "/usr/local/lib/python3.6/dist-packages/sklearn/metrics/classification.py:1439: UndefinedMetricWarning: Recall and F-score are ill-defined and being set to 0.0 in labels with no true samples.\n",
            "  'recall', 'true', average, warn_for)\n"
          ],
          "name": "stderr"
        }
      ]
    },
    {
      "cell_type": "markdown",
      "metadata": {
        "id": "PduULqIIyT7c",
        "colab_type": "text"
      },
      "source": [
        "Không có giá trị Threahold nào cho kết quả tốt trên Naive Bayes.\n",
        "\n",
        "Naive Bayes không hoạt động tốt với PCA."
      ]
    },
    {
      "cell_type": "markdown",
      "metadata": {
        "id": "lSTq-0uqiUqi",
        "colab_type": "text"
      },
      "source": [
        "## Decision Tree with PCA"
      ]
    },
    {
      "cell_type": "code",
      "metadata": {
        "trusted": true,
        "id": "8kL-60DoiUqj",
        "colab_type": "code",
        "colab": {}
      },
      "source": [
        "clf = tree.DecisionTreeClassifier()\n",
        "model = clf.fit(X_train_pca, y_train)"
      ],
      "execution_count": 0,
      "outputs": []
    },
    {
      "cell_type": "code",
      "metadata": {
        "trusted": true,
        "id": "tG8Hn4NviUqk",
        "colab_type": "code",
        "colab": {
          "base_uri": "https://localhost:8080/",
          "height": 170
        },
        "outputId": "a89ebac2-3a31-4a85-e07b-b2c147f764c5"
      },
      "source": [
        "y_pred = model.predict(X_test_pca)\n",
        "print(classification_report(y_pred, y_test))"
      ],
      "execution_count": 79,
      "outputs": [
        {
          "output_type": "stream",
          "text": [
            "              precision    recall  f1-score   support\n",
            "\n",
            "           0       0.89      0.89      0.89    171305\n",
            "           1       0.24      0.24      0.24     23674\n",
            "\n",
            "    accuracy                           0.81    194979\n",
            "   macro avg       0.57      0.57      0.57    194979\n",
            "weighted avg       0.81      0.81      0.81    194979\n",
            "\n"
          ],
          "name": "stdout"
        }
      ]
    },
    {
      "cell_type": "markdown",
      "metadata": {
        "id": "5ZfBAgVniUql",
        "colab_type": "text"
      },
      "source": [
        "Tỷ lệ recall và precision khá tương đồng nhưng các dự đoán bằng 1 có độ chính xác khá thấp. \n",
        "\n",
        "Decision Tree học không tốt với PCA nhưng tốt hơn Naive Bayes."
      ]
    },
    {
      "cell_type": "code",
      "metadata": {
        "trusted": true,
        "id": "26UaIxDQiUqm",
        "colab_type": "code",
        "colab": {}
      },
      "source": [
        "# tree.plot_tree(model)"
      ],
      "execution_count": 0,
      "outputs": []
    },
    {
      "cell_type": "markdown",
      "metadata": {
        "id": "8lri6MUriUqq",
        "colab_type": "text"
      },
      "source": [
        "## Random Forest with PCA"
      ]
    },
    {
      "cell_type": "code",
      "metadata": {
        "trusted": true,
        "id": "jDsR3GW0iUqq",
        "colab_type": "code",
        "colab": {
          "base_uri": "https://localhost:8080/",
          "height": 71
        },
        "outputId": "34d4d0b7-a5c0-4597-fef5-36df1afbf7a9"
      },
      "source": [
        "clf = RandomForestClassifier()\n",
        "model = clf.fit(X_train_pca, y_train)"
      ],
      "execution_count": 81,
      "outputs": [
        {
          "output_type": "stream",
          "text": [
            "/usr/local/lib/python3.6/dist-packages/sklearn/ensemble/forest.py:245: FutureWarning: The default value of n_estimators will change from 10 in version 0.20 to 100 in 0.22.\n",
            "  \"10 in version 0.20 to 100 in 0.22.\", FutureWarning)\n"
          ],
          "name": "stderr"
        }
      ]
    },
    {
      "cell_type": "code",
      "metadata": {
        "trusted": true,
        "id": "43fSppO_iUqt",
        "colab_type": "code",
        "colab": {
          "base_uri": "https://localhost:8080/",
          "height": 170
        },
        "outputId": "30e43e8d-f9e8-4c54-bd87-a3008d65f222"
      },
      "source": [
        "y_pred = model.predict(X_test_pca)\n",
        "print(classification_report(y_pred, y_test))"
      ],
      "execution_count": 82,
      "outputs": [
        {
          "output_type": "stream",
          "text": [
            "              precision    recall  f1-score   support\n",
            "\n",
            "           0       0.98      0.89      0.93    190060\n",
            "           1       0.08      0.38      0.13      4919\n",
            "\n",
            "    accuracy                           0.87    194979\n",
            "   macro avg       0.53      0.64      0.53    194979\n",
            "weighted avg       0.96      0.87      0.91    194979\n",
            "\n"
          ],
          "name": "stdout"
        }
      ]
    },
    {
      "cell_type": "markdown",
      "metadata": {
        "id": "MG__32bZiUqv",
        "colab_type": "text"
      },
      "source": [
        "Random Forest cũng hoạt động không tốt với PCA"
      ]
    },
    {
      "cell_type": "markdown",
      "metadata": {
        "id": "Mw76u3CxiUqw",
        "colab_type": "text"
      },
      "source": [
        "Sau khi sử dụng PCA giảm số chiều về 4, Naïve Bayes và Decision Tree có độ chính xác giảm lớn hơn 10%. Đối với Random Forest có độ chính xác tốt hơn."
      ]
    },
    {
      "cell_type": "markdown",
      "metadata": {
        "id": "PnTZKnBIovBF",
        "colab_type": "text"
      },
      "source": [
        "## Gradient Boosting with PCA"
      ]
    },
    {
      "cell_type": "code",
      "metadata": {
        "id": "9Hrmzqrso0Fg",
        "colab_type": "code",
        "colab": {
          "base_uri": "https://localhost:8080/",
          "height": 187
        },
        "outputId": "0a5f427c-b613-471d-d4a6-9a990e054a8b"
      },
      "source": [
        "model = GradientBoostingClassifier()\n",
        "model.fit(X_train_pca, y_train)"
      ],
      "execution_count": 83,
      "outputs": [
        {
          "output_type": "execute_result",
          "data": {
            "text/plain": [
              "GradientBoostingClassifier(criterion='friedman_mse', init=None,\n",
              "                           learning_rate=0.1, loss='deviance', max_depth=3,\n",
              "                           max_features=None, max_leaf_nodes=None,\n",
              "                           min_impurity_decrease=0.0, min_impurity_split=None,\n",
              "                           min_samples_leaf=1, min_samples_split=2,\n",
              "                           min_weight_fraction_leaf=0.0, n_estimators=100,\n",
              "                           n_iter_no_change=None, presort='auto',\n",
              "                           random_state=None, subsample=1.0, tol=0.0001,\n",
              "                           validation_fraction=0.1, verbose=0,\n",
              "                           warm_start=False)"
            ]
          },
          "metadata": {
            "tags": []
          },
          "execution_count": 83
        }
      ]
    },
    {
      "cell_type": "code",
      "metadata": {
        "id": "H9uULXnFo0Ch",
        "colab_type": "code",
        "colab": {
          "base_uri": "https://localhost:8080/",
          "height": 170
        },
        "outputId": "0863f7e6-55d5-4298-f568-fcd406f39e53"
      },
      "source": [
        "y_pred = model.predict(X_test_pca)\n",
        "print(classification_report(y_pred, y_test))"
      ],
      "execution_count": 84,
      "outputs": [
        {
          "output_type": "stream",
          "text": [
            "              precision    recall  f1-score   support\n",
            "\n",
            "           0       1.00      0.88      0.94    194976\n",
            "           1       0.00      0.33      0.00         3\n",
            "\n",
            "    accuracy                           0.88    194979\n",
            "   macro avg       0.50      0.61      0.47    194979\n",
            "weighted avg       1.00      0.88      0.94    194979\n",
            "\n"
          ],
          "name": "stdout"
        }
      ]
    },
    {
      "cell_type": "markdown",
      "metadata": {
        "id": "qawXp-Bpo-NU",
        "colab_type": "text"
      },
      "source": [
        "Gradient Boosting cho kết quả không tốt với PCA."
      ]
    },
    {
      "cell_type": "markdown",
      "metadata": {
        "id": "jBGGpO5HouyK",
        "colab_type": "text"
      },
      "source": [
        "# SVM with PCA"
      ]
    },
    {
      "cell_type": "code",
      "metadata": {
        "id": "UPZimiEQo_G0",
        "colab_type": "code",
        "colab": {}
      },
      "source": [
        "# model = SVC()\n",
        "# model.fit(X_train_pca, y_train)"
      ],
      "execution_count": 0,
      "outputs": []
    },
    {
      "cell_type": "code",
      "metadata": {
        "id": "-kTtVQvto_Da",
        "colab_type": "code",
        "colab": {}
      },
      "source": [
        "# y_pred = model.predict(X_test_pca)\n",
        "# print(classification_report(y_pred, y_test))"
      ],
      "execution_count": 0,
      "outputs": []
    },
    {
      "cell_type": "markdown",
      "metadata": {
        "id": "h-Ne8YYYiUqw",
        "colab_type": "text"
      },
      "source": [
        "# GridsearchCV"
      ]
    },
    {
      "cell_type": "markdown",
      "metadata": {
        "id": "CNX2KG4LGPD8",
        "colab_type": "text"
      },
      "source": [
        "Sử dụng 100 000 sample để turning."
      ]
    },
    {
      "cell_type": "code",
      "metadata": {
        "id": "_IbDgI7oGB6m",
        "colab_type": "code",
        "colab": {}
      },
      "source": [
        "# X_train['Delay'] = y\n",
        "data_grid_search = X_train.sample(n=10000 , random_state=2)"
      ],
      "execution_count": 0,
      "outputs": []
    },
    {
      "cell_type": "code",
      "metadata": {
        "id": "ChiR_RtvFrOD",
        "colab_type": "code",
        "colab": {}
      },
      "source": [
        "X = data_grid_search.drop(columns=['Delay'])\n",
        "y = data_grid_search['Delay']"
      ],
      "execution_count": 0,
      "outputs": []
    },
    {
      "cell_type": "code",
      "metadata": {
        "id": "mCcNTlpmKMCt",
        "colab_type": "code",
        "colab": {}
      },
      "source": [
        "data_gr = data.sample(n=10000, random_state=2)"
      ],
      "execution_count": 0,
      "outputs": []
    },
    {
      "cell_type": "code",
      "metadata": {
        "id": "0hbAPFXaGanh",
        "colab_type": "code",
        "colab": {}
      },
      "source": [
        "X = data_gr.drop(columns=['Delay'])\n",
        "y = data_gr['Delay']\n",
        "columns = ['UniqueCarrier', 'TailNum', 'Origin', 'Dest', 'Month', 'DayofMonth', 'DayOfWeek', 'FlightNum',\n",
        "           'Cancelled', 'Diverted', 'CRSDepTime_Hours', 'CRSDepTime_Minutes', 'CRSArr_Hours','CRSArr_Minutes']\n",
        "for column in columns:\n",
        "    le = preprocessing.LabelEncoder()\n",
        "    X[column] = le.fit_transform(X[column])"
      ],
      "execution_count": 0,
      "outputs": []
    },
    {
      "cell_type": "code",
      "metadata": {
        "id": "oCi4O1fnGmld",
        "colab_type": "code",
        "colab": {}
      },
      "source": [
        "X_train_pca, X_test_pca, y_train, y_test = train_test_split( X, y, test_size=0.2)"
      ],
      "execution_count": 0,
      "outputs": []
    },
    {
      "cell_type": "code",
      "metadata": {
        "trusted": true,
        "id": "jc_TExXYiUqx",
        "colab_type": "code",
        "colab": {}
      },
      "source": [
        "from sklearn.model_selection import GridSearchCV\n",
        "from sklearn.metrics import make_scorer, accuracy_score"
      ],
      "execution_count": 0,
      "outputs": []
    },
    {
      "cell_type": "markdown",
      "metadata": {
        "id": "mpv88K80iUrY",
        "colab_type": "text"
      },
      "source": [
        "### Decision Tree GridsearchCV"
      ]
    },
    {
      "cell_type": "code",
      "metadata": {
        "trusted": true,
        "id": "K2uOOEQ7iUrb",
        "colab_type": "code",
        "colab": {
          "base_uri": "https://localhost:8080/",
          "height": 173
        },
        "outputId": "7a77bf34-5024-430e-fb11-8d3792a3caff"
      },
      "source": [
        "clf = DecisionTreeClassifier()\n",
        "parameters = {'max_features': ['log2', 'sqrt','auto'], \n",
        "              'criterion': ['entropy', 'gini'],\n",
        "              'max_depth': [ 3, 5, 7], \n",
        "              'min_samples_split': [ 2, 3, 5,],\n",
        "              'min_samples_leaf': [8, 10, 12,]\n",
        "             }\n",
        "acc_scorer = make_scorer(accuracy_score)\n",
        "\n",
        "grid_obj = GridSearchCV(clf, parameters, scoring=acc_scorer)\n",
        "grid_obj = grid_obj.fit(X_train_pca, y_train)\n",
        "\n",
        "clf = grid_obj.best_estimator_\n",
        "\n",
        "clf.fit(X_train_pca, y_train)"
      ],
      "execution_count": 181,
      "outputs": [
        {
          "output_type": "stream",
          "text": [
            "/usr/local/lib/python3.6/dist-packages/sklearn/model_selection/_split.py:1978: FutureWarning: The default value of cv will change from 3 to 5 in version 0.22. Specify it explicitly to silence this warning.\n",
            "  warnings.warn(CV_WARNING, FutureWarning)\n"
          ],
          "name": "stderr"
        },
        {
          "output_type": "execute_result",
          "data": {
            "text/plain": [
              "DecisionTreeClassifier(class_weight=None, criterion='gini', max_depth=7,\n",
              "                       max_features='auto', max_leaf_nodes=None,\n",
              "                       min_impurity_decrease=0.0, min_impurity_split=None,\n",
              "                       min_samples_leaf=12, min_samples_split=3,\n",
              "                       min_weight_fraction_leaf=0.0, presort=False,\n",
              "                       random_state=None, splitter='best')"
            ]
          },
          "metadata": {
            "tags": []
          },
          "execution_count": 181
        }
      ]
    },
    {
      "cell_type": "code",
      "metadata": {
        "trusted": true,
        "id": "08fEoV3aiUrd",
        "colab_type": "code",
        "colab": {
          "base_uri": "https://localhost:8080/",
          "height": 102
        },
        "outputId": "d0c0a5a2-22c2-406b-c206-b5d021007ddd"
      },
      "source": [
        "grid_obj.best_params_"
      ],
      "execution_count": 182,
      "outputs": [
        {
          "output_type": "execute_result",
          "data": {
            "text/plain": [
              "{'criterion': 'gini',\n",
              " 'max_depth': 7,\n",
              " 'max_features': 'auto',\n",
              " 'min_samples_leaf': 12,\n",
              " 'min_samples_split': 3}"
            ]
          },
          "metadata": {
            "tags": []
          },
          "execution_count": 182
        }
      ]
    },
    {
      "cell_type": "code",
      "metadata": {
        "trusted": true,
        "id": "IWKRdk8ziUre",
        "colab_type": "code",
        "colab": {
          "base_uri": "https://localhost:8080/",
          "height": 170
        },
        "outputId": "3c512007-809c-4bc0-c244-bdcc3ffda247"
      },
      "source": [
        "y_pred = clf.predict(X_test_pca)\n",
        "print(classification_report(y_pred, y_test))"
      ],
      "execution_count": 183,
      "outputs": [
        {
          "output_type": "stream",
          "text": [
            "              precision    recall  f1-score   support\n",
            "\n",
            "           0       0.98      0.97      0.97      1777\n",
            "           1       0.75      0.81      0.78       223\n",
            "\n",
            "    accuracy                           0.95      2000\n",
            "   macro avg       0.87      0.89      0.88      2000\n",
            "weighted avg       0.95      0.95      0.95      2000\n",
            "\n"
          ],
          "name": "stdout"
        }
      ]
    },
    {
      "cell_type": "markdown",
      "metadata": {
        "id": "ldZlRx0CiUrj",
        "colab_type": "text"
      },
      "source": [
        "GridsearchCV cho kết quả khá tốt."
      ]
    },
    {
      "cell_type": "markdown",
      "metadata": {
        "id": "HLSS_KJ-iUrk",
        "colab_type": "text"
      },
      "source": [
        "### Random Forest GridsearchCV"
      ]
    },
    {
      "cell_type": "code",
      "metadata": {
        "trusted": true,
        "id": "yX6iPQ8DiUrk",
        "colab_type": "code",
        "colab": {
          "base_uri": "https://localhost:8080/",
          "height": 190
        },
        "outputId": "058dfe37-1e7a-4b96-ef45-674d25c5e1ee"
      },
      "source": [
        "clf = RandomForestClassifier()\n",
        "parameters = {'n_estimators': [9, 12, 14, 16], \n",
        "              'max_features': ['log2', 'sqrt','auto'], \n",
        "              'criterion': ['entropy', 'gini'],\n",
        "              'max_depth': [ 10, 15, 20, 25], \n",
        "              'min_samples_split': [5, 7, 9, 11],\n",
        "              'min_samples_leaf': [1,5,8]\n",
        "             }\n",
        "acc_scorer = make_scorer(accuracy_score)\n",
        "\n",
        "grid_obj = GridSearchCV(clf, parameters, scoring=acc_scorer)\n",
        "grid_obj = grid_obj.fit(X_train_pca, y_train)\n",
        "\n",
        "clf = grid_obj.best_estimator_\n",
        "\n",
        "clf.fit(X_train_pca, y_train)"
      ],
      "execution_count": 190,
      "outputs": [
        {
          "output_type": "stream",
          "text": [
            "/usr/local/lib/python3.6/dist-packages/sklearn/model_selection/_split.py:1978: FutureWarning: The default value of cv will change from 3 to 5 in version 0.22. Specify it explicitly to silence this warning.\n",
            "  warnings.warn(CV_WARNING, FutureWarning)\n"
          ],
          "name": "stderr"
        },
        {
          "output_type": "execute_result",
          "data": {
            "text/plain": [
              "RandomForestClassifier(bootstrap=True, class_weight=None, criterion='gini',\n",
              "                       max_depth=25, max_features='sqrt', max_leaf_nodes=None,\n",
              "                       min_impurity_decrease=0.0, min_impurity_split=None,\n",
              "                       min_samples_leaf=1, min_samples_split=7,\n",
              "                       min_weight_fraction_leaf=0.0, n_estimators=14,\n",
              "                       n_jobs=None, oob_score=False, random_state=None,\n",
              "                       verbose=0, warm_start=False)"
            ]
          },
          "metadata": {
            "tags": []
          },
          "execution_count": 190
        }
      ]
    },
    {
      "cell_type": "code",
      "metadata": {
        "id": "Vvawfx2ALRsV",
        "colab_type": "code",
        "colab": {
          "base_uri": "https://localhost:8080/",
          "height": 119
        },
        "outputId": "917f7003-bfba-4403-b2d9-406144471ebd"
      },
      "source": [
        "grid_obj.best_params_"
      ],
      "execution_count": 191,
      "outputs": [
        {
          "output_type": "execute_result",
          "data": {
            "text/plain": [
              "{'criterion': 'gini',\n",
              " 'max_depth': 25,\n",
              " 'max_features': 'sqrt',\n",
              " 'min_samples_leaf': 1,\n",
              " 'min_samples_split': 7,\n",
              " 'n_estimators': 14}"
            ]
          },
          "metadata": {
            "tags": []
          },
          "execution_count": 191
        }
      ]
    },
    {
      "cell_type": "code",
      "metadata": {
        "trusted": true,
        "id": "xIKXeD7IiUrm",
        "colab_type": "code",
        "colab": {
          "base_uri": "https://localhost:8080/",
          "height": 170
        },
        "outputId": "6eb7479f-d9d1-4077-9aad-f5d5090b0e1f"
      },
      "source": [
        "y_pred = clf.predict(X_test_pca)\n",
        "print(classification_report(y_pred, y_test))"
      ],
      "execution_count": 192,
      "outputs": [
        {
          "output_type": "stream",
          "text": [
            "              precision    recall  f1-score   support\n",
            "\n",
            "           0       0.98      0.98      0.98      1769\n",
            "           1       0.82      0.85      0.84       231\n",
            "\n",
            "    accuracy                           0.96      2000\n",
            "   macro avg       0.90      0.91      0.91      2000\n",
            "weighted avg       0.96      0.96      0.96      2000\n",
            "\n"
          ],
          "name": "stdout"
        }
      ]
    },
    {
      "cell_type": "markdown",
      "metadata": {
        "id": "LZUuNEXnLn6F",
        "colab_type": "text"
      },
      "source": [
        "Random Forest đạt kết quả khá tốt khi sử dụng GridsearchCV."
      ]
    },
    {
      "cell_type": "markdown",
      "metadata": {
        "id": "pd8NzfXMB5qb",
        "colab_type": "text"
      },
      "source": [
        "### GradientBoosting GridsearchCV"
      ]
    },
    {
      "cell_type": "code",
      "metadata": {
        "id": "p3keQDC3B_eF",
        "colab_type": "code",
        "colab": {}
      },
      "source": [
        "# clf =  GradientBoostingClassifier()\n",
        "# parameters = {\n",
        "#     \"learning_rate\": [0.01, 0.03, 0.1],\n",
        "#     \"min_samples_split\": np.linspace(0.1, 0.5, 12),\n",
        "#     \"min_samples_leaf\": np.linspace(0.1, 0.5, 12),\n",
        "#     \"max_depth\":[3,5,8],\n",
        "#     \"max_features\":[\"log2\",\"sqrt\"],\n",
        "#     \"criterion\": [\"friedman_mse\",  \"mae\"],\n",
        "#     \"subsample\":[0.5, 0.85, 1.0],\n",
        "#     \"n_estimators\":[10, 30, 100]\n",
        "#     }\n",
        "# acc_scorer = make_scorer(accuracy_score)\n",
        "\n",
        "# grid_obj = GridSearchCV(clf, parameters, scoring=acc_scorer)\n",
        "# grid_obj = grid_obj.fit(X_train_pca, y_train)\n",
        "\n",
        "# clf = grid_obj.best_estimator_\n",
        "\n",
        "# clf.fit(X_train_pca, y_train)"
      ],
      "execution_count": 0,
      "outputs": []
    },
    {
      "cell_type": "code",
      "metadata": {
        "id": "tIYPdiqbB_Sv",
        "colab_type": "code",
        "colab": {}
      },
      "source": [
        "# grid_obj.best_params_"
      ],
      "execution_count": 0,
      "outputs": []
    },
    {
      "cell_type": "code",
      "metadata": {
        "id": "YBLy6NiaB4Mj",
        "colab_type": "code",
        "colab": {}
      },
      "source": [
        "# y_pred = clf.predict(X_test_pca)\n",
        "# print(classification_report(y_pred, y_test))"
      ],
      "execution_count": 0,
      "outputs": []
    },
    {
      "cell_type": "markdown",
      "metadata": {
        "id": "u16t5FjXiUro",
        "colab_type": "text"
      },
      "source": [
        "# LogisticRegression"
      ]
    },
    {
      "cell_type": "code",
      "metadata": {
        "trusted": true,
        "id": "JtFp6HzNiUrp",
        "colab_type": "code",
        "colab": {}
      },
      "source": [
        "from sklearn.linear_model import LogisticRegression\n",
        "from sklearn.metrics import recall_score"
      ],
      "execution_count": 0,
      "outputs": []
    },
    {
      "cell_type": "markdown",
      "metadata": {
        "id": "zyLpRMgDiUrs",
        "colab_type": "text"
      },
      "source": [
        "Lấy 500000 dữ liệu."
      ]
    },
    {
      "cell_type": "code",
      "metadata": {
        "trusted": true,
        "id": "n5_1YZ27iUrv",
        "colab_type": "code",
        "colab": {}
      },
      "source": [
        "data_lr = data.sample(n=500000)\n"
      ],
      "execution_count": 0,
      "outputs": []
    },
    {
      "cell_type": "code",
      "metadata": {
        "trusted": true,
        "id": "EelW7G-LiUr0",
        "colab_type": "code",
        "outputId": "ecfa6e17-769e-487f-a266-6d8bc12933bc",
        "colab": {
          "base_uri": "https://localhost:8080/",
          "height": 34
        }
      },
      "source": [
        "data_lr.shape"
      ],
      "execution_count": 202,
      "outputs": [
        {
          "output_type": "execute_result",
          "data": {
            "text/plain": [
              "(500000, 22)"
            ]
          },
          "metadata": {
            "tags": []
          },
          "execution_count": 202
        }
      ]
    },
    {
      "cell_type": "markdown",
      "metadata": {
        "id": "vIMAECVeiUr1",
        "colab_type": "text"
      },
      "source": [
        "### Convert dữ liệu dạng category về onehot encoding"
      ]
    },
    {
      "cell_type": "markdown",
      "metadata": {
        "id": "S9WVyY0giUr2",
        "colab_type": "text"
      },
      "source": [
        "Kiểm tra các giá trị unique"
      ]
    },
    {
      "cell_type": "code",
      "metadata": {
        "trusted": true,
        "id": "N0xR-hFziUr2",
        "colab_type": "code",
        "outputId": "cd4c53a9-d190-4fb6-b3b9-93335efe50e8",
        "colab": {
          "base_uri": "https://localhost:8080/",
          "height": 391
        }
      },
      "source": [
        "for column in data_lr.columns:\n",
        "    print(column, ': ', len(data_lr[column].unique()))"
      ],
      "execution_count": 203,
      "outputs": [
        {
          "output_type": "stream",
          "text": [
            "Month :  12\n",
            "DayofMonth :  31\n",
            "DayOfWeek :  7\n",
            "UniqueCarrier :  20\n",
            "FlightNum :  7424\n",
            "TailNum :  5283\n",
            "ActualElapsedTime :  467\n",
            "CRSElapsedTime :  424\n",
            "AirTime :  443\n",
            "ArrDelay :  467\n",
            "Origin :  300\n",
            "Dest :  300\n",
            "Distance :  1365\n",
            "TaxiIn :  51\n",
            "TaxiOut :  151\n",
            "Cancelled :  1\n",
            "Diverted :  1\n",
            "CRSDepTime_Hours :  23\n",
            "CRSDepTime_Minutes :  60\n",
            "CRSArr_Hours :  23\n",
            "CRSArr_Minutes :  60\n",
            "Delay :  2\n"
          ],
          "name": "stdout"
        }
      ]
    },
    {
      "cell_type": "markdown",
      "metadata": {
        "id": "GmnG7cySiUr7",
        "colab_type": "text"
      },
      "source": [
        "TailNum và FlightNum chứa nhiều giá trị unique và khổng ảnh hưởng đến kết quả nên ta sẽ loại bỏ."
      ]
    },
    {
      "cell_type": "code",
      "metadata": {
        "trusted": true,
        "id": "vdhDZ4e9iUr8",
        "colab_type": "code",
        "colab": {}
      },
      "source": [
        "data_lr.drop(columns=['TailNum', 'FlightNum'], inplace=True)"
      ],
      "execution_count": 0,
      "outputs": []
    },
    {
      "cell_type": "code",
      "metadata": {
        "trusted": true,
        "id": "BymQjThIiUr-",
        "colab_type": "code",
        "colab": {}
      },
      "source": [
        "columns = ['UniqueCarrier', 'Origin', 'Dest', 'Month', 'DayofMonth', 'DayOfWeek',\n",
        "           'Cancelled', 'Diverted', 'CRSDepTime_Hours', 'CRSDepTime_Minutes', 'CRSArr_Hours','CRSArr_Minutes']"
      ],
      "execution_count": 0,
      "outputs": []
    },
    {
      "cell_type": "markdown",
      "metadata": {
        "id": "EIRMPShhiUsI",
        "colab_type": "text"
      },
      "source": [
        "Onehot encoding"
      ]
    },
    {
      "cell_type": "code",
      "metadata": {
        "trusted": true,
        "id": "gaF8sg7hiUsI",
        "colab_type": "code",
        "colab": {}
      },
      "source": [
        "for i in columns:\n",
        "    dfDummies = pd.get_dummies(data_lr[i], prefix = i)\n",
        "    data_lr = pd.concat([data_lr, dfDummies], axis=1)\n",
        "data_lr.drop(columns = columns, inplace=True)"
      ],
      "execution_count": 0,
      "outputs": []
    },
    {
      "cell_type": "code",
      "metadata": {
        "trusted": true,
        "id": "iId_F8XfiUsW",
        "colab_type": "code",
        "outputId": "08ed6c5b-2bfd-49e8-8695-246d16117200",
        "colab": {
          "base_uri": "https://localhost:8080/",
          "height": 34
        }
      },
      "source": [
        "data_lr.shape"
      ],
      "execution_count": 207,
      "outputs": [
        {
          "output_type": "execute_result",
          "data": {
            "text/plain": [
              "(500000, 846)"
            ]
          },
          "metadata": {
            "tags": []
          },
          "execution_count": 207
        }
      ]
    },
    {
      "cell_type": "markdown",
      "metadata": {
        "id": "l5Tb6yVbl-71",
        "colab_type": "text"
      },
      "source": [
        "MinMaxScaler"
      ]
    },
    {
      "cell_type": "code",
      "metadata": {
        "id": "ZBEuA1B1l45p",
        "colab_type": "code",
        "colab": {}
      },
      "source": [
        "scaler = MinMaxScaler(feature_range=(0.1, 1))\n",
        "columns = ['ActualElapsedTime', 'CRSElapsedTime', 'AirTime', 'ArrDelay', 'Distance', 'TaxiIn', 'TaxiOut']\n",
        "data[columns] = scaler.fit_transform(data[columns])"
      ],
      "execution_count": 0,
      "outputs": []
    },
    {
      "cell_type": "code",
      "metadata": {
        "trusted": true,
        "id": "FFjirV09iUsY",
        "colab_type": "code",
        "colab": {}
      },
      "source": [
        "X = data_lr.drop(columns=['Delay'])\n",
        "y = data_lr['Delay']"
      ],
      "execution_count": 0,
      "outputs": []
    },
    {
      "cell_type": "code",
      "metadata": {
        "trusted": true,
        "id": "0zcnDLweiUsf",
        "colab_type": "code",
        "colab": {}
      },
      "source": [
        "X_train, X_test, y_train, y_test = train_test_split( X, y, test_size=0.2)"
      ],
      "execution_count": 0,
      "outputs": []
    },
    {
      "cell_type": "code",
      "metadata": {
        "trusted": true,
        "id": "CnhhdCpGiUsn",
        "colab_type": "code",
        "outputId": "7456363b-f908-4756-8639-2bdad4565103",
        "colab": {
          "base_uri": "https://localhost:8080/",
          "height": 156
        }
      },
      "source": [
        "lr = LogisticRegression(penalty = 'l2')\n",
        "lr.fit(X_train, y_train)"
      ],
      "execution_count": 211,
      "outputs": [
        {
          "output_type": "stream",
          "text": [
            "/usr/local/lib/python3.6/dist-packages/sklearn/linear_model/logistic.py:432: FutureWarning: Default solver will be changed to 'lbfgs' in 0.22. Specify a solver to silence this warning.\n",
            "  FutureWarning)\n"
          ],
          "name": "stderr"
        },
        {
          "output_type": "execute_result",
          "data": {
            "text/plain": [
              "LogisticRegression(C=1.0, class_weight=None, dual=False, fit_intercept=True,\n",
              "                   intercept_scaling=1, l1_ratio=None, max_iter=100,\n",
              "                   multi_class='warn', n_jobs=None, penalty='l2',\n",
              "                   random_state=None, solver='warn', tol=0.0001, verbose=0,\n",
              "                   warm_start=False)"
            ]
          },
          "metadata": {
            "tags": []
          },
          "execution_count": 211
        }
      ]
    },
    {
      "cell_type": "code",
      "metadata": {
        "trusted": true,
        "id": "h7G_QlwIiUsp",
        "colab_type": "code",
        "colab": {
          "base_uri": "https://localhost:8080/",
          "height": 170
        },
        "outputId": "59fbf57f-f27f-452e-c0e2-ffb08134929f"
      },
      "source": [
        "y_pred = lr.predict(X_test)\n",
        "print(classification_report(y_pred, y_test))"
      ],
      "execution_count": 212,
      "outputs": [
        {
          "output_type": "stream",
          "text": [
            "              precision    recall  f1-score   support\n",
            "\n",
            "           0       1.00      1.00      1.00     87849\n",
            "           1       1.00      1.00      1.00     12151\n",
            "\n",
            "    accuracy                           1.00    100000\n",
            "   macro avg       1.00      1.00      1.00    100000\n",
            "weighted avg       1.00      1.00      1.00    100000\n",
            "\n"
          ],
          "name": "stdout"
        }
      ]
    },
    {
      "cell_type": "markdown",
      "metadata": {
        "id": "7WTRMX337P2-",
        "colab_type": "text"
      },
      "source": [
        "Logistic Regression đạt kết quả 100% cho tất cả các sample. -> Model có thể bị overfitting."
      ]
    },
    {
      "cell_type": "markdown",
      "metadata": {
        "id": "pYo5UoDZ1nSy",
        "colab_type": "text"
      },
      "source": [
        "# LogisticRegression with PCA"
      ]
    },
    {
      "cell_type": "code",
      "metadata": {
        "id": "a-pN24iv5USC",
        "colab_type": "code",
        "colab": {}
      },
      "source": [
        "data_lr = data.sample(n=500000)"
      ],
      "execution_count": 0,
      "outputs": []
    },
    {
      "cell_type": "code",
      "metadata": {
        "id": "HHu92T9D5UPr",
        "colab_type": "code",
        "colab": {}
      },
      "source": [
        "data_lr.drop(columns=['TailNum', 'FlightNum'], inplace=True)\n",
        "columns = ['UniqueCarrier', 'Origin', 'Dest', 'Month', 'DayofMonth', 'DayOfWeek',\n",
        "           'Cancelled', 'Diverted', 'CRSDepTime_Hours', 'CRSDepTime_Minutes', 'CRSArr_Hours','CRSArr_Minutes']\n",
        "for i in columns:\n",
        "    dfDummies = pd.get_dummies(data_lr[i], prefix = i)\n",
        "    data_lr = pd.concat([data_lr, dfDummies], axis=1)\n",
        "data_lr.drop(columns = columns, inplace=True)"
      ],
      "execution_count": 0,
      "outputs": []
    },
    {
      "cell_type": "markdown",
      "metadata": {
        "id": "BNxi3agkT-oC",
        "colab_type": "text"
      },
      "source": [
        "StandardScaler"
      ]
    },
    {
      "cell_type": "code",
      "metadata": {
        "id": "H75F2Gv651lg",
        "colab_type": "code",
        "colab": {}
      },
      "source": [
        "scaler = StandardScaler()\n",
        "columns = ['ActualElapsedTime', 'CRSElapsedTime', 'AirTime', 'ArrDelay', 'Distance', 'TaxiIn', 'TaxiOut']\n",
        "data[columns] = scaler.fit_transform(data[columns])"
      ],
      "execution_count": 0,
      "outputs": []
    },
    {
      "cell_type": "code",
      "metadata": {
        "id": "b_M7co-551jM",
        "colab_type": "code",
        "colab": {}
      },
      "source": [
        "X = data_lr.drop(columns=['Delay'])\n",
        "y = data_lr['Delay']"
      ],
      "execution_count": 0,
      "outputs": []
    },
    {
      "cell_type": "code",
      "metadata": {
        "id": "ftzlejjb1vat",
        "colab_type": "code",
        "colab": {
          "base_uri": "https://localhost:8080/",
          "height": 51
        },
        "outputId": "695d394c-9d9c-4630-fece-39ebc42da925"
      },
      "source": [
        "pca = PCA(n_components=300)\n",
        "pca.fit(X)"
      ],
      "execution_count": 219,
      "outputs": [
        {
          "output_type": "execute_result",
          "data": {
            "text/plain": [
              "PCA(copy=True, iterated_power='auto', n_components=300, random_state=None,\n",
              "    svd_solver='auto', tol=0.0, whiten=False)"
            ]
          },
          "metadata": {
            "tags": []
          },
          "execution_count": 219
        }
      ]
    },
    {
      "cell_type": "code",
      "metadata": {
        "trusted": true,
        "id": "K4jMfGcRiUs0",
        "colab_type": "code",
        "colab": {
          "base_uri": "https://localhost:8080/",
          "height": 282
        },
        "outputId": "0abfd2f5-a830-42e6-aaed-b9c736f25e6d"
      },
      "source": [
        "plt.plot(np.cumsum(pca.explained_variance_ratio_))\n",
        "plt.xlabel('number of components')\n",
        "plt.ylabel('cumulative explained variance');"
      ],
      "execution_count": 220,
      "outputs": [
        {
          "output_type": "display_data",
          "data": {
            "image/png": "[encoded data removed]",
            "text/plain": [
              "<Figure size 432x288 with 1 Axes>"
            ]
          },
          "metadata": {
            "tags": []
          }
        }
      ]
    },
    {
      "cell_type": "code",
      "metadata": {
        "id": "lY8yxrAs1euk",
        "colab_type": "code",
        "colab": {
          "base_uri": "https://localhost:8080/",
          "height": 34
        },
        "outputId": "db7ebf78-3dd2-4690-d5fd-2c5abe0f50b3"
      },
      "source": [
        "pca = PCA(300)\n",
        "X_pca = pca.fit_transform(X)\n",
        "X_pca.shape"
      ],
      "execution_count": 221,
      "outputs": [
        {
          "output_type": "execute_result",
          "data": {
            "text/plain": [
              "(500000, 300)"
            ]
          },
          "metadata": {
            "tags": []
          },
          "execution_count": 221
        }
      ]
    },
    {
      "cell_type": "code",
      "metadata": {
        "id": "-xmHiEDG1esm",
        "colab_type": "code",
        "colab": {}
      },
      "source": [
        "X_train_pca, X_test_pca, y_train, y_test = train_test_split( X_pca, y, test_size=0.2)"
      ],
      "execution_count": 0,
      "outputs": []
    },
    {
      "cell_type": "code",
      "metadata": {
        "id": "Tk-cJH_61eqb",
        "colab_type": "code",
        "colab": {
          "base_uri": "https://localhost:8080/",
          "height": 156
        },
        "outputId": "4b03a861-56bd-42e1-a0a9-baf10bb585b8"
      },
      "source": [
        "lr = LogisticRegression(penalty = 'l2')\n",
        "lr.fit(X_train_pca, y_train)"
      ],
      "execution_count": 223,
      "outputs": [
        {
          "output_type": "stream",
          "text": [
            "/usr/local/lib/python3.6/dist-packages/sklearn/linear_model/logistic.py:432: FutureWarning: Default solver will be changed to 'lbfgs' in 0.22. Specify a solver to silence this warning.\n",
            "  FutureWarning)\n"
          ],
          "name": "stderr"
        },
        {
          "output_type": "execute_result",
          "data": {
            "text/plain": [
              "LogisticRegression(C=1.0, class_weight=None, dual=False, fit_intercept=True,\n",
              "                   intercept_scaling=1, l1_ratio=None, max_iter=100,\n",
              "                   multi_class='warn', n_jobs=None, penalty='l2',\n",
              "                   random_state=None, solver='warn', tol=0.0001, verbose=0,\n",
              "                   warm_start=False)"
            ]
          },
          "metadata": {
            "tags": []
          },
          "execution_count": 223
        }
      ]
    },
    {
      "cell_type": "code",
      "metadata": {
        "id": "LycuOjzW1eoU",
        "colab_type": "code",
        "colab": {
          "base_uri": "https://localhost:8080/",
          "height": 170
        },
        "outputId": "5bde7b3a-af61-4a1a-dde7-93cdac284181"
      },
      "source": [
        "y_pred = lr.predict(X_test_pca)\n",
        "print(classification_report(y_pred, y_test))"
      ],
      "execution_count": 224,
      "outputs": [
        {
          "output_type": "stream",
          "text": [
            "              precision    recall  f1-score   support\n",
            "\n",
            "           0       1.00      1.00      1.00     87867\n",
            "           1       0.98      0.99      0.99     12133\n",
            "\n",
            "    accuracy                           1.00    100000\n",
            "   macro avg       0.99      0.99      0.99    100000\n",
            "weighted avg       1.00      1.00      1.00    100000\n",
            "\n"
          ],
          "name": "stdout"
        }
      ]
    },
    {
      "cell_type": "markdown",
      "metadata": {
        "id": "H32uiCZo_aJB",
        "colab_type": "text"
      },
      "source": [
        "LogisticRegression với PCA đạt kết quả khá tốt."
      ]
    },
    {
      "cell_type": "markdown",
      "metadata": {
        "id": "4lPN8o3EiUs1",
        "colab_type": "text"
      },
      "source": [
        "# Conclusions"
      ]
    },
    {
      "cell_type": "markdown",
      "metadata": {
        "id": "dw0sQqugiUs2",
        "colab_type": "text"
      },
      "source": [
        "Naive Bayes, Decision Tree, Random Forest đều cho kết quả khá tốt khi không sử \n",
        "dụng PCA. Decision Tree cho kết quả tốt nhất.\n",
        "\n",
        "Say khi sử dụng PCA, kết quả tất cả các thuật toán đều giảm, Naive Bayes không học được gì, Decision Tree vẫn cho kết quả tốt nhất.\n",
        "\n",
        "-> Decision Tree cho kết quả tốt nhất.\n",
        "\n",
        "LogisticRegression khi không sử dụng PCA đạt kết quả 100% với cả 2 loại Delay và không Delay -> có thể bị overfitting. Sau khi sử dụng PCA số chiều giảm xuống còn 300 thì kết quả không còn tốt nữa."
      ]
    },
    {
      "cell_type": "code",
      "metadata": {
        "id": "igJv7VOYC9eQ",
        "colab_type": "code",
        "colab": {}
      },
      "source": [
        ""
      ],
      "execution_count": 0,
      "outputs": []
    }
  ]
}