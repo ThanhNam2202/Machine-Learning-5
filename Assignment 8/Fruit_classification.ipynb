{
  "nbformat": 4,
  "nbformat_minor": 0,
  "metadata": {
    "colab": {
      "name": "Fruit classification",
      "provenance": [],
      "collapsed_sections": [],
      "toc_visible": true,
      "machine_shape": "hm"
    },
    "kernelspec": {
      "name": "python3",
      "display_name": "Python 3"
    },
    "accelerator": "GPU"
  },
  "cells": [
    {
      "cell_type": "markdown",
      "metadata": {
        "id": "fpf1KGuvDYcZ",
        "colab_type": "text"
      },
      "source": [
        "- Introduction.\n",
        "    - Content.\n",
        "    - Dataset properties.\n",
        "    - Normalize data.\n",
        "\n",
        "- Visualization.\n",
        "\n",
        "- Model.\n",
        "    - Buil Model.\n",
        "    - Pretrained model + classifier.\n",
        "      - VGG16.\n",
        "        - LogisticRegression.\n",
        "        - DecisionTreeClassifier.\n",
        "        - RandomForestClassifier.\n",
        "      - VGG19.\n",
        "        - LogisticRegression.\n",
        "        - DecisionTreeClassifier.\n",
        "        - RandomForestClassifier.\n",
        "      - ResNet50.\n",
        "        - LogisticRegression.\n",
        "        - DecisionTreeClassifier.\n",
        "        - RandomForestClassifier.\n",
        "\n",
        "      - VGG16 + GlobalAveragePooling2D +  Dense.\n",
        "      - VGG19 + GlobalAveragePooling2D + Dense.\n",
        "      - Resnet50 + GlobalAveragePooling2D + Dense.\n",
        "\n",
        "- Conclusion.\n",
        "\n"
      ]
    },
    {
      "cell_type": "markdown",
      "metadata": {
        "id": "MNENi8pO18FC",
        "colab_type": "text"
      },
      "source": [
        "# Introduction"
      ]
    },
    {
      "cell_type": "markdown",
      "metadata": {
        "id": "ahrr2g-W2LiT",
        "colab_type": "text"
      },
      "source": [
        "Fruits 360 dataset: A dataset of images containing fruits and vegetables\n",
        "\n",
        "Version: 2019.09.21.0\n",
        "\n",
        "### Content\n",
        "\n",
        "The following fruits and are included: Apples (different varieties: Crimson Snow, Golden, Golden-Red, Granny Smith, Pink Lady, Red, Red Delicious), Apricot, Avocado, Avocado ripe, Banana (Yellow, Red, Lady Finger), Beetroot Red, Blueberry, Cactus fruit, Cantaloupe (2 varieties), Carambula, Cauliflower, Cherry (different varieties, Rainier), Cherry Wax (Yellow, Red, Black), Chestnut, Clementine, Cocos, Dates, Eggplant, Ginger Root, Granadilla, Grape (Blue, Pink, White (different varieties)), Grapefruit (Pink, White), Guava, Hazelnut, Huckleberry, Kiwi, Kaki, Kohlrabi, Kumsquats, Lemon (normal, Meyer), Lime, Lychee, Mandarine, Mango (Green, Red), Mangostan, Maracuja, Melon Piel de Sapo, Mulberry, Nectarine (Regular, Flat), Nut (Forest, Pecan), Onion (Red, White), Orange, Papaya, Passion fruit, Peach (different varieties), Pepino, Pear (different varieties, Abate, Forelle, Kaiser, Monster, Red, Williams), Pepper (Red, Green, Yellow), Physalis (normal, with Husk), Pineapple (normal, Mini), Pitahaya Red, Plum (different varieties), Pomegranate, Pomelo Sweetie, Potato (Red, Sweet, White), Quince, Rambutan, Raspberry, Redcurrant, Salak, Strawberry (normal, Wedge), Tamarillo, Tangelo, Tomato (different varieties, Maroon, Cherry Red, Yellow), Walnut.\n"
      ]
    },
    {
      "cell_type": "markdown",
      "metadata": {
        "id": "lx6QdmKL2U3K",
        "colab_type": "text"
      },
      "source": [
        "### Dataset properties\n",
        "\n",
        "Total number of images: 82213.\n",
        "\n",
        "Training set size: 61488 images (one fruit or vegetable per image).\n",
        "\n",
        "Test set size: 20622 images (one fruit or vegetable per image).\n",
        "\n",
        "Multi-fruits set size: 103 images (more than one fruit (or fruit class) per image)\n",
        "\n",
        "Number of classes: 120 (fruits and vegetables).\n",
        "\n",
        "Image size: 100x100 pixels.\n",
        "\n",
        "Filename format: image_index_100.jpg (e.g. 32_100.jpg) or r_image_index_100.jpg (e.g. r_32_100.jpg) or r2_image_index_100.jpg or r3_image_index_100.jpg. \"r\" stands for rotated fruit. \"r2\" means that the fruit was rotated around the 3rd axis. \"100\" comes from image size (100x100 pixels).\n",
        "\n",
        "Different varieties of the same fruit (apple for instance) are stored as belonging to different classes.\n"
      ]
    },
    {
      "cell_type": "code",
      "metadata": {
        "id": "JvbBk0r4YonC",
        "colab_type": "code",
        "colab": {
          "base_uri": "https://localhost:8080/",
          "height": 122
        },
        "outputId": "ab4af673-b672-4bc9-ba98-7dbaf6b9a014"
      },
      "source": [
        "from google.colab import drive\n",
        "drive.mount('/content/drive')"
      ],
      "execution_count": 1,
      "outputs": [
        {
          "output_type": "stream",
          "text": [
            "Go to this URL in a browser: https://accounts.google.com/o/oauth2/auth?client_id=947318989803-6bn6qk8qdgf4n4g3pfee6491hc0brc4i.apps.googleusercontent.com&redirect_uri=urn%3aietf%3awg%3aoauth%3a2.0%3aoob&response_type=code&scope=email%20https%3a%2f%2fwww.googleapis.com%2fauth%2fdocs.test%20https%3a%2f%2fwww.googleapis.com%2fauth%2fdrive%20https%3a%2f%2fwww.googleapis.com%2fauth%2fdrive.photos.readonly%20https%3a%2f%2fwww.googleapis.com%2fauth%2fpeopleapi.readonly\n",
            "\n",
            "Enter your authorization code:\n",
            "··········\n",
            "Mounted at /content/drive\n"
          ],
          "name": "stdout"
        }
      ]
    },
    {
      "cell_type": "code",
      "metadata": {
        "id": "SrtOgOtullz7",
        "colab_type": "code",
        "colab": {}
      },
      "source": [
        "!cp /content/drive/'My Drive'/'ML 5'/fruits.zip /content"
      ],
      "execution_count": 0,
      "outputs": []
    },
    {
      "cell_type": "code",
      "metadata": {
        "id": "z3p20q3jm4SB",
        "colab_type": "code",
        "colab": {}
      },
      "source": [
        "!unzip fruits.zip"
      ],
      "execution_count": 0,
      "outputs": []
    },
    {
      "cell_type": "code",
      "metadata": {
        "id": "XPB04BjZsK8s",
        "colab_type": "code",
        "outputId": "e2684bd8-6e67-4e6c-8266-c05e663152af",
        "colab": {
          "base_uri": "https://localhost:8080/",
          "height": 97
        }
      },
      "source": [
        "import os\n",
        "\n",
        "import matplotlib.pyplot as plt\n",
        "import numpy as np\n",
        "\n",
        "from keras.applications.vgg16 import VGG16\n",
        "from keras.applications.vgg19 import VGG19\n",
        "from keras.applications.resnet50 import ResNet50\n",
        "from keras.models import Sequential\n",
        "from keras.layers import Dense, Flatten, MaxPooling2D, GlobalAveragePooling2D, Conv2D\n",
        "from keras import optimizers\n",
        "from keras.utils import to_categorical\n",
        "\n",
        "from sklearn.preprocessing import LabelEncoder\n",
        "from sklearn.linear_model import LogisticRegression\n",
        "from sklearn.tree import DecisionTreeClassifier\n",
        "from sklearn.ensemble import RandomForestClassifier\n",
        "from sklearn.metrics import classification_report\n"
      ],
      "execution_count": 4,
      "outputs": [
        {
          "output_type": "stream",
          "text": [
            "Using TensorFlow backend.\n"
          ],
          "name": "stderr"
        },
        {
          "output_type": "display_data",
          "data": {
            "text/html": [
              "<p style=\"color: red;\">\n",
              "The default version of TensorFlow in Colab will soon switch to TensorFlow 2.x.<br>\n",
              "We recommend you <a href=\"https://www.tensorflow.org/guide/migrate\" target=\"_blank\">upgrade</a> now \n",
              "or ensure your notebook will continue to use TensorFlow 1.x via the <code>%tensorflow_version 1.x</code> magic:\n",
              "<a href=\"https://colab.research.google.com/notebooks/tensorflow_version.ipynb\" target=\"_blank\">more info</a>.</p>\n"
            ],
            "text/plain": [
              "<IPython.core.display.HTML object>"
            ]
          },
          "metadata": {
            "tags": []
          }
        }
      ]
    },
    {
      "cell_type": "code",
      "metadata": {
        "id": "PIoQlUpunBMs",
        "colab_type": "code",
        "colab": {}
      },
      "source": [
        "dir_train = os.listdir('/content/fruits-360_dataset/fruits-360/Training')\n",
        "dir_test = os.listdir('/content/fruits-360_dataset/fruits-360/Test')"
      ],
      "execution_count": 0,
      "outputs": []
    },
    {
      "cell_type": "code",
      "metadata": {
        "id": "B0nLWPIdCnrp",
        "colab_type": "code",
        "colab": {}
      },
      "source": [
        "dic = {}\n",
        "for d_train in dir_train:\n",
        "  dic[d_train] = 0\n",
        "  "
      ],
      "execution_count": 0,
      "outputs": []
    },
    {
      "cell_type": "code",
      "metadata": {
        "id": "CWC3NuvTno2a",
        "colab_type": "code",
        "colab": {}
      },
      "source": [
        "X_train = []\n",
        "y_train = []\n",
        "for d_train in dir_train:\n",
        "  for root, dirr, files in os.walk('/content/fruits-360_dataset/fruits-360/Training/' + '/' + d_train):\n",
        "    for file in files:\n",
        "      img = plt.imread(root + '/' + file)\n",
        "      X_train.append(img)\n",
        "      y_train.append(d_train)\n",
        "      dic[d_train] += 1"
      ],
      "execution_count": 0,
      "outputs": []
    },
    {
      "cell_type": "code",
      "metadata": {
        "id": "fTWmRWic7rLw",
        "colab_type": "code",
        "colab": {}
      },
      "source": [
        "X_test = []\n",
        "y_test = []\n",
        "for d_test in dir_test:\n",
        "  for root, dirr, files in os.walk('/content/fruits-360_dataset/fruits-360/Test/' + '/' + d_test):\n",
        "    for file in files:\n",
        "      img = plt.imread(root + '/' + file)\n",
        "      X_test.append(img)\n",
        "      y_test.append(d_test)"
      ],
      "execution_count": 0,
      "outputs": []
    },
    {
      "cell_type": "code",
      "metadata": {
        "id": "Z51tS2hx3s7o",
        "colab_type": "code",
        "outputId": "966d5707-b5eb-4b17-b44e-875ac68b45b7",
        "colab": {
          "base_uri": "https://localhost:8080/",
          "height": 68
        }
      },
      "source": [
        "print('Số sample train: ' + str(len(y_train)))\n",
        "print('Số sample test: ' + str(len(y_test)))\n",
        "print('Số loại: ' + str(len(dir_train)))"
      ],
      "execution_count": 9,
      "outputs": [
        {
          "output_type": "stream",
          "text": [
            "Số sample train: 60498\n",
            "Số sample test: 20622\n",
            "Số loại: 120\n"
          ],
          "name": "stdout"
        }
      ]
    },
    {
      "cell_type": "markdown",
      "metadata": {
        "id": "DtiRS5Mk37YA",
        "colab_type": "text"
      },
      "source": [
        "Data train gồm 60498 ảnh thuộc 120 loại\n",
        "Data test gồm 20622 ảnh thuộc 120 loại."
      ]
    },
    {
      "cell_type": "markdown",
      "metadata": {
        "id": "f_WaJ6784SSg",
        "colab_type": "text"
      },
      "source": [
        "### Normalize data\n",
        "Convert dữ liệu về khoảng 0 - 1.\n",
        "\n",
        "Convert label về onehot encoding."
      ]
    },
    {
      "cell_type": "code",
      "metadata": {
        "id": "IW8boZW_zPrg",
        "colab_type": "code",
        "colab": {}
      },
      "source": [
        "X_train = np.asarray(X_train)\n",
        "y_train = np.asarray(y_train)\n",
        "X_train = X_train / 255\n",
        "\n",
        "X_test = np.asarray(X_test)\n",
        "y_test = np.asarray(y_test)\n",
        "X_test = X_test / 255\n",
        "\n",
        "label_encoder = LabelEncoder()\n",
        "y_train_encoded = label_encoder.fit_transform(y_train)\n",
        "y_test_encoded = label_encoder.fit_transform(y_test)\n",
        "\n",
        "y_train_onehot = to_categorical(y_train_encoded)\n",
        "y_test_onehot = to_categorical(y_test_encoded)"
      ],
      "execution_count": 0,
      "outputs": []
    },
    {
      "cell_type": "markdown",
      "metadata": {
        "id": "c6k7Pi8E4bOv",
        "colab_type": "text"
      },
      "source": [
        "# Visualization"
      ]
    },
    {
      "cell_type": "code",
      "metadata": {
        "id": "J2iQphJ5slSs",
        "colab_type": "code",
        "colab": {}
      },
      "source": [
        "img_draw = []\n",
        "label_draw = []\n",
        "\n",
        "for d_train in dir_train:\n",
        "  for root, dirr, files in os.walk('/content/fruits-360_dataset/fruits-360/Training/' + '/' + d_train):\n",
        "    for file in files:\n",
        "      img = plt.imread(root + '/' + file)\n",
        "      img_draw.append(img)\n",
        "      label_draw.append(d_train)\n",
        "      break"
      ],
      "execution_count": 0,
      "outputs": []
    },
    {
      "cell_type": "code",
      "metadata": {
        "id": "HXMELGAcBh5q",
        "colab_type": "code",
        "outputId": "be61078c-8994-4c06-ae50-5832f9b85504",
        "colab": {
          "base_uri": "https://localhost:8080/",
          "height": 265
        }
      },
      "source": [
        "plt.bar(range(len(dic)), list(dic.values()), align='center')\n",
        "# plt.xticks(range(len(dic)), list(dic.keys()))\n",
        "plt.show()"
      ],
      "execution_count": 0,
      "outputs": [
        {
          "output_type": "display_data",
          "data": {
            "image/png": "[encoded data removed]",
            "text/plain": [
              "<Figure size 432x288 with 1 Axes>"
            ]
          },
          "metadata": {
            "tags": []
          }
        }
      ]
    },
    {
      "cell_type": "markdown",
      "metadata": {
        "id": "3OvlkzYbBj6I",
        "colab_type": "text"
      },
      "source": [
        "Số lượng ảnh của các loại là tương đối cân bằng, chỉ có 1 số ít là lớn hơn hoặc nhỏ hơn vượt trội so với các loại khác."
      ]
    },
    {
      "cell_type": "code",
      "metadata": {
        "id": "iSZrcrtvswCC",
        "colab_type": "code",
        "outputId": "cc22e86f-8017-4363-ee23-7db1081eb60f",
        "colab": {
          "base_uri": "https://localhost:8080/",
          "height": 574
        }
      },
      "source": [
        "_, axs = plt.subplots(12, 10, figsize=(10, 10))\n",
        "axs = axs.flatten()\n",
        "for img, ax, lab in zip(img_draw, axs, label_draw):\n",
        "    ax.imshow(img)\n",
        "    ax.set_label(lab) \n",
        "    ax.axis('off')\n",
        "    # ax.title.set_text(lab)\n",
        "plt.show()"
      ],
      "execution_count": 0,
      "outputs": [
        {
          "output_type": "display_data",
          "data": {
            "image/png": "[encoded data removed]",
            "text/plain": [
              "<Figure size 720x720 with 120 Axes>"
            ]
          },
          "metadata": {
            "tags": []
          }
        }
      ]
    },
    {
      "cell_type": "markdown",
      "metadata": {
        "id": "x9n5pV-54viR",
        "colab_type": "text"
      },
      "source": [
        "# Model"
      ]
    },
    {
      "cell_type": "markdown",
      "metadata": {
        "id": "1oOjGIrCSxQ9",
        "colab_type": "text"
      },
      "source": [
        "### Build Model"
      ]
    },
    {
      "cell_type": "code",
      "metadata": {
        "id": "hHTYtxiCbWnn",
        "colab_type": "code",
        "colab": {}
      },
      "source": [
        "input_shape = X_train[0].shape"
      ],
      "execution_count": 0,
      "outputs": []
    },
    {
      "cell_type": "code",
      "metadata": {
        "id": "cFnZKe-qYIXH",
        "colab_type": "code",
        "colab": {}
      },
      "source": [
        "model = Sequential()\n",
        "model.add(Conv2D(32, kernel_size=(3, 3), strides=(1, 1),\n",
        "                 activation='relu',\n",
        "                 input_shape=input_shape))\n",
        "model.add(Conv2D(32, (3, 3), activation='relu'))\n",
        "model.add(MaxPooling2D(pool_size=(2, 2)))\n",
        "model.add(Conv2D(64, (3, 3), activation='relu'))\n",
        "model.add(Conv2D(64, (3, 3), activation='relu'))\n",
        "model.add(Conv2D(64, (3, 3), activation='relu'))\n",
        "model.add(MaxPooling2D(pool_size=(2, 2)))\n",
        "model.add(Conv2D(128, (3, 3), activation='relu'))\n",
        "model.add(MaxPooling2D(pool_size=(2, 2)))\n",
        "model.add(Conv2D(128, (3, 3), activation='relu'))\n",
        "model.add(GlobalAveragePooling2D())\n",
        "model.add(Dense(120, activation='relu'))\n",
        "model.add(Dense(120, activation='softmax'))"
      ],
      "execution_count": 0,
      "outputs": []
    },
    {
      "cell_type": "code",
      "metadata": {
        "id": "Xy1ZP7wkYIU_",
        "colab_type": "code",
        "colab": {
          "base_uri": "https://localhost:8080/",
          "height": 595
        },
        "outputId": "f5130d44-3079-4cb3-a20e-78c8762a70ed"
      },
      "source": [
        "model.summary()"
      ],
      "execution_count": 142,
      "outputs": [
        {
          "output_type": "stream",
          "text": [
            "Model: \"sequential_32\"\n",
            "_________________________________________________________________\n",
            "Layer (type)                 Output Shape              Param #   \n",
            "=================================================================\n",
            "conv2d_207 (Conv2D)          (None, 98, 98, 32)        896       \n",
            "_________________________________________________________________\n",
            "conv2d_208 (Conv2D)          (None, 96, 96, 32)        9248      \n",
            "_________________________________________________________________\n",
            "max_pooling2d_61 (MaxPooling (None, 48, 48, 32)        0         \n",
            "_________________________________________________________________\n",
            "conv2d_209 (Conv2D)          (None, 46, 46, 64)        18496     \n",
            "_________________________________________________________________\n",
            "conv2d_210 (Conv2D)          (None, 44, 44, 64)        36928     \n",
            "_________________________________________________________________\n",
            "conv2d_211 (Conv2D)          (None, 42, 42, 64)        36928     \n",
            "_________________________________________________________________\n",
            "max_pooling2d_62 (MaxPooling (None, 21, 21, 64)        0         \n",
            "_________________________________________________________________\n",
            "conv2d_212 (Conv2D)          (None, 19, 19, 128)       73856     \n",
            "_________________________________________________________________\n",
            "max_pooling2d_63 (MaxPooling (None, 9, 9, 128)         0         \n",
            "_________________________________________________________________\n",
            "conv2d_213 (Conv2D)          (None, 7, 7, 128)         147584    \n",
            "_________________________________________________________________\n",
            "global_average_pooling2d_24  (None, 128)               0         \n",
            "_________________________________________________________________\n",
            "dense_52 (Dense)             (None, 120)               15480     \n",
            "_________________________________________________________________\n",
            "dense_53 (Dense)             (None, 120)               14520     \n",
            "=================================================================\n",
            "Total params: 353,936\n",
            "Trainable params: 353,936\n",
            "Non-trainable params: 0\n",
            "_________________________________________________________________\n"
          ],
          "name": "stdout"
        }
      ]
    },
    {
      "cell_type": "code",
      "metadata": {
        "id": "jkc0w0MvYISt",
        "colab_type": "code",
        "colab": {}
      },
      "source": [
        "model.compile(optimizer=optimizers.SGD(lr=1e-3, momentum=0.9), loss='categorical_crossentropy', metrics=['accuracy'])"
      ],
      "execution_count": 0,
      "outputs": []
    },
    {
      "cell_type": "code",
      "metadata": {
        "id": "2X4StK1bYIQi",
        "colab_type": "code",
        "colab": {
          "base_uri": "https://localhost:8080/",
          "height": 241
        },
        "outputId": "9995e48a-97d5-4775-b076-403ae1328325"
      },
      "source": [
        "model.fit(X_train, y_train_onehot, validation_data=(X_test, y_test_onehot), epochs=5)"
      ],
      "execution_count": 144,
      "outputs": [
        {
          "output_type": "stream",
          "text": [
            "Train on 60498 samples, validate on 20622 samples\n",
            "Epoch 1/5\n",
            "60498/60498 [==============================] - 46s 754us/step - loss: 4.3750 - acc: 0.0542 - val_loss: 2.8316 - val_acc: 0.2307\n",
            "Epoch 2/5\n",
            "60498/60498 [==============================] - 43s 716us/step - loss: 1.1781 - acc: 0.6431 - val_loss: 0.6215 - val_acc: 0.7954\n",
            "Epoch 3/5\n",
            "60498/60498 [==============================] - 43s 717us/step - loss: 0.2706 - acc: 0.9104 - val_loss: 0.2921 - val_acc: 0.9122\n",
            "Epoch 4/5\n",
            "60498/60498 [==============================] - 44s 722us/step - loss: 0.1093 - acc: 0.9638 - val_loss: 0.2375 - val_acc: 0.9226\n",
            "Epoch 5/5\n",
            "60498/60498 [==============================] - 43s 714us/step - loss: 0.0727 - acc: 0.9774 - val_loss: 0.1966 - val_acc: 0.9469\n"
          ],
          "name": "stdout"
        },
        {
          "output_type": "execute_result",
          "data": {
            "text/plain": [
              "<keras.callbacks.History at 0x7f1ea6aedf98>"
            ]
          },
          "metadata": {
            "tags": []
          },
          "execution_count": 144
        }
      ]
    },
    {
      "cell_type": "code",
      "metadata": {
        "id": "Q0dPZL63ZC7s",
        "colab_type": "code",
        "colab": {
          "base_uri": "https://localhost:8080/",
          "height": 241
        },
        "outputId": "6d9b6261-3f77-4aad-cedb-f3213d71d850"
      },
      "source": [
        "model.fit(X_train, y_train_onehot, validation_data=(X_test, y_test_onehot), epochs=5)"
      ],
      "execution_count": 145,
      "outputs": [
        {
          "output_type": "stream",
          "text": [
            "Train on 60498 samples, validate on 20622 samples\n",
            "Epoch 1/5\n",
            "60498/60498 [==============================] - 43s 719us/step - loss: 0.0453 - acc: 0.9870 - val_loss: 0.1563 - val_acc: 0.9561\n",
            "Epoch 2/5\n",
            "60498/60498 [==============================] - 43s 714us/step - loss: 0.0357 - acc: 0.9889 - val_loss: 0.1291 - val_acc: 0.9662\n",
            "Epoch 3/5\n",
            "60498/60498 [==============================] - 43s 715us/step - loss: 0.0391 - acc: 0.9889 - val_loss: 0.0932 - val_acc: 0.9729\n",
            "Epoch 4/5\n",
            "60498/60498 [==============================] - 43s 715us/step - loss: 0.0176 - acc: 0.9948 - val_loss: 0.1536 - val_acc: 0.9584\n",
            "Epoch 5/5\n",
            "60498/60498 [==============================] - 43s 718us/step - loss: 0.0210 - acc: 0.9946 - val_loss: 0.0852 - val_acc: 0.9775\n"
          ],
          "name": "stdout"
        },
        {
          "output_type": "execute_result",
          "data": {
            "text/plain": [
              "<keras.callbacks.History at 0x7f1ea6a34be0>"
            ]
          },
          "metadata": {
            "tags": []
          },
          "execution_count": 145
        }
      ]
    },
    {
      "cell_type": "code",
      "metadata": {
        "id": "caH3tuKeZC5g",
        "colab_type": "code",
        "colab": {}
      },
      "source": [
        "preds = model3.predict(X_test)"
      ],
      "execution_count": 0,
      "outputs": []
    },
    {
      "cell_type": "code",
      "metadata": {
        "id": "RULcmtbNacqO",
        "colab_type": "code",
        "colab": {}
      },
      "source": [
        "predict = np.argmax(preds, axis=1)"
      ],
      "execution_count": 0,
      "outputs": []
    },
    {
      "cell_type": "code",
      "metadata": {
        "id": "vn1B1iNwacoI",
        "colab_type": "code",
        "colab": {
          "base_uri": "https://localhost:8080/",
          "height": 1000
        },
        "outputId": "5e4ce62f-d265-437d-9812-bf04b5915a38"
      },
      "source": [
        "print(classification_report(y_test_encoded, predict))"
      ],
      "execution_count": 148,
      "outputs": [
        {
          "output_type": "stream",
          "text": [
            "              precision    recall  f1-score   support\n",
            "\n",
            "           0       0.80      0.95      0.87       164\n",
            "           1       0.84      0.77      0.81       148\n",
            "           2       1.00      0.95      0.97       164\n",
            "           3       1.00      1.00      1.00       164\n",
            "           4       0.95      1.00      0.98       161\n",
            "           5       1.00      1.00      1.00       164\n",
            "           6       0.77      1.00      0.87       152\n",
            "           7       0.78      0.79      0.79       164\n",
            "           8       0.95      0.88      0.91       164\n",
            "           9       0.79      0.91      0.85       144\n",
            "          10       1.00      1.00      1.00       166\n",
            "          11       1.00      0.74      0.85       164\n",
            "          12       1.00      1.00      1.00       219\n",
            "          13       0.74      1.00      0.85       164\n",
            "          14       1.00      1.00      1.00       143\n",
            "          15       1.00      1.00      1.00       166\n",
            "          16       1.00      1.00      1.00       166\n",
            "          17       0.94      1.00      0.97       152\n",
            "          18       1.00      0.93      0.96       166\n",
            "          19       0.88      0.80      0.84       150\n",
            "          20       1.00      1.00      1.00       154\n",
            "          21       0.99      1.00      1.00       166\n",
            "          22       1.00      1.00      1.00       164\n",
            "          23       0.91      0.99      0.95       164\n",
            "          24       1.00      0.93      0.96       166\n",
            "          25       1.00      1.00      1.00       234\n",
            "          26       1.00      1.00      1.00       164\n",
            "          27       1.00      1.00      1.00       246\n",
            "          28       1.00      0.93      0.96       246\n",
            "          29       1.00      1.00      1.00       164\n",
            "          30       1.00      1.00      1.00       164\n",
            "          31       1.00      1.00      1.00       164\n",
            "          32       0.98      0.95      0.97       153\n",
            "          33       1.00      0.65      0.79       166\n",
            "          34       1.00      0.95      0.98       166\n",
            "          35       1.00      1.00      1.00       166\n",
            "          36       0.96      0.62      0.75       156\n",
            "          37       0.89      1.00      0.94        99\n",
            "          38       1.00      1.00      1.00       166\n",
            "          39       1.00      1.00      1.00       328\n",
            "          40       1.00      1.00      1.00       164\n",
            "          41       0.99      1.00      1.00       166\n",
            "          42       1.00      1.00      1.00       166\n",
            "          43       1.00      1.00      1.00       164\n",
            "          44       1.00      1.00      1.00       158\n",
            "          45       1.00      1.00      1.00       166\n",
            "          46       1.00      1.00      1.00       164\n",
            "          47       1.00      1.00      1.00       166\n",
            "          48       1.00      1.00      1.00       157\n",
            "          49       1.00      1.00      1.00       166\n",
            "          50       1.00      1.00      1.00       166\n",
            "          51       1.00      1.00      1.00       156\n",
            "          52       1.00      1.00      1.00       157\n",
            "          53       1.00      1.00      1.00       166\n",
            "          54       1.00      1.00      1.00       164\n",
            "          55       1.00      1.00      1.00       166\n",
            "          56       0.97      1.00      0.99       166\n",
            "          57       1.00      1.00      1.00       166\n",
            "          58       1.00      1.00      1.00       166\n",
            "          59       1.00      1.00      1.00       166\n",
            "          60       1.00      0.77      0.87       142\n",
            "          61       1.00      1.00      1.00       102\n",
            "          62       1.00      1.00      1.00       166\n",
            "          63       0.95      1.00      0.97       246\n",
            "          64       1.00      1.00      1.00       164\n",
            "          65       0.82      0.59      0.69       164\n",
            "          66       0.85      1.00      0.92       160\n",
            "          67       0.95      1.00      0.98       218\n",
            "          68       0.93      1.00      0.96       178\n",
            "          69       0.84      1.00      0.91       150\n",
            "          70       0.84      0.99      0.91       155\n",
            "          71       1.00      1.00      1.00       146\n",
            "          72       1.00      1.00      1.00       160\n",
            "          73       1.00      1.00      1.00       164\n",
            "          74       1.00      1.00      1.00       166\n",
            "          75       1.00      1.00      1.00       164\n",
            "          76       0.89      1.00      0.94       246\n",
            "          77       1.00      1.00      1.00       164\n",
            "          78       1.00      1.00      1.00       164\n",
            "          79       1.00      0.92      0.96       166\n",
            "          80       1.00      1.00      1.00       234\n",
            "          81       0.93      1.00      0.96       102\n",
            "          82       1.00      0.96      0.98       166\n",
            "          83       0.96      0.96      0.96       222\n",
            "          84       1.00      1.00      1.00       166\n",
            "          85       0.99      1.00      1.00       166\n",
            "          86       0.91      1.00      0.95       148\n",
            "          87       1.00      1.00      1.00       222\n",
            "          88       1.00      1.00      1.00       222\n",
            "          89       1.00      1.00      1.00       164\n",
            "          90       1.00      0.99      1.00       164\n",
            "          91       1.00      1.00      1.00       166\n",
            "          92       1.00      1.00      1.00       163\n",
            "          93       1.00      0.89      0.94       166\n",
            "          94       1.00      1.00      1.00       151\n",
            "          95       1.00      1.00      1.00       142\n",
            "          96       0.92      1.00      0.95       304\n",
            "          97       1.00      0.85      0.92       164\n",
            "          98       1.00      1.00      1.00       153\n",
            "          99       0.90      1.00      0.95       150\n",
            "         100       1.00      0.81      0.89       151\n",
            "         101       1.00      0.89      0.94       150\n",
            "         102       1.00      0.92      0.96       150\n",
            "         103       1.00      1.00      1.00       166\n",
            "         104       1.00      1.00      1.00       164\n",
            "         105       1.00      1.00      1.00       166\n",
            "         106       1.00      1.00      1.00       164\n",
            "         107       0.85      1.00      0.92       162\n",
            "         108       1.00      1.00      1.00       164\n",
            "         109       1.00      0.99      0.99       246\n",
            "         110       1.00      1.00      1.00       166\n",
            "         111       1.00      1.00      1.00       166\n",
            "         112       1.00      1.00      1.00       246\n",
            "         113       0.99      1.00      1.00       225\n",
            "         114       1.00      1.00      1.00       246\n",
            "         115       1.00      0.99      0.99       160\n",
            "         116       1.00      1.00      1.00       164\n",
            "         117       1.00      1.00      1.00       127\n",
            "         118       1.00      1.00      1.00       153\n",
            "         119       1.00      1.00      1.00       249\n",
            "\n",
            "    accuracy                           0.97     20622\n",
            "   macro avg       0.97      0.97      0.97     20622\n",
            "weighted avg       0.97      0.97      0.97     20622\n",
            "\n"
          ],
          "name": "stdout"
        }
      ]
    },
    {
      "cell_type": "markdown",
      "metadata": {
        "id": "5RVxSwHAbDFA",
        "colab_type": "text"
      },
      "source": [
        "Model cho kết quả khá tốt, đạt 97% chỉ sau 10 Epochs."
      ]
    },
    {
      "cell_type": "code",
      "metadata": {
        "id": "UC82ng85XYTj",
        "colab_type": "code",
        "colab": {}
      },
      "source": [
        "# label_encoder.inverse_transform(predict)"
      ],
      "execution_count": 0,
      "outputs": []
    },
    {
      "cell_type": "markdown",
      "metadata": {
        "id": "V7i90Z6S80LY",
        "colab_type": "text"
      },
      "source": [
        "## Pretrained model + classifier"
      ]
    },
    {
      "cell_type": "markdown",
      "metadata": {
        "id": "4K88hsn04x2P",
        "colab_type": "text"
      },
      "source": [
        "### VGG16"
      ]
    },
    {
      "cell_type": "code",
      "metadata": {
        "id": "dAPlobQ-ubAE",
        "colab_type": "code",
        "colab": {}
      },
      "source": [
        "model_vgg16 = VGG16(include_top=False, weights='imagenet', input_shape =(100, 100, 3), pooling='avg')"
      ],
      "execution_count": 0,
      "outputs": []
    },
    {
      "cell_type": "code",
      "metadata": {
        "id": "YLgBGLfcynoc",
        "colab_type": "code",
        "outputId": "006c362b-bd85-4839-d1e0-9f8ea8fde2a3",
        "colab": {
          "base_uri": "https://localhost:8080/",
          "height": 833
        }
      },
      "source": [
        "model_vgg16.summary()"
      ],
      "execution_count": 0,
      "outputs": [
        {
          "output_type": "stream",
          "text": [
            "Model: \"vgg16\"\n",
            "_________________________________________________________________\n",
            "Layer (type)                 Output Shape              Param #   \n",
            "=================================================================\n",
            "input_1 (InputLayer)         (None, 100, 100, 3)       0         \n",
            "_________________________________________________________________\n",
            "block1_conv1 (Conv2D)        (None, 100, 100, 64)      1792      \n",
            "_________________________________________________________________\n",
            "block1_conv2 (Conv2D)        (None, 100, 100, 64)      36928     \n",
            "_________________________________________________________________\n",
            "block1_pool (MaxPooling2D)   (None, 50, 50, 64)        0         \n",
            "_________________________________________________________________\n",
            "block2_conv1 (Conv2D)        (None, 50, 50, 128)       73856     \n",
            "_________________________________________________________________\n",
            "block2_conv2 (Conv2D)        (None, 50, 50, 128)       147584    \n",
            "_________________________________________________________________\n",
            "block2_pool (MaxPooling2D)   (None, 25, 25, 128)       0         \n",
            "_________________________________________________________________\n",
            "block3_conv1 (Conv2D)        (None, 25, 25, 256)       295168    \n",
            "_________________________________________________________________\n",
            "block3_conv2 (Conv2D)        (None, 25, 25, 256)       590080    \n",
            "_________________________________________________________________\n",
            "block3_conv3 (Conv2D)        (None, 25, 25, 256)       590080    \n",
            "_________________________________________________________________\n",
            "block3_pool (MaxPooling2D)   (None, 12, 12, 256)       0         \n",
            "_________________________________________________________________\n",
            "block4_conv1 (Conv2D)        (None, 12, 12, 512)       1180160   \n",
            "_________________________________________________________________\n",
            "block4_conv2 (Conv2D)        (None, 12, 12, 512)       2359808   \n",
            "_________________________________________________________________\n",
            "block4_conv3 (Conv2D)        (None, 12, 12, 512)       2359808   \n",
            "_________________________________________________________________\n",
            "block4_pool (MaxPooling2D)   (None, 6, 6, 512)         0         \n",
            "_________________________________________________________________\n",
            "block5_conv1 (Conv2D)        (None, 6, 6, 512)         2359808   \n",
            "_________________________________________________________________\n",
            "block5_conv2 (Conv2D)        (None, 6, 6, 512)         2359808   \n",
            "_________________________________________________________________\n",
            "block5_conv3 (Conv2D)        (None, 6, 6, 512)         2359808   \n",
            "_________________________________________________________________\n",
            "block5_pool (MaxPooling2D)   (None, 3, 3, 512)         0         \n",
            "_________________________________________________________________\n",
            "global_average_pooling2d_1 ( (None, 512)               0         \n",
            "=================================================================\n",
            "Total params: 14,714,688\n",
            "Trainable params: 14,714,688\n",
            "Non-trainable params: 0\n",
            "_________________________________________________________________\n"
          ],
          "name": "stdout"
        }
      ]
    },
    {
      "cell_type": "code",
      "metadata": {
        "id": "pQIWdJlTW_q2",
        "colab_type": "code",
        "outputId": "f172598e-8092-4f94-d8b5-ac5e1d99dbfa",
        "colab": {
          "base_uri": "https://localhost:8080/",
          "height": 51
        }
      },
      "source": [
        "train_vgg16 = model_vgg16.predict(X_train, batch_size=32, verbose=1)\n",
        "valid_vgg16 = model_vgg16.predict(X_test, batch_size=32, verbose=1)"
      ],
      "execution_count": 0,
      "outputs": [
        {
          "output_type": "stream",
          "text": [
            "60498/60498 [==============================] - 44s 729us/step\n",
            "20622/20622 [==============================] - 14s 696us/step\n"
          ],
          "name": "stdout"
        }
      ]
    },
    {
      "cell_type": "markdown",
      "metadata": {
        "id": "yWR7zjhr0BF9",
        "colab_type": "text"
      },
      "source": [
        "#### LogisticRegression"
      ]
    },
    {
      "cell_type": "code",
      "metadata": {
        "id": "qXZ-cDC6atcO",
        "colab_type": "code",
        "colab": {}
      },
      "source": [
        "logreg = LogisticRegression(multi_class='multinomial', solver='lbfgs')"
      ],
      "execution_count": 0,
      "outputs": []
    },
    {
      "cell_type": "code",
      "metadata": {
        "id": "-r1AL6iea_HQ",
        "colab_type": "code",
        "outputId": "f04bbec4-6979-4875-ade7-c90398607547",
        "colab": {
          "base_uri": "https://localhost:8080/",
          "height": 156
        }
      },
      "source": [
        "logreg.fit(train_vgg16, y_train)"
      ],
      "execution_count": 0,
      "outputs": [
        {
          "output_type": "stream",
          "text": [
            "/usr/local/lib/python3.6/dist-packages/sklearn/linear_model/logistic.py:947: ConvergenceWarning: lbfgs failed to converge. Increase the number of iterations.\n",
            "  \"of iterations.\", ConvergenceWarning)\n"
          ],
          "name": "stderr"
        },
        {
          "output_type": "execute_result",
          "data": {
            "text/plain": [
              "LogisticRegression(C=1.0, class_weight=None, dual=False, fit_intercept=True,\n",
              "                   intercept_scaling=1, l1_ratio=None, max_iter=100,\n",
              "                   multi_class='multinomial', n_jobs=None, penalty='l2',\n",
              "                   random_state=None, solver='lbfgs', tol=0.0001, verbose=0,\n",
              "                   warm_start=False)"
            ]
          },
          "metadata": {
            "tags": []
          },
          "execution_count": 16
        }
      ]
    },
    {
      "cell_type": "code",
      "metadata": {
        "id": "3icHKDOzbCoE",
        "colab_type": "code",
        "colab": {}
      },
      "source": [
        "valid_preds = logreg.predict(valid_vgg16)"
      ],
      "execution_count": 0,
      "outputs": []
    },
    {
      "cell_type": "code",
      "metadata": {
        "id": "9WGehqeQc-ls",
        "colab_type": "code",
        "outputId": "9f78007e-14b6-4054-a277-1efa3d81b123",
        "colab": {
          "base_uri": "https://localhost:8080/",
          "height": 1000
        }
      },
      "source": [
        "print(classification_report(y_test, valid_preds))"
      ],
      "execution_count": 0,
      "outputs": [
        {
          "output_type": "stream",
          "text": [
            "                     precision    recall  f1-score   support\n",
            "\n",
            "     Apple Braeburn       0.95      0.88      0.91       164\n",
            " Apple Crimson Snow       0.74      0.64      0.69       148\n",
            "     Apple Golden 1       0.89      0.98      0.93       164\n",
            "     Apple Golden 2       0.97      0.94      0.96       164\n",
            "     Apple Golden 3       0.61      0.67      0.64       161\n",
            " Apple Granny Smith       0.83      0.71      0.76       164\n",
            "    Apple Pink Lady       0.64      1.00      0.78       152\n",
            "        Apple Red 1       0.85      0.99      0.92       164\n",
            "        Apple Red 2       0.88      0.79      0.84       164\n",
            "        Apple Red 3       0.99      0.97      0.98       144\n",
            "Apple Red Delicious       0.97      1.00      0.98       166\n",
            " Apple Red Yellow 1       0.98      0.88      0.93       164\n",
            " Apple Red Yellow 2       0.92      0.99      0.95       219\n",
            "            Apricot       0.92      0.82      0.87       164\n",
            "            Avocado       0.84      0.73      0.78       143\n",
            "       Avocado ripe       0.95      0.89      0.92       166\n",
            "             Banana       0.99      0.87      0.93       166\n",
            " Banana Lady Finger       0.93      0.89      0.91       152\n",
            "         Banana Red       0.99      0.97      0.98       166\n",
            "           Beetroot       0.82      0.53      0.65       150\n",
            "          Blueberry       0.85      1.00      0.92       154\n",
            "       Cactus fruit       0.90      1.00      0.95       166\n",
            "       Cantaloupe 1       1.00      1.00      1.00       164\n",
            "       Cantaloupe 2       1.00      0.99      1.00       164\n",
            "          Carambula       0.63      1.00      0.77       166\n",
            "        Cauliflower       1.00      0.92      0.96       234\n",
            "           Cherry 1       0.99      1.00      0.99       164\n",
            "           Cherry 2       0.93      0.94      0.94       246\n",
            "     Cherry Rainier       1.00      0.78      0.88       246\n",
            "   Cherry Wax Black       1.00      1.00      1.00       164\n",
            "     Cherry Wax Red       1.00      1.00      1.00       164\n",
            "  Cherry Wax Yellow       0.99      1.00      0.99       164\n",
            "           Chestnut       0.89      0.79      0.84       153\n",
            "         Clementine       1.00      0.92      0.96       166\n",
            "              Cocos       0.88      0.95      0.91       166\n",
            "              Dates       1.00      1.00      1.00       166\n",
            "           Eggplant       0.87      0.71      0.78       156\n",
            "        Ginger Root       1.00      0.98      0.99        99\n",
            "         Granadilla       0.86      1.00      0.92       166\n",
            "         Grape Blue       1.00      1.00      1.00       328\n",
            "         Grape Pink       0.99      1.00      1.00       164\n",
            "        Grape White       0.99      1.00      1.00       166\n",
            "      Grape White 2       1.00      1.00      1.00       166\n",
            "      Grape White 3       0.93      0.99      0.96       164\n",
            "      Grape White 4       0.99      1.00      1.00       158\n",
            "    Grapefruit Pink       0.96      1.00      0.98       166\n",
            "   Grapefruit White       0.96      1.00      0.98       164\n",
            "              Guava       1.00      0.97      0.98       166\n",
            "           Hazelnut       1.00      1.00      1.00       157\n",
            "        Huckleberry       1.00      1.00      1.00       166\n",
            "               Kaki       0.99      1.00      0.99       166\n",
            "               Kiwi       0.94      0.99      0.97       156\n",
            "           Kohlrabi       0.99      0.94      0.96       157\n",
            "           Kumquats       0.91      0.96      0.94       166\n",
            "              Lemon       0.77      0.82      0.79       164\n",
            "        Lemon Meyer       0.97      0.93      0.95       166\n",
            "              Limes       1.00      0.97      0.98       166\n",
            "             Lychee       0.98      1.00      0.99       166\n",
            "          Mandarine       1.00      0.93      0.97       166\n",
            "              Mango       0.76      1.00      0.86       166\n",
            "          Mango Red       0.86      0.76      0.81       142\n",
            "          Mangostan       0.63      0.87      0.73       102\n",
            "           Maracuja       0.99      1.00      1.00       166\n",
            " Melon Piel de Sapo       0.94      0.98      0.96       246\n",
            "           Mulberry       1.00      1.00      1.00       164\n",
            "          Nectarine       0.77      0.94      0.85       164\n",
            "     Nectarine Flat       0.73      0.75      0.74       160\n",
            "         Nut Forest       0.98      0.98      0.98       218\n",
            "          Nut Pecan       0.97      0.96      0.97       178\n",
            "          Onion Red       0.71      0.86      0.78       150\n",
            "   Onion Red Peeled       0.90      0.86      0.88       155\n",
            "        Onion White       0.89      0.79      0.84       146\n",
            "             Orange       0.94      1.00      0.97       160\n",
            "             Papaya       0.94      0.96      0.95       164\n",
            "      Passion Fruit       0.98      0.73      0.84       166\n",
            "              Peach       0.84      0.90      0.87       164\n",
            "            Peach 2       1.00      1.00      1.00       246\n",
            "         Peach Flat       0.89      1.00      0.94       164\n",
            "               Pear       0.73      0.80      0.77       164\n",
            "         Pear Abate       0.99      0.87      0.92       166\n",
            "       Pear Forelle       0.94      0.96      0.95       234\n",
            "        Pear Kaiser       1.00      1.00      1.00       102\n",
            "       Pear Monster       0.93      0.93      0.93       166\n",
            "           Pear Red       0.94      0.89      0.92       222\n",
            "      Pear Williams       0.99      0.88      0.93       166\n",
            "             Pepino       1.00      0.71      0.83       166\n",
            "       Pepper Green       1.00      1.00      1.00       148\n",
            "         Pepper Red       1.00      0.96      0.98       222\n",
            "      Pepper Yellow       0.89      0.95      0.92       222\n",
            "           Physalis       1.00      1.00      1.00       164\n",
            " Physalis with Husk       0.86      0.88      0.87       164\n",
            "          Pineapple       0.90      0.98      0.94       166\n",
            "     Pineapple Mini       1.00      1.00      1.00       163\n",
            "       Pitahaya Red       1.00      0.83      0.91       166\n",
            "               Plum       1.00      0.92      0.96       151\n",
            "             Plum 2       1.00      1.00      1.00       142\n",
            "             Plum 3       1.00      1.00      1.00       304\n",
            "        Pomegranate       0.81      0.77      0.79       164\n",
            "     Pomelo Sweetie       1.00      0.95      0.98       153\n",
            "         Potato Red       0.98      0.65      0.78       150\n",
            "  Potato Red Washed       0.88      0.65      0.75       151\n",
            "       Potato Sweet       0.88      0.63      0.73       150\n",
            "       Potato White       0.84      0.92      0.88       150\n",
            "             Quince       1.00      1.00      1.00       166\n",
            "           Rambutan       1.00      1.00      1.00       164\n",
            "          Raspberry       1.00      1.00      1.00       166\n",
            "         Redcurrant       0.94      1.00      0.97       164\n",
            "              Salak       0.90      1.00      0.95       162\n",
            "         Strawberry       1.00      1.00      1.00       164\n",
            "   Strawberry Wedge       1.00      0.90      0.95       246\n",
            "          Tamarillo       0.92      1.00      0.96       166\n",
            "            Tangelo       0.95      0.98      0.97       166\n",
            "           Tomato 1       0.97      0.86      0.91       246\n",
            "           Tomato 2       0.87      1.00      0.93       225\n",
            "           Tomato 3       0.80      0.86      0.83       246\n",
            "           Tomato 4       1.00      1.00      1.00       160\n",
            "  Tomato Cherry Red       1.00      1.00      1.00       164\n",
            "      Tomato Maroon       0.88      0.99      0.93       127\n",
            "      Tomato Yellow       1.00      1.00      1.00       153\n",
            "             Walnut       0.98      1.00      0.99       249\n",
            "\n",
            "           accuracy                           0.93     20622\n",
            "          macro avg       0.93      0.92      0.92     20622\n",
            "       weighted avg       0.93      0.93      0.93     20622\n",
            "\n"
          ],
          "name": "stdout"
        }
      ]
    },
    {
      "cell_type": "markdown",
      "metadata": {
        "id": "g0jHAOZXmvs9",
        "colab_type": "text"
      },
      "source": [
        "VGG16 kết hợp với LogisticRegression cho kết quả khá tốt."
      ]
    },
    {
      "cell_type": "markdown",
      "metadata": {
        "id": "g6p0rG6x0GIH",
        "colab_type": "text"
      },
      "source": [
        "#### DecisionTreeClassifier"
      ]
    },
    {
      "cell_type": "code",
      "metadata": {
        "id": "SErr0AwwyHVE",
        "colab_type": "code",
        "colab": {}
      },
      "source": [
        "decision_tree = DecisionTreeClassifier()"
      ],
      "execution_count": 0,
      "outputs": []
    },
    {
      "cell_type": "code",
      "metadata": {
        "id": "czqu8rqJ03J8",
        "colab_type": "code",
        "outputId": "d1e351ac-e979-455b-be5d-558da925af05",
        "colab": {
          "base_uri": "https://localhost:8080/",
          "height": 119
        }
      },
      "source": [
        "decision_tree.fit(train_vgg16, y_train)"
      ],
      "execution_count": 0,
      "outputs": [
        {
          "output_type": "execute_result",
          "data": {
            "text/plain": [
              "DecisionTreeClassifier(class_weight=None, criterion='gini', max_depth=None,\n",
              "                       max_features=None, max_leaf_nodes=None,\n",
              "                       min_impurity_decrease=0.0, min_impurity_split=None,\n",
              "                       min_samples_leaf=1, min_samples_split=2,\n",
              "                       min_weight_fraction_leaf=0.0, presort=False,\n",
              "                       random_state=None, splitter='best')"
            ]
          },
          "metadata": {
            "tags": []
          },
          "execution_count": 20
        }
      ]
    },
    {
      "cell_type": "code",
      "metadata": {
        "id": "lOICI_gPyHNT",
        "colab_type": "code",
        "colab": {}
      },
      "source": [
        "valid_preds = decision_tree.predict(valid_vgg16)"
      ],
      "execution_count": 0,
      "outputs": []
    },
    {
      "cell_type": "code",
      "metadata": {
        "id": "XSUY5Uk3yHCC",
        "colab_type": "code",
        "outputId": "b7e500a8-23f8-4640-8fd1-f33085e9a776",
        "colab": {
          "base_uri": "https://localhost:8080/",
          "height": 1000
        }
      },
      "source": [
        "print(classification_report(y_test, valid_preds))"
      ],
      "execution_count": 0,
      "outputs": [
        {
          "output_type": "stream",
          "text": [
            "                     precision    recall  f1-score   support\n",
            "\n",
            "     Apple Braeburn       0.43      0.52      0.48       164\n",
            " Apple Crimson Snow       0.50      0.52      0.51       148\n",
            "     Apple Golden 1       0.56      0.41      0.47       164\n",
            "     Apple Golden 2       0.66      0.79      0.72       164\n",
            "     Apple Golden 3       0.43      0.34      0.38       161\n",
            " Apple Granny Smith       0.65      0.61      0.63       164\n",
            "    Apple Pink Lady       0.57      0.64      0.60       152\n",
            "        Apple Red 1       0.58      0.51      0.54       164\n",
            "        Apple Red 2       0.48      0.54      0.50       164\n",
            "        Apple Red 3       0.50      0.49      0.49       144\n",
            "Apple Red Delicious       0.59      0.64      0.61       166\n",
            " Apple Red Yellow 1       0.38      0.32      0.35       164\n",
            " Apple Red Yellow 2       0.57      0.65      0.61       219\n",
            "            Apricot       0.78      0.68      0.73       164\n",
            "            Avocado       0.44      0.57      0.50       143\n",
            "       Avocado ripe       0.76      0.79      0.78       166\n",
            "             Banana       0.63      0.68      0.66       166\n",
            " Banana Lady Finger       0.68      0.77      0.72       152\n",
            "         Banana Red       0.79      0.42      0.55       166\n",
            "           Beetroot       0.71      0.48      0.57       150\n",
            "          Blueberry       0.88      0.72      0.79       154\n",
            "       Cactus fruit       0.73      0.85      0.78       166\n",
            "       Cantaloupe 1       0.99      0.84      0.90       164\n",
            "       Cantaloupe 2       0.65      0.57      0.61       164\n",
            "          Carambula       0.84      0.95      0.89       166\n",
            "        Cauliflower       1.00      0.96      0.98       234\n",
            "           Cherry 1       0.67      0.79      0.73       164\n",
            "           Cherry 2       0.62      0.63      0.62       246\n",
            "     Cherry Rainier       0.85      0.58      0.69       246\n",
            "   Cherry Wax Black       0.89      1.00      0.94       164\n",
            "     Cherry Wax Red       0.99      0.95      0.97       164\n",
            "  Cherry Wax Yellow       0.93      0.92      0.93       164\n",
            "           Chestnut       0.53      0.49      0.51       153\n",
            "         Clementine       0.79      0.67      0.72       166\n",
            "              Cocos       0.59      0.75      0.66       166\n",
            "              Dates       0.82      0.93      0.88       166\n",
            "           Eggplant       0.42      0.40      0.41       156\n",
            "        Ginger Root       0.97      1.00      0.99        99\n",
            "         Granadilla       0.69      0.78      0.73       166\n",
            "         Grape Blue       0.92      0.93      0.93       328\n",
            "         Grape Pink       0.63      0.68      0.65       164\n",
            "        Grape White       0.97      0.90      0.93       166\n",
            "      Grape White 2       1.00      1.00      1.00       166\n",
            "      Grape White 3       0.84      0.84      0.84       164\n",
            "      Grape White 4       0.85      0.87      0.86       158\n",
            "    Grapefruit Pink       0.69      0.70      0.70       166\n",
            "   Grapefruit White       0.77      0.74      0.76       164\n",
            "              Guava       0.70      0.61      0.65       166\n",
            "           Hazelnut       0.86      0.97      0.91       157\n",
            "        Huckleberry       0.93      0.93      0.93       166\n",
            "               Kaki       0.73      0.68      0.70       166\n",
            "               Kiwi       0.67      0.63      0.65       156\n",
            "           Kohlrabi       0.77      0.74      0.75       157\n",
            "           Kumquats       0.68      0.81      0.74       166\n",
            "              Lemon       0.37      0.55      0.44       164\n",
            "        Lemon Meyer       0.72      0.89      0.80       166\n",
            "              Limes       0.79      0.84      0.81       166\n",
            "             Lychee       0.99      0.98      0.99       166\n",
            "          Mandarine       0.89      0.70      0.78       166\n",
            "              Mango       0.64      0.76      0.69       166\n",
            "          Mango Red       0.64      0.65      0.65       142\n",
            "          Mangostan       0.37      0.63      0.47       102\n",
            "           Maracuja       0.68      0.85      0.76       166\n",
            " Melon Piel de Sapo       0.61      0.67      0.64       246\n",
            "           Mulberry       0.91      0.87      0.89       164\n",
            "          Nectarine       0.62      0.49      0.55       164\n",
            "     Nectarine Flat       0.40      0.59      0.48       160\n",
            "         Nut Forest       0.82      1.00      0.90       218\n",
            "          Nut Pecan       0.77      1.00      0.87       178\n",
            "          Onion Red       0.71      0.71      0.71       150\n",
            "   Onion Red Peeled       0.47      0.43      0.45       155\n",
            "        Onion White       0.38      0.40      0.39       146\n",
            "             Orange       0.93      1.00      0.96       160\n",
            "             Papaya       0.57      0.38      0.46       164\n",
            "      Passion Fruit       0.76      0.72      0.74       166\n",
            "              Peach       0.42      0.35      0.38       164\n",
            "            Peach 2       0.77      0.85      0.80       246\n",
            "         Peach Flat       0.41      0.49      0.45       164\n",
            "               Pear       0.60      0.70      0.64       164\n",
            "         Pear Abate       0.83      0.80      0.81       166\n",
            "       Pear Forelle       0.69      0.64      0.66       234\n",
            "        Pear Kaiser       0.82      0.75      0.79       102\n",
            "       Pear Monster       0.61      0.58      0.59       166\n",
            "           Pear Red       0.57      0.54      0.56       222\n",
            "      Pear Williams       0.59      0.54      0.56       166\n",
            "             Pepino       0.77      0.51      0.61       166\n",
            "       Pepper Green       0.72      0.60      0.65       148\n",
            "         Pepper Red       0.66      0.54      0.59       222\n",
            "      Pepper Yellow       0.57      0.56      0.57       222\n",
            "           Physalis       0.98      1.00      0.99       164\n",
            " Physalis with Husk       0.79      0.90      0.84       164\n",
            "          Pineapple       0.90      0.96      0.93       166\n",
            "     Pineapple Mini       1.00      0.93      0.97       163\n",
            "       Pitahaya Red       0.88      0.86      0.87       166\n",
            "               Plum       0.68      0.40      0.51       151\n",
            "             Plum 2       0.72      0.74      0.73       142\n",
            "             Plum 3       0.77      0.88      0.82       304\n",
            "        Pomegranate       0.66      0.63      0.65       164\n",
            "     Pomelo Sweetie       0.61      0.53      0.57       153\n",
            "         Potato Red       0.50      0.49      0.49       150\n",
            "  Potato Red Washed       0.21      0.25      0.22       151\n",
            "       Potato Sweet       0.73      0.32      0.44       150\n",
            "       Potato White       0.47      0.46      0.46       150\n",
            "             Quince       0.70      0.61      0.65       166\n",
            "           Rambutan       1.00      0.99      0.99       164\n",
            "          Raspberry       1.00      0.86      0.93       166\n",
            "         Redcurrant       0.80      0.87      0.83       164\n",
            "              Salak       0.82      0.94      0.88       162\n",
            "         Strawberry       0.86      0.68      0.76       164\n",
            "   Strawberry Wedge       0.92      0.78      0.85       246\n",
            "          Tamarillo       0.96      0.85      0.90       166\n",
            "            Tangelo       0.82      0.85      0.84       166\n",
            "           Tomato 1       0.71      0.63      0.66       246\n",
            "           Tomato 2       0.61      0.73      0.67       225\n",
            "           Tomato 3       0.60      0.50      0.54       246\n",
            "           Tomato 4       0.82      0.88      0.85       160\n",
            "  Tomato Cherry Red       0.94      0.93      0.94       164\n",
            "      Tomato Maroon       0.70      0.79      0.74       127\n",
            "      Tomato Yellow       0.65      0.81      0.72       153\n",
            "             Walnut       0.96      0.90      0.93       249\n",
            "\n",
            "           accuracy                           0.71     20622\n",
            "          macro avg       0.71      0.71      0.70     20622\n",
            "       weighted avg       0.72      0.71      0.71     20622\n",
            "\n"
          ],
          "name": "stdout"
        }
      ]
    },
    {
      "cell_type": "markdown",
      "metadata": {
        "id": "QeoLUgmH0ORa",
        "colab_type": "text"
      },
      "source": [
        "DecisionTree cho kết quả kém hơn với Logisticregression khi kết hợp với VGG16."
      ]
    },
    {
      "cell_type": "markdown",
      "metadata": {
        "id": "8C9MMi861M6c",
        "colab_type": "text"
      },
      "source": [
        "#### RandomForestClassifier"
      ]
    },
    {
      "cell_type": "code",
      "metadata": {
        "id": "JERRzprrzBCx",
        "colab_type": "code",
        "outputId": "f5672ebc-6e1f-471b-b320-f3a0f8028aac",
        "colab": {
          "base_uri": "https://localhost:8080/",
          "height": 71
        }
      },
      "source": [
        "random_forest = RandomForestClassifier()\n",
        "random_forest.fit(train_vgg16, y_train)"
      ],
      "execution_count": 0,
      "outputs": [
        {
          "output_type": "stream",
          "text": [
            "/usr/local/lib/python3.6/dist-packages/sklearn/ensemble/forest.py:245: FutureWarning: The default value of n_estimators will change from 10 in version 0.20 to 100 in 0.22.\n",
            "  \"10 in version 0.20 to 100 in 0.22.\", FutureWarning)\n"
          ],
          "name": "stderr"
        }
      ]
    },
    {
      "cell_type": "code",
      "metadata": {
        "id": "oZTbAH0xzBAk",
        "colab_type": "code",
        "colab": {}
      },
      "source": [
        "valid_preds = random_forest.predict(valid_vgg16)"
      ],
      "execution_count": 0,
      "outputs": []
    },
    {
      "cell_type": "code",
      "metadata": {
        "id": "kMOQ4d0OzA9q",
        "colab_type": "code",
        "outputId": "398a0d68-3268-465f-8ed9-87321af098d5",
        "colab": {
          "base_uri": "https://localhost:8080/",
          "height": 1000
        }
      },
      "source": [
        "print(classification_report(y_test, valid_preds))"
      ],
      "execution_count": 0,
      "outputs": [
        {
          "output_type": "stream",
          "text": [
            "                     precision    recall  f1-score   support\n",
            "\n",
            "     Apple Braeburn       0.48      0.80      0.60       164\n",
            " Apple Crimson Snow       0.58      0.74      0.65       148\n",
            "     Apple Golden 1       0.70      0.91      0.79       164\n",
            "     Apple Golden 2       0.62      0.80      0.70       164\n",
            "     Apple Golden 3       0.50      0.63      0.56       161\n",
            " Apple Granny Smith       0.74      0.69      0.71       164\n",
            "    Apple Pink Lady       0.63      0.66      0.65       152\n",
            "        Apple Red 1       0.72      0.76      0.74       164\n",
            "        Apple Red 2       0.61      0.73      0.67       164\n",
            "        Apple Red 3       0.80      0.85      0.82       144\n",
            "Apple Red Delicious       0.76      0.96      0.85       166\n",
            " Apple Red Yellow 1       0.81      0.82      0.81       164\n",
            " Apple Red Yellow 2       0.71      0.95      0.81       219\n",
            "            Apricot       0.74      0.69      0.72       164\n",
            "            Avocado       0.69      0.88      0.78       143\n",
            "       Avocado ripe       0.81      0.95      0.87       166\n",
            "             Banana       0.77      0.86      0.81       166\n",
            " Banana Lady Finger       0.84      0.95      0.90       152\n",
            "         Banana Red       0.85      0.74      0.79       166\n",
            "           Beetroot       0.73      0.54      0.62       150\n",
            "          Blueberry       0.97      0.97      0.97       154\n",
            "       Cactus fruit       0.87      0.91      0.89       166\n",
            "       Cantaloupe 1       0.99      1.00      1.00       164\n",
            "       Cantaloupe 2       0.95      0.88      0.92       164\n",
            "          Carambula       0.87      0.99      0.92       166\n",
            "        Cauliflower       0.98      0.95      0.96       234\n",
            "           Cherry 1       0.83      0.98      0.90       164\n",
            "           Cherry 2       0.78      0.94      0.85       246\n",
            "     Cherry Rainier       0.93      0.72      0.81       246\n",
            "   Cherry Wax Black       0.99      1.00      1.00       164\n",
            "     Cherry Wax Red       1.00      0.99      1.00       164\n",
            "  Cherry Wax Yellow       1.00      1.00      1.00       164\n",
            "           Chestnut       0.85      0.65      0.74       153\n",
            "         Clementine       0.94      0.82      0.87       166\n",
            "              Cocos       0.78      0.98      0.87       166\n",
            "              Dates       0.98      1.00      0.99       166\n",
            "           Eggplant       0.89      0.61      0.72       156\n",
            "        Ginger Root       0.93      1.00      0.96        99\n",
            "         Granadilla       0.94      1.00      0.97       166\n",
            "         Grape Blue       0.97      1.00      0.99       328\n",
            "         Grape Pink       0.90      0.97      0.94       164\n",
            "        Grape White       0.94      0.99      0.96       166\n",
            "      Grape White 2       1.00      1.00      1.00       166\n",
            "      Grape White 3       0.95      0.98      0.96       164\n",
            "      Grape White 4       0.95      1.00      0.97       158\n",
            "    Grapefruit Pink       0.97      1.00      0.98       166\n",
            "   Grapefruit White       0.99      0.98      0.98       164\n",
            "              Guava       0.88      0.92      0.90       166\n",
            "           Hazelnut       0.96      1.00      0.98       157\n",
            "        Huckleberry       0.95      1.00      0.98       166\n",
            "               Kaki       0.93      0.92      0.93       166\n",
            "               Kiwi       0.83      0.83      0.83       156\n",
            "           Kohlrabi       0.94      0.92      0.93       157\n",
            "           Kumquats       0.86      0.96      0.91       166\n",
            "              Lemon       0.80      0.82      0.81       164\n",
            "        Lemon Meyer       0.92      0.98      0.95       166\n",
            "              Limes       0.94      0.99      0.96       166\n",
            "             Lychee       0.99      0.98      0.99       166\n",
            "          Mandarine       0.99      0.80      0.88       166\n",
            "              Mango       0.85      0.89      0.87       166\n",
            "          Mango Red       0.92      0.74      0.82       142\n",
            "          Mangostan       0.72      0.82      0.77       102\n",
            "           Maracuja       0.96      0.94      0.95       166\n",
            " Melon Piel de Sapo       0.85      0.93      0.89       246\n",
            "           Mulberry       0.99      1.00      0.99       164\n",
            "          Nectarine       0.65      0.57      0.61       164\n",
            "     Nectarine Flat       0.78      0.72      0.75       160\n",
            "         Nut Forest       0.93      1.00      0.96       218\n",
            "          Nut Pecan       0.93      1.00      0.96       178\n",
            "          Onion Red       0.62      0.67      0.65       150\n",
            "   Onion Red Peeled       0.60      0.46      0.52       155\n",
            "        Onion White       0.61      0.47      0.53       146\n",
            "             Orange       0.97      1.00      0.98       160\n",
            "             Papaya       0.84      0.69      0.76       164\n",
            "      Passion Fruit       0.94      0.68      0.79       166\n",
            "              Peach       0.71      0.63      0.67       164\n",
            "            Peach 2       0.95      1.00      0.97       246\n",
            "         Peach Flat       0.83      0.72      0.77       164\n",
            "               Pear       0.76      0.74      0.75       164\n",
            "         Pear Abate       0.94      0.93      0.93       166\n",
            "       Pear Forelle       0.90      0.90      0.90       234\n",
            "        Pear Kaiser       0.96      0.80      0.88       102\n",
            "       Pear Monster       0.86      0.77      0.81       166\n",
            "           Pear Red       0.92      0.64      0.75       222\n",
            "      Pear Williams       0.99      0.83      0.90       166\n",
            "             Pepino       0.97      0.70      0.81       166\n",
            "       Pepper Green       0.97      0.94      0.95       148\n",
            "         Pepper Red       0.87      0.88      0.88       222\n",
            "      Pepper Yellow       0.90      0.89      0.89       222\n",
            "           Physalis       0.96      0.99      0.98       164\n",
            " Physalis with Husk       0.95      0.96      0.95       164\n",
            "          Pineapple       0.93      1.00      0.96       166\n",
            "     Pineapple Mini       1.00      1.00      1.00       163\n",
            "       Pitahaya Red       0.94      0.95      0.94       166\n",
            "               Plum       0.86      0.73      0.79       151\n",
            "             Plum 2       0.97      0.99      0.98       142\n",
            "             Plum 3       0.96      0.99      0.97       304\n",
            "        Pomegranate       0.95      0.70      0.80       164\n",
            "     Pomelo Sweetie       0.92      0.85      0.88       153\n",
            "         Potato Red       0.75      0.52      0.61       150\n",
            "  Potato Red Washed       0.81      0.58      0.68       151\n",
            "       Potato Sweet       0.77      0.55      0.64       150\n",
            "       Potato White       0.84      0.62      0.71       150\n",
            "             Quince       0.98      0.99      0.99       166\n",
            "           Rambutan       1.00      1.00      1.00       164\n",
            "          Raspberry       0.99      1.00      1.00       166\n",
            "         Redcurrant       0.97      0.99      0.98       164\n",
            "              Salak       0.94      0.99      0.96       162\n",
            "         Strawberry       0.97      0.90      0.93       164\n",
            "   Strawberry Wedge       0.99      0.94      0.96       246\n",
            "          Tamarillo       0.99      0.98      0.99       166\n",
            "            Tangelo       0.92      0.94      0.93       166\n",
            "           Tomato 1       0.87      0.70      0.77       246\n",
            "           Tomato 2       0.87      0.95      0.91       225\n",
            "           Tomato 3       0.83      0.87      0.85       246\n",
            "           Tomato 4       0.99      1.00      1.00       160\n",
            "  Tomato Cherry Red       1.00      1.00      1.00       164\n",
            "      Tomato Maroon       0.96      1.00      0.98       127\n",
            "      Tomato Yellow       0.98      1.00      0.99       153\n",
            "             Walnut       0.99      1.00      0.99       249\n",
            "\n",
            "           accuracy                           0.87     20622\n",
            "          macro avg       0.87      0.87      0.87     20622\n",
            "       weighted avg       0.88      0.87      0.87     20622\n",
            "\n"
          ],
          "name": "stdout"
        }
      ]
    },
    {
      "cell_type": "markdown",
      "metadata": {
        "id": "0peBYDkE0X9y",
        "colab_type": "text"
      },
      "source": [
        "RandomForest cho kết quả tốt hơn DecisionTree, không tốt bằng LogisticRegression."
      ]
    },
    {
      "cell_type": "markdown",
      "metadata": {
        "id": "Ihpseoa9jO4x",
        "colab_type": "text"
      },
      "source": [
        "### VGG19"
      ]
    },
    {
      "cell_type": "code",
      "metadata": {
        "id": "HL3yo5rjddmI",
        "colab_type": "code",
        "colab": {}
      },
      "source": [
        "model_vgg19 = VGG19(include_top=False, weights='imagenet', input_shape =(100, 100, 3), pooling='avg')"
      ],
      "execution_count": 0,
      "outputs": []
    },
    {
      "cell_type": "code",
      "metadata": {
        "id": "xK09V730jW9m",
        "colab_type": "code",
        "outputId": "171ee91f-c75d-4e0e-8a0b-5fb2053d2523",
        "colab": {
          "base_uri": "https://localhost:8080/",
          "height": 51
        }
      },
      "source": [
        "train_vgg19 = model_vgg19.predict(X_train, batch_size=32, verbose=1)\n",
        "valid_vgg19 = model_vgg19.predict(X_test, batch_size=32, verbose=1)"
      ],
      "execution_count": 0,
      "outputs": [
        {
          "output_type": "stream",
          "text": [
            "60498/60498 [==============================] - 49s 809us/step\n",
            "20622/20622 [==============================] - 17s 806us/step\n"
          ],
          "name": "stdout"
        }
      ]
    },
    {
      "cell_type": "markdown",
      "metadata": {
        "id": "zD99oXy-0umV",
        "colab_type": "text"
      },
      "source": [
        "#### LogisticRegression"
      ]
    },
    {
      "cell_type": "code",
      "metadata": {
        "id": "kH7mdCUKjgWj",
        "colab_type": "code",
        "outputId": "6eaa303d-bb2d-4adc-eaaa-cce82d1cc03e",
        "colab": {
          "base_uri": "https://localhost:8080/",
          "height": 156
        }
      },
      "source": [
        "logreg.fit(train_vgg19, y_train)"
      ],
      "execution_count": 0,
      "outputs": [
        {
          "output_type": "stream",
          "text": [
            "/usr/local/lib/python3.6/dist-packages/sklearn/linear_model/logistic.py:947: ConvergenceWarning: lbfgs failed to converge. Increase the number of iterations.\n",
            "  \"of iterations.\", ConvergenceWarning)\n"
          ],
          "name": "stderr"
        },
        {
          "output_type": "execute_result",
          "data": {
            "text/plain": [
              "LogisticRegression(C=1.0, class_weight=None, dual=False, fit_intercept=True,\n",
              "                   intercept_scaling=1, l1_ratio=None, max_iter=100,\n",
              "                   multi_class='multinomial', n_jobs=None, penalty='l2',\n",
              "                   random_state=None, solver='lbfgs', tol=0.0001, verbose=0,\n",
              "                   warm_start=False)"
            ]
          },
          "metadata": {
            "tags": []
          },
          "execution_count": 30
        }
      ]
    },
    {
      "cell_type": "code",
      "metadata": {
        "id": "nMM5vqNwjnSq",
        "colab_type": "code",
        "colab": {}
      },
      "source": [
        "valid_preds = logreg.predict(valid_vgg19)"
      ],
      "execution_count": 0,
      "outputs": []
    },
    {
      "cell_type": "code",
      "metadata": {
        "id": "zrS0CIPRjqst",
        "colab_type": "code",
        "outputId": "8483362b-93b0-4fa3-e3d8-551184e46c7c",
        "colab": {
          "base_uri": "https://localhost:8080/",
          "height": 1000
        }
      },
      "source": [
        "print(classification_report(y_test, valid_preds))"
      ],
      "execution_count": 0,
      "outputs": [
        {
          "output_type": "stream",
          "text": [
            "                     precision    recall  f1-score   support\n",
            "\n",
            "     Apple Braeburn       0.77      0.90      0.83       164\n",
            " Apple Crimson Snow       0.78      0.48      0.59       148\n",
            "     Apple Golden 1       0.98      0.98      0.98       164\n",
            "     Apple Golden 2       1.00      0.94      0.97       164\n",
            "     Apple Golden 3       0.87      0.64      0.74       161\n",
            " Apple Granny Smith       0.74      1.00      0.85       164\n",
            "    Apple Pink Lady       0.68      1.00      0.81       152\n",
            "        Apple Red 1       0.87      1.00      0.93       164\n",
            "        Apple Red 2       0.79      0.80      0.80       164\n",
            "        Apple Red 3       0.99      0.97      0.98       144\n",
            "Apple Red Delicious       0.83      1.00      0.91       166\n",
            " Apple Red Yellow 1       0.71      0.70      0.71       164\n",
            " Apple Red Yellow 2       0.96      1.00      0.98       219\n",
            "            Apricot       1.00      0.66      0.79       164\n",
            "            Avocado       0.63      0.97      0.77       143\n",
            "       Avocado ripe       0.97      0.85      0.91       166\n",
            "             Banana       0.80      0.93      0.86       166\n",
            " Banana Lady Finger       0.94      0.99      0.97       152\n",
            "         Banana Red       0.99      0.74      0.85       166\n",
            "           Beetroot       0.69      0.55      0.61       150\n",
            "          Blueberry       0.93      0.98      0.96       154\n",
            "       Cactus fruit       0.99      1.00      1.00       166\n",
            "       Cantaloupe 1       1.00      1.00      1.00       164\n",
            "       Cantaloupe 2       0.96      0.94      0.95       164\n",
            "          Carambula       0.96      0.95      0.95       166\n",
            "        Cauliflower       1.00      0.91      0.96       234\n",
            "           Cherry 1       1.00      1.00      1.00       164\n",
            "           Cherry 2       0.85      1.00      0.92       246\n",
            "     Cherry Rainier       1.00      0.80      0.89       246\n",
            "   Cherry Wax Black       1.00      1.00      1.00       164\n",
            "     Cherry Wax Red       1.00      1.00      1.00       164\n",
            "  Cherry Wax Yellow       1.00      1.00      1.00       164\n",
            "           Chestnut       0.59      0.78      0.67       153\n",
            "         Clementine       1.00      0.98      0.99       166\n",
            "              Cocos       0.83      0.90      0.86       166\n",
            "              Dates       0.98      1.00      0.99       166\n",
            "           Eggplant       0.88      0.72      0.79       156\n",
            "        Ginger Root       0.91      0.87      0.89        99\n",
            "         Granadilla       0.96      1.00      0.98       166\n",
            "         Grape Blue       1.00      1.00      1.00       328\n",
            "         Grape Pink       0.98      1.00      0.99       164\n",
            "        Grape White       1.00      1.00      1.00       166\n",
            "      Grape White 2       1.00      1.00      1.00       166\n",
            "      Grape White 3       1.00      1.00      1.00       164\n",
            "      Grape White 4       1.00      1.00      1.00       158\n",
            "    Grapefruit Pink       1.00      1.00      1.00       166\n",
            "   Grapefruit White       0.94      1.00      0.97       164\n",
            "              Guava       1.00      0.91      0.95       166\n",
            "           Hazelnut       0.86      1.00      0.92       157\n",
            "        Huckleberry       1.00      1.00      1.00       166\n",
            "               Kaki       0.99      0.87      0.93       166\n",
            "               Kiwi       0.82      0.83      0.83       156\n",
            "           Kohlrabi       0.96      1.00      0.98       157\n",
            "           Kumquats       0.89      1.00      0.94       166\n",
            "              Lemon       0.84      0.90      0.87       164\n",
            "        Lemon Meyer       0.93      0.83      0.88       166\n",
            "              Limes       0.98      1.00      0.99       166\n",
            "             Lychee       1.00      0.54      0.70       166\n",
            "          Mandarine       0.84      0.79      0.81       166\n",
            "              Mango       0.87      1.00      0.93       166\n",
            "          Mango Red       0.79      0.47      0.59       142\n",
            "          Mangostan       0.87      0.95      0.91       102\n",
            "           Maracuja       1.00      0.95      0.97       166\n",
            " Melon Piel de Sapo       0.98      0.96      0.97       246\n",
            "           Mulberry       1.00      0.98      0.99       164\n",
            "          Nectarine       0.64      0.75      0.69       164\n",
            "     Nectarine Flat       0.90      0.63      0.74       160\n",
            "         Nut Forest       0.95      0.98      0.96       218\n",
            "          Nut Pecan       0.84      0.90      0.87       178\n",
            "          Onion Red       0.71      0.93      0.80       150\n",
            "   Onion Red Peeled       0.83      0.83      0.83       155\n",
            "        Onion White       0.73      0.67      0.70       146\n",
            "             Orange       0.96      1.00      0.98       160\n",
            "             Papaya       0.97      0.96      0.97       164\n",
            "      Passion Fruit       0.95      0.77      0.85       166\n",
            "              Peach       0.59      0.79      0.68       164\n",
            "            Peach 2       1.00      1.00      1.00       246\n",
            "         Peach Flat       0.92      0.86      0.89       164\n",
            "               Pear       0.88      0.67      0.76       164\n",
            "         Pear Abate       0.99      0.90      0.95       166\n",
            "       Pear Forelle       1.00      1.00      1.00       234\n",
            "        Pear Kaiser       1.00      1.00      1.00       102\n",
            "       Pear Monster       0.96      0.90      0.93       166\n",
            "           Pear Red       0.82      0.78      0.80       222\n",
            "      Pear Williams       0.92      0.99      0.95       166\n",
            "             Pepino       0.99      0.67      0.80       166\n",
            "       Pepper Green       0.94      1.00      0.97       148\n",
            "         Pepper Red       1.00      0.93      0.97       222\n",
            "      Pepper Yellow       0.94      0.87      0.90       222\n",
            "           Physalis       1.00      1.00      1.00       164\n",
            " Physalis with Husk       0.98      1.00      0.99       164\n",
            "          Pineapple       0.96      1.00      0.98       166\n",
            "     Pineapple Mini       1.00      1.00      1.00       163\n",
            "       Pitahaya Red       1.00      1.00      1.00       166\n",
            "               Plum       0.83      0.91      0.87       151\n",
            "             Plum 2       1.00      0.99      1.00       142\n",
            "             Plum 3       0.98      1.00      0.99       304\n",
            "        Pomegranate       0.68      0.73      0.71       164\n",
            "     Pomelo Sweetie       0.86      0.97      0.91       153\n",
            "         Potato Red       0.81      0.72      0.76       150\n",
            "  Potato Red Washed       0.90      0.58      0.71       151\n",
            "       Potato Sweet       0.84      0.67      0.75       150\n",
            "       Potato White       0.88      0.79      0.83       150\n",
            "             Quince       1.00      1.00      1.00       166\n",
            "           Rambutan       1.00      1.00      1.00       164\n",
            "          Raspberry       0.93      1.00      0.96       166\n",
            "         Redcurrant       0.95      1.00      0.98       164\n",
            "              Salak       0.93      1.00      0.96       162\n",
            "         Strawberry       0.73      0.99      0.84       164\n",
            "   Strawberry Wedge       0.73      0.72      0.72       246\n",
            "          Tamarillo       1.00      1.00      1.00       166\n",
            "            Tangelo       0.85      1.00      0.92       166\n",
            "           Tomato 1       1.00      0.82      0.90       246\n",
            "           Tomato 2       0.97      0.97      0.97       225\n",
            "           Tomato 3       0.82      0.96      0.88       246\n",
            "           Tomato 4       0.99      1.00      1.00       160\n",
            "  Tomato Cherry Red       1.00      1.00      1.00       164\n",
            "      Tomato Maroon       0.97      1.00      0.98       127\n",
            "      Tomato Yellow       1.00      0.99      1.00       153\n",
            "             Walnut       0.91      1.00      0.95       249\n",
            "\n",
            "           accuracy                           0.91     20622\n",
            "          macro avg       0.91      0.90      0.90     20622\n",
            "       weighted avg       0.91      0.91      0.91     20622\n",
            "\n"
          ],
          "name": "stdout"
        }
      ]
    },
    {
      "cell_type": "markdown",
      "metadata": {
        "id": "iT28wOZRoddd",
        "colab_type": "text"
      },
      "source": [
        "VGG19 kết hợp với LogisticRegression cho kết quả tương đối tốt, kém 1, 2% độ chính xác so với VGG16."
      ]
    },
    {
      "cell_type": "markdown",
      "metadata": {
        "id": "gaV7YBMS79Xc",
        "colab_type": "text"
      },
      "source": [
        "#### DecisionTreeClassifier"
      ]
    },
    {
      "cell_type": "code",
      "metadata": {
        "id": "WJqZ7AJr1bnH",
        "colab_type": "code",
        "outputId": "88f35b37-3ba8-499a-bc09-7d6e4b703cf7",
        "colab": {
          "base_uri": "https://localhost:8080/",
          "height": 119
        }
      },
      "source": [
        "decision_tree.fit(train_vgg19, y_train)"
      ],
      "execution_count": 0,
      "outputs": [
        {
          "output_type": "execute_result",
          "data": {
            "text/plain": [
              "DecisionTreeClassifier(class_weight=None, criterion='gini', max_depth=None,\n",
              "                       max_features=None, max_leaf_nodes=None,\n",
              "                       min_impurity_decrease=0.0, min_impurity_split=None,\n",
              "                       min_samples_leaf=1, min_samples_split=2,\n",
              "                       min_weight_fraction_leaf=0.0, presort=False,\n",
              "                       random_state=None, splitter='best')"
            ]
          },
          "metadata": {
            "tags": []
          },
          "execution_count": 33
        }
      ]
    },
    {
      "cell_type": "code",
      "metadata": {
        "id": "W2bGIBOb1bhM",
        "colab_type": "code",
        "outputId": "c82acf0d-932a-4f91-c243-8d069e922288",
        "colab": {
          "base_uri": "https://localhost:8080/",
          "height": 119
        }
      },
      "source": [
        "decision_tree.fit(train_vgg19, y_train)"
      ],
      "execution_count": 0,
      "outputs": [
        {
          "output_type": "execute_result",
          "data": {
            "text/plain": [
              "DecisionTreeClassifier(class_weight=None, criterion='gini', max_depth=None,\n",
              "                       max_features=None, max_leaf_nodes=None,\n",
              "                       min_impurity_decrease=0.0, min_impurity_split=None,\n",
              "                       min_samples_leaf=1, min_samples_split=2,\n",
              "                       min_weight_fraction_leaf=0.0, presort=False,\n",
              "                       random_state=None, splitter='best')"
            ]
          },
          "metadata": {
            "tags": []
          },
          "execution_count": 34
        }
      ]
    },
    {
      "cell_type": "code",
      "metadata": {
        "id": "E3q19PNX55G_",
        "colab_type": "code",
        "colab": {}
      },
      "source": [
        "valid_preds = decision_tree.predict(valid_vgg19)"
      ],
      "execution_count": 0,
      "outputs": []
    },
    {
      "cell_type": "code",
      "metadata": {
        "id": "_rALLWKX1bek",
        "colab_type": "code",
        "outputId": "318b7ea1-655e-47d6-dbb4-11bb7e0aad49",
        "colab": {
          "base_uri": "https://localhost:8080/",
          "height": 1000
        }
      },
      "source": [
        "print(classification_report(y_test, valid_preds))"
      ],
      "execution_count": 0,
      "outputs": [
        {
          "output_type": "stream",
          "text": [
            "                     precision    recall  f1-score   support\n",
            "\n",
            "     Apple Braeburn       0.61      0.45      0.52       164\n",
            " Apple Crimson Snow       0.36      0.38      0.37       148\n",
            "     Apple Golden 1       0.49      0.49      0.49       164\n",
            "     Apple Golden 2       0.87      0.62      0.72       164\n",
            "     Apple Golden 3       0.47      0.57      0.52       161\n",
            " Apple Granny Smith       0.51      0.58      0.54       164\n",
            "    Apple Pink Lady       0.56      0.59      0.58       152\n",
            "        Apple Red 1       0.45      0.33      0.38       164\n",
            "        Apple Red 2       0.58      0.66      0.62       164\n",
            "        Apple Red 3       0.48      0.56      0.52       144\n",
            "Apple Red Delicious       0.48      0.80      0.60       166\n",
            " Apple Red Yellow 1       0.48      0.43      0.45       164\n",
            " Apple Red Yellow 2       0.52      0.72      0.60       219\n",
            "            Apricot       0.50      0.32      0.39       164\n",
            "            Avocado       0.44      0.72      0.55       143\n",
            "       Avocado ripe       0.65      0.70      0.68       166\n",
            "             Banana       0.65      0.79      0.71       166\n",
            " Banana Lady Finger       0.72      0.66      0.69       152\n",
            "         Banana Red       0.62      0.52      0.57       166\n",
            "           Beetroot       0.29      0.27      0.28       150\n",
            "          Blueberry       0.69      0.62      0.65       154\n",
            "       Cactus fruit       0.68      0.73      0.71       166\n",
            "       Cantaloupe 1       0.82      0.87      0.85       164\n",
            "       Cantaloupe 2       0.73      0.80      0.77       164\n",
            "          Carambula       0.62      0.62      0.62       166\n",
            "        Cauliflower       1.00      0.89      0.94       234\n",
            "           Cherry 1       0.81      0.65      0.72       164\n",
            "           Cherry 2       0.65      0.74      0.69       246\n",
            "     Cherry Rainier       0.80      0.54      0.64       246\n",
            "   Cherry Wax Black       0.95      0.99      0.97       164\n",
            "     Cherry Wax Red       0.95      0.99      0.97       164\n",
            "  Cherry Wax Yellow       0.98      0.99      0.99       164\n",
            "           Chestnut       0.45      0.47      0.46       153\n",
            "         Clementine       0.87      0.58      0.70       166\n",
            "              Cocos       0.71      0.58      0.64       166\n",
            "              Dates       0.90      0.97      0.94       166\n",
            "           Eggplant       0.60      0.56      0.58       156\n",
            "        Ginger Root       0.90      1.00      0.95        99\n",
            "         Granadilla       0.61      0.95      0.74       166\n",
            "         Grape Blue       0.88      0.98      0.92       328\n",
            "         Grape Pink       0.64      0.63      0.63       164\n",
            "        Grape White       0.66      0.84      0.74       166\n",
            "      Grape White 2       0.96      0.84      0.89       166\n",
            "      Grape White 3       0.92      0.82      0.87       164\n",
            "      Grape White 4       0.95      0.87      0.91       158\n",
            "    Grapefruit Pink       0.66      0.68      0.67       166\n",
            "   Grapefruit White       0.84      0.91      0.87       164\n",
            "              Guava       0.75      0.64      0.69       166\n",
            "           Hazelnut       0.88      1.00      0.94       157\n",
            "        Huckleberry       0.92      0.95      0.93       166\n",
            "               Kaki       0.79      0.84      0.81       166\n",
            "               Kiwi       0.68      0.58      0.63       156\n",
            "           Kohlrabi       0.80      0.73      0.77       157\n",
            "           Kumquats       0.85      0.95      0.89       166\n",
            "              Lemon       0.63      0.59      0.61       164\n",
            "        Lemon Meyer       0.83      0.90      0.86       166\n",
            "              Limes       0.84      0.63      0.72       166\n",
            "             Lychee       0.96      0.98      0.97       166\n",
            "          Mandarine       0.72      0.55      0.62       166\n",
            "              Mango       0.88      0.73      0.80       166\n",
            "          Mango Red       0.67      0.52      0.59       142\n",
            "          Mangostan       0.30      0.39      0.34       102\n",
            "           Maracuja       0.90      0.80      0.84       166\n",
            " Melon Piel de Sapo       0.74      0.74      0.74       246\n",
            "           Mulberry       0.96      0.98      0.97       164\n",
            "          Nectarine       0.42      0.42      0.42       164\n",
            "     Nectarine Flat       0.34      0.45      0.39       160\n",
            "         Nut Forest       0.82      1.00      0.90       218\n",
            "          Nut Pecan       0.81      1.00      0.89       178\n",
            "          Onion Red       0.46      0.57      0.51       150\n",
            "   Onion Red Peeled       0.51      0.47      0.49       155\n",
            "        Onion White       0.58      0.41      0.48       146\n",
            "             Orange       0.76      0.96      0.85       160\n",
            "             Papaya       0.44      0.35      0.39       164\n",
            "      Passion Fruit       0.70      0.64      0.67       166\n",
            "              Peach       0.32      0.26      0.28       164\n",
            "            Peach 2       0.80      0.80      0.80       246\n",
            "         Peach Flat       0.42      0.57      0.48       164\n",
            "               Pear       0.62      0.58      0.60       164\n",
            "         Pear Abate       0.86      0.68      0.76       166\n",
            "       Pear Forelle       0.72      0.60      0.65       234\n",
            "        Pear Kaiser       0.91      0.68      0.78       102\n",
            "       Pear Monster       0.46      0.36      0.41       166\n",
            "           Pear Red       0.61      0.42      0.50       222\n",
            "      Pear Williams       0.74      0.63      0.68       166\n",
            "             Pepino       0.85      0.55      0.67       166\n",
            "       Pepper Green       0.98      0.82      0.89       148\n",
            "         Pepper Red       0.54      0.41      0.47       222\n",
            "      Pepper Yellow       0.65      0.70      0.67       222\n",
            "           Physalis       0.79      0.93      0.85       164\n",
            " Physalis with Husk       0.82      0.80      0.81       164\n",
            "          Pineapple       0.87      0.96      0.91       166\n",
            "     Pineapple Mini       0.90      0.90      0.90       163\n",
            "       Pitahaya Red       0.83      0.72      0.77       166\n",
            "               Plum       0.63      0.49      0.55       151\n",
            "             Plum 2       0.80      0.78      0.79       142\n",
            "             Plum 3       0.83      0.89      0.86       304\n",
            "        Pomegranate       0.40      0.40      0.40       164\n",
            "     Pomelo Sweetie       0.77      0.58      0.66       153\n",
            "         Potato Red       0.23      0.22      0.22       150\n",
            "  Potato Red Washed       0.51      0.56      0.53       151\n",
            "       Potato Sweet       0.38      0.51      0.44       150\n",
            "       Potato White       0.57      0.51      0.54       150\n",
            "             Quince       0.77      0.51      0.61       166\n",
            "           Rambutan       1.00      0.87      0.93       164\n",
            "          Raspberry       0.95      0.96      0.96       166\n",
            "         Redcurrant       0.95      0.75      0.84       164\n",
            "              Salak       0.79      0.92      0.85       162\n",
            "         Strawberry       0.73      0.86      0.79       164\n",
            "   Strawberry Wedge       0.86      0.68      0.76       246\n",
            "          Tamarillo       0.90      0.77      0.83       166\n",
            "            Tangelo       0.67      0.70      0.69       166\n",
            "           Tomato 1       0.68      0.77      0.72       246\n",
            "           Tomato 2       0.53      0.75      0.62       225\n",
            "           Tomato 3       0.59      0.66      0.63       246\n",
            "           Tomato 4       0.89      0.97      0.93       160\n",
            "  Tomato Cherry Red       0.74      0.91      0.82       164\n",
            "      Tomato Maroon       0.81      0.78      0.80       127\n",
            "      Tomato Yellow       0.46      0.56      0.51       153\n",
            "             Walnut       0.92      0.91      0.91       249\n",
            "\n",
            "           accuracy                           0.70     20622\n",
            "          macro avg       0.70      0.69      0.69     20622\n",
            "       weighted avg       0.71      0.70      0.69     20622\n",
            "\n"
          ],
          "name": "stdout"
        }
      ]
    },
    {
      "cell_type": "markdown",
      "metadata": {
        "id": "EUex0f2G5t-l",
        "colab_type": "text"
      },
      "source": [
        "VGG19 kết hợp với DecisionTree cho kết quả không tốt."
      ]
    },
    {
      "cell_type": "markdown",
      "metadata": {
        "id": "UDEC5Wpz8CNu",
        "colab_type": "text"
      },
      "source": [
        "#### RandomForestClassifier"
      ]
    },
    {
      "cell_type": "code",
      "metadata": {
        "id": "ONNrE7rO1bbO",
        "colab_type": "code",
        "outputId": "8535b75a-ead4-4417-ced3-e1aab541e747",
        "colab": {
          "base_uri": "https://localhost:8080/",
          "height": 136
        }
      },
      "source": [
        "random_forest.fit(train_vgg19, y_train)"
      ],
      "execution_count": 0,
      "outputs": [
        {
          "output_type": "execute_result",
          "data": {
            "text/plain": [
              "RandomForestClassifier(bootstrap=True, class_weight=None, criterion='gini',\n",
              "                       max_depth=None, max_features='auto', max_leaf_nodes=None,\n",
              "                       min_impurity_decrease=0.0, min_impurity_split=None,\n",
              "                       min_samples_leaf=1, min_samples_split=2,\n",
              "                       min_weight_fraction_leaf=0.0, n_estimators=10,\n",
              "                       n_jobs=None, oob_score=False, random_state=None,\n",
              "                       verbose=0, warm_start=False)"
            ]
          },
          "metadata": {
            "tags": []
          },
          "execution_count": 36
        }
      ]
    },
    {
      "cell_type": "code",
      "metadata": {
        "id": "ldo4xeu11wk6",
        "colab_type": "code",
        "outputId": "1b397578-8055-4ee0-cdc1-ba2a8fd63cb7",
        "colab": {
          "base_uri": "https://localhost:8080/",
          "height": 136
        }
      },
      "source": [
        "random_forest.fit(train_vgg19, y_train)"
      ],
      "execution_count": 0,
      "outputs": [
        {
          "output_type": "execute_result",
          "data": {
            "text/plain": [
              "RandomForestClassifier(bootstrap=True, class_weight=None, criterion='gini',\n",
              "                       max_depth=None, max_features='auto', max_leaf_nodes=None,\n",
              "                       min_impurity_decrease=0.0, min_impurity_split=None,\n",
              "                       min_samples_leaf=1, min_samples_split=2,\n",
              "                       min_weight_fraction_leaf=0.0, n_estimators=10,\n",
              "                       n_jobs=None, oob_score=False, random_state=None,\n",
              "                       verbose=0, warm_start=False)"
            ]
          },
          "metadata": {
            "tags": []
          },
          "execution_count": 37
        }
      ]
    },
    {
      "cell_type": "code",
      "metadata": {
        "id": "XvM_kJxc6BJ1",
        "colab_type": "code",
        "colab": {}
      },
      "source": [
        "valid_preds = random_forest.predict(valid_vgg19)"
      ],
      "execution_count": 0,
      "outputs": []
    },
    {
      "cell_type": "code",
      "metadata": {
        "id": "oEkezJKR1bW0",
        "colab_type": "code",
        "outputId": "803b9b62-9685-4dc2-e07a-f34b91568f9b",
        "colab": {
          "base_uri": "https://localhost:8080/",
          "height": 1000
        }
      },
      "source": [
        "print(classification_report(y_test, valid_preds))"
      ],
      "execution_count": 0,
      "outputs": [
        {
          "output_type": "stream",
          "text": [
            "                     precision    recall  f1-score   support\n",
            "\n",
            "     Apple Braeburn       0.52      0.71      0.60       164\n",
            " Apple Crimson Snow       0.66      0.82      0.73       148\n",
            "     Apple Golden 1       0.64      0.79      0.71       164\n",
            "     Apple Golden 2       0.77      0.95      0.85       164\n",
            "     Apple Golden 3       0.64      0.73      0.68       161\n",
            " Apple Granny Smith       0.78      0.75      0.77       164\n",
            "    Apple Pink Lady       0.58      0.67      0.62       152\n",
            "        Apple Red 1       0.58      0.71      0.64       164\n",
            "        Apple Red 2       0.62      0.79      0.70       164\n",
            "        Apple Red 3       0.69      0.89      0.78       144\n",
            "Apple Red Delicious       0.73      0.93      0.82       166\n",
            " Apple Red Yellow 1       0.70      0.73      0.72       164\n",
            " Apple Red Yellow 2       0.82      0.97      0.89       219\n",
            "            Apricot       0.85      0.78      0.81       164\n",
            "            Avocado       0.71      0.91      0.80       143\n",
            "       Avocado ripe       0.69      0.95      0.80       166\n",
            "             Banana       0.71      0.87      0.78       166\n",
            " Banana Lady Finger       0.92      0.99      0.95       152\n",
            "         Banana Red       0.86      0.64      0.74       166\n",
            "           Beetroot       0.75      0.55      0.63       150\n",
            "          Blueberry       0.80      0.82      0.81       154\n",
            "       Cactus fruit       0.78      0.96      0.86       166\n",
            "       Cantaloupe 1       0.92      0.99      0.95       164\n",
            "       Cantaloupe 2       0.89      0.88      0.89       164\n",
            "          Carambula       0.91      0.86      0.88       166\n",
            "        Cauliflower       1.00      0.95      0.98       234\n",
            "           Cherry 1       0.79      0.96      0.87       164\n",
            "           Cherry 2       0.80      0.81      0.81       246\n",
            "     Cherry Rainier       0.94      0.78      0.85       246\n",
            "   Cherry Wax Black       0.95      1.00      0.98       164\n",
            "     Cherry Wax Red       0.99      1.00      1.00       164\n",
            "  Cherry Wax Yellow       1.00      1.00      1.00       164\n",
            "           Chestnut       0.78      0.64      0.70       153\n",
            "         Clementine       0.93      0.82      0.87       166\n",
            "              Cocos       0.72      0.95      0.82       166\n",
            "              Dates       0.92      1.00      0.96       166\n",
            "           Eggplant       0.81      0.68      0.74       156\n",
            "        Ginger Root       0.97      1.00      0.99        99\n",
            "         Granadilla       0.91      1.00      0.95       166\n",
            "         Grape Blue       0.98      1.00      0.99       328\n",
            "         Grape Pink       0.91      0.95      0.93       164\n",
            "        Grape White       0.87      0.99      0.93       166\n",
            "      Grape White 2       0.99      1.00      1.00       166\n",
            "      Grape White 3       0.98      1.00      0.99       164\n",
            "      Grape White 4       0.97      0.97      0.97       158\n",
            "    Grapefruit Pink       0.96      0.96      0.96       166\n",
            "   Grapefruit White       0.98      1.00      0.99       164\n",
            "              Guava       0.95      0.96      0.96       166\n",
            "           Hazelnut       0.96      1.00      0.98       157\n",
            "        Huckleberry       0.98      0.99      0.98       166\n",
            "               Kaki       0.95      1.00      0.98       166\n",
            "               Kiwi       0.84      0.85      0.84       156\n",
            "           Kohlrabi       0.87      0.94      0.90       157\n",
            "           Kumquats       0.85      1.00      0.92       166\n",
            "              Lemon       0.89      0.90      0.89       164\n",
            "        Lemon Meyer       0.84      0.94      0.89       166\n",
            "              Limes       0.83      0.86      0.84       166\n",
            "             Lychee       0.98      0.98      0.98       166\n",
            "          Mandarine       0.77      0.73      0.75       166\n",
            "              Mango       0.94      0.88      0.91       166\n",
            "          Mango Red       0.90      0.87      0.88       142\n",
            "          Mangostan       0.92      0.84      0.88       102\n",
            "           Maracuja       0.83      0.80      0.82       166\n",
            " Melon Piel de Sapo       0.89      0.98      0.93       246\n",
            "           Mulberry       0.99      1.00      1.00       164\n",
            "          Nectarine       0.61      0.60      0.61       164\n",
            "     Nectarine Flat       0.79      0.62      0.69       160\n",
            "         Nut Forest       0.93      1.00      0.96       218\n",
            "          Nut Pecan       0.91      1.00      0.95       178\n",
            "          Onion Red       0.69      0.91      0.78       150\n",
            "   Onion Red Peeled       0.81      0.62      0.70       155\n",
            "        Onion White       0.79      0.54      0.64       146\n",
            "             Orange       0.93      1.00      0.96       160\n",
            "             Papaya       0.91      0.88      0.89       164\n",
            "      Passion Fruit       0.90      0.67      0.77       166\n",
            "              Peach       0.78      0.52      0.62       164\n",
            "            Peach 2       0.97      0.99      0.98       246\n",
            "         Peach Flat       0.83      0.74      0.78       164\n",
            "               Pear       0.84      0.72      0.78       164\n",
            "         Pear Abate       0.97      0.85      0.91       166\n",
            "       Pear Forelle       0.93      0.85      0.89       234\n",
            "        Pear Kaiser       0.94      0.99      0.97       102\n",
            "       Pear Monster       0.87      0.75      0.80       166\n",
            "           Pear Red       0.90      0.58      0.70       222\n",
            "      Pear Williams       0.95      0.96      0.96       166\n",
            "             Pepino       0.96      0.66      0.78       166\n",
            "       Pepper Green       1.00      1.00      1.00       148\n",
            "         Pepper Red       0.88      0.85      0.87       222\n",
            "      Pepper Yellow       0.94      0.76      0.84       222\n",
            "           Physalis       0.97      0.98      0.98       164\n",
            " Physalis with Husk       0.99      0.98      0.98       164\n",
            "          Pineapple       0.94      1.00      0.97       166\n",
            "     Pineapple Mini       1.00      1.00      1.00       163\n",
            "       Pitahaya Red       0.97      0.84      0.90       166\n",
            "               Plum       0.99      0.66      0.79       151\n",
            "             Plum 2       0.96      0.94      0.95       142\n",
            "             Plum 3       0.92      1.00      0.96       304\n",
            "        Pomegranate       0.86      0.84      0.85       164\n",
            "     Pomelo Sweetie       0.89      0.79      0.84       153\n",
            "         Potato Red       0.73      0.41      0.52       150\n",
            "  Potato Red Washed       0.83      0.50      0.62       151\n",
            "       Potato Sweet       0.81      0.47      0.60       150\n",
            "       Potato White       0.73      0.58      0.65       150\n",
            "             Quince       0.98      0.87      0.92       166\n",
            "           Rambutan       1.00      1.00      1.00       164\n",
            "          Raspberry       1.00      1.00      1.00       166\n",
            "         Redcurrant       0.97      0.97      0.97       164\n",
            "              Salak       0.97      0.96      0.97       162\n",
            "         Strawberry       0.89      0.91      0.90       164\n",
            "   Strawberry Wedge       0.95      0.91      0.93       246\n",
            "          Tamarillo       0.96      0.99      0.97       166\n",
            "            Tangelo       0.93      0.93      0.93       166\n",
            "           Tomato 1       0.96      0.87      0.91       246\n",
            "           Tomato 2       0.88      1.00      0.94       225\n",
            "           Tomato 3       0.82      0.93      0.87       246\n",
            "           Tomato 4       0.99      1.00      1.00       160\n",
            "  Tomato Cherry Red       0.98      1.00      0.99       164\n",
            "      Tomato Maroon       0.94      0.94      0.94       127\n",
            "      Tomato Yellow       0.92      0.97      0.94       153\n",
            "             Walnut       0.99      1.00      1.00       249\n",
            "\n",
            "           accuracy                           0.87     20622\n",
            "          macro avg       0.87      0.87      0.86     20622\n",
            "       weighted avg       0.88      0.87      0.87     20622\n",
            "\n"
          ],
          "name": "stdout"
        }
      ]
    },
    {
      "cell_type": "markdown",
      "metadata": {
        "id": "1LunhN627fC2",
        "colab_type": "text"
      },
      "source": [
        "VGG19 kết hợp với RandomForest cho kết quả khá tốt, tốt hơn DecisionTree nhưng vẫn thấp hơn LogisticRegression."
      ]
    },
    {
      "cell_type": "markdown",
      "metadata": {
        "id": "4CvF5cjEoHtR",
        "colab_type": "text"
      },
      "source": [
        "### ResNet50"
      ]
    },
    {
      "cell_type": "code",
      "metadata": {
        "id": "eMFSBUyXkBSY",
        "colab_type": "code",
        "colab": {}
      },
      "source": [
        "model_resnet = ResNet50(include_top=False, weights='imagenet', input_shape =(100, 100, 3), pooling='avg')"
      ],
      "execution_count": 0,
      "outputs": []
    },
    {
      "cell_type": "code",
      "metadata": {
        "id": "uRCk9fGUnpx-",
        "colab_type": "code",
        "outputId": "2ae2af77-8df5-4fd6-fc0e-6a9e695ff79e",
        "colab": {
          "base_uri": "https://localhost:8080/",
          "height": 51
        }
      },
      "source": [
        "train_resnet = model_resnet.predict(X_train, verbose=1)\n",
        "valid_resnet = model_resnet.predict(X_test, verbose=1)"
      ],
      "execution_count": 0,
      "outputs": [
        {
          "output_type": "stream",
          "text": [
            "60498/60498 [==============================] - 55s 908us/step\n",
            "20622/20622 [==============================] - 19s 901us/step\n"
          ],
          "name": "stdout"
        }
      ]
    },
    {
      "cell_type": "markdown",
      "metadata": {
        "id": "3i79sfoH8F9I",
        "colab_type": "text"
      },
      "source": [
        "#### LogisticRegression"
      ]
    },
    {
      "cell_type": "code",
      "metadata": {
        "id": "FEy-B85BnpwY",
        "colab_type": "code",
        "outputId": "1c904846-0a5f-4d66-acd2-70669ffac465",
        "colab": {
          "base_uri": "https://localhost:8080/",
          "height": 156
        }
      },
      "source": [
        "logreg.fit(train_resnet, y_train)"
      ],
      "execution_count": 0,
      "outputs": [
        {
          "output_type": "stream",
          "text": [
            "/usr/local/lib/python3.6/dist-packages/sklearn/linear_model/logistic.py:947: ConvergenceWarning: lbfgs failed to converge. Increase the number of iterations.\n",
            "  \"of iterations.\", ConvergenceWarning)\n"
          ],
          "name": "stderr"
        },
        {
          "output_type": "execute_result",
          "data": {
            "text/plain": [
              "LogisticRegression(C=1.0, class_weight=None, dual=False, fit_intercept=True,\n",
              "                   intercept_scaling=1, l1_ratio=None, max_iter=100,\n",
              "                   multi_class='multinomial', n_jobs=None, penalty='l2',\n",
              "                   random_state=None, solver='lbfgs', tol=0.0001, verbose=0,\n",
              "                   warm_start=False)"
            ]
          },
          "metadata": {
            "tags": []
          },
          "execution_count": 41
        }
      ]
    },
    {
      "cell_type": "code",
      "metadata": {
        "id": "tBnH5nBanptb",
        "colab_type": "code",
        "colab": {}
      },
      "source": [
        "valid_preds = logreg.predict(valid_resnet)"
      ],
      "execution_count": 0,
      "outputs": []
    },
    {
      "cell_type": "code",
      "metadata": {
        "id": "NXtVaZO-npqy",
        "colab_type": "code",
        "outputId": "f428cac4-ef0b-4aaa-ce61-cd1c52334a3c",
        "colab": {
          "base_uri": "https://localhost:8080/",
          "height": 1000
        }
      },
      "source": [
        "print(classification_report(y_test, valid_preds))"
      ],
      "execution_count": 0,
      "outputs": [
        {
          "output_type": "stream",
          "text": [
            "                     precision    recall  f1-score   support\n",
            "\n",
            "     Apple Braeburn       0.63      0.54      0.58       164\n",
            " Apple Crimson Snow       0.37      0.68      0.48       148\n",
            "     Apple Golden 1       0.43      0.45      0.44       164\n",
            "     Apple Golden 2       0.83      0.57      0.67       164\n",
            "     Apple Golden 3       0.47      0.71      0.56       161\n",
            " Apple Granny Smith       0.83      0.35      0.49       164\n",
            "    Apple Pink Lady       0.51      0.86      0.64       152\n",
            "        Apple Red 1       0.89      0.34      0.49       164\n",
            "        Apple Red 2       0.66      0.30      0.42       164\n",
            "        Apple Red 3       0.84      0.57      0.68       144\n",
            "Apple Red Delicious       0.64      0.48      0.55       166\n",
            " Apple Red Yellow 1       0.58      0.46      0.51       164\n",
            " Apple Red Yellow 2       0.70      0.58      0.63       219\n",
            "            Apricot       0.21      0.20      0.20       164\n",
            "            Avocado       0.53      0.51      0.52       143\n",
            "       Avocado ripe       0.42      0.60      0.49       166\n",
            "             Banana       0.31      0.24      0.27       166\n",
            " Banana Lady Finger       0.28      0.34      0.31       152\n",
            "         Banana Red       0.38      0.27      0.31       166\n",
            "           Beetroot       0.57      0.33      0.42       150\n",
            "          Blueberry       0.63      0.64      0.63       154\n",
            "       Cactus fruit       0.49      0.50      0.49       166\n",
            "       Cantaloupe 1       0.59      0.70      0.64       164\n",
            "       Cantaloupe 2       0.76      0.98      0.86       164\n",
            "          Carambula       0.58      0.41      0.48       166\n",
            "        Cauliflower       0.93      0.76      0.84       234\n",
            "           Cherry 1       0.81      0.96      0.88       164\n",
            "           Cherry 2       0.62      0.96      0.75       246\n",
            "     Cherry Rainier       0.43      0.44      0.43       246\n",
            "   Cherry Wax Black       0.99      1.00      0.99       164\n",
            "     Cherry Wax Red       0.79      0.98      0.87       164\n",
            "  Cherry Wax Yellow       1.00      1.00      1.00       164\n",
            "           Chestnut       0.23      0.27      0.25       153\n",
            "         Clementine       0.70      0.57      0.63       166\n",
            "              Cocos       0.52      0.68      0.59       166\n",
            "              Dates       0.60      0.63      0.61       166\n",
            "           Eggplant       0.30      0.50      0.37       156\n",
            "        Ginger Root       0.00      0.00      0.00        99\n",
            "         Granadilla       0.79      0.59      0.68       166\n",
            "         Grape Blue       0.62      0.88      0.73       328\n",
            "         Grape Pink       0.65      0.93      0.77       164\n",
            "        Grape White       0.89      0.98      0.93       166\n",
            "      Grape White 2       0.85      0.95      0.89       166\n",
            "      Grape White 3       1.00      0.77      0.87       164\n",
            "      Grape White 4       0.76      0.77      0.76       158\n",
            "    Grapefruit Pink       0.47      0.35      0.40       166\n",
            "   Grapefruit White       0.54      0.95      0.68       164\n",
            "              Guava       0.73      0.46      0.57       166\n",
            "           Hazelnut       0.96      1.00      0.98       157\n",
            "        Huckleberry       0.92      0.52      0.66       166\n",
            "               Kaki       0.46      0.73      0.56       166\n",
            "               Kiwi       0.37      0.42      0.39       156\n",
            "           Kohlrabi       0.37      0.45      0.41       157\n",
            "           Kumquats       0.59      0.93      0.72       166\n",
            "              Lemon       0.51      0.51      0.51       164\n",
            "        Lemon Meyer       0.49      0.47      0.48       166\n",
            "              Limes       0.90      0.52      0.66       166\n",
            "             Lychee       0.97      0.62      0.76       166\n",
            "          Mandarine       0.42      0.51      0.46       166\n",
            "              Mango       0.48      0.41      0.44       166\n",
            "          Mango Red       0.02      0.01      0.01       142\n",
            "          Mangostan       0.68      0.63      0.65       102\n",
            "           Maracuja       0.54      0.66      0.60       166\n",
            " Melon Piel de Sapo       0.58      0.92      0.71       246\n",
            "           Mulberry       0.80      0.95      0.87       164\n",
            "          Nectarine       0.23      0.18      0.20       164\n",
            "     Nectarine Flat       0.17      0.11      0.13       160\n",
            "         Nut Forest       0.89      0.11      0.20       218\n",
            "          Nut Pecan       1.00      0.01      0.02       178\n",
            "          Onion Red       0.32      0.39      0.35       150\n",
            "   Onion Red Peeled       0.66      0.30      0.42       155\n",
            "        Onion White       0.32      0.49      0.39       146\n",
            "             Orange       0.86      1.00      0.92       160\n",
            "             Papaya       0.61      0.80      0.69       164\n",
            "      Passion Fruit       0.86      0.57      0.69       166\n",
            "              Peach       0.60      0.60      0.60       164\n",
            "            Peach 2       0.82      0.99      0.90       246\n",
            "         Peach Flat       0.37      0.49      0.42       164\n",
            "               Pear       0.54      0.57      0.56       164\n",
            "         Pear Abate       0.50      0.62      0.56       166\n",
            "       Pear Forelle       0.41      0.44      0.43       234\n",
            "        Pear Kaiser       1.00      0.63      0.77       102\n",
            "       Pear Monster       0.57      0.48      0.52       166\n",
            "           Pear Red       0.17      0.08      0.11       222\n",
            "      Pear Williams       0.71      0.49      0.58       166\n",
            "             Pepino       0.45      0.60      0.51       166\n",
            "       Pepper Green       0.66      0.49      0.57       148\n",
            "         Pepper Red       0.46      0.50      0.48       222\n",
            "      Pepper Yellow       0.52      0.89      0.65       222\n",
            "           Physalis       0.52      0.48      0.50       164\n",
            " Physalis with Husk       0.64      0.77      0.70       164\n",
            "          Pineapple       0.89      0.93      0.91       166\n",
            "     Pineapple Mini       0.85      1.00      0.92       163\n",
            "       Pitahaya Red       0.57      0.75      0.65       166\n",
            "               Plum       0.68      0.68      0.68       151\n",
            "             Plum 2       0.66      0.51      0.57       142\n",
            "             Plum 3       0.58      0.69      0.63       304\n",
            "        Pomegranate       0.48      0.29      0.37       164\n",
            "     Pomelo Sweetie       0.49      0.22      0.30       153\n",
            "         Potato Red       0.50      0.33      0.40       150\n",
            "  Potato Red Washed       0.05      0.08      0.06       151\n",
            "       Potato Sweet       0.26      0.33      0.29       150\n",
            "       Potato White       0.76      0.39      0.52       150\n",
            "             Quince       0.70      0.52      0.60       166\n",
            "           Rambutan       0.56      0.59      0.57       164\n",
            "          Raspberry       0.62      0.46      0.53       166\n",
            "         Redcurrant       0.83      0.70      0.76       164\n",
            "              Salak       0.52      0.52      0.52       162\n",
            "         Strawberry       0.86      0.86      0.86       164\n",
            "   Strawberry Wedge       0.40      0.28      0.33       246\n",
            "          Tamarillo       0.98      0.80      0.88       166\n",
            "            Tangelo       0.40      0.53      0.46       166\n",
            "           Tomato 1       0.50      0.67      0.58       246\n",
            "           Tomato 2       0.28      0.27      0.27       225\n",
            "           Tomato 3       0.59      0.72      0.65       246\n",
            "           Tomato 4       0.56      0.53      0.54       160\n",
            "  Tomato Cherry Red       0.57      0.68      0.62       164\n",
            "      Tomato Maroon       0.88      0.28      0.43       127\n",
            "      Tomato Yellow       0.79      0.46      0.58       153\n",
            "             Walnut       0.80      0.99      0.88       249\n",
            "\n",
            "           accuracy                           0.58     20622\n",
            "          macro avg       0.60      0.57      0.56     20622\n",
            "       weighted avg       0.60      0.58      0.57     20622\n",
            "\n"
          ],
          "name": "stdout"
        },
        {
          "output_type": "stream",
          "text": [
            "/usr/local/lib/python3.6/dist-packages/sklearn/metrics/classification.py:1437: UndefinedMetricWarning: Precision and F-score are ill-defined and being set to 0.0 in labels with no predicted samples.\n",
            "  'precision', 'predicted', average, warn_for)\n"
          ],
          "name": "stderr"
        }
      ]
    },
    {
      "cell_type": "markdown",
      "metadata": {
        "id": "ir6mdPTPqO07",
        "colab_type": "text"
      },
      "source": [
        "Resnet50 với LogisticRegression cho kết quả không tốt, thấp hơn rất nhiều VGG16 và VGG19."
      ]
    },
    {
      "cell_type": "markdown",
      "metadata": {
        "id": "tSFhWW2s8I0N",
        "colab_type": "text"
      },
      "source": [
        "#### DecisionTreeClassifier"
      ]
    },
    {
      "cell_type": "code",
      "metadata": {
        "id": "MREDdunQqxDZ",
        "colab_type": "code",
        "outputId": "61de3449-fca6-44da-bfdb-db2dfcaf167a",
        "colab": {
          "base_uri": "https://localhost:8080/",
          "height": 119
        }
      },
      "source": [
        "decision_tree.fit(train_resnet, y_train)"
      ],
      "execution_count": 0,
      "outputs": [
        {
          "output_type": "execute_result",
          "data": {
            "text/plain": [
              "DecisionTreeClassifier(class_weight=None, criterion='gini', max_depth=None,\n",
              "                       max_features=None, max_leaf_nodes=None,\n",
              "                       min_impurity_decrease=0.0, min_impurity_split=None,\n",
              "                       min_samples_leaf=1, min_samples_split=2,\n",
              "                       min_weight_fraction_leaf=0.0, presort=False,\n",
              "                       random_state=None, splitter='best')"
            ]
          },
          "metadata": {
            "tags": []
          },
          "execution_count": 48
        }
      ]
    },
    {
      "cell_type": "code",
      "metadata": {
        "id": "RkeGqDZyqxBQ",
        "colab_type": "code",
        "colab": {}
      },
      "source": [
        "valid_preds = decision_tree.predict(valid_resnet)"
      ],
      "execution_count": 0,
      "outputs": []
    },
    {
      "cell_type": "code",
      "metadata": {
        "id": "fg1-aRIMqw-h",
        "colab_type": "code",
        "outputId": "780597c6-6273-41c0-84c6-78ac8045fb12",
        "colab": {
          "base_uri": "https://localhost:8080/",
          "height": 1000
        }
      },
      "source": [
        "print(classification_report(y_test, valid_preds))"
      ],
      "execution_count": 0,
      "outputs": [
        {
          "output_type": "stream",
          "text": [
            "                     precision    recall  f1-score   support\n",
            "\n",
            "     Apple Braeburn       0.83      0.62      0.71       164\n",
            " Apple Crimson Snow       0.63      0.61      0.62       148\n",
            "     Apple Golden 1       0.66      0.41      0.51       164\n",
            "     Apple Golden 2       0.81      0.69      0.75       164\n",
            "     Apple Golden 3       0.72      0.86      0.78       161\n",
            " Apple Granny Smith       0.80      0.73      0.76       164\n",
            "    Apple Pink Lady       0.52      0.62      0.57       152\n",
            "        Apple Red 1       0.64      0.44      0.52       164\n",
            "        Apple Red 2       0.58      0.67      0.62       164\n",
            "        Apple Red 3       0.62      0.50      0.55       144\n",
            "Apple Red Delicious       0.58      0.67      0.62       166\n",
            " Apple Red Yellow 1       0.45      0.41      0.43       164\n",
            " Apple Red Yellow 2       0.69      0.64      0.66       219\n",
            "            Apricot       0.52      0.45      0.48       164\n",
            "            Avocado       0.59      0.77      0.67       143\n",
            "       Avocado ripe       0.74      0.67      0.70       166\n",
            "             Banana       0.80      0.69      0.74       166\n",
            " Banana Lady Finger       0.46      0.53      0.49       152\n",
            "         Banana Red       0.36      0.46      0.40       166\n",
            "           Beetroot       0.43      0.30      0.35       150\n",
            "          Blueberry       0.62      0.60      0.61       154\n",
            "       Cactus fruit       0.50      0.69      0.58       166\n",
            "       Cantaloupe 1       1.00      0.87      0.93       164\n",
            "       Cantaloupe 2       0.90      0.85      0.87       164\n",
            "          Carambula       0.40      0.55      0.46       166\n",
            "        Cauliflower       0.82      0.72      0.77       234\n",
            "           Cherry 1       0.86      0.87      0.86       164\n",
            "           Cherry 2       0.61      0.70      0.65       246\n",
            "     Cherry Rainier       0.70      0.39      0.51       246\n",
            "   Cherry Wax Black       0.93      0.84      0.88       164\n",
            "     Cherry Wax Red       0.91      0.97      0.94       164\n",
            "  Cherry Wax Yellow       0.82      0.98      0.89       164\n",
            "           Chestnut       0.67      0.46      0.55       153\n",
            "         Clementine       0.78      0.56      0.65       166\n",
            "              Cocos       0.39      0.57      0.46       166\n",
            "              Dates       0.63      0.78      0.69       166\n",
            "           Eggplant       0.44      0.29      0.35       156\n",
            "        Ginger Root       0.73      1.00      0.84        99\n",
            "         Granadilla       0.65      0.86      0.74       166\n",
            "         Grape Blue       0.77      0.91      0.84       328\n",
            "         Grape Pink       0.52      0.65      0.58       164\n",
            "        Grape White       0.78      0.87      0.82       166\n",
            "      Grape White 2       0.87      0.80      0.83       166\n",
            "      Grape White 3       0.79      0.85      0.82       164\n",
            "      Grape White 4       0.85      0.76      0.80       158\n",
            "    Grapefruit Pink       0.88      0.65      0.75       166\n",
            "   Grapefruit White       0.66      0.75      0.70       164\n",
            "              Guava       0.50      0.41      0.45       166\n",
            "           Hazelnut       0.80      0.96      0.88       157\n",
            "        Huckleberry       0.72      0.65      0.68       166\n",
            "               Kaki       0.66      0.63      0.65       166\n",
            "               Kiwi       0.45      0.39      0.42       156\n",
            "           Kohlrabi       0.41      0.31      0.36       157\n",
            "           Kumquats       0.64      0.82      0.72       166\n",
            "              Lemon       0.59      0.62      0.61       164\n",
            "        Lemon Meyer       0.71      0.91      0.79       166\n",
            "              Limes       0.62      0.54      0.58       166\n",
            "             Lychee       0.72      0.59      0.65       166\n",
            "          Mandarine       0.43      0.27      0.33       166\n",
            "              Mango       0.49      0.53      0.51       166\n",
            "          Mango Red       0.62      0.59      0.60       142\n",
            "          Mangostan       0.45      0.66      0.54       102\n",
            "           Maracuja       0.69      0.70      0.69       166\n",
            " Melon Piel de Sapo       0.60      0.59      0.59       246\n",
            "           Mulberry       0.79      0.76      0.77       164\n",
            "          Nectarine       0.58      0.49      0.53       164\n",
            "     Nectarine Flat       0.26      0.44      0.33       160\n",
            "         Nut Forest       0.88      1.00      0.94       218\n",
            "          Nut Pecan       0.72      1.00      0.84       178\n",
            "          Onion Red       0.34      0.43      0.38       150\n",
            "   Onion Red Peeled       0.43      0.40      0.41       155\n",
            "        Onion White       0.35      0.51      0.42       146\n",
            "             Orange       0.85      0.92      0.88       160\n",
            "             Papaya       0.77      0.74      0.76       164\n",
            "      Passion Fruit       0.82      0.22      0.35       166\n",
            "              Peach       0.70      0.86      0.77       164\n",
            "            Peach 2       0.92      0.90      0.91       246\n",
            "         Peach Flat       0.57      0.43      0.49       164\n",
            "               Pear       0.58      0.58      0.58       164\n",
            "         Pear Abate       0.75      0.70      0.72       166\n",
            "       Pear Forelle       0.78      0.74      0.76       234\n",
            "        Pear Kaiser       1.00      0.78      0.88       102\n",
            "       Pear Monster       0.53      0.34      0.42       166\n",
            "           Pear Red       0.68      0.44      0.53       222\n",
            "      Pear Williams       0.62      0.72      0.66       166\n",
            "             Pepino       0.61      0.60      0.61       166\n",
            "       Pepper Green       0.70      0.69      0.70       148\n",
            "         Pepper Red       0.44      0.35      0.39       222\n",
            "      Pepper Yellow       0.55      0.59      0.57       222\n",
            "           Physalis       0.88      0.95      0.91       164\n",
            " Physalis with Husk       0.67      0.83      0.74       164\n",
            "          Pineapple       0.73      0.76      0.74       166\n",
            "     Pineapple Mini       0.66      0.72      0.69       163\n",
            "       Pitahaya Red       0.56      0.70      0.62       166\n",
            "               Plum       0.64      0.64      0.64       151\n",
            "             Plum 2       0.57      0.39      0.47       142\n",
            "             Plum 3       0.45      0.65      0.53       304\n",
            "        Pomegranate       0.51      0.26      0.34       164\n",
            "     Pomelo Sweetie       0.48      0.65      0.55       153\n",
            "         Potato Red       0.43      0.41      0.42       150\n",
            "  Potato Red Washed       0.38      0.34      0.36       151\n",
            "       Potato Sweet       0.53      0.33      0.40       150\n",
            "       Potato White       0.26      0.31      0.28       150\n",
            "             Quince       0.71      0.69      0.70       166\n",
            "           Rambutan       0.42      0.42      0.42       164\n",
            "          Raspberry       0.59      0.55      0.57       166\n",
            "         Redcurrant       0.93      0.80      0.86       164\n",
            "              Salak       0.69      0.75      0.72       162\n",
            "         Strawberry       0.70      0.84      0.76       164\n",
            "   Strawberry Wedge       0.61      0.52      0.56       246\n",
            "          Tamarillo       0.87      0.84      0.86       166\n",
            "            Tangelo       0.87      0.63      0.73       166\n",
            "           Tomato 1       0.73      0.52      0.61       246\n",
            "           Tomato 2       0.65      0.91      0.76       225\n",
            "           Tomato 3       0.51      0.47      0.49       246\n",
            "           Tomato 4       0.82      0.94      0.87       160\n",
            "  Tomato Cherry Red       0.79      0.85      0.82       164\n",
            "      Tomato Maroon       0.73      0.54      0.62       127\n",
            "      Tomato Yellow       0.73      0.70      0.71       153\n",
            "             Walnut       0.90      0.92      0.91       249\n",
            "\n",
            "           accuracy                           0.65     20622\n",
            "          macro avg       0.65      0.64      0.64     20622\n",
            "       weighted avg       0.65      0.65      0.64     20622\n",
            "\n"
          ],
          "name": "stdout"
        }
      ]
    },
    {
      "cell_type": "markdown",
      "metadata": {
        "id": "F52MyTQq-VA5",
        "colab_type": "text"
      },
      "source": [
        "DecisionTree cho kết quả tốt hơn với LogisticRegression."
      ]
    },
    {
      "cell_type": "markdown",
      "metadata": {
        "id": "Ke10PXwV8bMT",
        "colab_type": "text"
      },
      "source": [
        "#### RandomForestClassifier"
      ]
    },
    {
      "cell_type": "code",
      "metadata": {
        "id": "bA7D6wNjnpnz",
        "colab_type": "code",
        "outputId": "93266052-5f99-43fe-ad79-70d88f379e7e",
        "colab": {
          "base_uri": "https://localhost:8080/",
          "height": 136
        }
      },
      "source": [
        "random_forest.fit(train_resnet, y_train)"
      ],
      "execution_count": 0,
      "outputs": [
        {
          "output_type": "execute_result",
          "data": {
            "text/plain": [
              "RandomForestClassifier(bootstrap=True, class_weight=None, criterion='gini',\n",
              "                       max_depth=None, max_features='auto', max_leaf_nodes=None,\n",
              "                       min_impurity_decrease=0.0, min_impurity_split=None,\n",
              "                       min_samples_leaf=1, min_samples_split=2,\n",
              "                       min_weight_fraction_leaf=0.0, n_estimators=10,\n",
              "                       n_jobs=None, oob_score=False, random_state=None,\n",
              "                       verbose=0, warm_start=False)"
            ]
          },
          "metadata": {
            "tags": []
          },
          "execution_count": 51
        }
      ]
    },
    {
      "cell_type": "code",
      "metadata": {
        "id": "lGuYqLgT8aKX",
        "colab_type": "code",
        "colab": {}
      },
      "source": [
        "valid_preds = random_forest.predict(valid_resnet)"
      ],
      "execution_count": 0,
      "outputs": []
    },
    {
      "cell_type": "code",
      "metadata": {
        "id": "bd4si5MU8aIT",
        "colab_type": "code",
        "outputId": "67c05631-964d-4c1c-e02c-aac54b017b3c",
        "colab": {
          "base_uri": "https://localhost:8080/",
          "height": 1000
        }
      },
      "source": [
        "print(classification_report(y_test, valid_preds))"
      ],
      "execution_count": 0,
      "outputs": [
        {
          "output_type": "stream",
          "text": [
            "                     precision    recall  f1-score   support\n",
            "\n",
            "     Apple Braeburn       0.73      0.70      0.71       164\n",
            " Apple Crimson Snow       0.68      0.89      0.77       148\n",
            "     Apple Golden 1       0.64      0.59      0.62       164\n",
            "     Apple Golden 2       0.81      0.87      0.84       164\n",
            "     Apple Golden 3       0.64      0.96      0.77       161\n",
            " Apple Granny Smith       0.78      0.80      0.79       164\n",
            "    Apple Pink Lady       0.56      0.84      0.67       152\n",
            "        Apple Red 1       0.72      0.52      0.61       164\n",
            "        Apple Red 2       0.74      0.63      0.68       164\n",
            "        Apple Red 3       0.66      0.67      0.66       144\n",
            "Apple Red Delicious       0.73      0.89      0.80       166\n",
            " Apple Red Yellow 1       0.81      0.88      0.85       164\n",
            " Apple Red Yellow 2       0.68      0.96      0.79       219\n",
            "            Apricot       0.69      0.71      0.70       164\n",
            "            Avocado       0.72      0.83      0.77       143\n",
            "       Avocado ripe       0.77      0.93      0.84       166\n",
            "             Banana       0.65      0.75      0.69       166\n",
            " Banana Lady Finger       0.52      0.77      0.62       152\n",
            "         Banana Red       0.72      0.61      0.66       166\n",
            "           Beetroot       0.67      0.57      0.62       150\n",
            "          Blueberry       0.79      0.71      0.75       154\n",
            "       Cactus fruit       0.68      0.93      0.78       166\n",
            "       Cantaloupe 1       0.87      1.00      0.93       164\n",
            "       Cantaloupe 2       0.93      0.99      0.96       164\n",
            "          Carambula       0.63      0.55      0.59       166\n",
            "        Cauliflower       0.92      0.98      0.95       234\n",
            "           Cherry 1       0.76      0.99      0.86       164\n",
            "           Cherry 2       0.75      0.92      0.83       246\n",
            "     Cherry Rainier       0.85      0.67      0.75       246\n",
            "   Cherry Wax Black       0.95      1.00      0.97       164\n",
            "     Cherry Wax Red       0.98      1.00      0.99       164\n",
            "  Cherry Wax Yellow       0.99      1.00      1.00       164\n",
            "           Chestnut       0.79      0.56      0.65       153\n",
            "         Clementine       0.90      0.67      0.77       166\n",
            "              Cocos       0.61      0.76      0.68       166\n",
            "              Dates       0.71      0.77      0.74       166\n",
            "           Eggplant       0.87      0.47      0.61       156\n",
            "        Ginger Root       0.94      1.00      0.97        99\n",
            "         Granadilla       0.86      1.00      0.93       166\n",
            "         Grape Blue       0.95      0.99      0.97       328\n",
            "         Grape Pink       0.81      0.84      0.82       164\n",
            "        Grape White       0.87      1.00      0.93       166\n",
            "      Grape White 2       0.90      0.92      0.91       166\n",
            "      Grape White 3       0.93      0.95      0.94       164\n",
            "      Grape White 4       0.90      0.95      0.92       158\n",
            "    Grapefruit Pink       0.96      0.98      0.97       166\n",
            "   Grapefruit White       0.89      0.97      0.93       164\n",
            "              Guava       0.88      0.87      0.88       166\n",
            "           Hazelnut       0.91      1.00      0.95       157\n",
            "        Huckleberry       0.90      0.85      0.87       166\n",
            "               Kaki       0.79      0.84      0.82       166\n",
            "               Kiwi       0.53      0.70      0.61       156\n",
            "           Kohlrabi       0.72      0.76      0.74       157\n",
            "           Kumquats       0.89      0.96      0.92       166\n",
            "              Lemon       0.77      0.74      0.75       164\n",
            "        Lemon Meyer       0.92      0.87      0.89       166\n",
            "              Limes       0.86      0.77      0.82       166\n",
            "             Lychee       0.88      0.70      0.78       166\n",
            "          Mandarine       0.88      0.69      0.77       166\n",
            "              Mango       0.74      0.69      0.71       166\n",
            "          Mango Red       0.78      0.70      0.74       142\n",
            "          Mangostan       0.92      0.69      0.79       102\n",
            "           Maracuja       0.72      0.91      0.80       166\n",
            " Melon Piel de Sapo       0.76      0.94      0.84       246\n",
            "           Mulberry       0.89      0.93      0.91       164\n",
            "          Nectarine       0.67      0.65      0.66       164\n",
            "     Nectarine Flat       0.59      0.78      0.67       160\n",
            "         Nut Forest       0.95      1.00      0.97       218\n",
            "          Nut Pecan       0.86      1.00      0.93       178\n",
            "          Onion Red       0.61      0.80      0.69       150\n",
            "   Onion Red Peeled       0.65      0.63      0.64       155\n",
            "        Onion White       0.47      0.71      0.57       146\n",
            "             Orange       0.95      0.94      0.95       160\n",
            "             Papaya       0.96      0.95      0.96       164\n",
            "      Passion Fruit       0.93      0.69      0.79       166\n",
            "              Peach       0.74      0.91      0.82       164\n",
            "            Peach 2       0.96      0.98      0.97       246\n",
            "         Peach Flat       0.79      0.69      0.74       164\n",
            "               Pear       0.78      0.63      0.70       164\n",
            "         Pear Abate       0.84      0.83      0.84       166\n",
            "       Pear Forelle       0.76      0.84      0.80       234\n",
            "        Pear Kaiser       0.99      0.89      0.94       102\n",
            "       Pear Monster       0.82      0.73      0.77       166\n",
            "           Pear Red       0.84      0.46      0.59       222\n",
            "      Pear Williams       0.90      0.77      0.83       166\n",
            "             Pepino       0.71      0.68      0.69       166\n",
            "       Pepper Green       0.98      0.89      0.93       148\n",
            "         Pepper Red       0.85      0.67      0.75       222\n",
            "      Pepper Yellow       0.76      0.68      0.72       222\n",
            "           Physalis       0.97      0.99      0.98       164\n",
            " Physalis with Husk       0.80      0.90      0.85       164\n",
            "          Pineapple       0.96      0.98      0.97       166\n",
            "     Pineapple Mini       0.92      0.99      0.95       163\n",
            "       Pitahaya Red       0.82      0.72      0.76       166\n",
            "               Plum       0.85      0.77      0.81       151\n",
            "             Plum 2       0.85      0.64      0.73       142\n",
            "             Plum 3       0.64      0.91      0.75       304\n",
            "        Pomegranate       0.86      0.59      0.70       164\n",
            "     Pomelo Sweetie       0.91      0.73      0.81       153\n",
            "         Potato Red       0.71      0.33      0.45       150\n",
            "  Potato Red Washed       0.77      0.61      0.68       151\n",
            "       Potato Sweet       0.73      0.40      0.52       150\n",
            "       Potato White       0.70      0.49      0.57       150\n",
            "             Quince       0.90      0.73      0.80       166\n",
            "           Rambutan       0.86      0.72      0.78       164\n",
            "          Raspberry       0.93      0.81      0.87       166\n",
            "         Redcurrant       1.00      0.96      0.98       164\n",
            "              Salak       0.92      0.91      0.92       162\n",
            "         Strawberry       0.98      0.82      0.89       164\n",
            "   Strawberry Wedge       0.79      0.61      0.69       246\n",
            "          Tamarillo       0.96      0.96      0.96       166\n",
            "            Tangelo       0.87      0.75      0.81       166\n",
            "           Tomato 1       0.93      0.89      0.91       246\n",
            "           Tomato 2       0.84      0.96      0.90       225\n",
            "           Tomato 3       0.93      0.63      0.75       246\n",
            "           Tomato 4       0.97      1.00      0.98       160\n",
            "  Tomato Cherry Red       0.96      0.91      0.93       164\n",
            "      Tomato Maroon       0.85      0.79      0.82       127\n",
            "      Tomato Yellow       0.90      0.74      0.81       153\n",
            "             Walnut       0.97      1.00      0.98       249\n",
            "\n",
            "           accuracy                           0.81     20622\n",
            "          macro avg       0.82      0.80      0.80     20622\n",
            "       weighted avg       0.82      0.81      0.81     20622\n",
            "\n"
          ],
          "name": "stdout"
        }
      ]
    },
    {
      "cell_type": "markdown",
      "metadata": {
        "id": "aRdaukOL-aEw",
        "colab_type": "text"
      },
      "source": [
        "ResNet50 đạt kết quả tốt nhất khi kết hợp với RandomForest, đạt trên 80%."
      ]
    },
    {
      "cell_type": "markdown",
      "metadata": {
        "id": "ZmbneSXr8_yo",
        "colab_type": "text"
      },
      "source": [
        "### VGG16 + Dense"
      ]
    },
    {
      "cell_type": "code",
      "metadata": {
        "id": "DQn30Fxj-rlp",
        "colab_type": "code",
        "colab": {}
      },
      "source": [
        "vgg16 = VGG16(include_top=False, weights='imagenet', input_shape =(100, 100, 3))"
      ],
      "execution_count": 0,
      "outputs": []
    },
    {
      "cell_type": "code",
      "metadata": {
        "id": "aumoM5JC-qnZ",
        "colab_type": "code",
        "colab": {}
      },
      "source": [
        "model = Sequential()\n",
        "model.add(vgg16)\n",
        "model.add(GlobalAveragePooling2D())\n",
        "model.add(Dense(256, activation='relu'))\n",
        "model.add(Dense(120, activation='softmax'))"
      ],
      "execution_count": 0,
      "outputs": []
    },
    {
      "cell_type": "code",
      "metadata": {
        "id": "REy2N0BaKc6i",
        "colab_type": "code",
        "outputId": "b6c48323-0d4d-4847-c33d-e90a3f32c757",
        "colab": {
          "base_uri": "https://localhost:8080/",
          "height": 289
        }
      },
      "source": [
        "model.summary()"
      ],
      "execution_count": 0,
      "outputs": [
        {
          "output_type": "stream",
          "text": [
            "Model: \"sequential_8\"\n",
            "_________________________________________________________________\n",
            "Layer (type)                 Output Shape              Param #   \n",
            "=================================================================\n",
            "vgg16 (Model)                (None, 3, 3, 512)         14714688  \n",
            "_________________________________________________________________\n",
            "global_average_pooling2d_9 ( (None, 512)               0         \n",
            "_________________________________________________________________\n",
            "dense_19 (Dense)             (None, 256)               131328    \n",
            "_________________________________________________________________\n",
            "dense_20 (Dense)             (None, 120)               30840     \n",
            "=================================================================\n",
            "Total params: 14,876,856\n",
            "Trainable params: 14,876,856\n",
            "Non-trainable params: 0\n",
            "_________________________________________________________________\n"
          ],
          "name": "stdout"
        }
      ]
    },
    {
      "cell_type": "code",
      "metadata": {
        "id": "P1W-qH_IkF1o",
        "colab_type": "code",
        "colab": {}
      },
      "source": [
        "model.compile(optimizer=optimizers.SGD(lr=1e-4, momentum=0.9), loss='categorical_crossentropy', metrics=['accuracy'])"
      ],
      "execution_count": 0,
      "outputs": []
    },
    {
      "cell_type": "code",
      "metadata": {
        "id": "Pdq2vYbEkFz8",
        "colab_type": "code",
        "outputId": "49db8e09-7f34-44f4-e38b-dcce4e416083",
        "colab": {
          "base_uri": "https://localhost:8080/",
          "height": 241
        }
      },
      "source": [
        "model.fit(X_train, y_train_onehot, validation_data=(X_test, y_test_onehot), epochs=5)"
      ],
      "execution_count": 0,
      "outputs": [
        {
          "output_type": "stream",
          "text": [
            "Train on 60498 samples, validate on 20622 samples\n",
            "Epoch 1/5\n",
            "60498/60498 [==============================] - 144s 2ms/step - loss: 1.6065 - acc: 0.6537 - val_loss: 0.1717 - val_acc: 0.9504\n",
            "Epoch 2/5\n",
            "60498/60498 [==============================] - 136s 2ms/step - loss: 0.0142 - acc: 0.9966 - val_loss: 0.1916 - val_acc: 0.9514\n",
            "Epoch 3/5\n",
            "60498/60498 [==============================] - 135s 2ms/step - loss: 0.0044 - acc: 0.9991 - val_loss: 0.0828 - val_acc: 0.9764\n",
            "Epoch 4/5\n",
            "60498/60498 [==============================] - 135s 2ms/step - loss: 6.4094e-04 - acc: 1.0000 - val_loss: 0.0939 - val_acc: 0.9729\n",
            "Epoch 5/5\n",
            "60498/60498 [==============================] - 135s 2ms/step - loss: 1.8764e-04 - acc: 1.0000 - val_loss: 0.0759 - val_acc: 0.9759\n"
          ],
          "name": "stdout"
        },
        {
          "output_type": "execute_result",
          "data": {
            "text/plain": [
              "<keras.callbacks.History at 0x7fadf2f76898>"
            ]
          },
          "metadata": {
            "tags": []
          },
          "execution_count": 132
        }
      ]
    },
    {
      "cell_type": "markdown",
      "metadata": {
        "id": "Pm_m5KMKRfjA",
        "colab_type": "text"
      },
      "source": [
        "VGG16 đạt kết quả khá tốt, ngay epoch đầu tiên đã được 95%, đến epoch thứ 3 đạt được 97%. "
      ]
    },
    {
      "cell_type": "markdown",
      "metadata": {
        "id": "2iBLk2eeQNFZ",
        "colab_type": "text"
      },
      "source": [
        "### VGG19 + Dense"
      ]
    },
    {
      "cell_type": "code",
      "metadata": {
        "id": "318-YdxBQMvD",
        "colab_type": "code",
        "colab": {}
      },
      "source": [
        "vgg19 = VGG19(weights='imagenet', include_top=False)\n",
        "model = Sequential()\n",
        "model.add(vgg19)\n",
        "model.add(GlobalAveragePooling2D())\n",
        "model.add(Dense(256, activation='relu'))\n",
        "model.add(Dense(120, activation='softmax'))"
      ],
      "execution_count": 0,
      "outputs": []
    },
    {
      "cell_type": "code",
      "metadata": {
        "id": "XYY3CquQQMit",
        "colab_type": "code",
        "colab": {}
      },
      "source": [
        "model.compile(optimizer=optimizers.SGD(lr=1e-4, momentum=0.9), loss='categorical_crossentropy', metrics=['accuracy'])"
      ],
      "execution_count": 0,
      "outputs": []
    },
    {
      "cell_type": "code",
      "metadata": {
        "id": "g3s-AL-7Wdsh",
        "colab_type": "code",
        "outputId": "920eca5f-5108-460c-a419-d7a9b7a4d23e",
        "colab": {
          "base_uri": "https://localhost:8080/",
          "height": 289
        }
      },
      "source": [
        "model.summary()"
      ],
      "execution_count": 0,
      "outputs": [
        {
          "output_type": "stream",
          "text": [
            "Model: \"sequential_12\"\n",
            "_________________________________________________________________\n",
            "Layer (type)                 Output Shape              Param #   \n",
            "=================================================================\n",
            "vgg19 (Model)                (None, None, None, 512)   20024384  \n",
            "_________________________________________________________________\n",
            "global_average_pooling2d_12  (None, 512)               0         \n",
            "_________________________________________________________________\n",
            "dense_25 (Dense)             (None, 256)               131328    \n",
            "_________________________________________________________________\n",
            "dense_26 (Dense)             (None, 120)               30840     \n",
            "=================================================================\n",
            "Total params: 20,186,552\n",
            "Trainable params: 20,186,552\n",
            "Non-trainable params: 0\n",
            "_________________________________________________________________\n"
          ],
          "name": "stdout"
        }
      ]
    },
    {
      "cell_type": "code",
      "metadata": {
        "id": "t4RaL2tMQMb1",
        "colab_type": "code",
        "outputId": "5ad2836e-4dec-4dc9-8d5d-b594e98d3ada",
        "colab": {
          "base_uri": "https://localhost:8080/",
          "height": 241
        }
      },
      "source": [
        "model.fit(X_train, y_train_onehot, validation_data=(X_test, y_test_onehot), epochs=5)"
      ],
      "execution_count": 0,
      "outputs": [
        {
          "output_type": "stream",
          "text": [
            "Train on 60498 samples, validate on 20622 samples\n",
            "Epoch 1/5\n",
            "60498/60498 [==============================] - 168s 3ms/step - loss: 1.4146 - acc: 0.6943 - val_loss: 0.1968 - val_acc: 0.9453\n",
            "Epoch 2/5\n",
            "60498/60498 [==============================] - 159s 3ms/step - loss: 0.0127 - acc: 0.9970 - val_loss: 0.0790 - val_acc: 0.9747\n",
            "Epoch 3/5\n",
            "60498/60498 [==============================] - 160s 3ms/step - loss: 0.0010 - acc: 0.9998 - val_loss: 0.0594 - val_acc: 0.9827\n",
            "Epoch 4/5\n",
            "60498/60498 [==============================] - 161s 3ms/step - loss: 1.5487e-04 - acc: 1.0000 - val_loss: 0.0602 - val_acc: 0.9824\n",
            "Epoch 5/5\n",
            "60498/60498 [==============================] - 162s 3ms/step - loss: 6.8430e-05 - acc: 1.0000 - val_loss: 0.0614 - val_acc: 0.9823\n"
          ],
          "name": "stdout"
        },
        {
          "output_type": "execute_result",
          "data": {
            "text/plain": [
              "<keras.callbacks.History at 0x7fadf2c85b00>"
            ]
          },
          "metadata": {
            "tags": []
          },
          "execution_count": 136
        }
      ]
    },
    {
      "cell_type": "markdown",
      "metadata": {
        "id": "Te43jzoPVYWg",
        "colab_type": "text"
      },
      "source": [
        "VGG19 cho kết quả cũng rất tốt, 98% sau epoch thứ 3."
      ]
    },
    {
      "cell_type": "markdown",
      "metadata": {
        "id": "Kz-B2h4JP19u",
        "colab_type": "text"
      },
      "source": [
        "### Resnet50 + Dense"
      ]
    },
    {
      "cell_type": "code",
      "metadata": {
        "id": "uBNeAo1sPecB",
        "colab_type": "code",
        "outputId": "83c5120f-8bad-4f99-e408-840cf59f0ab2",
        "colab": {
          "base_uri": "https://localhost:8080/",
          "height": 71
        }
      },
      "source": [
        "resnet = ResNet50(weights='imagenet', include_top=False)\n",
        "model = Sequential()\n",
        "model.add(resnet)\n",
        "model.add(GlobalAveragePooling2D())\n",
        "model.add(Dense(256, activation='relu'))\n",
        "model.add(Dense(120, activation='softmax'))"
      ],
      "execution_count": 0,
      "outputs": [
        {
          "output_type": "stream",
          "text": [
            "/usr/local/lib/python3.6/dist-packages/keras_applications/resnet50.py:265: UserWarning: The output shape of `ResNet50(include_top=False)` has been changed since Keras 2.2.0.\n",
            "  warnings.warn('The output shape of `ResNet50(include_top=False)` '\n"
          ],
          "name": "stderr"
        }
      ]
    },
    {
      "cell_type": "code",
      "metadata": {
        "id": "JB248AJhPeaA",
        "colab_type": "code",
        "colab": {}
      },
      "source": [
        "model.compile(optimizer=optimizers.SGD(lr=1e-4, momentum=0.9), loss='categorical_crossentropy', metrics=['accuracy'])"
      ],
      "execution_count": 0,
      "outputs": []
    },
    {
      "cell_type": "code",
      "metadata": {
        "id": "YeEvjtvaWgo5",
        "colab_type": "code",
        "outputId": "9cac7407-8989-44ba-ad6f-de86cb97477f",
        "colab": {
          "base_uri": "https://localhost:8080/",
          "height": 289
        }
      },
      "source": [
        "model.summary()"
      ],
      "execution_count": 0,
      "outputs": [
        {
          "output_type": "stream",
          "text": [
            "Model: \"sequential_11\"\n",
            "_________________________________________________________________\n",
            "Layer (type)                 Output Shape              Param #   \n",
            "=================================================================\n",
            "resnet50 (Model)             (None, None, None, 2048)  23587712  \n",
            "_________________________________________________________________\n",
            "global_average_pooling2d_11  (None, 2048)              0         \n",
            "_________________________________________________________________\n",
            "dense_23 (Dense)             (None, 256)               524544    \n",
            "_________________________________________________________________\n",
            "dense_24 (Dense)             (None, 120)               30840     \n",
            "=================================================================\n",
            "Total params: 24,143,096\n",
            "Trainable params: 24,089,976\n",
            "Non-trainable params: 53,120\n",
            "_________________________________________________________________\n"
          ],
          "name": "stdout"
        }
      ]
    },
    {
      "cell_type": "code",
      "metadata": {
        "id": "yNJqlPIzPeXJ",
        "colab_type": "code",
        "outputId": "d7ebff4a-52cf-438f-ef35-a2232dd48f40",
        "colab": {
          "base_uri": "https://localhost:8080/",
          "height": 221
        }
      },
      "source": [
        "model.fit(X_train, y_train_onehot, validation_data=(X_test, y_test_onehot), epochs=5)"
      ],
      "execution_count": 0,
      "outputs": [
        {
          "output_type": "stream",
          "text": [
            "Train on 60498 samples, validate on 20622 samples\n",
            "Epoch 1/5\n",
            "60498/60498 [==============================] - 205s 3ms/step - loss: 1.5223 - acc: 0.7588 - val_loss: 0.2275 - val_acc: 0.9600\n",
            "Epoch 2/5\n",
            "60498/60498 [==============================] - 187s 3ms/step - loss: 0.0818 - acc: 0.9962 - val_loss: 0.0889 - val_acc: 0.9818\n",
            "Epoch 3/5\n",
            "60498/60498 [==============================] - 188s 3ms/step - loss: 0.0310 - acc: 0.9992 - val_loss: 0.0594 - val_acc: 0.9858\n",
            "Epoch 4/5\n",
            "60498/60498 [==============================] - 187s 3ms/step - loss: 0.0189 - acc: 0.9997 - val_loss: 0.0496 - val_acc: 0.9879\n",
            "Epoch 5/5\n",
            "60498/60498 [==============================] - 188s 3ms/step - loss: 0.0138 - acc: 0.9996 - val_loss: 0.0414 - val_acc: 0.9901\n"
          ],
          "name": "stdout"
        },
        {
          "output_type": "execute_result",
          "data": {
            "text/plain": [
              "<keras.callbacks.History at 0x7fadf03ae668>"
            ]
          },
          "metadata": {
            "tags": []
          },
          "execution_count": 139
        }
      ]
    },
    {
      "cell_type": "markdown",
      "metadata": {
        "id": "H23fEEhCXkLY",
        "colab_type": "text"
      },
      "source": [
        "Resnet50 đạt khá tốt, 98% sau epoch thứ 2."
      ]
    },
    {
      "cell_type": "markdown",
      "metadata": {
        "id": "GjqKv92K9ErQ",
        "colab_type": "text"
      },
      "source": [
        "# Conclusion"
      ]
    },
    {
      "cell_type": "markdown",
      "metadata": {
        "id": "clsCehgW9IGy",
        "colab_type": "text"
      },
      "source": [
        "Chỉ với 8 layer, model đạt kết quả khá tốt tới 97%.\n",
        "\n",
        "VGG16 kết hợp với LogisticRegression cho kết quả tốt nhất(92% - 93%), tiếp theo là VGG19 kết hơp với LogisticRegression(90% - 91%).\n",
        "\n",
        "ResNet50 cho kết quả không được tốt bằng VGG16 và VGG19, kết quả tốt nhất là ResNet50 + RandomForest đạt hơn 80 %."
      ]
    },
    {
      "cell_type": "markdown",
      "metadata": {
        "id": "ZM0kN00zW-p_",
        "colab_type": "text"
      },
      "source": [
        "Cả 3 sau khi thêm GlobalAveragePooling2D và 2 layer Dense đều cho kết quả rất tốt, trên 97% chỉ sau 3 epochs."
      ]
    },
    {
      "cell_type": "markdown",
      "metadata": {
        "id": "Jg4Ik6KMX62r",
        "colab_type": "text"
      },
      "source": [
        "Sử dụng pretrained model cộng thêm một số layer khác sẽ cho kết quả tốt hơn khi sử dụng 1 classifier."
      ]
    },
    {
      "cell_type": "code",
      "metadata": {
        "id": "0HYtT76PW_bA",
        "colab_type": "code",
        "colab": {}
      },
      "source": [
        ""
      ],
      "execution_count": 0,
      "outputs": []
    }
  ]
}