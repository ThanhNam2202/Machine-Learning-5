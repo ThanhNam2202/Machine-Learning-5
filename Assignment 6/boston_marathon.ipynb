{
  "nbformat": 4,
  "nbformat_minor": 0,
  "metadata": {
    "colab": {
      "name": "boston marathon.ipynb",
      "provenance": [],
      "collapsed_sections": [],
      "toc_visible": true
    },
    "kernelspec": {
      "name": "python3",
      "display_name": "Python 3"
    }
  },
  "cells": [
    {
      "cell_type": "markdown",
      "metadata": {
        "id": "tA7JIS9gGDql",
        "colab_type": "text"
      },
      "source": [
        "# Table of contents\n",
        "\n",
        "- Introduction.\n",
        "- Load data.\n",
        "- Data Processing.\n",
        "  - Missing value.\n",
        "  - Visualization.\n",
        "   - Numeric feature.\n",
        "   - Add features.\n",
        "   - Category feature.\n",
        "- KMneans.\n",
        "  - Gender.\n",
        "  - Age.\n",
        "  - Official time.\n",
        "- Kmeans with PCA.\n",
        "  - Gender.\n",
        "  - Age.\n",
        "  - Official time.\n",
        "- Conclusions.\n",
        "\n",
        "\n"
      ]
    },
    {
      "cell_type": "markdown",
      "metadata": {
        "id": "ZwN8E5vFGgRK",
        "colab_type": "text"
      },
      "source": [
        "# Introduction"
      ]
    },
    {
      "cell_type": "markdown",
      "metadata": {
        "id": "YAe-GnusK1Zo",
        "colab_type": "text"
      },
      "source": [
        "Tập dữ liệu Boston Marathon gồm thông tin của những vận động viên tham gia cuộc thi.\n",
        "\n",
        "Sử dụng KMeans để phân nhóm dữ liệu. Sau đó kiểm tra thời gian chạy, giới tính, độ tuổi của các nhóm sau khi sử dụng KMeans.\n",
        "\n",
        "Sử dụng PCA so sánh kết quả với không sử dụng CPA."
      ]
    },
    {
      "cell_type": "markdown",
      "metadata": {
        "id": "biGXxyElLzw3",
        "colab_type": "text"
      },
      "source": [
        "# Load data"
      ]
    },
    {
      "cell_type": "code",
      "metadata": {
        "id": "IcPH3OzRqhkG",
        "colab_type": "code",
        "outputId": "700f1222-c13b-4466-ac43-0282a810b97f",
        "colab": {
          "base_uri": "https://localhost:8080/",
          "height": 54
        }
      },
      "source": [
        "from google.colab import drive\n",
        "drive.mount('/content/drive')"
      ],
      "execution_count": 1,
      "outputs": [
        {
          "output_type": "stream",
          "text": [
            "Drive already mounted at /content/drive; to attempt to forcibly remount, call drive.mount(\"/content/drive\", force_remount=True).\n"
          ],
          "name": "stdout"
        }
      ]
    },
    {
      "cell_type": "code",
      "metadata": {
        "id": "Brxlczewqqq5",
        "colab_type": "code",
        "colab": {}
      },
      "source": [
        "import pandas as pd\n",
        "import numpy as np\n",
        "from sklearn.cluster import KMeans \n",
        "from sklearn import metrics \n",
        "from scipy.spatial.distance import cdist \n",
        "import matplotlib.pyplot as plt \n",
        "import random\n",
        "from sklearn.decomposition import PCA"
      ],
      "execution_count": 0,
      "outputs": []
    },
    {
      "cell_type": "code",
      "metadata": {
        "id": "2Efw3VlmqxlN",
        "colab_type": "code",
        "colab": {}
      },
      "source": [
        "data = pd.read_csv('/content/drive/My Drive/ML 5/results.csv')"
      ],
      "execution_count": 0,
      "outputs": []
    },
    {
      "cell_type": "code",
      "metadata": {
        "id": "LuFfh8ELq3EA",
        "colab_type": "code",
        "outputId": "fd115253-f242-4582-8ae4-e7101fb23fb2",
        "colab": {
          "base_uri": "https://localhost:8080/",
          "height": 34
        }
      },
      "source": [
        "data.shape"
      ],
      "execution_count": 4,
      "outputs": [
        {
          "output_type": "execute_result",
          "data": {
            "text/plain": [
              "(31984, 21)"
            ]
          },
          "metadata": {
            "tags": []
          },
          "execution_count": 4
        }
      ]
    },
    {
      "cell_type": "markdown",
      "metadata": {
        "id": "TpJBZE3Ir4Wb",
        "colab_type": "text"
      },
      "source": [
        "Dữ liệu gồm 31984 dòng và 21 cột."
      ]
    },
    {
      "cell_type": "code",
      "metadata": {
        "id": "dczosllHq5py",
        "colab_type": "code",
        "outputId": "9af46b6d-1509-482a-bb3c-ae5dc6d66ae2",
        "colab": {
          "base_uri": "https://localhost:8080/",
          "height": 309
        }
      },
      "source": [
        "pd.set_option('display.max_columns', 300)\n",
        "data.head(5)"
      ],
      "execution_count": 5,
      "outputs": [
        {
          "output_type": "execute_result",
          "data": {
            "text/html": [
              "<div>\n",
              "<style scoped>\n",
              "    .dataframe tbody tr th:only-of-type {\n",
              "        vertical-align: middle;\n",
              "    }\n",
              "\n",
              "    .dataframe tbody tr th {\n",
              "        vertical-align: top;\n",
              "    }\n",
              "\n",
              "    .dataframe thead th {\n",
              "        text-align: right;\n",
              "    }\n",
              "</style>\n",
              "<table border=\"1\" class=\"dataframe\">\n",
              "  <thead>\n",
              "    <tr style=\"text-align: right;\">\n",
              "      <th></th>\n",
              "      <th>10k</th>\n",
              "      <th>name</th>\n",
              "      <th>division</th>\n",
              "      <th>25k</th>\n",
              "      <th>gender</th>\n",
              "      <th>age</th>\n",
              "      <th>official</th>\n",
              "      <th>bib</th>\n",
              "      <th>genderdiv</th>\n",
              "      <th>ctz</th>\n",
              "      <th>35k</th>\n",
              "      <th>overall</th>\n",
              "      <th>pace</th>\n",
              "      <th>state</th>\n",
              "      <th>30k</th>\n",
              "      <th>5k</th>\n",
              "      <th>half</th>\n",
              "      <th>20k</th>\n",
              "      <th>country</th>\n",
              "      <th>city</th>\n",
              "      <th>40k</th>\n",
              "    </tr>\n",
              "  </thead>\n",
              "  <tbody>\n",
              "    <tr>\n",
              "      <th>0</th>\n",
              "      <td>17.37</td>\n",
              "      <td>Yamamoto, Hiroyuki</td>\n",
              "      <td>8</td>\n",
              "      <td>47.67</td>\n",
              "      <td>M</td>\n",
              "      <td>47</td>\n",
              "      <td>85.25</td>\n",
              "      <td>W1</td>\n",
              "      <td>8</td>\n",
              "      <td>NaN</td>\n",
              "      <td>71.40</td>\n",
              "      <td>8</td>\n",
              "      <td>3.27</td>\n",
              "      <td>NaN</td>\n",
              "      <td>59.18</td>\n",
              "      <td>8.02</td>\n",
              "      <td>39.72</td>\n",
              "      <td>37.65</td>\n",
              "      <td>JPN</td>\n",
              "      <td>Fukuoka</td>\n",
              "      <td>80.43</td>\n",
              "    </tr>\n",
              "    <tr>\n",
              "      <th>1</th>\n",
              "      <td>32.58</td>\n",
              "      <td>Jeptoo, Rita</td>\n",
              "      <td>1</td>\n",
              "      <td>82.43</td>\n",
              "      <td>F</td>\n",
              "      <td>33</td>\n",
              "      <td>138.95</td>\n",
              "      <td>F1</td>\n",
              "      <td>1</td>\n",
              "      <td>NaN</td>\n",
              "      <td>116.37</td>\n",
              "      <td>21</td>\n",
              "      <td>5.30</td>\n",
              "      <td>NaN</td>\n",
              "      <td>99.33</td>\n",
              "      <td>16.22</td>\n",
              "      <td>69.47</td>\n",
              "      <td>65.83</td>\n",
              "      <td>KEN</td>\n",
              "      <td>Eldoret</td>\n",
              "      <td>132.10</td>\n",
              "    </tr>\n",
              "    <tr>\n",
              "      <th>2</th>\n",
              "      <td>16.62</td>\n",
              "      <td>Van Dyk, Ernst F.</td>\n",
              "      <td>1</td>\n",
              "      <td>45.80</td>\n",
              "      <td>M</td>\n",
              "      <td>41</td>\n",
              "      <td>80.60</td>\n",
              "      <td>W2</td>\n",
              "      <td>1</td>\n",
              "      <td>NaN</td>\n",
              "      <td>67.42</td>\n",
              "      <td>1</td>\n",
              "      <td>3.08</td>\n",
              "      <td>NaN</td>\n",
              "      <td>56.45</td>\n",
              "      <td>7.75</td>\n",
              "      <td>38.03</td>\n",
              "      <td>36.10</td>\n",
              "      <td>RSA</td>\n",
              "      <td>Paarl</td>\n",
              "      <td>76.10</td>\n",
              "    </tr>\n",
              "    <tr>\n",
              "      <th>3</th>\n",
              "      <td>32.57</td>\n",
              "      <td>Dibaba, Mare</td>\n",
              "      <td>3</td>\n",
              "      <td>82.43</td>\n",
              "      <td>F</td>\n",
              "      <td>24</td>\n",
              "      <td>140.58</td>\n",
              "      <td>F2</td>\n",
              "      <td>3</td>\n",
              "      <td>NaN</td>\n",
              "      <td>116.37</td>\n",
              "      <td>27</td>\n",
              "      <td>5.37</td>\n",
              "      <td>NaN</td>\n",
              "      <td>99.33</td>\n",
              "      <td>16.20</td>\n",
              "      <td>69.47</td>\n",
              "      <td>65.83</td>\n",
              "      <td>ETH</td>\n",
              "      <td>Shoa</td>\n",
              "      <td>132.95</td>\n",
              "    </tr>\n",
              "    <tr>\n",
              "      <th>4</th>\n",
              "      <td>17.12</td>\n",
              "      <td>Hokinoue, Kota</td>\n",
              "      <td>2</td>\n",
              "      <td>46.37</td>\n",
              "      <td>M</td>\n",
              "      <td>40</td>\n",
              "      <td>81.23</td>\n",
              "      <td>W3</td>\n",
              "      <td>2</td>\n",
              "      <td>NaN</td>\n",
              "      <td>67.83</td>\n",
              "      <td>2</td>\n",
              "      <td>3.10</td>\n",
              "      <td>NaN</td>\n",
              "      <td>57.03</td>\n",
              "      <td>8.02</td>\n",
              "      <td>38.60</td>\n",
              "      <td>36.58</td>\n",
              "      <td>JPN</td>\n",
              "      <td>Nogata Fukuoka</td>\n",
              "      <td>76.72</td>\n",
              "    </tr>\n",
              "  </tbody>\n",
              "</table>\n",
              "</div>"
            ],
            "text/plain": [
              "     10k                name  division    25k gender  age  official bib  \\\n",
              "0  17.37  Yamamoto, Hiroyuki         8  47.67      M   47     85.25  W1   \n",
              "1  32.58        Jeptoo, Rita         1  82.43      F   33    138.95  F1   \n",
              "2  16.62   Van Dyk, Ernst F.         1  45.80      M   41     80.60  W2   \n",
              "3  32.57        Dibaba, Mare         3  82.43      F   24    140.58  F2   \n",
              "4  17.12      Hokinoue, Kota         2  46.37      M   40     81.23  W3   \n",
              "\n",
              "   genderdiv  ctz     35k  overall  pace state    30k     5k   half    20k  \\\n",
              "0          8  NaN   71.40        8  3.27   NaN  59.18   8.02  39.72  37.65   \n",
              "1          1  NaN  116.37       21  5.30   NaN  99.33  16.22  69.47  65.83   \n",
              "2          1  NaN   67.42        1  3.08   NaN  56.45   7.75  38.03  36.10   \n",
              "3          3  NaN  116.37       27  5.37   NaN  99.33  16.20  69.47  65.83   \n",
              "4          2  NaN   67.83        2  3.10   NaN  57.03   8.02  38.60  36.58   \n",
              "\n",
              "  country            city     40k  \n",
              "0     JPN         Fukuoka   80.43  \n",
              "1     KEN         Eldoret  132.10  \n",
              "2     RSA           Paarl   76.10  \n",
              "3     ETH            Shoa  132.95  \n",
              "4     JPN  Nogata Fukuoka   76.72  "
            ]
          },
          "metadata": {
            "tags": []
          },
          "execution_count": 5
        }
      ]
    },
    {
      "cell_type": "markdown",
      "metadata": {
        "id": "GO0zyrc7WEJu",
        "colab_type": "text"
      },
      "source": [
        "Dữ liệu không có gì bất thường.\n",
        "\n",
        "Mô tả:\n",
        "\n",
        "Bib: Assigned race number based on qualifying time. \"F\" could appear for female elites.\n",
        "\n",
        "Name: Name of runner (Last, First)\n",
        "\n",
        "Age: Age on race day\n",
        "\n",
        "Gender: Runner's gender\n",
        "\n",
        "City: Runner's city of residence\n",
        "\n",
        "State: Runner's state of residence (if applicable).\n",
        "\n",
        "Country: Runner's country of residence\n",
        "\n",
        "ctz: Runner's nationality (optional)\n",
        "\n",
        "5K: Runner's time at 5k\n",
        "\n",
        "10K: Runner's time at 10k\n",
        "\n",
        "20K: Runner's time at 20k\n",
        "\n",
        "Half: Runner's time at halfway point\n",
        "\n",
        "25K: Runner's time at 25k\n",
        "\n",
        "30K: Runner's time at 30k\n",
        "\n",
        "35K: Runner's time at 35k\n",
        "\n",
        "40K: Runner's time at 40k\n",
        "\n",
        "Pace: Runner's overall minute per mile pace\n",
        "\n",
        "Official Time: Runner's official finishing time\n",
        "\n",
        "Overall: Runner's overall raking\n",
        "\n",
        "genderdiv: Runner's ranking in their gender\n",
        "\n",
        "Division: Runner's ranking in their age division\n",
        "\n",
        "Data types:\n",
        "\n",
        "Các dữ liệu dạng số: 5k, 10k, 20k, 25k, 30K, 35K, 40K, half, age, official, overall, pace, genderdiv, Division.\n",
        "\n",
        "Các dữ liệu category: name, gender, bib, ctz, state, country, city."
      ]
    },
    {
      "cell_type": "markdown",
      "metadata": {
        "id": "FP6xBAxaGzFq",
        "colab_type": "text"
      },
      "source": [
        "# Data Processing"
      ]
    },
    {
      "cell_type": "markdown",
      "metadata": {
        "id": "O8uWLqXWGxnJ",
        "colab_type": "text"
      },
      "source": [
        "Loại bỏ cột name vì nó không ảnh hưởng đến clustering."
      ]
    },
    {
      "cell_type": "code",
      "metadata": {
        "id": "BAnI-8NCq9NX",
        "colab_type": "code",
        "colab": {}
      },
      "source": [
        "data.drop(columns=['name'], inplace=True)"
      ],
      "execution_count": 0,
      "outputs": []
    },
    {
      "cell_type": "markdown",
      "metadata": {
        "id": "N1aFcbcGsAh-",
        "colab_type": "text"
      },
      "source": [
        "###  Missing value"
      ]
    },
    {
      "cell_type": "code",
      "metadata": {
        "id": "rgPH1z9Pq_JK",
        "colab_type": "code",
        "outputId": "051dadb8-c77c-4064-9eb5-b11a0375973a",
        "colab": {
          "base_uri": "https://localhost:8080/",
          "height": 374
        }
      },
      "source": [
        "data.isnull().sum()*100/len(data)"
      ],
      "execution_count": 7,
      "outputs": [
        {
          "output_type": "execute_result",
          "data": {
            "text/plain": [
              "10k           0.000000\n",
              "division      0.000000\n",
              "25k           0.000000\n",
              "gender        0.000000\n",
              "age           0.000000\n",
              "official      0.000000\n",
              "bib           0.000000\n",
              "genderdiv     0.000000\n",
              "ctz          96.110555\n",
              "35k           0.000000\n",
              "overall       0.000000\n",
              "pace          0.000000\n",
              "state         8.054027\n",
              "30k           0.000000\n",
              "5k            0.000000\n",
              "half          0.000000\n",
              "20k           0.000000\n",
              "country       0.000000\n",
              "city          0.003127\n",
              "40k           0.000000\n",
              "dtype: float64"
            ]
          },
          "metadata": {
            "tags": []
          },
          "execution_count": 7
        }
      ]
    },
    {
      "cell_type": "markdown",
      "metadata": {
        "id": "XTHYMFF3sFIZ",
        "colab_type": "text"
      },
      "source": [
        "ctz chứa tỷ lệ missing value lớn(trên 96%) nên sẽ loại bỏ cột này.\n",
        "\n",
        "số lượng hàng chứa missing value nhỏ nên sẽ loại bỏ những hàng chứa missing value.\n"
      ]
    },
    {
      "cell_type": "code",
      "metadata": {
        "id": "PGFERTleQa1L",
        "colab_type": "code",
        "colab": {}
      },
      "source": [
        "data.drop(columns=['ctz'], inplace=True)"
      ],
      "execution_count": 0,
      "outputs": []
    },
    {
      "cell_type": "code",
      "metadata": {
        "id": "NJLnHCdWGj5D",
        "colab_type": "code",
        "colab": {}
      },
      "source": [
        "cols = ['5k', '10k', '20k', '25k', '30k', '35k', '40k', 'half']\n",
        "for col in cols:\n",
        "\tdata[col] = pd.to_numeric(data[col], errors='coerce')"
      ],
      "execution_count": 0,
      "outputs": []
    },
    {
      "cell_type": "code",
      "metadata": {
        "id": "J35mjRaxVRCn",
        "colab_type": "code",
        "colab": {}
      },
      "source": [
        "columns_numb = ['5k', '10k', '20k', '25k', '30k', '35k', '40k', 'half', 'age', 'official',\n",
        "      'overall', 'pace', 'genderdiv', 'division']\n",
        "columns_categories = ['gender', 'bib', 'state', 'country', 'city']"
      ],
      "execution_count": 0,
      "outputs": []
    },
    {
      "cell_type": "code",
      "metadata": {
        "id": "FHUCQOD-w37O",
        "colab_type": "code",
        "colab": {}
      },
      "source": [
        "for col in data.columns:\n",
        "  data.drop(data[data[col].isnull()].index, inplace=True)"
      ],
      "execution_count": 0,
      "outputs": []
    },
    {
      "cell_type": "code",
      "metadata": {
        "id": "lB-pJXFMrej1",
        "colab_type": "code",
        "outputId": "9124fede-b104-4ec0-c435-d5772690dc6a",
        "colab": {
          "base_uri": "https://localhost:8080/",
          "height": 425
        }
      },
      "source": [
        "data.info()"
      ],
      "execution_count": 12,
      "outputs": [
        {
          "output_type": "stream",
          "text": [
            "<class 'pandas.core.frame.DataFrame'>\n",
            "Int64Index: 29103 entries, 9 to 31983\n",
            "Data columns (total 19 columns):\n",
            "10k          29103 non-null float64\n",
            "division     29103 non-null int64\n",
            "25k          29103 non-null float64\n",
            "gender       29103 non-null object\n",
            "age          29103 non-null int64\n",
            "official     29103 non-null float64\n",
            "bib          29103 non-null object\n",
            "genderdiv    29103 non-null int64\n",
            "35k          29103 non-null float64\n",
            "overall      29103 non-null int64\n",
            "pace         29103 non-null float64\n",
            "state        29103 non-null object\n",
            "30k          29103 non-null float64\n",
            "5k           29103 non-null float64\n",
            "half         29103 non-null float64\n",
            "20k          29103 non-null float64\n",
            "country      29103 non-null object\n",
            "city         29103 non-null object\n",
            "40k          29103 non-null float64\n",
            "dtypes: float64(10), int64(4), object(5)\n",
            "memory usage: 4.4+ MB\n"
          ],
          "name": "stdout"
        }
      ]
    },
    {
      "cell_type": "markdown",
      "metadata": {
        "id": "kzZndQ1FIKW8",
        "colab_type": "text"
      },
      "source": [
        "### Visualization"
      ]
    },
    {
      "cell_type": "markdown",
      "metadata": {
        "id": "FQtHGkvFbXi-",
        "colab_type": "text"
      },
      "source": [
        "####  Numeric feature"
      ]
    },
    {
      "cell_type": "code",
      "metadata": {
        "id": "ZrnfObnPrCNO",
        "colab_type": "code",
        "outputId": "240eca83-9264-4062-cb97-0ac045ba7c11",
        "colab": {
          "base_uri": "https://localhost:8080/",
          "height": 607
        }
      },
      "source": [
        "histt = data[columns_numb].hist(figsize=(10, 10))"
      ],
      "execution_count": 13,
      "outputs": [
        {
          "output_type": "display_data",
          "data": {
            "image/png": "[encoded data removed]",
            "text/plain": [
              "<Figure size 720x720 with 16 Axes>"
            ]
          },
          "metadata": {
            "tags": []
          }
        }
      ]
    },
    {
      "cell_type": "markdown",
      "metadata": {
        "id": "q7tB1yC-QqiK",
        "colab_type": "text"
      },
      "source": [
        "Tuổi những người tham gia tập trung từ 25 đến 52 tuổi, devision tập trung nhiều ở những người có rank từ 1 đến 2500,...\n",
        "\n",
        "Overall và genderdiv giá trị phân bố đều, không tập trung vào khoảng nào cụ thể, riêng genderdiv, số lượng người tham gia có genderdiv trên 1300 ít hơn 1 nửa so với các khoảng còn lại."
      ]
    },
    {
      "cell_type": "markdown",
      "metadata": {
        "id": "FJDbv7V8LfmW",
        "colab_type": "text"
      },
      "source": [
        "Dữ liệu chứa 1 số outlier, sử dụng IQR để remove outlier."
      ]
    },
    {
      "cell_type": "code",
      "metadata": {
        "id": "ealy271CLg6D",
        "colab_type": "code",
        "colab": {}
      },
      "source": [
        "q1 = data[columns_numb].quantile(0.25)\n",
        "\n",
        "q3 = data[columns_numb].quantile(0.75)\n",
        "\n",
        "cut_off = 1.5 * (q3 - q1)\n",
        "\n",
        "lower_range, upper_range = q1 - cut_off, q3 + cut_off\n",
        "for column in columns_numb:\n",
        "  data = data[(data[column] > lower_range[column]) & (data[column] < upper_range[column])]"
      ],
      "execution_count": 0,
      "outputs": []
    },
    {
      "cell_type": "code",
      "metadata": {
        "id": "-tw8haG2R2Ev",
        "colab_type": "code",
        "outputId": "cd8f8104-ff04-4953-93b4-f381762d8756",
        "colab": {
          "base_uri": "https://localhost:8080/",
          "height": 34
        }
      },
      "source": [
        "data.shape"
      ],
      "execution_count": 15,
      "outputs": [
        {
          "output_type": "execute_result",
          "data": {
            "text/plain": [
              "(27358, 19)"
            ]
          },
          "metadata": {
            "tags": []
          },
          "execution_count": 15
        }
      ]
    },
    {
      "cell_type": "markdown",
      "metadata": {
        "id": "TKMsnsrDWpy9",
        "colab_type": "text"
      },
      "source": [
        "Dữ liệu còn 27358 dòng và 19 cột."
      ]
    },
    {
      "cell_type": "code",
      "metadata": {
        "id": "5iNhVgB-P2t2",
        "colab_type": "code",
        "outputId": "67994732-5185-411d-9fce-eeb71a9ce5c6",
        "colab": {
          "base_uri": "https://localhost:8080/",
          "height": 607
        }
      },
      "source": [
        "histt = data.hist(figsize=(10, 10))"
      ],
      "execution_count": 16,
      "outputs": [
        {
          "output_type": "display_data",
          "data": {
            "image/png": "[encoded data removed]",
            "text/plain": [
              "<Figure size 720x720 with 16 Axes>"
            ]
          },
          "metadata": {
            "tags": []
          }
        }
      ]
    },
    {
      "cell_type": "markdown",
      "metadata": {
        "id": "gRNUPmGuW3Z1",
        "colab_type": "text"
      },
      "source": [
        "Các outlier đã được loại bỏ."
      ]
    },
    {
      "cell_type": "markdown",
      "metadata": {
        "id": "EoglbAGnHt69",
        "colab_type": "text"
      },
      "source": [
        "So sánh thời gian chạy của nam và nữ."
      ]
    },
    {
      "cell_type": "code",
      "metadata": {
        "id": "24A_389IHD8B",
        "colab_type": "code",
        "colab": {
          "base_uri": "https://localhost:8080/",
          "height": 367
        },
        "outputId": "853ded6d-0ce1-4973-fec5-4ddcc8892c3a"
      },
      "source": [
        "plt.hist(data[data.gender == 'M'].official, 90,normed=1, histtype='step', lw=2, label=\"M\")\n",
        "plt.hist(data[data.gender == 'F'].official, 90,normed=1, histtype='step', lw=2, label=\"F\")\n",
        "plt.legend()\n",
        "plt.show()"
      ],
      "execution_count": 17,
      "outputs": [
        {
          "output_type": "stream",
          "text": [
            "/usr/local/lib/python3.6/dist-packages/ipykernel_launcher.py:1: MatplotlibDeprecationWarning: \n",
            "The 'normed' kwarg was deprecated in Matplotlib 2.1 and will be removed in 3.1. Use 'density' instead.\n",
            "  \"\"\"Entry point for launching an IPython kernel.\n",
            "/usr/local/lib/python3.6/dist-packages/ipykernel_launcher.py:2: MatplotlibDeprecationWarning: \n",
            "The 'normed' kwarg was deprecated in Matplotlib 2.1 and will be removed in 3.1. Use 'density' instead.\n",
            "  \n"
          ],
          "name": "stderr"
        },
        {
          "output_type": "display_data",
          "data": {
            "image/png": "[encoded data removed]",
            "text/plain": [
              "<Figure size 432x288 with 1 Axes>"
            ]
          },
          "metadata": {
            "tags": []
          }
        }
      ]
    },
    {
      "cell_type": "markdown",
      "metadata": {
        "id": "xiKhyITpHsRf",
        "colab_type": "text"
      },
      "source": [
        "Nam có thời gian hoàn thành cuộc đua sớm hơn nữ -> nhóm có nhiều nam sẽ có thời gian chạy trung bình nhanh hơn nhóm có nhiều nữ."
      ]
    },
    {
      "cell_type": "markdown",
      "metadata": {
        "id": "-ZFBQWGZXF-2",
        "colab_type": "text"
      },
      "source": [
        "#### Add features"
      ]
    },
    {
      "cell_type": "markdown",
      "metadata": {
        "id": "vBqgePsbXOps",
        "colab_type": "text"
      },
      "source": [
        "Tại mỗi chặng đua, vận động viên có thể có tốc độ khác nhau, ta sẽ thêm feature speed tại mỗi chặng đua."
      ]
    },
    {
      "cell_type": "code",
      "metadata": {
        "id": "w_FAeHbomxsZ",
        "colab_type": "code",
        "colab": {}
      },
      "source": [
        "data_org = data.copy()"
      ],
      "execution_count": 0,
      "outputs": []
    },
    {
      "cell_type": "code",
      "metadata": {
        "id": "uu28ttluXPmN",
        "colab_type": "code",
        "colab": {}
      },
      "source": [
        "columns_distance = ['5k', '10k', '20k', '25k', '30k', '35k', '40k', 'half']\n",
        "distance = [5, 10, 20, 25, 30, 35, 40 ,50]"
      ],
      "execution_count": 0,
      "outputs": []
    },
    {
      "cell_type": "code",
      "metadata": {
        "id": "SnvU3eMBXPkf",
        "colab_type": "code",
        "colab": {}
      },
      "source": [
        "for column, dis in zip(columns_distance, distance):\n",
        "  data[column + '_speed'] = dis/data[column]"
      ],
      "execution_count": 0,
      "outputs": []
    },
    {
      "cell_type": "code",
      "metadata": {
        "id": "B1vNS1lHXPhO",
        "colab_type": "code",
        "outputId": "ee0efb6d-2d7e-4df9-b522-de71a7ca2d1b",
        "colab": {
          "base_uri": "https://localhost:8080/",
          "height": 258
        }
      },
      "source": [
        "data.head()"
      ],
      "execution_count": 21,
      "outputs": [
        {
          "output_type": "execute_result",
          "data": {
            "text/html": [
              "<div>\n",
              "<style scoped>\n",
              "    .dataframe tbody tr th:only-of-type {\n",
              "        vertical-align: middle;\n",
              "    }\n",
              "\n",
              "    .dataframe tbody tr th {\n",
              "        vertical-align: top;\n",
              "    }\n",
              "\n",
              "    .dataframe thead th {\n",
              "        text-align: right;\n",
              "    }\n",
              "</style>\n",
              "<table border=\"1\" class=\"dataframe\">\n",
              "  <thead>\n",
              "    <tr style=\"text-align: right;\">\n",
              "      <th></th>\n",
              "      <th>10k</th>\n",
              "      <th>division</th>\n",
              "      <th>25k</th>\n",
              "      <th>gender</th>\n",
              "      <th>age</th>\n",
              "      <th>official</th>\n",
              "      <th>bib</th>\n",
              "      <th>genderdiv</th>\n",
              "      <th>35k</th>\n",
              "      <th>overall</th>\n",
              "      <th>pace</th>\n",
              "      <th>state</th>\n",
              "      <th>30k</th>\n",
              "      <th>5k</th>\n",
              "      <th>half</th>\n",
              "      <th>20k</th>\n",
              "      <th>country</th>\n",
              "      <th>city</th>\n",
              "      <th>40k</th>\n",
              "      <th>5k_speed</th>\n",
              "      <th>10k_speed</th>\n",
              "      <th>20k_speed</th>\n",
              "      <th>25k_speed</th>\n",
              "      <th>30k_speed</th>\n",
              "      <th>35k_speed</th>\n",
              "      <th>40k_speed</th>\n",
              "      <th>half_speed</th>\n",
              "    </tr>\n",
              "  </thead>\n",
              "  <tbody>\n",
              "    <tr>\n",
              "      <th>9</th>\n",
              "      <td>30.48</td>\n",
              "      <td>20</td>\n",
              "      <td>77.68</td>\n",
              "      <td>M</td>\n",
              "      <td>31</td>\n",
              "      <td>137.83</td>\n",
              "      <td>6</td>\n",
              "      <td>20</td>\n",
              "      <td>112.27</td>\n",
              "      <td>20</td>\n",
              "      <td>5.27</td>\n",
              "      <td>CA</td>\n",
              "      <td>94.78</td>\n",
              "      <td>15.15</td>\n",
              "      <td>65.23</td>\n",
              "      <td>61.78</td>\n",
              "      <td>USA</td>\n",
              "      <td>Redding</td>\n",
              "      <td>129.83</td>\n",
              "      <td>0.330033</td>\n",
              "      <td>0.328084</td>\n",
              "      <td>0.323729</td>\n",
              "      <td>0.321833</td>\n",
              "      <td>0.316522</td>\n",
              "      <td>0.311748</td>\n",
              "      <td>0.308095</td>\n",
              "      <td>0.766518</td>\n",
              "    </tr>\n",
              "    <tr>\n",
              "      <th>15</th>\n",
              "      <td>33.93</td>\n",
              "      <td>10</td>\n",
              "      <td>85.03</td>\n",
              "      <td>F</td>\n",
              "      <td>30</td>\n",
              "      <td>143.90</td>\n",
              "      <td>F8</td>\n",
              "      <td>10</td>\n",
              "      <td>119.68</td>\n",
              "      <td>46</td>\n",
              "      <td>5.50</td>\n",
              "      <td>MI</td>\n",
              "      <td>102.40</td>\n",
              "      <td>16.92</td>\n",
              "      <td>71.68</td>\n",
              "      <td>67.92</td>\n",
              "      <td>USA</td>\n",
              "      <td>Rochester Hills</td>\n",
              "      <td>136.47</td>\n",
              "      <td>0.295508</td>\n",
              "      <td>0.294724</td>\n",
              "      <td>0.294464</td>\n",
              "      <td>0.294014</td>\n",
              "      <td>0.292969</td>\n",
              "      <td>0.292447</td>\n",
              "      <td>0.293105</td>\n",
              "      <td>0.697545</td>\n",
              "    </tr>\n",
              "    <tr>\n",
              "      <th>34</th>\n",
              "      <td>32.57</td>\n",
              "      <td>7</td>\n",
              "      <td>82.43</td>\n",
              "      <td>F</td>\n",
              "      <td>32</td>\n",
              "      <td>142.03</td>\n",
              "      <td>F17</td>\n",
              "      <td>7</td>\n",
              "      <td>116.63</td>\n",
              "      <td>37</td>\n",
              "      <td>5.43</td>\n",
              "      <td>OR</td>\n",
              "      <td>99.33</td>\n",
              "      <td>16.20</td>\n",
              "      <td>69.45</td>\n",
              "      <td>65.82</td>\n",
              "      <td>USA</td>\n",
              "      <td>Portland</td>\n",
              "      <td>134.00</td>\n",
              "      <td>0.308642</td>\n",
              "      <td>0.307031</td>\n",
              "      <td>0.303859</td>\n",
              "      <td>0.303288</td>\n",
              "      <td>0.302024</td>\n",
              "      <td>0.300094</td>\n",
              "      <td>0.298507</td>\n",
              "      <td>0.719942</td>\n",
              "    </tr>\n",
              "    <tr>\n",
              "      <th>37</th>\n",
              "      <td>30.52</td>\n",
              "      <td>16</td>\n",
              "      <td>77.58</td>\n",
              "      <td>M</td>\n",
              "      <td>35</td>\n",
              "      <td>136.10</td>\n",
              "      <td>18</td>\n",
              "      <td>16</td>\n",
              "      <td>110.90</td>\n",
              "      <td>16</td>\n",
              "      <td>5.20</td>\n",
              "      <td>AZ</td>\n",
              "      <td>93.82</td>\n",
              "      <td>15.17</td>\n",
              "      <td>65.28</td>\n",
              "      <td>61.83</td>\n",
              "      <td>USA</td>\n",
              "      <td>Tucson</td>\n",
              "      <td>128.17</td>\n",
              "      <td>0.329598</td>\n",
              "      <td>0.327654</td>\n",
              "      <td>0.323468</td>\n",
              "      <td>0.322248</td>\n",
              "      <td>0.319761</td>\n",
              "      <td>0.315600</td>\n",
              "      <td>0.312086</td>\n",
              "      <td>0.765931</td>\n",
              "    </tr>\n",
              "    <tr>\n",
              "      <th>39</th>\n",
              "      <td>30.48</td>\n",
              "      <td>1</td>\n",
              "      <td>76.00</td>\n",
              "      <td>M</td>\n",
              "      <td>38</td>\n",
              "      <td>128.62</td>\n",
              "      <td>19</td>\n",
              "      <td>1</td>\n",
              "      <td>106.62</td>\n",
              "      <td>1</td>\n",
              "      <td>4.92</td>\n",
              "      <td>CA</td>\n",
              "      <td>91.17</td>\n",
              "      <td>15.15</td>\n",
              "      <td>64.35</td>\n",
              "      <td>61.08</td>\n",
              "      <td>USA</td>\n",
              "      <td>San Diego</td>\n",
              "      <td>121.82</td>\n",
              "      <td>0.330033</td>\n",
              "      <td>0.328084</td>\n",
              "      <td>0.327439</td>\n",
              "      <td>0.328947</td>\n",
              "      <td>0.329056</td>\n",
              "      <td>0.328269</td>\n",
              "      <td>0.328353</td>\n",
              "      <td>0.777001</td>\n",
              "    </tr>\n",
              "  </tbody>\n",
              "</table>\n",
              "</div>"
            ],
            "text/plain": [
              "      10k  division    25k gender  age  official  bib  genderdiv     35k  \\\n",
              "9   30.48        20  77.68      M   31    137.83    6         20  112.27   \n",
              "15  33.93        10  85.03      F   30    143.90   F8         10  119.68   \n",
              "34  32.57         7  82.43      F   32    142.03  F17          7  116.63   \n",
              "37  30.52        16  77.58      M   35    136.10   18         16  110.90   \n",
              "39  30.48         1  76.00      M   38    128.62   19          1  106.62   \n",
              "\n",
              "    overall  pace state     30k     5k   half    20k country             city  \\\n",
              "9        20  5.27    CA   94.78  15.15  65.23  61.78     USA          Redding   \n",
              "15       46  5.50    MI  102.40  16.92  71.68  67.92     USA  Rochester Hills   \n",
              "34       37  5.43    OR   99.33  16.20  69.45  65.82     USA         Portland   \n",
              "37       16  5.20    AZ   93.82  15.17  65.28  61.83     USA           Tucson   \n",
              "39        1  4.92    CA   91.17  15.15  64.35  61.08     USA        San Diego   \n",
              "\n",
              "       40k  5k_speed  10k_speed  20k_speed  25k_speed  30k_speed  35k_speed  \\\n",
              "9   129.83  0.330033   0.328084   0.323729   0.321833   0.316522   0.311748   \n",
              "15  136.47  0.295508   0.294724   0.294464   0.294014   0.292969   0.292447   \n",
              "34  134.00  0.308642   0.307031   0.303859   0.303288   0.302024   0.300094   \n",
              "37  128.17  0.329598   0.327654   0.323468   0.322248   0.319761   0.315600   \n",
              "39  121.82  0.330033   0.328084   0.327439   0.328947   0.329056   0.328269   \n",
              "\n",
              "    40k_speed  half_speed  \n",
              "9    0.308095    0.766518  \n",
              "15   0.293105    0.697545  \n",
              "34   0.298507    0.719942  \n",
              "37   0.312086    0.765931  \n",
              "39   0.328353    0.777001  "
            ]
          },
          "metadata": {
            "tags": []
          },
          "execution_count": 21
        }
      ]
    },
    {
      "cell_type": "markdown",
      "metadata": {
        "id": "k9cGnP_3a9nG",
        "colab_type": "text"
      },
      "source": [
        "Dữ liệu đã có thêm tốc độ tại mỗi chặng đua."
      ]
    },
    {
      "cell_type": "markdown",
      "metadata": {
        "id": "xxmlp3Mcbk-N",
        "colab_type": "text"
      },
      "source": [
        "#### Category feature"
      ]
    },
    {
      "cell_type": "markdown",
      "metadata": {
        "id": "PM7oYABNbriK",
        "colab_type": "text"
      },
      "source": [
        "Convert category feature to onehot encoding."
      ]
    },
    {
      "cell_type": "code",
      "metadata": {
        "id": "p2Sftq0cc_40",
        "colab_type": "code",
        "outputId": "6e11f57b-af71-4e42-eab5-fa60da99954a",
        "colab": {
          "base_uri": "https://localhost:8080/",
          "height": 102
        }
      },
      "source": [
        "for column in columns_categories:\n",
        "  print(column, ':  ', len(data[column].unique()))"
      ],
      "execution_count": 22,
      "outputs": [
        {
          "output_type": "stream",
          "text": [
            "gender :   2\n",
            "bib :   27358\n",
            "state :   68\n",
            "country :   2\n",
            "city :   4582\n"
          ],
          "name": "stdout"
        }
      ]
    },
    {
      "cell_type": "markdown",
      "metadata": {
        "id": "65dY_xLDdfGi",
        "colab_type": "text"
      },
      "source": [
        "2 feature bib và city có quá nhiều giá trị unique nên ta sẽ loại bỏ nó."
      ]
    },
    {
      "cell_type": "code",
      "metadata": {
        "id": "wet1g6IDddwh",
        "colab_type": "code",
        "colab": {}
      },
      "source": [
        "data.drop(columns=['bib', 'city'], inplace=True)"
      ],
      "execution_count": 0,
      "outputs": []
    },
    {
      "cell_type": "code",
      "metadata": {
        "id": "kTpXQynseRgs",
        "colab_type": "code",
        "colab": {}
      },
      "source": [
        "columns_categories = ['gender', 'state', 'country']"
      ],
      "execution_count": 0,
      "outputs": []
    },
    {
      "cell_type": "code",
      "metadata": {
        "id": "h2XoXK7PXPeq",
        "colab_type": "code",
        "colab": {}
      },
      "source": [
        "for column in columns_categories:\n",
        "    dfDummies = pd.get_dummies(data[column], prefix = column)\n",
        "    data = pd.concat([data, dfDummies], axis=1)"
      ],
      "execution_count": 0,
      "outputs": []
    },
    {
      "cell_type": "code",
      "metadata": {
        "id": "XEjkVK78gUgZ",
        "colab_type": "code",
        "colab": {}
      },
      "source": [
        "data.drop(columns=columns_categories, inplace=True)"
      ],
      "execution_count": 0,
      "outputs": []
    },
    {
      "cell_type": "code",
      "metadata": {
        "id": "VYpQ0S9Gcsdd",
        "colab_type": "code",
        "outputId": "3550c79d-0e6a-447b-8020-4df05f413ac1",
        "colab": {
          "base_uri": "https://localhost:8080/",
          "height": 224
        }
      },
      "source": [
        "data.head()"
      ],
      "execution_count": 27,
      "outputs": [
        {
          "output_type": "execute_result",
          "data": {
            "text/html": [
              "<div>\n",
              "<style scoped>\n",
              "    .dataframe tbody tr th:only-of-type {\n",
              "        vertical-align: middle;\n",
              "    }\n",
              "\n",
              "    .dataframe tbody tr th {\n",
              "        vertical-align: top;\n",
              "    }\n",
              "\n",
              "    .dataframe thead th {\n",
              "        text-align: right;\n",
              "    }\n",
              "</style>\n",
              "<table border=\"1\" class=\"dataframe\">\n",
              "  <thead>\n",
              "    <tr style=\"text-align: right;\">\n",
              "      <th></th>\n",
              "      <th>10k</th>\n",
              "      <th>division</th>\n",
              "      <th>25k</th>\n",
              "      <th>age</th>\n",
              "      <th>official</th>\n",
              "      <th>genderdiv</th>\n",
              "      <th>35k</th>\n",
              "      <th>overall</th>\n",
              "      <th>pace</th>\n",
              "      <th>30k</th>\n",
              "      <th>5k</th>\n",
              "      <th>half</th>\n",
              "      <th>20k</th>\n",
              "      <th>40k</th>\n",
              "      <th>5k_speed</th>\n",
              "      <th>10k_speed</th>\n",
              "      <th>20k_speed</th>\n",
              "      <th>25k_speed</th>\n",
              "      <th>30k_speed</th>\n",
              "      <th>35k_speed</th>\n",
              "      <th>40k_speed</th>\n",
              "      <th>half_speed</th>\n",
              "      <th>gender_F</th>\n",
              "      <th>gender_M</th>\n",
              "      <th>state_AA</th>\n",
              "      <th>state_AB</th>\n",
              "      <th>state_AE</th>\n",
              "      <th>state_AK</th>\n",
              "      <th>state_AL</th>\n",
              "      <th>state_AP</th>\n",
              "      <th>state_AR</th>\n",
              "      <th>state_AZ</th>\n",
              "      <th>state_BC</th>\n",
              "      <th>state_CA</th>\n",
              "      <th>state_CO</th>\n",
              "      <th>state_CT</th>\n",
              "      <th>state_DC</th>\n",
              "      <th>state_DE</th>\n",
              "      <th>state_FL</th>\n",
              "      <th>state_GA</th>\n",
              "      <th>state_GU</th>\n",
              "      <th>state_HI</th>\n",
              "      <th>state_IA</th>\n",
              "      <th>state_ID</th>\n",
              "      <th>state_IL</th>\n",
              "      <th>state_IN</th>\n",
              "      <th>state_KS</th>\n",
              "      <th>state_KY</th>\n",
              "      <th>state_LA</th>\n",
              "      <th>state_MA</th>\n",
              "      <th>state_MB</th>\n",
              "      <th>state_MD</th>\n",
              "      <th>state_ME</th>\n",
              "      <th>state_MI</th>\n",
              "      <th>state_MN</th>\n",
              "      <th>state_MO</th>\n",
              "      <th>state_MS</th>\n",
              "      <th>state_MT</th>\n",
              "      <th>state_NB</th>\n",
              "      <th>state_NC</th>\n",
              "      <th>state_ND</th>\n",
              "      <th>state_NE</th>\n",
              "      <th>state_NH</th>\n",
              "      <th>state_NJ</th>\n",
              "      <th>state_NL</th>\n",
              "      <th>state_NM</th>\n",
              "      <th>state_NS</th>\n",
              "      <th>state_NT</th>\n",
              "      <th>state_NV</th>\n",
              "      <th>state_NY</th>\n",
              "      <th>state_OH</th>\n",
              "      <th>state_OK</th>\n",
              "      <th>state_ON</th>\n",
              "      <th>state_OR</th>\n",
              "      <th>state_PA</th>\n",
              "      <th>state_PE</th>\n",
              "      <th>state_PR</th>\n",
              "      <th>state_QC</th>\n",
              "      <th>state_RI</th>\n",
              "      <th>state_SC</th>\n",
              "      <th>state_SD</th>\n",
              "      <th>state_SK</th>\n",
              "      <th>state_TN</th>\n",
              "      <th>state_TX</th>\n",
              "      <th>state_UT</th>\n",
              "      <th>state_VA</th>\n",
              "      <th>state_VT</th>\n",
              "      <th>state_WA</th>\n",
              "      <th>state_WI</th>\n",
              "      <th>state_WV</th>\n",
              "      <th>state_WY</th>\n",
              "      <th>state_YT</th>\n",
              "      <th>country_CAN</th>\n",
              "      <th>country_USA</th>\n",
              "    </tr>\n",
              "  </thead>\n",
              "  <tbody>\n",
              "    <tr>\n",
              "      <th>9</th>\n",
              "      <td>30.48</td>\n",
              "      <td>20</td>\n",
              "      <td>77.68</td>\n",
              "      <td>31</td>\n",
              "      <td>137.83</td>\n",
              "      <td>20</td>\n",
              "      <td>112.27</td>\n",
              "      <td>20</td>\n",
              "      <td>5.27</td>\n",
              "      <td>94.78</td>\n",
              "      <td>15.15</td>\n",
              "      <td>65.23</td>\n",
              "      <td>61.78</td>\n",
              "      <td>129.83</td>\n",
              "      <td>0.330033</td>\n",
              "      <td>0.328084</td>\n",
              "      <td>0.323729</td>\n",
              "      <td>0.321833</td>\n",
              "      <td>0.316522</td>\n",
              "      <td>0.311748</td>\n",
              "      <td>0.308095</td>\n",
              "      <td>0.766518</td>\n",
              "      <td>0</td>\n",
              "      <td>1</td>\n",
              "      <td>0</td>\n",
              "      <td>0</td>\n",
              "      <td>0</td>\n",
              "      <td>0</td>\n",
              "      <td>0</td>\n",
              "      <td>0</td>\n",
              "      <td>0</td>\n",
              "      <td>0</td>\n",
              "      <td>0</td>\n",
              "      <td>1</td>\n",
              "      <td>0</td>\n",
              "      <td>0</td>\n",
              "      <td>0</td>\n",
              "      <td>0</td>\n",
              "      <td>0</td>\n",
              "      <td>0</td>\n",
              "      <td>0</td>\n",
              "      <td>0</td>\n",
              "      <td>0</td>\n",
              "      <td>0</td>\n",
              "      <td>0</td>\n",
              "      <td>0</td>\n",
              "      <td>0</td>\n",
              "      <td>0</td>\n",
              "      <td>0</td>\n",
              "      <td>0</td>\n",
              "      <td>0</td>\n",
              "      <td>0</td>\n",
              "      <td>0</td>\n",
              "      <td>0</td>\n",
              "      <td>0</td>\n",
              "      <td>0</td>\n",
              "      <td>0</td>\n",
              "      <td>0</td>\n",
              "      <td>0</td>\n",
              "      <td>0</td>\n",
              "      <td>0</td>\n",
              "      <td>0</td>\n",
              "      <td>0</td>\n",
              "      <td>0</td>\n",
              "      <td>0</td>\n",
              "      <td>0</td>\n",
              "      <td>0</td>\n",
              "      <td>0</td>\n",
              "      <td>0</td>\n",
              "      <td>0</td>\n",
              "      <td>0</td>\n",
              "      <td>0</td>\n",
              "      <td>0</td>\n",
              "      <td>0</td>\n",
              "      <td>0</td>\n",
              "      <td>0</td>\n",
              "      <td>0</td>\n",
              "      <td>0</td>\n",
              "      <td>0</td>\n",
              "      <td>0</td>\n",
              "      <td>0</td>\n",
              "      <td>0</td>\n",
              "      <td>0</td>\n",
              "      <td>0</td>\n",
              "      <td>0</td>\n",
              "      <td>0</td>\n",
              "      <td>0</td>\n",
              "      <td>0</td>\n",
              "      <td>0</td>\n",
              "      <td>0</td>\n",
              "      <td>0</td>\n",
              "      <td>0</td>\n",
              "      <td>0</td>\n",
              "      <td>1</td>\n",
              "    </tr>\n",
              "    <tr>\n",
              "      <th>15</th>\n",
              "      <td>33.93</td>\n",
              "      <td>10</td>\n",
              "      <td>85.03</td>\n",
              "      <td>30</td>\n",
              "      <td>143.90</td>\n",
              "      <td>10</td>\n",
              "      <td>119.68</td>\n",
              "      <td>46</td>\n",
              "      <td>5.50</td>\n",
              "      <td>102.40</td>\n",
              "      <td>16.92</td>\n",
              "      <td>71.68</td>\n",
              "      <td>67.92</td>\n",
              "      <td>136.47</td>\n",
              "      <td>0.295508</td>\n",
              "      <td>0.294724</td>\n",
              "      <td>0.294464</td>\n",
              "      <td>0.294014</td>\n",
              "      <td>0.292969</td>\n",
              "      <td>0.292447</td>\n",
              "      <td>0.293105</td>\n",
              "      <td>0.697545</td>\n",
              "      <td>1</td>\n",
              "      <td>0</td>\n",
              "      <td>0</td>\n",
              "      <td>0</td>\n",
              "      <td>0</td>\n",
              "      <td>0</td>\n",
              "      <td>0</td>\n",
              "      <td>0</td>\n",
              "      <td>0</td>\n",
              "      <td>0</td>\n",
              "      <td>0</td>\n",
              "      <td>0</td>\n",
              "      <td>0</td>\n",
              "      <td>0</td>\n",
              "      <td>0</td>\n",
              "      <td>0</td>\n",
              "      <td>0</td>\n",
              "      <td>0</td>\n",
              "      <td>0</td>\n",
              "      <td>0</td>\n",
              "      <td>0</td>\n",
              "      <td>0</td>\n",
              "      <td>0</td>\n",
              "      <td>0</td>\n",
              "      <td>0</td>\n",
              "      <td>0</td>\n",
              "      <td>0</td>\n",
              "      <td>0</td>\n",
              "      <td>0</td>\n",
              "      <td>0</td>\n",
              "      <td>0</td>\n",
              "      <td>1</td>\n",
              "      <td>0</td>\n",
              "      <td>0</td>\n",
              "      <td>0</td>\n",
              "      <td>0</td>\n",
              "      <td>0</td>\n",
              "      <td>0</td>\n",
              "      <td>0</td>\n",
              "      <td>0</td>\n",
              "      <td>0</td>\n",
              "      <td>0</td>\n",
              "      <td>0</td>\n",
              "      <td>0</td>\n",
              "      <td>0</td>\n",
              "      <td>0</td>\n",
              "      <td>0</td>\n",
              "      <td>0</td>\n",
              "      <td>0</td>\n",
              "      <td>0</td>\n",
              "      <td>0</td>\n",
              "      <td>0</td>\n",
              "      <td>0</td>\n",
              "      <td>0</td>\n",
              "      <td>0</td>\n",
              "      <td>0</td>\n",
              "      <td>0</td>\n",
              "      <td>0</td>\n",
              "      <td>0</td>\n",
              "      <td>0</td>\n",
              "      <td>0</td>\n",
              "      <td>0</td>\n",
              "      <td>0</td>\n",
              "      <td>0</td>\n",
              "      <td>0</td>\n",
              "      <td>0</td>\n",
              "      <td>0</td>\n",
              "      <td>0</td>\n",
              "      <td>0</td>\n",
              "      <td>0</td>\n",
              "      <td>0</td>\n",
              "      <td>1</td>\n",
              "    </tr>\n",
              "    <tr>\n",
              "      <th>34</th>\n",
              "      <td>32.57</td>\n",
              "      <td>7</td>\n",
              "      <td>82.43</td>\n",
              "      <td>32</td>\n",
              "      <td>142.03</td>\n",
              "      <td>7</td>\n",
              "      <td>116.63</td>\n",
              "      <td>37</td>\n",
              "      <td>5.43</td>\n",
              "      <td>99.33</td>\n",
              "      <td>16.20</td>\n",
              "      <td>69.45</td>\n",
              "      <td>65.82</td>\n",
              "      <td>134.00</td>\n",
              "      <td>0.308642</td>\n",
              "      <td>0.307031</td>\n",
              "      <td>0.303859</td>\n",
              "      <td>0.303288</td>\n",
              "      <td>0.302024</td>\n",
              "      <td>0.300094</td>\n",
              "      <td>0.298507</td>\n",
              "      <td>0.719942</td>\n",
              "      <td>1</td>\n",
              "      <td>0</td>\n",
              "      <td>0</td>\n",
              "      <td>0</td>\n",
              "      <td>0</td>\n",
              "      <td>0</td>\n",
              "      <td>0</td>\n",
              "      <td>0</td>\n",
              "      <td>0</td>\n",
              "      <td>0</td>\n",
              "      <td>0</td>\n",
              "      <td>0</td>\n",
              "      <td>0</td>\n",
              "      <td>0</td>\n",
              "      <td>0</td>\n",
              "      <td>0</td>\n",
              "      <td>0</td>\n",
              "      <td>0</td>\n",
              "      <td>0</td>\n",
              "      <td>0</td>\n",
              "      <td>0</td>\n",
              "      <td>0</td>\n",
              "      <td>0</td>\n",
              "      <td>0</td>\n",
              "      <td>0</td>\n",
              "      <td>0</td>\n",
              "      <td>0</td>\n",
              "      <td>0</td>\n",
              "      <td>0</td>\n",
              "      <td>0</td>\n",
              "      <td>0</td>\n",
              "      <td>0</td>\n",
              "      <td>0</td>\n",
              "      <td>0</td>\n",
              "      <td>0</td>\n",
              "      <td>0</td>\n",
              "      <td>0</td>\n",
              "      <td>0</td>\n",
              "      <td>0</td>\n",
              "      <td>0</td>\n",
              "      <td>0</td>\n",
              "      <td>0</td>\n",
              "      <td>0</td>\n",
              "      <td>0</td>\n",
              "      <td>0</td>\n",
              "      <td>0</td>\n",
              "      <td>0</td>\n",
              "      <td>0</td>\n",
              "      <td>0</td>\n",
              "      <td>0</td>\n",
              "      <td>0</td>\n",
              "      <td>1</td>\n",
              "      <td>0</td>\n",
              "      <td>0</td>\n",
              "      <td>0</td>\n",
              "      <td>0</td>\n",
              "      <td>0</td>\n",
              "      <td>0</td>\n",
              "      <td>0</td>\n",
              "      <td>0</td>\n",
              "      <td>0</td>\n",
              "      <td>0</td>\n",
              "      <td>0</td>\n",
              "      <td>0</td>\n",
              "      <td>0</td>\n",
              "      <td>0</td>\n",
              "      <td>0</td>\n",
              "      <td>0</td>\n",
              "      <td>0</td>\n",
              "      <td>0</td>\n",
              "      <td>0</td>\n",
              "      <td>1</td>\n",
              "    </tr>\n",
              "    <tr>\n",
              "      <th>37</th>\n",
              "      <td>30.52</td>\n",
              "      <td>16</td>\n",
              "      <td>77.58</td>\n",
              "      <td>35</td>\n",
              "      <td>136.10</td>\n",
              "      <td>16</td>\n",
              "      <td>110.90</td>\n",
              "      <td>16</td>\n",
              "      <td>5.20</td>\n",
              "      <td>93.82</td>\n",
              "      <td>15.17</td>\n",
              "      <td>65.28</td>\n",
              "      <td>61.83</td>\n",
              "      <td>128.17</td>\n",
              "      <td>0.329598</td>\n",
              "      <td>0.327654</td>\n",
              "      <td>0.323468</td>\n",
              "      <td>0.322248</td>\n",
              "      <td>0.319761</td>\n",
              "      <td>0.315600</td>\n",
              "      <td>0.312086</td>\n",
              "      <td>0.765931</td>\n",
              "      <td>0</td>\n",
              "      <td>1</td>\n",
              "      <td>0</td>\n",
              "      <td>0</td>\n",
              "      <td>0</td>\n",
              "      <td>0</td>\n",
              "      <td>0</td>\n",
              "      <td>0</td>\n",
              "      <td>0</td>\n",
              "      <td>1</td>\n",
              "      <td>0</td>\n",
              "      <td>0</td>\n",
              "      <td>0</td>\n",
              "      <td>0</td>\n",
              "      <td>0</td>\n",
              "      <td>0</td>\n",
              "      <td>0</td>\n",
              "      <td>0</td>\n",
              "      <td>0</td>\n",
              "      <td>0</td>\n",
              "      <td>0</td>\n",
              "      <td>0</td>\n",
              "      <td>0</td>\n",
              "      <td>0</td>\n",
              "      <td>0</td>\n",
              "      <td>0</td>\n",
              "      <td>0</td>\n",
              "      <td>0</td>\n",
              "      <td>0</td>\n",
              "      <td>0</td>\n",
              "      <td>0</td>\n",
              "      <td>0</td>\n",
              "      <td>0</td>\n",
              "      <td>0</td>\n",
              "      <td>0</td>\n",
              "      <td>0</td>\n",
              "      <td>0</td>\n",
              "      <td>0</td>\n",
              "      <td>0</td>\n",
              "      <td>0</td>\n",
              "      <td>0</td>\n",
              "      <td>0</td>\n",
              "      <td>0</td>\n",
              "      <td>0</td>\n",
              "      <td>0</td>\n",
              "      <td>0</td>\n",
              "      <td>0</td>\n",
              "      <td>0</td>\n",
              "      <td>0</td>\n",
              "      <td>0</td>\n",
              "      <td>0</td>\n",
              "      <td>0</td>\n",
              "      <td>0</td>\n",
              "      <td>0</td>\n",
              "      <td>0</td>\n",
              "      <td>0</td>\n",
              "      <td>0</td>\n",
              "      <td>0</td>\n",
              "      <td>0</td>\n",
              "      <td>0</td>\n",
              "      <td>0</td>\n",
              "      <td>0</td>\n",
              "      <td>0</td>\n",
              "      <td>0</td>\n",
              "      <td>0</td>\n",
              "      <td>0</td>\n",
              "      <td>0</td>\n",
              "      <td>0</td>\n",
              "      <td>0</td>\n",
              "      <td>0</td>\n",
              "      <td>0</td>\n",
              "      <td>1</td>\n",
              "    </tr>\n",
              "    <tr>\n",
              "      <th>39</th>\n",
              "      <td>30.48</td>\n",
              "      <td>1</td>\n",
              "      <td>76.00</td>\n",
              "      <td>38</td>\n",
              "      <td>128.62</td>\n",
              "      <td>1</td>\n",
              "      <td>106.62</td>\n",
              "      <td>1</td>\n",
              "      <td>4.92</td>\n",
              "      <td>91.17</td>\n",
              "      <td>15.15</td>\n",
              "      <td>64.35</td>\n",
              "      <td>61.08</td>\n",
              "      <td>121.82</td>\n",
              "      <td>0.330033</td>\n",
              "      <td>0.328084</td>\n",
              "      <td>0.327439</td>\n",
              "      <td>0.328947</td>\n",
              "      <td>0.329056</td>\n",
              "      <td>0.328269</td>\n",
              "      <td>0.328353</td>\n",
              "      <td>0.777001</td>\n",
              "      <td>0</td>\n",
              "      <td>1</td>\n",
              "      <td>0</td>\n",
              "      <td>0</td>\n",
              "      <td>0</td>\n",
              "      <td>0</td>\n",
              "      <td>0</td>\n",
              "      <td>0</td>\n",
              "      <td>0</td>\n",
              "      <td>0</td>\n",
              "      <td>0</td>\n",
              "      <td>1</td>\n",
              "      <td>0</td>\n",
              "      <td>0</td>\n",
              "      <td>0</td>\n",
              "      <td>0</td>\n",
              "      <td>0</td>\n",
              "      <td>0</td>\n",
              "      <td>0</td>\n",
              "      <td>0</td>\n",
              "      <td>0</td>\n",
              "      <td>0</td>\n",
              "      <td>0</td>\n",
              "      <td>0</td>\n",
              "      <td>0</td>\n",
              "      <td>0</td>\n",
              "      <td>0</td>\n",
              "      <td>0</td>\n",
              "      <td>0</td>\n",
              "      <td>0</td>\n",
              "      <td>0</td>\n",
              "      <td>0</td>\n",
              "      <td>0</td>\n",
              "      <td>0</td>\n",
              "      <td>0</td>\n",
              "      <td>0</td>\n",
              "      <td>0</td>\n",
              "      <td>0</td>\n",
              "      <td>0</td>\n",
              "      <td>0</td>\n",
              "      <td>0</td>\n",
              "      <td>0</td>\n",
              "      <td>0</td>\n",
              "      <td>0</td>\n",
              "      <td>0</td>\n",
              "      <td>0</td>\n",
              "      <td>0</td>\n",
              "      <td>0</td>\n",
              "      <td>0</td>\n",
              "      <td>0</td>\n",
              "      <td>0</td>\n",
              "      <td>0</td>\n",
              "      <td>0</td>\n",
              "      <td>0</td>\n",
              "      <td>0</td>\n",
              "      <td>0</td>\n",
              "      <td>0</td>\n",
              "      <td>0</td>\n",
              "      <td>0</td>\n",
              "      <td>0</td>\n",
              "      <td>0</td>\n",
              "      <td>0</td>\n",
              "      <td>0</td>\n",
              "      <td>0</td>\n",
              "      <td>0</td>\n",
              "      <td>0</td>\n",
              "      <td>0</td>\n",
              "      <td>0</td>\n",
              "      <td>0</td>\n",
              "      <td>0</td>\n",
              "      <td>0</td>\n",
              "      <td>1</td>\n",
              "    </tr>\n",
              "  </tbody>\n",
              "</table>\n",
              "</div>"
            ],
            "text/plain": [
              "      10k  division    25k  age  official  genderdiv     35k  overall  pace  \\\n",
              "9   30.48        20  77.68   31    137.83         20  112.27       20  5.27   \n",
              "15  33.93        10  85.03   30    143.90         10  119.68       46  5.50   \n",
              "34  32.57         7  82.43   32    142.03          7  116.63       37  5.43   \n",
              "37  30.52        16  77.58   35    136.10         16  110.90       16  5.20   \n",
              "39  30.48         1  76.00   38    128.62          1  106.62        1  4.92   \n",
              "\n",
              "       30k     5k   half    20k     40k  5k_speed  10k_speed  20k_speed  \\\n",
              "9    94.78  15.15  65.23  61.78  129.83  0.330033   0.328084   0.323729   \n",
              "15  102.40  16.92  71.68  67.92  136.47  0.295508   0.294724   0.294464   \n",
              "34   99.33  16.20  69.45  65.82  134.00  0.308642   0.307031   0.303859   \n",
              "37   93.82  15.17  65.28  61.83  128.17  0.329598   0.327654   0.323468   \n",
              "39   91.17  15.15  64.35  61.08  121.82  0.330033   0.328084   0.327439   \n",
              "\n",
              "    25k_speed  30k_speed  35k_speed  40k_speed  half_speed  gender_F  \\\n",
              "9    0.321833   0.316522   0.311748   0.308095    0.766518         0   \n",
              "15   0.294014   0.292969   0.292447   0.293105    0.697545         1   \n",
              "34   0.303288   0.302024   0.300094   0.298507    0.719942         1   \n",
              "37   0.322248   0.319761   0.315600   0.312086    0.765931         0   \n",
              "39   0.328947   0.329056   0.328269   0.328353    0.777001         0   \n",
              "\n",
              "    gender_M  state_AA  state_AB  state_AE  state_AK  state_AL  state_AP  \\\n",
              "9          1         0         0         0         0         0         0   \n",
              "15         0         0         0         0         0         0         0   \n",
              "34         0         0         0         0         0         0         0   \n",
              "37         1         0         0         0         0         0         0   \n",
              "39         1         0         0         0         0         0         0   \n",
              "\n",
              "    state_AR  state_AZ  state_BC  state_CA  state_CO  state_CT  state_DC  \\\n",
              "9          0         0         0         1         0         0         0   \n",
              "15         0         0         0         0         0         0         0   \n",
              "34         0         0         0         0         0         0         0   \n",
              "37         0         1         0         0         0         0         0   \n",
              "39         0         0         0         1         0         0         0   \n",
              "\n",
              "    state_DE  state_FL  state_GA  state_GU  state_HI  state_IA  state_ID  \\\n",
              "9          0         0         0         0         0         0         0   \n",
              "15         0         0         0         0         0         0         0   \n",
              "34         0         0         0         0         0         0         0   \n",
              "37         0         0         0         0         0         0         0   \n",
              "39         0         0         0         0         0         0         0   \n",
              "\n",
              "    state_IL  state_IN  state_KS  state_KY  state_LA  state_MA  state_MB  \\\n",
              "9          0         0         0         0         0         0         0   \n",
              "15         0         0         0         0         0         0         0   \n",
              "34         0         0         0         0         0         0         0   \n",
              "37         0         0         0         0         0         0         0   \n",
              "39         0         0         0         0         0         0         0   \n",
              "\n",
              "    state_MD  state_ME  state_MI  state_MN  state_MO  state_MS  state_MT  \\\n",
              "9          0         0         0         0         0         0         0   \n",
              "15         0         0         1         0         0         0         0   \n",
              "34         0         0         0         0         0         0         0   \n",
              "37         0         0         0         0         0         0         0   \n",
              "39         0         0         0         0         0         0         0   \n",
              "\n",
              "    state_NB  state_NC  state_ND  state_NE  state_NH  state_NJ  state_NL  \\\n",
              "9          0         0         0         0         0         0         0   \n",
              "15         0         0         0         0         0         0         0   \n",
              "34         0         0         0         0         0         0         0   \n",
              "37         0         0         0         0         0         0         0   \n",
              "39         0         0         0         0         0         0         0   \n",
              "\n",
              "    state_NM  state_NS  state_NT  state_NV  state_NY  state_OH  state_OK  \\\n",
              "9          0         0         0         0         0         0         0   \n",
              "15         0         0         0         0         0         0         0   \n",
              "34         0         0         0         0         0         0         0   \n",
              "37         0         0         0         0         0         0         0   \n",
              "39         0         0         0         0         0         0         0   \n",
              "\n",
              "    state_ON  state_OR  state_PA  state_PE  state_PR  state_QC  state_RI  \\\n",
              "9          0         0         0         0         0         0         0   \n",
              "15         0         0         0         0         0         0         0   \n",
              "34         0         1         0         0         0         0         0   \n",
              "37         0         0         0         0         0         0         0   \n",
              "39         0         0         0         0         0         0         0   \n",
              "\n",
              "    state_SC  state_SD  state_SK  state_TN  state_TX  state_UT  state_VA  \\\n",
              "9          0         0         0         0         0         0         0   \n",
              "15         0         0         0         0         0         0         0   \n",
              "34         0         0         0         0         0         0         0   \n",
              "37         0         0         0         0         0         0         0   \n",
              "39         0         0         0         0         0         0         0   \n",
              "\n",
              "    state_VT  state_WA  state_WI  state_WV  state_WY  state_YT  country_CAN  \\\n",
              "9          0         0         0         0         0         0            0   \n",
              "15         0         0         0         0         0         0            0   \n",
              "34         0         0         0         0         0         0            0   \n",
              "37         0         0         0         0         0         0            0   \n",
              "39         0         0         0         0         0         0            0   \n",
              "\n",
              "    country_USA  \n",
              "9             1  \n",
              "15            1  \n",
              "34            1  \n",
              "37            1  \n",
              "39            1  "
            ]
          },
          "metadata": {
            "tags": []
          },
          "execution_count": 27
        }
      ]
    },
    {
      "cell_type": "code",
      "metadata": {
        "id": "KfvLiqhzcsOe",
        "colab_type": "code",
        "outputId": "684f7712-2a4f-4361-e4a5-4d6ae300b650",
        "colab": {
          "base_uri": "https://localhost:8080/",
          "height": 34
        }
      },
      "source": [
        "data.shape"
      ],
      "execution_count": 28,
      "outputs": [
        {
          "output_type": "execute_result",
          "data": {
            "text/plain": [
              "(27358, 94)"
            ]
          },
          "metadata": {
            "tags": []
          },
          "execution_count": 28
        }
      ]
    },
    {
      "cell_type": "markdown",
      "metadata": {
        "id": "zuJz0OabeneN",
        "colab_type": "text"
      },
      "source": [
        "Dữ liệu bây giờ gồm 27358 hàng và 94 cột."
      ]
    },
    {
      "cell_type": "markdown",
      "metadata": {
        "id": "iyNWlzPuOEpa",
        "colab_type": "text"
      },
      "source": [
        "# KMeans"
      ]
    },
    {
      "cell_type": "markdown",
      "metadata": {
        "id": "VQ6b_ru9OGc7",
        "colab_type": "text"
      },
      "source": [
        "Thử số lượng cluster từ 1 đến 9, so sánh khoảng cách từ center đến các điểm của 1 cluster để tìm số lượng cluster tốt nhất."
      ]
    },
    {
      "cell_type": "code",
      "metadata": {
        "id": "vjRt9H2LK8FI",
        "colab_type": "code",
        "colab": {}
      },
      "source": [
        "distortions = [] \n",
        "K = range(1,10) \n",
        "\n",
        "for k in K: \n",
        "\t#Building and fitting the model \n",
        "\tkmeanModel = KMeans(n_clusters=k).fit(data) \n",
        "\tkmeanModel.fit(data)\t \n",
        "\tdistortions.append(sum(np.min(cdist(data, kmeanModel.cluster_centers_, \n",
        "\t\t\t\t\t'euclidean'),axis=1)) / data.shape[0]) "
      ],
      "execution_count": 0,
      "outputs": []
    },
    {
      "cell_type": "code",
      "metadata": {
        "id": "N27GrYU6MlgP",
        "colab_type": "code",
        "colab": {
          "base_uri": "https://localhost:8080/",
          "height": 170
        },
        "outputId": "84dbcba0-d766-4d53-8ddf-8cae05e8733a"
      },
      "source": [
        "for idx, dis in enumerate(distortions):\n",
        "  print(idx, ': ', dis)"
      ],
      "execution_count": 30,
      "outputs": [
        {
          "output_type": "stream",
          "text": [
            "0 :  8879.650055182035\n",
            "1 :  4994.155317237372\n",
            "2 :  3789.6517948586884\n",
            "3 :  3230.530148781848\n",
            "4 :  2915.6993523336596\n",
            "5 :  2709.3497639789002\n",
            "6 :  2500.846136751032\n",
            "7 :  2311.8683131789076\n",
            "8 :  2204.4488317825376\n"
          ],
          "name": "stdout"
        }
      ]
    },
    {
      "cell_type": "markdown",
      "metadata": {
        "id": "HFiidaZyOX87",
        "colab_type": "text"
      },
      "source": [
        "Khoảng cách từ center đến các điểm thuộc 1 cluster giảm dần khi k tăng ---> Số lượng cluster càng lớn thì khoảng cách từ center đến các kiểm của nhóm đó càng giảm. \n",
        "\n",
        "Từ 1 đến 4, khi số lượng cluster tăng thêm 1 thì khoảng cách từ center đến các điểm thuộc cluster đó giảm mạnh.\n",
        "\n",
        "Từ 4 đến 9, khi tăng số lượng cluster thì khoảng cách từ center đến các điểm thuộc cluster đó giảm không nhiều."
      ]
    },
    {
      "cell_type": "code",
      "metadata": {
        "id": "NaIAj5TzLn-U",
        "colab_type": "code",
        "outputId": "ae9536e2-c5e9-4e2b-d268-db5c5c6918ce",
        "colab": {
          "base_uri": "https://localhost:8080/",
          "height": 295
        }
      },
      "source": [
        "plt.plot(K, distortions, 'bx-') \n",
        "plt.xlabel('Values of K') \n",
        "plt.ylabel('Distortion') \n",
        "plt.title('The Elbow Method using Distortion') \n",
        "plt.show() "
      ],
      "execution_count": 31,
      "outputs": [
        {
          "output_type": "display_data",
          "data": {
            "image/png": "[encoded data removed]",
            "text/plain": [
              "<Figure size 432x288 with 1 Axes>"
            ]
          },
          "metadata": {
            "tags": []
          }
        }
      ]
    },
    {
      "cell_type": "markdown",
      "metadata": {
        "id": "us_7Z62HOejb",
        "colab_type": "text"
      },
      "source": [
        "Từ k = 4 trở lên, khoảng cách trung bình giữa center đến các điểm thuộc 1 cluster giảm không nhiều nên sẽ chọn số lượng cluster = 4."
      ]
    },
    {
      "cell_type": "code",
      "metadata": {
        "id": "15BM7jAXLsLG",
        "colab_type": "code",
        "colab": {}
      },
      "source": [
        "best_cluster_pred = KMeans(n_clusters=4, random_state=42).fit_predict(data)"
      ],
      "execution_count": 0,
      "outputs": []
    },
    {
      "cell_type": "markdown",
      "metadata": {
        "id": "t2ZMPtlQgk1M",
        "colab_type": "text"
      },
      "source": [
        "Kiểm tra số lượng vận động viên phân bố thuộc các nhóm."
      ]
    },
    {
      "cell_type": "code",
      "metadata": {
        "id": "3lI8iyJsi9KN",
        "colab_type": "code",
        "outputId": "9973bbac-afe7-49f9-e4cf-ead57c2ad495",
        "colab": {
          "base_uri": "https://localhost:8080/",
          "height": 336
        }
      },
      "source": [
        "fig = plt.figure()\n",
        "ax = fig.add_axes([0,0,1,1])\n",
        "cluster = ['0', '1', '2', '3']\n",
        "ax.bar(cluster, np.bincount(best_cluster_pred))\n",
        "plt.show()"
      ],
      "execution_count": 33,
      "outputs": [
        {
          "output_type": "display_data",
          "data": {
            "image/png": "[encoded data removed]",
            "text/plain": [
              "<Figure size 432x288 with 1 Axes>"
            ]
          },
          "metadata": {
            "tags": []
          }
        }
      ]
    },
    {
      "cell_type": "markdown",
      "metadata": {
        "id": "pVv1plJJVXs4",
        "colab_type": "text"
      },
      "source": [
        "Số lượng vận động viên được phân vào các nhóm là tương đối đồng đều."
      ]
    },
    {
      "cell_type": "markdown",
      "metadata": {
        "id": "tx8nUsYvjXaV",
        "colab_type": "text"
      },
      "source": [
        "Add feature cluster vào data."
      ]
    },
    {
      "cell_type": "code",
      "metadata": {
        "id": "uuvb3OppVfCF",
        "colab_type": "code",
        "outputId": "d2e49dc5-d7dd-4a75-f26d-cf27c573e52a",
        "colab": {
          "base_uri": "https://localhost:8080/",
          "height": 258
        }
      },
      "source": [
        "data_org['cluster'] = best_cluster_pred\n",
        "data_org.head()"
      ],
      "execution_count": 34,
      "outputs": [
        {
          "output_type": "execute_result",
          "data": {
            "text/html": [
              "<div>\n",
              "<style scoped>\n",
              "    .dataframe tbody tr th:only-of-type {\n",
              "        vertical-align: middle;\n",
              "    }\n",
              "\n",
              "    .dataframe tbody tr th {\n",
              "        vertical-align: top;\n",
              "    }\n",
              "\n",
              "    .dataframe thead th {\n",
              "        text-align: right;\n",
              "    }\n",
              "</style>\n",
              "<table border=\"1\" class=\"dataframe\">\n",
              "  <thead>\n",
              "    <tr style=\"text-align: right;\">\n",
              "      <th></th>\n",
              "      <th>10k</th>\n",
              "      <th>division</th>\n",
              "      <th>25k</th>\n",
              "      <th>gender</th>\n",
              "      <th>age</th>\n",
              "      <th>official</th>\n",
              "      <th>bib</th>\n",
              "      <th>genderdiv</th>\n",
              "      <th>35k</th>\n",
              "      <th>overall</th>\n",
              "      <th>pace</th>\n",
              "      <th>state</th>\n",
              "      <th>30k</th>\n",
              "      <th>5k</th>\n",
              "      <th>half</th>\n",
              "      <th>20k</th>\n",
              "      <th>country</th>\n",
              "      <th>city</th>\n",
              "      <th>40k</th>\n",
              "      <th>cluster</th>\n",
              "    </tr>\n",
              "  </thead>\n",
              "  <tbody>\n",
              "    <tr>\n",
              "      <th>9</th>\n",
              "      <td>30.48</td>\n",
              "      <td>20</td>\n",
              "      <td>77.68</td>\n",
              "      <td>M</td>\n",
              "      <td>31</td>\n",
              "      <td>137.83</td>\n",
              "      <td>6</td>\n",
              "      <td>20</td>\n",
              "      <td>112.27</td>\n",
              "      <td>20</td>\n",
              "      <td>5.27</td>\n",
              "      <td>CA</td>\n",
              "      <td>94.78</td>\n",
              "      <td>15.15</td>\n",
              "      <td>65.23</td>\n",
              "      <td>61.78</td>\n",
              "      <td>USA</td>\n",
              "      <td>Redding</td>\n",
              "      <td>129.83</td>\n",
              "      <td>3</td>\n",
              "    </tr>\n",
              "    <tr>\n",
              "      <th>15</th>\n",
              "      <td>33.93</td>\n",
              "      <td>10</td>\n",
              "      <td>85.03</td>\n",
              "      <td>F</td>\n",
              "      <td>30</td>\n",
              "      <td>143.90</td>\n",
              "      <td>F8</td>\n",
              "      <td>10</td>\n",
              "      <td>119.68</td>\n",
              "      <td>46</td>\n",
              "      <td>5.50</td>\n",
              "      <td>MI</td>\n",
              "      <td>102.40</td>\n",
              "      <td>16.92</td>\n",
              "      <td>71.68</td>\n",
              "      <td>67.92</td>\n",
              "      <td>USA</td>\n",
              "      <td>Rochester Hills</td>\n",
              "      <td>136.47</td>\n",
              "      <td>3</td>\n",
              "    </tr>\n",
              "    <tr>\n",
              "      <th>34</th>\n",
              "      <td>32.57</td>\n",
              "      <td>7</td>\n",
              "      <td>82.43</td>\n",
              "      <td>F</td>\n",
              "      <td>32</td>\n",
              "      <td>142.03</td>\n",
              "      <td>F17</td>\n",
              "      <td>7</td>\n",
              "      <td>116.63</td>\n",
              "      <td>37</td>\n",
              "      <td>5.43</td>\n",
              "      <td>OR</td>\n",
              "      <td>99.33</td>\n",
              "      <td>16.20</td>\n",
              "      <td>69.45</td>\n",
              "      <td>65.82</td>\n",
              "      <td>USA</td>\n",
              "      <td>Portland</td>\n",
              "      <td>134.00</td>\n",
              "      <td>3</td>\n",
              "    </tr>\n",
              "    <tr>\n",
              "      <th>37</th>\n",
              "      <td>30.52</td>\n",
              "      <td>16</td>\n",
              "      <td>77.58</td>\n",
              "      <td>M</td>\n",
              "      <td>35</td>\n",
              "      <td>136.10</td>\n",
              "      <td>18</td>\n",
              "      <td>16</td>\n",
              "      <td>110.90</td>\n",
              "      <td>16</td>\n",
              "      <td>5.20</td>\n",
              "      <td>AZ</td>\n",
              "      <td>93.82</td>\n",
              "      <td>15.17</td>\n",
              "      <td>65.28</td>\n",
              "      <td>61.83</td>\n",
              "      <td>USA</td>\n",
              "      <td>Tucson</td>\n",
              "      <td>128.17</td>\n",
              "      <td>3</td>\n",
              "    </tr>\n",
              "    <tr>\n",
              "      <th>39</th>\n",
              "      <td>30.48</td>\n",
              "      <td>1</td>\n",
              "      <td>76.00</td>\n",
              "      <td>M</td>\n",
              "      <td>38</td>\n",
              "      <td>128.62</td>\n",
              "      <td>19</td>\n",
              "      <td>1</td>\n",
              "      <td>106.62</td>\n",
              "      <td>1</td>\n",
              "      <td>4.92</td>\n",
              "      <td>CA</td>\n",
              "      <td>91.17</td>\n",
              "      <td>15.15</td>\n",
              "      <td>64.35</td>\n",
              "      <td>61.08</td>\n",
              "      <td>USA</td>\n",
              "      <td>San Diego</td>\n",
              "      <td>121.82</td>\n",
              "      <td>3</td>\n",
              "    </tr>\n",
              "  </tbody>\n",
              "</table>\n",
              "</div>"
            ],
            "text/plain": [
              "      10k  division    25k gender  age  official  bib  genderdiv     35k  \\\n",
              "9   30.48        20  77.68      M   31    137.83    6         20  112.27   \n",
              "15  33.93        10  85.03      F   30    143.90   F8         10  119.68   \n",
              "34  32.57         7  82.43      F   32    142.03  F17          7  116.63   \n",
              "37  30.52        16  77.58      M   35    136.10   18         16  110.90   \n",
              "39  30.48         1  76.00      M   38    128.62   19          1  106.62   \n",
              "\n",
              "    overall  pace state     30k     5k   half    20k country             city  \\\n",
              "9        20  5.27    CA   94.78  15.15  65.23  61.78     USA          Redding   \n",
              "15       46  5.50    MI  102.40  16.92  71.68  67.92     USA  Rochester Hills   \n",
              "34       37  5.43    OR   99.33  16.20  69.45  65.82     USA         Portland   \n",
              "37       16  5.20    AZ   93.82  15.17  65.28  61.83     USA           Tucson   \n",
              "39        1  4.92    CA   91.17  15.15  64.35  61.08     USA        San Diego   \n",
              "\n",
              "       40k  cluster  \n",
              "9   129.83        3  \n",
              "15  136.47        3  \n",
              "34  134.00        3  \n",
              "37  128.17        3  \n",
              "39  121.82        3  "
            ]
          },
          "metadata": {
            "tags": []
          },
          "execution_count": 34
        }
      ]
    },
    {
      "cell_type": "markdown",
      "metadata": {
        "id": "tr8MzsC5Hkdw",
        "colab_type": "text"
      },
      "source": [
        "### Gender"
      ]
    },
    {
      "cell_type": "code",
      "metadata": {
        "id": "EiU1bcsmdUxA",
        "colab_type": "code",
        "colab": {}
      },
      "source": [
        "gender_female = []\n",
        "gender_male = []\n",
        "\n",
        "for i in range(4):\n",
        "  cluster = data_org[best_cluster_pred == i]\n",
        "  gender_female.append(len(cluster[cluster.gender == 'F']))\n",
        "  gender_male.append(len(cluster[cluster.gender == 'M']))"
      ],
      "execution_count": 0,
      "outputs": []
    },
    {
      "cell_type": "code",
      "metadata": {
        "id": "UsWLdlz6Zj5r",
        "colab_type": "code",
        "outputId": "92d8fe60-3bb1-4d3f-f34f-1928c5476ec6",
        "colab": {
          "base_uri": "https://localhost:8080/",
          "height": 279
        }
      },
      "source": [
        "index = np.array([0, 1, 2, 3])\n",
        "\n",
        "rects1 = plt.bar(index, gender_female, 0.35, alpha=0.8, color='b', label='Female')\n",
        "\n",
        "rects1 = plt.bar(index + 0.35, gender_male, 0.35, alpha=0.8, color='g', label='Male')\n",
        "\n",
        "plt.xlabel('Cluster')\n",
        "plt.ylabel('Number of people')\n",
        "plt.xticks(index + 0.35/2, ('0', '1', '2', '3'))\n",
        "plt.legend()\n",
        "\n",
        "plt.show()"
      ],
      "execution_count": 36,
      "outputs": [
        {
          "output_type": "display_data",
          "data": {
            "image/png": "[encoded data removed]",
            "text/plain": [
              "<Figure size 432x288 with 1 Axes>"
            ]
          },
          "metadata": {
            "tags": []
          }
        }
      ]
    },
    {
      "cell_type": "markdown",
      "metadata": {
        "id": "y4GMgJnPfBES",
        "colab_type": "text"
      },
      "source": [
        "Số lượng nữ ở nhóm 1, 2, nhiều hơn số lượng nam.\n",
        "\n",
        "Số lương nam ở nhóm 0, 3 nhiều hơn nữ, đặc biệt nhóm 3 có số lượng nam gấp 3 lần số lượng nữ."
      ]
    },
    {
      "cell_type": "markdown",
      "metadata": {
        "id": "-YaRhQbhfbT2",
        "colab_type": "text"
      },
      "source": [
        "### Age"
      ]
    },
    {
      "cell_type": "markdown",
      "metadata": {
        "id": "Gug1wdeagMyI",
        "colab_type": "text"
      },
      "source": [
        "Chia tuổi thành 3 nhóm:\n",
        "\n",
        "- Từ 18 đến 25.\n",
        "\n",
        "- Từ 26 đến 40.\n",
        "\n",
        "- Trên 40."
      ]
    },
    {
      "cell_type": "code",
      "metadata": {
        "id": "DssorvJoflZ8",
        "colab_type": "code",
        "colab": {}
      },
      "source": [
        "def age_group(x):\n",
        "  if x <= 25:\n",
        "    return 0\n",
        "  if x <= 40:\n",
        "    return 1\n",
        "  return 2"
      ],
      "execution_count": 0,
      "outputs": []
    },
    {
      "cell_type": "code",
      "metadata": {
        "id": "QQcCOBfucrJm",
        "colab_type": "code",
        "colab": {}
      },
      "source": [
        "data_org['Age_group'] = data_org.age.apply(lambda x: age_group(x))"
      ],
      "execution_count": 0,
      "outputs": []
    },
    {
      "cell_type": "code",
      "metadata": {
        "id": "kYlFUTN3dRL0",
        "colab_type": "code",
        "colab": {}
      },
      "source": [
        "age_group_0 = []\n",
        "age_group_1 = []\n",
        "age_group_2 = []\n",
        "\n",
        "for i in range(4):\n",
        "  cluster = data_org[best_cluster_pred == i]\n",
        "  age_group_0.append(len(cluster[cluster.Age_group == 0]))\n",
        "  age_group_1.append(len(cluster[cluster.Age_group == 1]))\n",
        "  age_group_2.append(len(cluster[cluster.Age_group == 2]))\n"
      ],
      "execution_count": 0,
      "outputs": []
    },
    {
      "cell_type": "code",
      "metadata": {
        "id": "CryHwZA1hOsS",
        "colab_type": "code",
        "outputId": "6f6cd263-b207-4498-b5f2-1c1669b5e08b",
        "colab": {
          "base_uri": "https://localhost:8080/",
          "height": 279
        }
      },
      "source": [
        "index = np.array([0, 1, 2, 3])\n",
        "\n",
        "rects1 = plt.bar(index, age_group_0, 0.25, alpha=0.8, color='b', label='18 - 25')\n",
        "\n",
        "rects1 = plt.bar(index + 0.25, age_group_1, 0.25, alpha=0.8, color='g', label='26 - 40')\n",
        "\n",
        "rects1 = plt.bar(index + 0.25*2, age_group_2, 0.25, alpha=0.8, color='r', label='> 40')\n",
        "\n",
        "plt.xlabel('Cluster')\n",
        "plt.ylabel('Number of people')\n",
        "plt.xticks(index + 0.25, ('0', '1', '2', '3'))\n",
        "plt.legend()\n",
        "\n",
        "plt.show()"
      ],
      "execution_count": 40,
      "outputs": [
        {
          "output_type": "display_data",
          "data": {
            "image/png": "[encoded data removed]",
            "text/plain": [
              "<Figure size 432x288 with 1 Axes>"
            ]
          },
          "metadata": {
            "tags": []
          }
        }
      ]
    },
    {
      "cell_type": "markdown",
      "metadata": {
        "id": "nlDC9IrSmk0n",
        "colab_type": "text"
      },
      "source": [
        "Số lượng những người dưới 25 tuổi ở tất cả 4 nhóm đều nhỏ hơn nhiều so với các nhóm tuổi còn lại.\n",
        "\n",
        "Số lượng những người trên 40 tuổi ở nhóm 0, 1, 2 cao hơn nhất so với các lứa tuổi khác, đặc biệt nhóm 0 có số lượng người trên 40 tuổi gấp hơn 2 lần số người từ 26 - 40, nhóm 2 số người trên 40 tuổi gần gấp 3 lần số người từ 26 - 40.\n",
        "\n",
        "Nhóm 3 là nhóm duy nhất có số người trông độ tuổi từ 26 đến 40 chiến tỷ lệ cao nhất, lớn hơn tổng số ngươi dưới 25 và trên 40 tuổi cộng lại."
      ]
    },
    {
      "cell_type": "markdown",
      "metadata": {
        "id": "aArSo_ZGseZG",
        "colab_type": "text"
      },
      "source": [
        "### Official time"
      ]
    },
    {
      "cell_type": "code",
      "metadata": {
        "id": "S-FAChqApSEZ",
        "colab_type": "code",
        "colab": {}
      },
      "source": [
        "import seaborn as sns"
      ],
      "execution_count": 0,
      "outputs": []
    },
    {
      "cell_type": "code",
      "metadata": {
        "id": "w9wvqVctqOfE",
        "colab_type": "code",
        "outputId": "7a45b6ee-5c6d-4db5-abae-1af78c361a90",
        "colab": {
          "base_uri": "https://localhost:8080/",
          "height": 497
        }
      },
      "source": [
        "g = sns.boxplot(data_org['cluster'], data.official, palette=\"coolwarm\")\n",
        "g.figure.set_size_inches(13,8)"
      ],
      "execution_count": 42,
      "outputs": [
        {
          "output_type": "display_data",
          "data": {
            "image/png": "[encoded data removed]",
            "text/plain": [
              "<Figure size 936x576 with 1 Axes>"
            ]
          },
          "metadata": {
            "tags": []
          }
        }
      ]
    },
    {
      "cell_type": "markdown",
      "metadata": {
        "id": "_x8Z0qXEswzn",
        "colab_type": "text"
      },
      "source": [
        "Nhóm 3 là nhóm có thời gian chạy nhanh nhất do số lượng nam nhiều hơn số lượng nữ và độ tuổi trong khoảng từ 26 đến 40 chiếm tỷ lệ cao, sau đó đến nhóm 1, theo sau là nhóm 2.\n",
        "\n",
        "Nhóm 0 có thời gian chạy lâu nhất do có nhiều người trên 40 tuổi và số lượng nữ chiếm tỷ lệ lớn."
      ]
    },
    {
      "cell_type": "markdown",
      "metadata": {
        "id": "RGG-E0gzOOk4",
        "colab_type": "text"
      },
      "source": [
        "# KMeans with PCA"
      ]
    },
    {
      "cell_type": "markdown",
      "metadata": {
        "id": "DcSBM3UWQ1vv",
        "colab_type": "text"
      },
      "source": [
        "Chọn số chiều để sử dụng PCA."
      ]
    },
    {
      "cell_type": "code",
      "metadata": {
        "id": "xM68iHsYOS8c",
        "colab_type": "code",
        "colab": {
          "base_uri": "https://localhost:8080/",
          "height": 51
        },
        "outputId": "66636184-de44-4701-d4a3-5565968ee3db"
      },
      "source": [
        "pca = PCA(n_components=93)\n",
        "pca.fit(data)"
      ],
      "execution_count": 43,
      "outputs": [
        {
          "output_type": "execute_result",
          "data": {
            "text/plain": [
              "PCA(copy=True, iterated_power='auto', n_components=93, random_state=None,\n",
              "    svd_solver='auto', tol=0.0, whiten=False)"
            ]
          },
          "metadata": {
            "tags": []
          },
          "execution_count": 43
        }
      ]
    },
    {
      "cell_type": "code",
      "metadata": {
        "id": "uNX4Lck7OS52",
        "colab_type": "code",
        "colab": {
          "base_uri": "https://localhost:8080/",
          "height": 279
        },
        "outputId": "94e3b731-46b6-415d-d196-bf79a0b4aaf1"
      },
      "source": [
        "plt.plot(np.cumsum(pca.explained_variance_ratio_))\n",
        "plt.xlabel('number of components')\n",
        "plt.ylabel('cumulative explained variance');"
      ],
      "execution_count": 44,
      "outputs": [
        {
          "output_type": "display_data",
          "data": {
            "image/png": "[encoded data removed]",
            "text/plain": [
              "<Figure size 432x288 with 1 Axes>"
            ]
          },
          "metadata": {
            "tags": []
          }
        }
      ]
    },
    {
      "cell_type": "code",
      "metadata": {
        "id": "6LKFjPNQOS3R",
        "colab_type": "code",
        "colab": {
          "base_uri": "https://localhost:8080/",
          "height": 34
        },
        "outputId": "2e800808-bc1b-4e0c-e7ad-ef3417751b93"
      },
      "source": [
        "n_dims = np.min(np.where(np.cumsum(pca.explained_variance_ratio_) > 0.99))\n",
        "print('dim = ', n_dims)"
      ],
      "execution_count": 45,
      "outputs": [
        {
          "output_type": "stream",
          "text": [
            "dim =  2\n"
          ],
          "name": "stdout"
        }
      ]
    },
    {
      "cell_type": "markdown",
      "metadata": {
        "id": "ul0HJNx3Q78s",
        "colab_type": "text"
      },
      "source": [
        "Chọn số chiều sau khi sử dụng PCA là 2."
      ]
    },
    {
      "cell_type": "code",
      "metadata": {
        "id": "6ATW7mgPOS14",
        "colab_type": "code",
        "colab": {
          "base_uri": "https://localhost:8080/",
          "height": 34
        },
        "outputId": "0a5ec2b6-daff-4294-8efb-e2e43341914c"
      },
      "source": [
        "pca = PCA(n_dims)\n",
        "data_pca = pca.fit_transform(data)\n",
        "data_pca.shape"
      ],
      "execution_count": 46,
      "outputs": [
        {
          "output_type": "execute_result",
          "data": {
            "text/plain": [
              "(27358, 2)"
            ]
          },
          "metadata": {
            "tags": []
          },
          "execution_count": 46
        }
      ]
    },
    {
      "cell_type": "markdown",
      "metadata": {
        "id": "XucUklP4RIAD",
        "colab_type": "text"
      },
      "source": [
        "So sánh khoảng cách từ center tới các điểm thuộc cùng 1 cluster so với không sử dụng PCA."
      ]
    },
    {
      "cell_type": "code",
      "metadata": {
        "id": "Ldn1YIvYOS0N",
        "colab_type": "code",
        "colab": {}
      },
      "source": [
        "distortions = [] \n",
        "K = range(1,10) \n",
        "\n",
        "for k in K: \n",
        "\t#Building and fitting the model \n",
        "\tkmeanModel = KMeans(n_clusters=k).fit(data_pca) \n",
        "\tkmeanModel.fit(data_pca)\t \n",
        "\tdistortions.append(sum(np.min(cdist(data_pca, kmeanModel.cluster_centers_, \n",
        "\t\t\t\t\t'euclidean'),axis=1)) / data_pca.shape[0]) \n",
        " "
      ],
      "execution_count": 0,
      "outputs": []
    },
    {
      "cell_type": "code",
      "metadata": {
        "id": "so6WYa19OSwf",
        "colab_type": "code",
        "colab": {
          "base_uri": "https://localhost:8080/",
          "height": 170
        },
        "outputId": "ef574826-a62b-411a-86be-37071e271dd0"
      },
      "source": [
        "for idx, dis in enumerate(distortions):\n",
        "  print(idx, ': ', dis)"
      ],
      "execution_count": 48,
      "outputs": [
        {
          "output_type": "stream",
          "text": [
            "0 :  8743.493651516686\n",
            "1 :  4770.251028211284\n",
            "2 :  3514.9367619126047\n",
            "3 :  2928.332391358775\n",
            "4 :  2588.9987210690015\n",
            "5 :  2362.374450863699\n",
            "6 :  2113.3023571396634\n",
            "7 :  1895.6209903513575\n",
            "8 :  1772.4031801232563\n"
          ],
          "name": "stdout"
        }
      ]
    },
    {
      "cell_type": "markdown",
      "metadata": {
        "id": "RL4S2-UwROwG",
        "colab_type": "text"
      },
      "source": [
        "Khi sử dụng PCA cho sự thay đổi không đáng kể, số cluster 6, 7, 8 khi sử dụng PCA cho khoảng cách thấp hơn khi không sử dụng PCA."
      ]
    },
    {
      "cell_type": "code",
      "metadata": {
        "id": "JwaRfxRdOStd",
        "colab_type": "code",
        "colab": {
          "base_uri": "https://localhost:8080/",
          "height": 295
        },
        "outputId": "e44e0b01-6718-4479-9fcd-ccfbc14ac5da"
      },
      "source": [
        "plt.plot(K, distortions, 'bx-') \n",
        "plt.xlabel('Values of K') \n",
        "plt.ylabel('Distortion') \n",
        "plt.title('The Elbow Method using Distortion') \n",
        "plt.show() "
      ],
      "execution_count": 49,
      "outputs": [
        {
          "output_type": "display_data",
          "data": {
            "image/png": "[encoded data removed]",
            "text/plain": [
              "<Figure size 432x288 with 1 Axes>"
            ]
          },
          "metadata": {
            "tags": []
          }
        }
      ]
    },
    {
      "cell_type": "markdown",
      "metadata": {
        "id": "ZdPms8UAR094",
        "colab_type": "text"
      },
      "source": [
        "Tương tự với không sử dụng PCA, số cluster bằng 4 là tốt nhât."
      ]
    },
    {
      "cell_type": "code",
      "metadata": {
        "id": "kq6GxTLsQBjU",
        "colab_type": "code",
        "colab": {}
      },
      "source": [
        "best_cluster_pred = KMeans(n_clusters=4, random_state=42).fit_predict(data_pca)"
      ],
      "execution_count": 0,
      "outputs": []
    },
    {
      "cell_type": "code",
      "metadata": {
        "id": "M9StcoaGQBfP",
        "colab_type": "code",
        "colab": {
          "base_uri": "https://localhost:8080/",
          "height": 336
        },
        "outputId": "8b0d21c7-ef69-4339-e4b0-ec53b9bd0126"
      },
      "source": [
        "fig = plt.figure()\n",
        "ax = fig.add_axes([0,0,1,1])\n",
        "cluster = ['0', '1', '2', '3']\n",
        "ax.bar(cluster, np.bincount(best_cluster_pred))\n",
        "plt.show()"
      ],
      "execution_count": 51,
      "outputs": [
        {
          "output_type": "display_data",
          "data": {
            "image/png": "[encoded data removed]",
            "text/plain": [
              "<Figure size 432x288 with 1 Axes>"
            ]
          },
          "metadata": {
            "tags": []
          }
        }
      ]
    },
    {
      "cell_type": "markdown",
      "metadata": {
        "id": "swLyK6RkR7LG",
        "colab_type": "text"
      },
      "source": [
        "Số lượng vận động viên mỗi class cũng khá đồng đều."
      ]
    },
    {
      "cell_type": "code",
      "metadata": {
        "id": "6qOLB0sNQS-V",
        "colab_type": "code",
        "colab": {}
      },
      "source": [
        "data_org['cluster_pca'] = best_cluster_pred"
      ],
      "execution_count": 0,
      "outputs": []
    },
    {
      "cell_type": "markdown",
      "metadata": {
        "id": "3gssr_lbXIH2",
        "colab_type": "text"
      },
      "source": [
        "## Gender"
      ]
    },
    {
      "cell_type": "code",
      "metadata": {
        "id": "FyAfWen4QS8p",
        "colab_type": "code",
        "colab": {}
      },
      "source": [
        "gender_female_pca = []\n",
        "gender_male_pca = []\n",
        "\n",
        "for i in range(4):\n",
        "  cluster = data_org[best_cluster_pred == i]\n",
        "  gender_female_pca.append(len(cluster[cluster.gender == 'F']))\n",
        "  gender_male_pca.append(len(cluster[cluster.gender == 'M']))"
      ],
      "execution_count": 0,
      "outputs": []
    },
    {
      "cell_type": "code",
      "metadata": {
        "id": "KIxlCQibQS52",
        "colab_type": "code",
        "colab": {
          "base_uri": "https://localhost:8080/",
          "height": 279
        },
        "outputId": "5cfe499c-5b02-4d08-bdbd-361783480cd5"
      },
      "source": [
        "index = np.array([0, 1, 2, 3])\n",
        "\n",
        "rects1 = plt.bar(index, gender_female_pca, 0.35, alpha=0.8, color='b', label='Female')\n",
        "\n",
        "rects1 = plt.bar(index + 0.35, gender_male_pca, 0.35, alpha=0.8, color='g', label='Male')\n",
        "\n",
        "plt.xlabel('Cluster')\n",
        "plt.ylabel('Number of people')\n",
        "plt.xticks(index + 0.35/2, ('0', '1', '2', '3'))\n",
        "plt.legend()\n",
        "\n",
        "plt.show()"
      ],
      "execution_count": 54,
      "outputs": [
        {
          "output_type": "display_data",
          "data": {
            "image/png": "[encoded data removed]",
            "text/plain": [
              "<Figure size 432x288 with 1 Axes>"
            ]
          },
          "metadata": {
            "tags": []
          }
        }
      ]
    },
    {
      "cell_type": "code",
      "metadata": {
        "id": "p0eqqlFYTze4",
        "colab_type": "code",
        "colab": {
          "base_uri": "https://localhost:8080/",
          "height": 279
        },
        "outputId": "2fd02b46-6080-4c54-d36c-e008c5ee5239"
      },
      "source": [
        "index = np.array([0, 1, 2, 3])\n",
        "\n",
        "rects1 = plt.bar(index, gender_female, 0.35, alpha=0.8, color='b', label='Female_pca')\n",
        "\n",
        "rects1 = plt.bar(index + 0.35, gender_male, 0.35, alpha=0.8, color='g', label='Male_pca')\n",
        "\n",
        "plt.xlabel('Cluster')\n",
        "plt.ylabel('Number of people')\n",
        "plt.xticks(index + 0.35/2, ('0', '1', '2', '3'))\n",
        "plt.legend()\n",
        "\n",
        "plt.show()"
      ],
      "execution_count": 55,
      "outputs": [
        {
          "output_type": "display_data",
          "data": {
            "image/png": "[encoded data removed]",
            "text/plain": [
              "<Figure size 432x288 with 1 Axes>"
            ]
          },
          "metadata": {
            "tags": []
          }
        }
      ]
    },
    {
      "cell_type": "markdown",
      "metadata": {
        "id": "k9UeAf13SCBf",
        "colab_type": "text"
      },
      "source": [
        "Sau khi sử dụng PCA, đối với số lượng nam và nữ của từng nhóm không khác nhiều so với không sử dụng PCA, chỉ thay đổi vị trí nhóm."
      ]
    },
    {
      "cell_type": "markdown",
      "metadata": {
        "id": "lGoTj69JW6Yb",
        "colab_type": "text"
      },
      "source": [
        "## Age"
      ]
    },
    {
      "cell_type": "code",
      "metadata": {
        "id": "jLQlGQsxSVPF",
        "colab_type": "code",
        "colab": {}
      },
      "source": [
        "age_group_0_pca = []\n",
        "age_group_1_pca = []\n",
        "age_group_2_pca = []\n",
        "\n",
        "for i in range(4):\n",
        "  cluster = data_org[best_cluster_pred == i]\n",
        "  age_group_0_pca.append(len(cluster[cluster.Age_group == 0]))\n",
        "  age_group_1_pca.append(len(cluster[cluster.Age_group == 1]))\n",
        "  age_group_2_pca.append(len(cluster[cluster.Age_group == 2]))\n"
      ],
      "execution_count": 0,
      "outputs": []
    },
    {
      "cell_type": "code",
      "metadata": {
        "id": "A-4Q7WknSVNe",
        "colab_type": "code",
        "colab": {
          "base_uri": "https://localhost:8080/",
          "height": 279
        },
        "outputId": "fa546408-a836-4d07-db57-f0b791d3e46b"
      },
      "source": [
        "index = np.array([0, 1, 2, 3])\n",
        "\n",
        "rects1 = plt.bar(index, age_group_0_pca, 0.25, alpha=0.8, color='b', label='18 - 25')\n",
        "\n",
        "rects1 = plt.bar(index + 0.25, age_group_1_pca, 0.25, alpha=0.8, color='g', label='26 - 40')\n",
        "\n",
        "rects1 = plt.bar(index + 0.25*2, age_group_2_pca, 0.25, alpha=0.8, color='r', label='> 40')\n",
        "\n",
        "plt.xlabel('Cluster')\n",
        "plt.ylabel('Number of people')\n",
        "plt.xticks(index + 0.25, ('0', '1', '2', '3'))\n",
        "plt.legend()\n",
        "\n",
        "plt.show()"
      ],
      "execution_count": 57,
      "outputs": [
        {
          "output_type": "display_data",
          "data": {
            "image/png": "[encoded data removed]",
            "text/plain": [
              "<Figure size 432x288 with 1 Axes>"
            ]
          },
          "metadata": {
            "tags": []
          }
        }
      ]
    },
    {
      "cell_type": "code",
      "metadata": {
        "id": "-mV0V7n-UPPp",
        "colab_type": "code",
        "colab": {
          "base_uri": "https://localhost:8080/",
          "height": 279
        },
        "outputId": "96a4fdab-9b8d-4936-a58a-f3fb53997dab"
      },
      "source": [
        "index = np.array([0, 1, 2, 3])\n",
        "\n",
        "rects1 = plt.bar(index, age_group_0, 0.25, alpha=0.8, color='b', label='18 - 25')\n",
        "\n",
        "rects1 = plt.bar(index + 0.25, age_group_1, 0.25, alpha=0.8, color='g', label='26 - 40')\n",
        "\n",
        "rects1 = plt.bar(index + 0.25*2, age_group_2, 0.25, alpha=0.8, color='r', label='> 40')\n",
        "\n",
        "plt.xlabel('Cluster')\n",
        "plt.ylabel('Number of people')\n",
        "plt.xticks(index + 0.25, ('0', '1', '2', '3'))\n",
        "plt.legend()\n",
        "\n",
        "plt.show()"
      ],
      "execution_count": 58,
      "outputs": [
        {
          "output_type": "display_data",
          "data": {
            "image/png": "[encoded data removed]",
            "text/plain": [
              "<Figure size 432x288 with 1 Axes>"
            ]
          },
          "metadata": {
            "tags": []
          }
        }
      ]
    },
    {
      "cell_type": "markdown",
      "metadata": {
        "id": "a90u4s6HTXFQ",
        "colab_type": "text"
      },
      "source": [
        "Về độ tuổi giữa các nhóm cũng không khác biệt so với không sử dụng PCA."
      ]
    },
    {
      "cell_type": "markdown",
      "metadata": {
        "id": "K0QBAPSrW-It",
        "colab_type": "text"
      },
      "source": [
        "## Official time"
      ]
    },
    {
      "cell_type": "code",
      "metadata": {
        "id": "Ed1pKNMVWIvf",
        "colab_type": "code",
        "colab": {
          "base_uri": "https://localhost:8080/",
          "height": 498
        },
        "outputId": "03bf484f-976e-435b-865a-4dba98077912"
      },
      "source": [
        "g = sns.boxplot(data_org['cluster_pca'], data.official, palette=\"coolwarm\")\n",
        "g.figure.set_size_inches(13,8)"
      ],
      "execution_count": 59,
      "outputs": [
        {
          "output_type": "display_data",
          "data": {
            "image/png": "[encoded data removed]",
            "text/plain": [
              "<Figure size 936x576 with 1 Axes>"
            ]
          },
          "metadata": {
            "tags": []
          }
        }
      ]
    },
    {
      "cell_type": "code",
      "metadata": {
        "id": "4VDiyl5xWNYi",
        "colab_type": "code",
        "colab": {
          "base_uri": "https://localhost:8080/",
          "height": 497
        },
        "outputId": "69797356-e9c2-4912-a533-61446ad50cdb"
      },
      "source": [
        "g = sns.boxplot(data_org['cluster'], data.official, palette=\"coolwarm\")\n",
        "g.figure.set_size_inches(13,8)"
      ],
      "execution_count": 60,
      "outputs": [
        {
          "output_type": "display_data",
          "data": {
            "image/png": "[encoded data removed]",
            "text/plain": [
              "<Figure size 936x576 with 1 Axes>"
            ]
          },
          "metadata": {
            "tags": []
          }
        }
      ]
    },
    {
      "cell_type": "markdown",
      "metadata": {
        "id": "M9oKfh9lWTCl",
        "colab_type": "text"
      },
      "source": [
        "Các nhóm được chia ra có thời gian chạy tương tự như không sử dụng PCA. "
      ]
    },
    {
      "cell_type": "markdown",
      "metadata": {
        "id": "Lb4egUwmHqVn",
        "colab_type": "text"
      },
      "source": [
        "# Conclusions"
      ]
    },
    {
      "cell_type": "markdown",
      "metadata": {
        "id": "vGjaryMhJzSa",
        "colab_type": "text"
      },
      "source": [
        "KMeans chia dữ liệu thành 4 nhóm.\n",
        "\n",
        "Nhóm 1 chạy nhanh nhất do số lượng nam nhiều gấp 3 lần so với số lượng nữ, các nhóm khác có số lượng nữ cao hơn nam. Hơn nữa nhóm 1 có độ tuổi tập trung từ 26 đến 40 tuổi cao hơn các độ tuổi khác, ngược lại các nhóm còn lại có số người từ 26 đến 40 tuổi lại thấp hơn, đặc biệt nhóm 2 có số lượng người trên 40 tuổi lớn nhất.\n",
        "\n",
        "Tuy nhóm 1 có số lượng người trẻ tuổi nhiều hơn nhóm 2 và nhóm 3, số lượng người cao tuổi ít hơn nhóm 2 và nhóm 3 nhưng lại có thời gian chạy lâu nhất."
      ]
    },
    {
      "cell_type": "markdown",
      "metadata": {
        "id": "DtzUhevcTZY-",
        "colab_type": "text"
      },
      "source": [
        "PCA không cho tác dụng nhiều đối với KMneas."
      ]
    },
    {
      "cell_type": "code",
      "metadata": {
        "id": "5TGRjpasPmYQ",
        "colab_type": "code",
        "colab": {}
      },
      "source": [
        ""
      ],
      "execution_count": 0,
      "outputs": []
    }
  ]
}