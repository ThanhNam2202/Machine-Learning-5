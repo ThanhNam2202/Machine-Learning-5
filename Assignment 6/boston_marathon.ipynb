{
  "nbformat": 4,
  "nbformat_minor": 0,
  "metadata": {
    "colab": {
      "name": "boston marathon.ipynb",
      "provenance": [],
      "collapsed_sections": []
    },
    "kernelspec": {
      "name": "python3",
      "display_name": "Python 3"
    }
  },
  "cells": [
    {
      "cell_type": "markdown",
      "metadata": {
        "id": "tA7JIS9gGDql",
        "colab_type": "text"
      },
      "source": [
        "# Table of contents\n",
        "\n",
        "- Introduction.\n",
        "- Load data.\n",
        "- Data Processing.\n",
        "  - Missing value.\n",
        "  - Visualization.\n",
        "- KMneans.\n",
        "  - Gender.\n",
        "  - Age.\n",
        "  - Official time.\n",
        "- Conclusions.\n",
        "\n",
        "\n"
      ]
    },
    {
      "cell_type": "markdown",
      "metadata": {
        "id": "ZwN8E5vFGgRK",
        "colab_type": "text"
      },
      "source": [
        "# Introduction"
      ]
    },
    {
      "cell_type": "markdown",
      "metadata": {
        "id": "YAe-GnusK1Zo",
        "colab_type": "text"
      },
      "source": [
        "Tập dữ liệu Boston Marathon gồm thông tin của những vận động viên tham gia cuộc thi.\n",
        "\n",
        "Sử dụng KMeans để phân nhóm dữ liệu. Sau đó kiểm tra thời gian chạy, giới tính, độ tuổi của các nhóm sau khi sử dụng KMeans."
      ]
    },
    {
      "cell_type": "markdown",
      "metadata": {
        "id": "biGXxyElLzw3",
        "colab_type": "text"
      },
      "source": [
        "# Load data"
      ]
    },
    {
      "cell_type": "code",
      "metadata": {
        "id": "IcPH3OzRqhkG",
        "colab_type": "code",
        "colab": {
          "base_uri": "https://localhost:8080/",
          "height": 54
        },
        "outputId": "a09911b6-e62e-4a98-9c4c-de20696b392e"
      },
      "source": [
        "from google.colab import drive\n",
        "drive.mount('/content/drive')"
      ],
      "execution_count": 355,
      "outputs": [
        {
          "output_type": "stream",
          "text": [
            "Drive already mounted at /content/drive; to attempt to forcibly remount, call drive.mount(\"/content/drive\", force_remount=True).\n"
          ],
          "name": "stdout"
        }
      ]
    },
    {
      "cell_type": "code",
      "metadata": {
        "id": "Brxlczewqqq5",
        "colab_type": "code",
        "colab": {}
      },
      "source": [
        "import pandas as pd"
      ],
      "execution_count": 0,
      "outputs": []
    },
    {
      "cell_type": "code",
      "metadata": {
        "id": "2Efw3VlmqxlN",
        "colab_type": "code",
        "colab": {}
      },
      "source": [
        "data = pd.read_csv('/content/drive/My Drive/ML 5/results.csv')"
      ],
      "execution_count": 0,
      "outputs": []
    },
    {
      "cell_type": "code",
      "metadata": {
        "id": "LuFfh8ELq3EA",
        "colab_type": "code",
        "colab": {
          "base_uri": "https://localhost:8080/",
          "height": 34
        },
        "outputId": "26a95814-f078-41f0-e478-180252f31009"
      },
      "source": [
        "data.shape"
      ],
      "execution_count": 360,
      "outputs": [
        {
          "output_type": "execute_result",
          "data": {
            "text/plain": [
              "(31984, 21)"
            ]
          },
          "metadata": {
            "tags": []
          },
          "execution_count": 360
        }
      ]
    },
    {
      "cell_type": "markdown",
      "metadata": {
        "id": "TpJBZE3Ir4Wb",
        "colab_type": "text"
      },
      "source": [
        "Dữ liệu gồm 31984 dòng và 21 cột."
      ]
    },
    {
      "cell_type": "code",
      "metadata": {
        "id": "dczosllHq5py",
        "colab_type": "code",
        "colab": {
          "base_uri": "https://localhost:8080/",
          "height": 309
        },
        "outputId": "2056fefd-100e-4a05-bc01-f69dc7e7ec7b"
      },
      "source": [
        "pd.set_option('display.max_columns', 30)\n",
        "data.head(5)"
      ],
      "execution_count": 361,
      "outputs": [
        {
          "output_type": "execute_result",
          "data": {
            "text/html": [
              "<div>\n",
              "<style scoped>\n",
              "    .dataframe tbody tr th:only-of-type {\n",
              "        vertical-align: middle;\n",
              "    }\n",
              "\n",
              "    .dataframe tbody tr th {\n",
              "        vertical-align: top;\n",
              "    }\n",
              "\n",
              "    .dataframe thead th {\n",
              "        text-align: right;\n",
              "    }\n",
              "</style>\n",
              "<table border=\"1\" class=\"dataframe\">\n",
              "  <thead>\n",
              "    <tr style=\"text-align: right;\">\n",
              "      <th></th>\n",
              "      <th>10k</th>\n",
              "      <th>name</th>\n",
              "      <th>division</th>\n",
              "      <th>25k</th>\n",
              "      <th>gender</th>\n",
              "      <th>age</th>\n",
              "      <th>official</th>\n",
              "      <th>bib</th>\n",
              "      <th>genderdiv</th>\n",
              "      <th>ctz</th>\n",
              "      <th>35k</th>\n",
              "      <th>overall</th>\n",
              "      <th>pace</th>\n",
              "      <th>state</th>\n",
              "      <th>30k</th>\n",
              "      <th>5k</th>\n",
              "      <th>half</th>\n",
              "      <th>20k</th>\n",
              "      <th>country</th>\n",
              "      <th>city</th>\n",
              "      <th>40k</th>\n",
              "    </tr>\n",
              "  </thead>\n",
              "  <tbody>\n",
              "    <tr>\n",
              "      <th>0</th>\n",
              "      <td>17.37</td>\n",
              "      <td>Yamamoto, Hiroyuki</td>\n",
              "      <td>8</td>\n",
              "      <td>47.67</td>\n",
              "      <td>M</td>\n",
              "      <td>47</td>\n",
              "      <td>85.25</td>\n",
              "      <td>W1</td>\n",
              "      <td>8</td>\n",
              "      <td>NaN</td>\n",
              "      <td>71.40</td>\n",
              "      <td>8</td>\n",
              "      <td>3.27</td>\n",
              "      <td>NaN</td>\n",
              "      <td>59.18</td>\n",
              "      <td>8.02</td>\n",
              "      <td>39.72</td>\n",
              "      <td>37.65</td>\n",
              "      <td>JPN</td>\n",
              "      <td>Fukuoka</td>\n",
              "      <td>80.43</td>\n",
              "    </tr>\n",
              "    <tr>\n",
              "      <th>1</th>\n",
              "      <td>32.58</td>\n",
              "      <td>Jeptoo, Rita</td>\n",
              "      <td>1</td>\n",
              "      <td>82.43</td>\n",
              "      <td>F</td>\n",
              "      <td>33</td>\n",
              "      <td>138.95</td>\n",
              "      <td>F1</td>\n",
              "      <td>1</td>\n",
              "      <td>NaN</td>\n",
              "      <td>116.37</td>\n",
              "      <td>21</td>\n",
              "      <td>5.30</td>\n",
              "      <td>NaN</td>\n",
              "      <td>99.33</td>\n",
              "      <td>16.22</td>\n",
              "      <td>69.47</td>\n",
              "      <td>65.83</td>\n",
              "      <td>KEN</td>\n",
              "      <td>Eldoret</td>\n",
              "      <td>132.10</td>\n",
              "    </tr>\n",
              "    <tr>\n",
              "      <th>2</th>\n",
              "      <td>16.62</td>\n",
              "      <td>Van Dyk, Ernst F.</td>\n",
              "      <td>1</td>\n",
              "      <td>45.80</td>\n",
              "      <td>M</td>\n",
              "      <td>41</td>\n",
              "      <td>80.60</td>\n",
              "      <td>W2</td>\n",
              "      <td>1</td>\n",
              "      <td>NaN</td>\n",
              "      <td>67.42</td>\n",
              "      <td>1</td>\n",
              "      <td>3.08</td>\n",
              "      <td>NaN</td>\n",
              "      <td>56.45</td>\n",
              "      <td>7.75</td>\n",
              "      <td>38.03</td>\n",
              "      <td>36.10</td>\n",
              "      <td>RSA</td>\n",
              "      <td>Paarl</td>\n",
              "      <td>76.10</td>\n",
              "    </tr>\n",
              "    <tr>\n",
              "      <th>3</th>\n",
              "      <td>32.57</td>\n",
              "      <td>Dibaba, Mare</td>\n",
              "      <td>3</td>\n",
              "      <td>82.43</td>\n",
              "      <td>F</td>\n",
              "      <td>24</td>\n",
              "      <td>140.58</td>\n",
              "      <td>F2</td>\n",
              "      <td>3</td>\n",
              "      <td>NaN</td>\n",
              "      <td>116.37</td>\n",
              "      <td>27</td>\n",
              "      <td>5.37</td>\n",
              "      <td>NaN</td>\n",
              "      <td>99.33</td>\n",
              "      <td>16.20</td>\n",
              "      <td>69.47</td>\n",
              "      <td>65.83</td>\n",
              "      <td>ETH</td>\n",
              "      <td>Shoa</td>\n",
              "      <td>132.95</td>\n",
              "    </tr>\n",
              "    <tr>\n",
              "      <th>4</th>\n",
              "      <td>17.12</td>\n",
              "      <td>Hokinoue, Kota</td>\n",
              "      <td>2</td>\n",
              "      <td>46.37</td>\n",
              "      <td>M</td>\n",
              "      <td>40</td>\n",
              "      <td>81.23</td>\n",
              "      <td>W3</td>\n",
              "      <td>2</td>\n",
              "      <td>NaN</td>\n",
              "      <td>67.83</td>\n",
              "      <td>2</td>\n",
              "      <td>3.10</td>\n",
              "      <td>NaN</td>\n",
              "      <td>57.03</td>\n",
              "      <td>8.02</td>\n",
              "      <td>38.60</td>\n",
              "      <td>36.58</td>\n",
              "      <td>JPN</td>\n",
              "      <td>Nogata Fukuoka</td>\n",
              "      <td>76.72</td>\n",
              "    </tr>\n",
              "  </tbody>\n",
              "</table>\n",
              "</div>"
            ],
            "text/plain": [
              "     10k                name  division    25k gender  age  official bib  \\\n",
              "0  17.37  Yamamoto, Hiroyuki         8  47.67      M   47     85.25  W1   \n",
              "1  32.58        Jeptoo, Rita         1  82.43      F   33    138.95  F1   \n",
              "2  16.62   Van Dyk, Ernst F.         1  45.80      M   41     80.60  W2   \n",
              "3  32.57        Dibaba, Mare         3  82.43      F   24    140.58  F2   \n",
              "4  17.12      Hokinoue, Kota         2  46.37      M   40     81.23  W3   \n",
              "\n",
              "   genderdiv  ctz     35k  overall  pace state    30k     5k   half    20k  \\\n",
              "0          8  NaN   71.40        8  3.27   NaN  59.18   8.02  39.72  37.65   \n",
              "1          1  NaN  116.37       21  5.30   NaN  99.33  16.22  69.47  65.83   \n",
              "2          1  NaN   67.42        1  3.08   NaN  56.45   7.75  38.03  36.10   \n",
              "3          3  NaN  116.37       27  5.37   NaN  99.33  16.20  69.47  65.83   \n",
              "4          2  NaN   67.83        2  3.10   NaN  57.03   8.02  38.60  36.58   \n",
              "\n",
              "  country            city     40k  \n",
              "0     JPN         Fukuoka   80.43  \n",
              "1     KEN         Eldoret  132.10  \n",
              "2     RSA           Paarl   76.10  \n",
              "3     ETH            Shoa  132.95  \n",
              "4     JPN  Nogata Fukuoka   76.72  "
            ]
          },
          "metadata": {
            "tags": []
          },
          "execution_count": 361
        }
      ]
    },
    {
      "cell_type": "markdown",
      "metadata": {
        "id": "j2Bi4R3Xr72G",
        "colab_type": "text"
      },
      "source": [
        "Dữ liệu không có gì bất thường.\n",
        "\n",
        "Mô tả:\n",
        "\n",
        "Bib: Assigned race number based on qualifying time. \"F\" could appear for female elites.\n",
        "\n",
        "Name: Name of runner (Last, First)\n",
        "\n",
        "Age: Age on race day\n",
        "\n",
        "Gender: Runner's gender\n",
        "\n",
        "City: Runner's city of residence\n",
        "\n",
        "State: Runner's state of residence (if applicable).\n",
        "\n",
        "Country: Runner's country of residence\n",
        "\n",
        "ctz: Runner's nationality (optional)\n",
        "\n",
        "5K: Runner's time at 5k\n",
        "\n",
        "10K: Runner's time at 10k\n",
        "\n",
        "20K: Runner's time at 20k\n",
        "\n",
        "Half: Runner's time at halfway point\n",
        "\n",
        "25K: Runner's time at 25k\n",
        "\n",
        "30K: Runner's time at 30k\n",
        "\n",
        "35K: Runner's time at 35k\n",
        "\n",
        "40K: Runner's time at 40k\n",
        "\n",
        "Pace: Runner's overall minute per mile pace\n",
        "\n",
        "Official Time: Runner's official finishing time\n",
        "\n",
        "Overall: Runner's overall raking\n",
        "\n",
        "genderdiv: Runner's ranking in their gender\n",
        "\n",
        "Division: Runner's ranking in their age division\n",
        "\n",
        "Các dữ liệu dạng số: 5k, 10k, 20k, 25k, 30K, 35K, 40K, half, age, official, overall, pace, genderdiv, Division.\n",
        "\n",
        "Các dữ liệu category: name, gender, bib, ctz, state, country, ctz."
      ]
    },
    {
      "cell_type": "markdown",
      "metadata": {
        "id": "FP6xBAxaGzFq",
        "colab_type": "text"
      },
      "source": [
        "# Data Processing"
      ]
    },
    {
      "cell_type": "markdown",
      "metadata": {
        "id": "O8uWLqXWGxnJ",
        "colab_type": "text"
      },
      "source": [
        "Loại bỏ cột name vì nó không ảnh hưởng đến clustering."
      ]
    },
    {
      "cell_type": "code",
      "metadata": {
        "id": "BAnI-8NCq9NX",
        "colab_type": "code",
        "colab": {}
      },
      "source": [
        "data.drop(columns=['name'], inplace=True)"
      ],
      "execution_count": 0,
      "outputs": []
    },
    {
      "cell_type": "markdown",
      "metadata": {
        "id": "N1aFcbcGsAh-",
        "colab_type": "text"
      },
      "source": [
        "###  Missing value"
      ]
    },
    {
      "cell_type": "code",
      "metadata": {
        "id": "rgPH1z9Pq_JK",
        "colab_type": "code",
        "colab": {
          "base_uri": "https://localhost:8080/",
          "height": 374
        },
        "outputId": "97530e9e-5f6f-4c6d-f792-c73b4fbdfab4"
      },
      "source": [
        "data.isnull().sum()*100/len(data)"
      ],
      "execution_count": 363,
      "outputs": [
        {
          "output_type": "execute_result",
          "data": {
            "text/plain": [
              "10k           0.000000\n",
              "division      0.000000\n",
              "25k           0.000000\n",
              "gender        0.000000\n",
              "age           0.000000\n",
              "official      0.000000\n",
              "bib           0.000000\n",
              "genderdiv     0.000000\n",
              "ctz          96.110555\n",
              "35k           0.000000\n",
              "overall       0.000000\n",
              "pace          0.000000\n",
              "state         8.054027\n",
              "30k           0.000000\n",
              "5k            0.000000\n",
              "half          0.000000\n",
              "20k           0.000000\n",
              "country       0.000000\n",
              "city          0.003127\n",
              "40k           0.000000\n",
              "dtype: float64"
            ]
          },
          "metadata": {
            "tags": []
          },
          "execution_count": 363
        }
      ]
    },
    {
      "cell_type": "markdown",
      "metadata": {
        "id": "XTHYMFF3sFIZ",
        "colab_type": "text"
      },
      "source": [
        "ctz chứa tỷ lệ missing value lớn(trên 96%) nên sẽ loại bỏ cột này.\n",
        "\n",
        "số lượng hàng chứa missing value nhỏ nên sẽ loại bỏ những hàng chứa missing value.\n"
      ]
    },
    {
      "cell_type": "code",
      "metadata": {
        "id": "PGFERTleQa1L",
        "colab_type": "code",
        "colab": {}
      },
      "source": [
        "data.drop(columns=['ctz'], inplace=True)"
      ],
      "execution_count": 0,
      "outputs": []
    },
    {
      "cell_type": "code",
      "metadata": {
        "id": "NJLnHCdWGj5D",
        "colab_type": "code",
        "colab": {}
      },
      "source": [
        "cols = ['5k', '10k', '20k', '25k', '30k', '35k', '40k', 'half']\n",
        "for col in cols:\n",
        "\tdata[col] = pd.to_numeric(data[col], errors='coerce')"
      ],
      "execution_count": 0,
      "outputs": []
    },
    {
      "cell_type": "code",
      "metadata": {
        "id": "FHUCQOD-w37O",
        "colab_type": "code",
        "colab": {}
      },
      "source": [
        "for col in data.columns:\n",
        "  data.drop(data[data[col].isnull()].index, inplace=True)"
      ],
      "execution_count": 0,
      "outputs": []
    },
    {
      "cell_type": "code",
      "metadata": {
        "id": "lB-pJXFMrej1",
        "colab_type": "code",
        "colab": {
          "base_uri": "https://localhost:8080/",
          "height": 425
        },
        "outputId": "e2f6effc-a301-4a33-eea2-f44a70ee1d26"
      },
      "source": [
        "data.info()"
      ],
      "execution_count": 367,
      "outputs": [
        {
          "output_type": "stream",
          "text": [
            "<class 'pandas.core.frame.DataFrame'>\n",
            "Int64Index: 29103 entries, 9 to 31983\n",
            "Data columns (total 19 columns):\n",
            "10k          29103 non-null float64\n",
            "division     29103 non-null int64\n",
            "25k          29103 non-null float64\n",
            "gender       29103 non-null object\n",
            "age          29103 non-null int64\n",
            "official     29103 non-null float64\n",
            "bib          29103 non-null object\n",
            "genderdiv    29103 non-null int64\n",
            "35k          29103 non-null float64\n",
            "overall      29103 non-null int64\n",
            "pace         29103 non-null float64\n",
            "state        29103 non-null object\n",
            "30k          29103 non-null float64\n",
            "5k           29103 non-null float64\n",
            "half         29103 non-null float64\n",
            "20k          29103 non-null float64\n",
            "country      29103 non-null object\n",
            "city         29103 non-null object\n",
            "40k          29103 non-null float64\n",
            "dtypes: float64(10), int64(4), object(5)\n",
            "memory usage: 4.4+ MB\n"
          ],
          "name": "stdout"
        }
      ]
    },
    {
      "cell_type": "markdown",
      "metadata": {
        "id": "kzZndQ1FIKW8",
        "colab_type": "text"
      },
      "source": [
        "### Visualization"
      ]
    },
    {
      "cell_type": "code",
      "metadata": {
        "id": "ZrnfObnPrCNO",
        "colab_type": "code",
        "colab": {
          "base_uri": "https://localhost:8080/",
          "height": 607
        },
        "outputId": "fce03962-06a0-4376-9f45-3ce79ebf11c4"
      },
      "source": [
        "a = data[['5k', '10k', '20k', '25k', '30k', '35k', '40k', 'half', 'age', 'official',\n",
        "      'overall', 'pace', 'genderdiv', 'division']].hist(figsize=(10, 10))\n"
      ],
      "execution_count": 368,
      "outputs": [
        {
          "output_type": "display_data",
          "data": {
            "image/png": "[encoded data removed]",
            "text/plain": [
              "<Figure size 720x720 with 16 Axes>"
            ]
          },
          "metadata": {
            "tags": []
          }
        }
      ]
    },
    {
      "cell_type": "markdown",
      "metadata": {
        "id": "q7tB1yC-QqiK",
        "colab_type": "text"
      },
      "source": [
        "Tuổi những người tham gia tập trung từ 25 đến 52 tuổi, devision tập trung nhiều ở những người có rank từ 1 đến 2500,...\n",
        "\n",
        "Overall và genderdiv giá trị phân bố đều, không tập trung vào khoảng nào cụ thể, riêng genderdiv, số lượng người tham gia có genderdiv trên 1300 ít hơn 1 nửa so với các khoảng còn lại."
      ]
    },
    {
      "cell_type": "markdown",
      "metadata": {
        "id": "iyNWlzPuOEpa",
        "colab_type": "text"
      },
      "source": [
        "# KMeans"
      ]
    },
    {
      "cell_type": "markdown",
      "metadata": {
        "id": "VQ6b_ru9OGc7",
        "colab_type": "text"
      },
      "source": [
        "Thử k từ 1 đến 9, so sánh khoảng cách từ center đến các điểm của 1 cluster để tìm k tốt nhất."
      ]
    },
    {
      "cell_type": "code",
      "metadata": {
        "id": "vjRt9H2LK8FI",
        "colab_type": "code",
        "colab": {}
      },
      "source": [
        "from sklearn.cluster import KMeans \n",
        "from sklearn import metrics \n",
        "from scipy.spatial.distance import cdist \n",
        "import numpy as np \n",
        "import matplotlib.pyplot as plt \n",
        "\n",
        "distortions = [] \n",
        "mapping = {} \n",
        "K = range(1,10) \n",
        "\n",
        "for k in K: \n",
        "\t#Building and fitting the model \n",
        "\tkmeanModel = KMeans(n_clusters=k).fit(df) \n",
        "\tkmeanModel.fit(df)\t \n",
        "\t\n",
        "\tdistortions.append(sum(np.min(cdist(df, kmeanModel.cluster_centers_, \n",
        "\t\t\t\t\t'euclidean'),axis=1)) / df.shape[0]) \n",
        "\tmapping[k] = sum(np.min(cdist(df, kmeanModel.cluster_centers_, \n",
        "\t\t\t\t'euclidean'),axis=1)) / df.shape[0] "
      ],
      "execution_count": 0,
      "outputs": []
    },
    {
      "cell_type": "code",
      "metadata": {
        "id": "PqsFMQEYLXbP",
        "colab_type": "code",
        "colab": {
          "base_uri": "https://localhost:8080/",
          "height": 170
        },
        "outputId": "561ffcf8-daef-4299-ca2e-21553cf4c29e"
      },
      "source": [
        "for key,val in mapping.items(): \n",
        "\tprint(str(key)+' : '+str(val)) \n"
      ],
      "execution_count": 370,
      "outputs": [
        {
          "output_type": "stream",
          "text": [
            "1 : 7939.243910425086\n",
            "2 : 3973.857759755189\n",
            "3 : 2648.384629379737\n",
            "4 : 1989.0524272961873\n",
            "5 : 1592.7271499040726\n",
            "6 : 1325.651321662323\n",
            "7 : 1138.014484484778\n",
            "8 : 994.955291727853\n",
            "9 : 884.6964197535184\n"
          ],
          "name": "stdout"
        }
      ]
    },
    {
      "cell_type": "markdown",
      "metadata": {
        "id": "HFiidaZyOX87",
        "colab_type": "text"
      },
      "source": [
        "Khoảng cách từ center đến các điểm thuộc 1 cluster giảm dần khi k tăng ---> Số lượng cluster càng lớn thì khoảng cách từ center đến các kiểm của nhóm đó càng giảm. "
      ]
    },
    {
      "cell_type": "code",
      "metadata": {
        "id": "NaIAj5TzLn-U",
        "colab_type": "code",
        "colab": {
          "base_uri": "https://localhost:8080/",
          "height": 295
        },
        "outputId": "c9018d98-5305-466e-c3e3-145579e2ecd8"
      },
      "source": [
        "plt.plot(K, distortions, 'bx-') \n",
        "plt.xlabel('Values of K') \n",
        "plt.ylabel('Distortion') \n",
        "plt.title('The Elbow Method using Distortion') \n",
        "plt.show() "
      ],
      "execution_count": 371,
      "outputs": [
        {
          "output_type": "display_data",
          "data": {
            "image/png": "[encoded data removed]",
            "text/plain": [
              "<Figure size 432x288 with 1 Axes>"
            ]
          },
          "metadata": {
            "tags": []
          }
        }
      ]
    },
    {
      "cell_type": "markdown",
      "metadata": {
        "id": "us_7Z62HOejb",
        "colab_type": "text"
      },
      "source": [
        "Từ k = 4 trở lên, khoảng cách trung bình giữa center đến các điểm thuộc 1 cluster giảm không nhiều nên sẽ chọn số lượng cluster = 4."
      ]
    },
    {
      "cell_type": "code",
      "metadata": {
        "id": "15BM7jAXLsLG",
        "colab_type": "code",
        "colab": {}
      },
      "source": [
        "df = data[['5k', '10k', '20k', '25k', '30k', '35k', '40k', 'half', 'age', 'official', 'overall', 'pace']]\n",
        "\n",
        "best_cluster_pred = KMeans(n_clusters=4, random_state=42).fit_predict(df)"
      ],
      "execution_count": 0,
      "outputs": []
    },
    {
      "cell_type": "code",
      "metadata": {
        "id": "Ez3cpwsTMBq_",
        "colab_type": "code",
        "colab": {
          "base_uri": "https://localhost:8080/",
          "height": 265
        },
        "outputId": "19cd673c-7c41-412c-ab2b-a4c0190873a5"
      },
      "source": [
        "hi = plt.hist(best_cluster_pred, bins=4)"
      ],
      "execution_count": 374,
      "outputs": [
        {
          "output_type": "display_data",
          "data": {
            "image/png": "[encoded data removed]",
            "text/plain": [
              "<Figure size 432x288 with 1 Axes>"
            ]
          },
          "metadata": {
            "tags": []
          }
        }
      ]
    },
    {
      "cell_type": "markdown",
      "metadata": {
        "id": "pVv1plJJVXs4",
        "colab_type": "text"
      },
      "source": [
        "Số lượng vận động viên được phân vào các nhóm là như nhau."
      ]
    },
    {
      "cell_type": "code",
      "metadata": {
        "id": "L-DgticwP6W8",
        "colab_type": "code",
        "colab": {}
      },
      "source": [
        "data['cluster'] = best_cluster_pred"
      ],
      "execution_count": 0,
      "outputs": []
    },
    {
      "cell_type": "code",
      "metadata": {
        "id": "uuvb3OppVfCF",
        "colab_type": "code",
        "colab": {
          "base_uri": "https://localhost:8080/",
          "height": 258
        },
        "outputId": "5f4774ee-fc18-4b29-c859-1d7a5f17f586"
      },
      "source": [
        "data.head()"
      ],
      "execution_count": 376,
      "outputs": [
        {
          "output_type": "execute_result",
          "data": {
            "text/html": [
              "<div>\n",
              "<style scoped>\n",
              "    .dataframe tbody tr th:only-of-type {\n",
              "        vertical-align: middle;\n",
              "    }\n",
              "\n",
              "    .dataframe tbody tr th {\n",
              "        vertical-align: top;\n",
              "    }\n",
              "\n",
              "    .dataframe thead th {\n",
              "        text-align: right;\n",
              "    }\n",
              "</style>\n",
              "<table border=\"1\" class=\"dataframe\">\n",
              "  <thead>\n",
              "    <tr style=\"text-align: right;\">\n",
              "      <th></th>\n",
              "      <th>10k</th>\n",
              "      <th>division</th>\n",
              "      <th>25k</th>\n",
              "      <th>gender</th>\n",
              "      <th>age</th>\n",
              "      <th>official</th>\n",
              "      <th>bib</th>\n",
              "      <th>genderdiv</th>\n",
              "      <th>35k</th>\n",
              "      <th>overall</th>\n",
              "      <th>pace</th>\n",
              "      <th>state</th>\n",
              "      <th>30k</th>\n",
              "      <th>5k</th>\n",
              "      <th>half</th>\n",
              "      <th>20k</th>\n",
              "      <th>country</th>\n",
              "      <th>city</th>\n",
              "      <th>40k</th>\n",
              "      <th>cluster</th>\n",
              "    </tr>\n",
              "  </thead>\n",
              "  <tbody>\n",
              "    <tr>\n",
              "      <th>9</th>\n",
              "      <td>30.48</td>\n",
              "      <td>20</td>\n",
              "      <td>77.68</td>\n",
              "      <td>M</td>\n",
              "      <td>31</td>\n",
              "      <td>137.83</td>\n",
              "      <td>6</td>\n",
              "      <td>20</td>\n",
              "      <td>112.27</td>\n",
              "      <td>20</td>\n",
              "      <td>5.27</td>\n",
              "      <td>CA</td>\n",
              "      <td>94.78</td>\n",
              "      <td>15.15</td>\n",
              "      <td>65.23</td>\n",
              "      <td>61.78</td>\n",
              "      <td>USA</td>\n",
              "      <td>Redding</td>\n",
              "      <td>129.83</td>\n",
              "      <td>1</td>\n",
              "    </tr>\n",
              "    <tr>\n",
              "      <th>14</th>\n",
              "      <td>17.12</td>\n",
              "      <td>13</td>\n",
              "      <td>48.88</td>\n",
              "      <td>M</td>\n",
              "      <td>29</td>\n",
              "      <td>87.40</td>\n",
              "      <td>W8</td>\n",
              "      <td>13</td>\n",
              "      <td>72.83</td>\n",
              "      <td>13</td>\n",
              "      <td>3.35</td>\n",
              "      <td>ON</td>\n",
              "      <td>60.82</td>\n",
              "      <td>8.02</td>\n",
              "      <td>40.20</td>\n",
              "      <td>38.02</td>\n",
              "      <td>CAN</td>\n",
              "      <td>Port Elgin</td>\n",
              "      <td>82.38</td>\n",
              "      <td>1</td>\n",
              "    </tr>\n",
              "    <tr>\n",
              "      <th>15</th>\n",
              "      <td>33.93</td>\n",
              "      <td>10</td>\n",
              "      <td>85.03</td>\n",
              "      <td>F</td>\n",
              "      <td>30</td>\n",
              "      <td>143.90</td>\n",
              "      <td>F8</td>\n",
              "      <td>10</td>\n",
              "      <td>119.68</td>\n",
              "      <td>46</td>\n",
              "      <td>5.50</td>\n",
              "      <td>MI</td>\n",
              "      <td>102.40</td>\n",
              "      <td>16.92</td>\n",
              "      <td>71.68</td>\n",
              "      <td>67.92</td>\n",
              "      <td>USA</td>\n",
              "      <td>Rochester Hills</td>\n",
              "      <td>136.47</td>\n",
              "      <td>1</td>\n",
              "    </tr>\n",
              "    <tr>\n",
              "      <th>24</th>\n",
              "      <td>18.30</td>\n",
              "      <td>14</td>\n",
              "      <td>50.33</td>\n",
              "      <td>M</td>\n",
              "      <td>47</td>\n",
              "      <td>89.40</td>\n",
              "      <td>W13</td>\n",
              "      <td>14</td>\n",
              "      <td>74.95</td>\n",
              "      <td>14</td>\n",
              "      <td>3.42</td>\n",
              "      <td>QC</td>\n",
              "      <td>62.33</td>\n",
              "      <td>8.67</td>\n",
              "      <td>41.80</td>\n",
              "      <td>39.63</td>\n",
              "      <td>CAN</td>\n",
              "      <td>St-Jean Baptiste</td>\n",
              "      <td>84.48</td>\n",
              "      <td>1</td>\n",
              "    </tr>\n",
              "    <tr>\n",
              "      <th>27</th>\n",
              "      <td>18.78</td>\n",
              "      <td>15</td>\n",
              "      <td>50.33</td>\n",
              "      <td>M</td>\n",
              "      <td>30</td>\n",
              "      <td>89.52</td>\n",
              "      <td>W14</td>\n",
              "      <td>15</td>\n",
              "      <td>75.02</td>\n",
              "      <td>15</td>\n",
              "      <td>3.42</td>\n",
              "      <td>IL</td>\n",
              "      <td>62.72</td>\n",
              "      <td>8.98</td>\n",
              "      <td>41.82</td>\n",
              "      <td>39.65</td>\n",
              "      <td>USA</td>\n",
              "      <td>Champaign</td>\n",
              "      <td>84.75</td>\n",
              "      <td>1</td>\n",
              "    </tr>\n",
              "  </tbody>\n",
              "</table>\n",
              "</div>"
            ],
            "text/plain": [
              "      10k  division    25k gender  age  official  bib  genderdiv     35k  \\\n",
              "9   30.48        20  77.68      M   31    137.83    6         20  112.27   \n",
              "14  17.12        13  48.88      M   29     87.40   W8         13   72.83   \n",
              "15  33.93        10  85.03      F   30    143.90   F8         10  119.68   \n",
              "24  18.30        14  50.33      M   47     89.40  W13         14   74.95   \n",
              "27  18.78        15  50.33      M   30     89.52  W14         15   75.02   \n",
              "\n",
              "    overall  pace state     30k     5k   half    20k country  \\\n",
              "9        20  5.27    CA   94.78  15.15  65.23  61.78     USA   \n",
              "14       13  3.35    ON   60.82   8.02  40.20  38.02     CAN   \n",
              "15       46  5.50    MI  102.40  16.92  71.68  67.92     USA   \n",
              "24       14  3.42    QC   62.33   8.67  41.80  39.63     CAN   \n",
              "27       15  3.42    IL   62.72   8.98  41.82  39.65     USA   \n",
              "\n",
              "                city     40k  cluster  \n",
              "9            Redding  129.83        1  \n",
              "14        Port Elgin   82.38        1  \n",
              "15   Rochester Hills  136.47        1  \n",
              "24  St-Jean Baptiste   84.48        1  \n",
              "27         Champaign   84.75        1  "
            ]
          },
          "metadata": {
            "tags": []
          },
          "execution_count": 376
        }
      ]
    },
    {
      "cell_type": "markdown",
      "metadata": {
        "id": "tr8MzsC5Hkdw",
        "colab_type": "text"
      },
      "source": [
        "### Gender"
      ]
    },
    {
      "cell_type": "code",
      "metadata": {
        "id": "EiU1bcsmdUxA",
        "colab_type": "code",
        "colab": {}
      },
      "source": [
        "gender_female = []\n",
        "gender_male = []\n",
        "\n",
        "for i in range(4):\n",
        "  cluster = data[best_cluster_pred == i]\n",
        "  gender_female.append(len(cluster[cluster.gender == 'F']))\n",
        "  gender_male.append(len(cluster[cluster.gender == 'M']))"
      ],
      "execution_count": 0,
      "outputs": []
    },
    {
      "cell_type": "code",
      "metadata": {
        "id": "UsWLdlz6Zj5r",
        "colab_type": "code",
        "colab": {
          "base_uri": "https://localhost:8080/",
          "height": 283
        },
        "outputId": "de48382e-6e4a-4878-db4c-1aa2691d5fa4"
      },
      "source": [
        "index = np.array([0, 1, 2, 3])\n",
        "\n",
        "rects1 = plt.bar(index, gender_female, 0.35, alpha=0.8, color='b', label='Female')\n",
        "\n",
        "rects1 = plt.bar(index + 0.35, gender_male, 0.35, alpha=0.8, color='g', label='Male')\n",
        "\n",
        "plt.xlabel('Cluster')\n",
        "plt.ylabel('Number of people')\n",
        "plt.xticks(index + 0.35/2, ('0', '1', '2', '3'))\n",
        "plt.legend()\n",
        "\n",
        "plt.show()"
      ],
      "execution_count": 378,
      "outputs": [
        {
          "output_type": "display_data",
          "data": {
            "image/png": "[encoded data removed]",
            "text/plain": [
              "<Figure size 432x288 with 1 Axes>"
            ]
          },
          "metadata": {
            "tags": []
          }
        }
      ]
    },
    {
      "cell_type": "markdown",
      "metadata": {
        "id": "y4GMgJnPfBES",
        "colab_type": "text"
      },
      "source": [
        "Số lượng nữ ở nhóm 0, 2, 3 nhiều hơn số lượng nam khoảng 10%.\n",
        "\n",
        "Số lương nam ở nhóm 1 gấp 3 lần so với nữ."
      ]
    },
    {
      "cell_type": "markdown",
      "metadata": {
        "id": "-YaRhQbhfbT2",
        "colab_type": "text"
      },
      "source": [
        "### Age"
      ]
    },
    {
      "cell_type": "markdown",
      "metadata": {
        "id": "Gug1wdeagMyI",
        "colab_type": "text"
      },
      "source": [
        "Chia tuổi thành 3 nhóm:\n",
        "\n",
        "- Từ 18 đến 25.\n",
        "\n",
        "- Từ 26 đến 40.\n",
        "\n",
        "- Trên 40."
      ]
    },
    {
      "cell_type": "code",
      "metadata": {
        "id": "DssorvJoflZ8",
        "colab_type": "code",
        "colab": {}
      },
      "source": [
        "def age_group(x):\n",
        "  if x <= 25:\n",
        "    return 0\n",
        "  if x <= 40:\n",
        "    return 1\n",
        "  return 2"
      ],
      "execution_count": 0,
      "outputs": []
    },
    {
      "cell_type": "code",
      "metadata": {
        "id": "QQcCOBfucrJm",
        "colab_type": "code",
        "colab": {}
      },
      "source": [
        "data['Age_group'] = data.age.apply(lambda x: age_group(x))"
      ],
      "execution_count": 0,
      "outputs": []
    },
    {
      "cell_type": "code",
      "metadata": {
        "id": "kYlFUTN3dRL0",
        "colab_type": "code",
        "colab": {}
      },
      "source": [
        "age_group_0 = []\n",
        "age_group_1 = []\n",
        "age_group_2 = []\n",
        "\n",
        "for i in range(4):\n",
        "  cluster = data[best_cluster_pred == i]\n",
        "  age_group_0.append(len(cluster[cluster.Age_group == 0]))\n",
        "  age_group_1.append(len(cluster[cluster.Age_group == 1]))\n",
        "  age_group_2.append(len(cluster[cluster.Age_group == 2]))\n"
      ],
      "execution_count": 0,
      "outputs": []
    },
    {
      "cell_type": "code",
      "metadata": {
        "id": "CryHwZA1hOsS",
        "colab_type": "code",
        "colab": {
          "base_uri": "https://localhost:8080/",
          "height": 280
        },
        "outputId": "866cd385-7ac9-4f3f-8147-0de1abf01d15"
      },
      "source": [
        "index = np.array([0, 1, 2, 3])\n",
        "\n",
        "rects1 = plt.bar(index, age_group_0, 0.25, alpha=0.8, color='b', label='Age group 0')\n",
        "\n",
        "rects1 = plt.bar(index + 0.25, age_group_1, 0.25, alpha=0.8, color='g', label='Age group 1')\n",
        "\n",
        "rects1 = plt.bar(index + 0.25*2, age_group_2, 0.25, alpha=0.8, color='r', label='Age group 2')\n",
        "\n",
        "plt.xlabel('Cluster')\n",
        "plt.ylabel('Number of people')\n",
        "plt.xticks(index + 0.25, ('0', '1', '2', '3'))\n",
        "plt.legend()\n",
        "\n",
        "plt.show()"
      ],
      "execution_count": 382,
      "outputs": [
        {
          "output_type": "display_data",
          "data": {
            "image/png": "[encoded data removed]",
            "text/plain": [
              "<Figure size 432x288 with 1 Axes>"
            ]
          },
          "metadata": {
            "tags": []
          }
        }
      ]
    },
    {
      "cell_type": "markdown",
      "metadata": {
        "id": "nlDC9IrSmk0n",
        "colab_type": "text"
      },
      "source": [
        "Số lượng những người dưới 25 tuổi ở tất cả 4 nhóm đều nhỏ hơn nhiều so với các nhóm tuổi còn lại.\n",
        "\n",
        "Số lượng những người trên 40 tuổi ở nhóm 0, 2, 3 cao hơn nhất so với các lứa tuổi khác, đặc biệt nhóm 2 có số lượng người trên 40 tuổi gấp hơn 2 lần số người dưới 40 tuổi.\n",
        "\n",
        "Nhóm 1 là nhóm duy nhất có số người trông độ tuổi từ 26 đến 46 chiến tỷ lệ cao nhất, bằng tổng số ngươi dưới 25 và trên 40 tuổi cộng lại."
      ]
    },
    {
      "cell_type": "markdown",
      "metadata": {
        "id": "aArSo_ZGseZG",
        "colab_type": "text"
      },
      "source": [
        "### Official time"
      ]
    },
    {
      "cell_type": "code",
      "metadata": {
        "id": "S-FAChqApSEZ",
        "colab_type": "code",
        "colab": {}
      },
      "source": [
        "import seaborn as sns"
      ],
      "execution_count": 0,
      "outputs": []
    },
    {
      "cell_type": "code",
      "metadata": {
        "id": "w9wvqVctqOfE",
        "colab_type": "code",
        "colab": {
          "base_uri": "https://localhost:8080/",
          "height": 497
        },
        "outputId": "d68ba927-80f9-4c21-a848-e339597c57de"
      },
      "source": [
        "g = sns.boxplot(data['cluster'], data.official, palette=\"coolwarm\")\n",
        "g.figure.set_size_inches(13,8)"
      ],
      "execution_count": 354,
      "outputs": [
        {
          "output_type": "display_data",
          "data": {
            "image/png": "[encoded data removed]",
            "text/plain": [
              "<Figure size 936x576 with 1 Axes>"
            ]
          },
          "metadata": {
            "tags": []
          }
        }
      ]
    },
    {
      "cell_type": "markdown",
      "metadata": {
        "id": "_x8Z0qXEswzn",
        "colab_type": "text"
      },
      "source": [
        "Nhóm 1 là nhóm có thời gian chạy nhanh nhất, sau đó đến nhóm 3, theo sau là nhóm 2.\n",
        "\n",
        "Nhóm 0 có thời gian chạy lâu nhất."
      ]
    },
    {
      "cell_type": "markdown",
      "metadata": {
        "id": "Lb4egUwmHqVn",
        "colab_type": "text"
      },
      "source": [
        "# Conclusions"
      ]
    },
    {
      "cell_type": "markdown",
      "metadata": {
        "id": "vGjaryMhJzSa",
        "colab_type": "text"
      },
      "source": [
        "KMeans chia dữ liệu thành 4 nhóm.\n",
        "\n",
        "Nhóm 1 chạy nhanh nhất do số lượng nam nhiều gấp 3 lần so với số lượng nữ, các nhóm khác có số lượng nữ cao hơn nam. Hơn nữa nhóm 1 có độ tuổi tập trung từ 26 đến 40 tuổi cao hơn các độ tuổi khác, ngược lại các nhóm còn lại có số người từ 26 đến 40 tuổi lại thấp hơn, đặc biệt nhóm 2 có số lượng người trên 40 tuổi lớn nhất.\n",
        "\n",
        "Tuy nhóm 1 có số lượng người trẻ tuổi nhiều hơn nhóm 2 và nhóm 3, số lượng người cao tuổi ít hơn nhóm 2 và nhóm 3 nhưng lại có thời gian chạy lâu nhất."
      ]
    },
    {
      "cell_type": "code",
      "metadata": {
        "id": "Hl1SwkrQLUzJ",
        "colab_type": "code",
        "colab": {}
      },
      "source": [
        ""
      ],
      "execution_count": 0,
      "outputs": []
    }
  ]
}